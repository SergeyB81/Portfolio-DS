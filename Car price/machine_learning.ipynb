{
  "nbformat": 4,
  "nbformat_minor": 0,
  "metadata": {
    "colab": {
      "provenance": [],
      "authorship_tag": "ABX9TyPUmlyMD6uKZIjb1rpyJp9m",
      "include_colab_link": true
    },
    "kernelspec": {
      "name": "python3",
      "display_name": "Python 3"
    },
    "language_info": {
      "name": "python"
    }
  },
  "cells": [
    {
      "cell_type": "markdown",
      "metadata": {
        "id": "view-in-github",
        "colab_type": "text"
      },
      "source": [
        "<a href=\"https://colab.research.google.com/github/SergeyB81/Portfolio-DS/blob/main/Car%20price/machine_learning.ipynb\" target=\"_parent\"><img src=\"https://colab.research.google.com/assets/colab-badge.svg\" alt=\"Open In Colab\"/></a>"
      ]
    },
    {
      "cell_type": "markdown",
      "source": [
        "# **Загрузка данных**"
      ],
      "metadata": {
        "id": "9275W_mYUI4Y"
      }
    },
    {
      "cell_type": "markdown",
      "source": [
        "https://www.kaggle.com/adityadesai13/used-car-dataset-ford-and-mercedes?select=bmw.csv\n",
        "\n",
        "https://drive.google.com/file/d/10pq7rvk_FtY-ulQ8ldVM4QAtaR6LWt-j/view?usp=sharing\n"
      ],
      "metadata": {
        "id": "IypKs4QUVWIk"
      }
    },
    {
      "cell_type": "code",
      "source": [
        "! gdown --id 10pq7rvk_FtY-ulQ8ldVM4QAtaR6LWt-j"
      ],
      "metadata": {
        "id": "Umups7r9UM4-",
        "colab": {
          "base_uri": "https://localhost:8080/"
        },
        "outputId": "b5789e41-9309-443b-ef94-a555eeee5b73"
      },
      "execution_count": 1,
      "outputs": [
        {
          "output_type": "stream",
          "name": "stdout",
          "text": [
            "/usr/local/lib/python3.11/dist-packages/gdown/__main__.py:140: FutureWarning: Option `--id` was deprecated in version 4.3.1 and will be removed in 5.0. You don't need to pass it anymore to use a file ID.\n",
            "  warnings.warn(\n",
            "Downloading...\n",
            "From: https://drive.google.com/uc?id=10pq7rvk_FtY-ulQ8ldVM4QAtaR6LWt-j\n",
            "To: /content/uk-used-cars.zip\n",
            "100% 1.15M/1.15M [00:00<00:00, 65.0MB/s]\n"
          ]
        }
      ]
    },
    {
      "cell_type": "code",
      "source": [
        "! unzip /content/uk-used-cars.zip -d /content/uk-used-cars"
      ],
      "metadata": {
        "colab": {
          "base_uri": "https://localhost:8080/"
        },
        "id": "GC4PjIBnbtb1",
        "outputId": "65273779-3f66-45a8-d937-97c29f4fd7ae"
      },
      "execution_count": 2,
      "outputs": [
        {
          "output_type": "stream",
          "name": "stdout",
          "text": [
            "Archive:  /content/uk-used-cars.zip\n",
            "  inflating: /content/uk-used-cars/audi.csv  \n",
            "  inflating: /content/uk-used-cars/bmw.csv  \n",
            "  inflating: /content/uk-used-cars/cclass.csv  \n",
            "  inflating: /content/uk-used-cars/focus.csv  \n",
            "  inflating: /content/uk-used-cars/ford.csv  \n",
            "  inflating: /content/uk-used-cars/hyundi.csv  \n",
            "  inflating: /content/uk-used-cars/merc.csv  \n",
            "  inflating: /content/uk-used-cars/skoda.csv  \n",
            "  inflating: /content/uk-used-cars/toyota.csv  \n",
            "  inflating: /content/uk-used-cars/unclean cclass.csv  \n",
            "  inflating: /content/uk-used-cars/unclean focus.csv  \n",
            "  inflating: /content/uk-used-cars/vauxhall.csv  \n",
            "  inflating: /content/uk-used-cars/vw.csv  \n"
          ]
        }
      ]
    },
    {
      "cell_type": "code",
      "source": [
        "import pandas as pd"
      ],
      "metadata": {
        "id": "H3h7svfecgVg"
      },
      "execution_count": 3,
      "outputs": []
    },
    {
      "cell_type": "code",
      "source": [
        "df = pd.read_csv('/content/uk-used-cars/bmw.csv')"
      ],
      "metadata": {
        "id": "fTIN7Z0AI0ru"
      },
      "execution_count": 4,
      "outputs": []
    },
    {
      "cell_type": "code",
      "source": [
        "df.head()"
      ],
      "metadata": {
        "id": "WPZs9v1WKBNT",
        "outputId": "6040acce-cf4d-44e0-8f59-aaf34f9a0474",
        "colab": {
          "base_uri": "https://localhost:8080/",
          "height": 206
        }
      },
      "execution_count": 5,
      "outputs": [
        {
          "output_type": "execute_result",
          "data": {
            "text/plain": [
              "       model  year  price transmission  mileage fuelType  tax   mpg  \\\n",
              "0   5 Series  2014  11200    Automatic    67068   Diesel  125  57.6   \n",
              "1   6 Series  2018  27000    Automatic    14827   Petrol  145  42.8   \n",
              "2   5 Series  2016  16000    Automatic    62794   Diesel  160  51.4   \n",
              "3   1 Series  2017  12750    Automatic    26676   Diesel  145  72.4   \n",
              "4   7 Series  2014  14500    Automatic    39554   Diesel  160  50.4   \n",
              "\n",
              "   engineSize  \n",
              "0         2.0  \n",
              "1         2.0  \n",
              "2         3.0  \n",
              "3         1.5  \n",
              "4         3.0  "
            ],
            "text/html": [
              "\n",
              "  <div id=\"df-e8e47013-e6eb-496c-a234-0299eae5b662\" class=\"colab-df-container\">\n",
              "    <div>\n",
              "<style scoped>\n",
              "    .dataframe tbody tr th:only-of-type {\n",
              "        vertical-align: middle;\n",
              "    }\n",
              "\n",
              "    .dataframe tbody tr th {\n",
              "        vertical-align: top;\n",
              "    }\n",
              "\n",
              "    .dataframe thead th {\n",
              "        text-align: right;\n",
              "    }\n",
              "</style>\n",
              "<table border=\"1\" class=\"dataframe\">\n",
              "  <thead>\n",
              "    <tr style=\"text-align: right;\">\n",
              "      <th></th>\n",
              "      <th>model</th>\n",
              "      <th>year</th>\n",
              "      <th>price</th>\n",
              "      <th>transmission</th>\n",
              "      <th>mileage</th>\n",
              "      <th>fuelType</th>\n",
              "      <th>tax</th>\n",
              "      <th>mpg</th>\n",
              "      <th>engineSize</th>\n",
              "    </tr>\n",
              "  </thead>\n",
              "  <tbody>\n",
              "    <tr>\n",
              "      <th>0</th>\n",
              "      <td>5 Series</td>\n",
              "      <td>2014</td>\n",
              "      <td>11200</td>\n",
              "      <td>Automatic</td>\n",
              "      <td>67068</td>\n",
              "      <td>Diesel</td>\n",
              "      <td>125</td>\n",
              "      <td>57.6</td>\n",
              "      <td>2.0</td>\n",
              "    </tr>\n",
              "    <tr>\n",
              "      <th>1</th>\n",
              "      <td>6 Series</td>\n",
              "      <td>2018</td>\n",
              "      <td>27000</td>\n",
              "      <td>Automatic</td>\n",
              "      <td>14827</td>\n",
              "      <td>Petrol</td>\n",
              "      <td>145</td>\n",
              "      <td>42.8</td>\n",
              "      <td>2.0</td>\n",
              "    </tr>\n",
              "    <tr>\n",
              "      <th>2</th>\n",
              "      <td>5 Series</td>\n",
              "      <td>2016</td>\n",
              "      <td>16000</td>\n",
              "      <td>Automatic</td>\n",
              "      <td>62794</td>\n",
              "      <td>Diesel</td>\n",
              "      <td>160</td>\n",
              "      <td>51.4</td>\n",
              "      <td>3.0</td>\n",
              "    </tr>\n",
              "    <tr>\n",
              "      <th>3</th>\n",
              "      <td>1 Series</td>\n",
              "      <td>2017</td>\n",
              "      <td>12750</td>\n",
              "      <td>Automatic</td>\n",
              "      <td>26676</td>\n",
              "      <td>Diesel</td>\n",
              "      <td>145</td>\n",
              "      <td>72.4</td>\n",
              "      <td>1.5</td>\n",
              "    </tr>\n",
              "    <tr>\n",
              "      <th>4</th>\n",
              "      <td>7 Series</td>\n",
              "      <td>2014</td>\n",
              "      <td>14500</td>\n",
              "      <td>Automatic</td>\n",
              "      <td>39554</td>\n",
              "      <td>Diesel</td>\n",
              "      <td>160</td>\n",
              "      <td>50.4</td>\n",
              "      <td>3.0</td>\n",
              "    </tr>\n",
              "  </tbody>\n",
              "</table>\n",
              "</div>\n",
              "    <div class=\"colab-df-buttons\">\n",
              "\n",
              "  <div class=\"colab-df-container\">\n",
              "    <button class=\"colab-df-convert\" onclick=\"convertToInteractive('df-e8e47013-e6eb-496c-a234-0299eae5b662')\"\n",
              "            title=\"Convert this dataframe to an interactive table.\"\n",
              "            style=\"display:none;\">\n",
              "\n",
              "  <svg xmlns=\"http://www.w3.org/2000/svg\" height=\"24px\" viewBox=\"0 -960 960 960\">\n",
              "    <path d=\"M120-120v-720h720v720H120Zm60-500h600v-160H180v160Zm220 220h160v-160H400v160Zm0 220h160v-160H400v160ZM180-400h160v-160H180v160Zm440 0h160v-160H620v160ZM180-180h160v-160H180v160Zm440 0h160v-160H620v160Z\"/>\n",
              "  </svg>\n",
              "    </button>\n",
              "\n",
              "  <style>\n",
              "    .colab-df-container {\n",
              "      display:flex;\n",
              "      gap: 12px;\n",
              "    }\n",
              "\n",
              "    .colab-df-convert {\n",
              "      background-color: #E8F0FE;\n",
              "      border: none;\n",
              "      border-radius: 50%;\n",
              "      cursor: pointer;\n",
              "      display: none;\n",
              "      fill: #1967D2;\n",
              "      height: 32px;\n",
              "      padding: 0 0 0 0;\n",
              "      width: 32px;\n",
              "    }\n",
              "\n",
              "    .colab-df-convert:hover {\n",
              "      background-color: #E2EBFA;\n",
              "      box-shadow: 0px 1px 2px rgba(60, 64, 67, 0.3), 0px 1px 3px 1px rgba(60, 64, 67, 0.15);\n",
              "      fill: #174EA6;\n",
              "    }\n",
              "\n",
              "    .colab-df-buttons div {\n",
              "      margin-bottom: 4px;\n",
              "    }\n",
              "\n",
              "    [theme=dark] .colab-df-convert {\n",
              "      background-color: #3B4455;\n",
              "      fill: #D2E3FC;\n",
              "    }\n",
              "\n",
              "    [theme=dark] .colab-df-convert:hover {\n",
              "      background-color: #434B5C;\n",
              "      box-shadow: 0px 1px 3px 1px rgba(0, 0, 0, 0.15);\n",
              "      filter: drop-shadow(0px 1px 2px rgba(0, 0, 0, 0.3));\n",
              "      fill: #FFFFFF;\n",
              "    }\n",
              "  </style>\n",
              "\n",
              "    <script>\n",
              "      const buttonEl =\n",
              "        document.querySelector('#df-e8e47013-e6eb-496c-a234-0299eae5b662 button.colab-df-convert');\n",
              "      buttonEl.style.display =\n",
              "        google.colab.kernel.accessAllowed ? 'block' : 'none';\n",
              "\n",
              "      async function convertToInteractive(key) {\n",
              "        const element = document.querySelector('#df-e8e47013-e6eb-496c-a234-0299eae5b662');\n",
              "        const dataTable =\n",
              "          await google.colab.kernel.invokeFunction('convertToInteractive',\n",
              "                                                    [key], {});\n",
              "        if (!dataTable) return;\n",
              "\n",
              "        const docLinkHtml = 'Like what you see? Visit the ' +\n",
              "          '<a target=\"_blank\" href=https://colab.research.google.com/notebooks/data_table.ipynb>data table notebook</a>'\n",
              "          + ' to learn more about interactive tables.';\n",
              "        element.innerHTML = '';\n",
              "        dataTable['output_type'] = 'display_data';\n",
              "        await google.colab.output.renderOutput(dataTable, element);\n",
              "        const docLink = document.createElement('div');\n",
              "        docLink.innerHTML = docLinkHtml;\n",
              "        element.appendChild(docLink);\n",
              "      }\n",
              "    </script>\n",
              "  </div>\n",
              "\n",
              "\n",
              "<div id=\"df-568f0c06-5fb6-45a6-9591-300ddee507ad\">\n",
              "  <button class=\"colab-df-quickchart\" onclick=\"quickchart('df-568f0c06-5fb6-45a6-9591-300ddee507ad')\"\n",
              "            title=\"Suggest charts\"\n",
              "            style=\"display:none;\">\n",
              "\n",
              "<svg xmlns=\"http://www.w3.org/2000/svg\" height=\"24px\"viewBox=\"0 0 24 24\"\n",
              "     width=\"24px\">\n",
              "    <g>\n",
              "        <path d=\"M19 3H5c-1.1 0-2 .9-2 2v14c0 1.1.9 2 2 2h14c1.1 0 2-.9 2-2V5c0-1.1-.9-2-2-2zM9 17H7v-7h2v7zm4 0h-2V7h2v10zm4 0h-2v-4h2v4z\"/>\n",
              "    </g>\n",
              "</svg>\n",
              "  </button>\n",
              "\n",
              "<style>\n",
              "  .colab-df-quickchart {\n",
              "      --bg-color: #E8F0FE;\n",
              "      --fill-color: #1967D2;\n",
              "      --hover-bg-color: #E2EBFA;\n",
              "      --hover-fill-color: #174EA6;\n",
              "      --disabled-fill-color: #AAA;\n",
              "      --disabled-bg-color: #DDD;\n",
              "  }\n",
              "\n",
              "  [theme=dark] .colab-df-quickchart {\n",
              "      --bg-color: #3B4455;\n",
              "      --fill-color: #D2E3FC;\n",
              "      --hover-bg-color: #434B5C;\n",
              "      --hover-fill-color: #FFFFFF;\n",
              "      --disabled-bg-color: #3B4455;\n",
              "      --disabled-fill-color: #666;\n",
              "  }\n",
              "\n",
              "  .colab-df-quickchart {\n",
              "    background-color: var(--bg-color);\n",
              "    border: none;\n",
              "    border-radius: 50%;\n",
              "    cursor: pointer;\n",
              "    display: none;\n",
              "    fill: var(--fill-color);\n",
              "    height: 32px;\n",
              "    padding: 0;\n",
              "    width: 32px;\n",
              "  }\n",
              "\n",
              "  .colab-df-quickchart:hover {\n",
              "    background-color: var(--hover-bg-color);\n",
              "    box-shadow: 0 1px 2px rgba(60, 64, 67, 0.3), 0 1px 3px 1px rgba(60, 64, 67, 0.15);\n",
              "    fill: var(--button-hover-fill-color);\n",
              "  }\n",
              "\n",
              "  .colab-df-quickchart-complete:disabled,\n",
              "  .colab-df-quickchart-complete:disabled:hover {\n",
              "    background-color: var(--disabled-bg-color);\n",
              "    fill: var(--disabled-fill-color);\n",
              "    box-shadow: none;\n",
              "  }\n",
              "\n",
              "  .colab-df-spinner {\n",
              "    border: 2px solid var(--fill-color);\n",
              "    border-color: transparent;\n",
              "    border-bottom-color: var(--fill-color);\n",
              "    animation:\n",
              "      spin 1s steps(1) infinite;\n",
              "  }\n",
              "\n",
              "  @keyframes spin {\n",
              "    0% {\n",
              "      border-color: transparent;\n",
              "      border-bottom-color: var(--fill-color);\n",
              "      border-left-color: var(--fill-color);\n",
              "    }\n",
              "    20% {\n",
              "      border-color: transparent;\n",
              "      border-left-color: var(--fill-color);\n",
              "      border-top-color: var(--fill-color);\n",
              "    }\n",
              "    30% {\n",
              "      border-color: transparent;\n",
              "      border-left-color: var(--fill-color);\n",
              "      border-top-color: var(--fill-color);\n",
              "      border-right-color: var(--fill-color);\n",
              "    }\n",
              "    40% {\n",
              "      border-color: transparent;\n",
              "      border-right-color: var(--fill-color);\n",
              "      border-top-color: var(--fill-color);\n",
              "    }\n",
              "    60% {\n",
              "      border-color: transparent;\n",
              "      border-right-color: var(--fill-color);\n",
              "    }\n",
              "    80% {\n",
              "      border-color: transparent;\n",
              "      border-right-color: var(--fill-color);\n",
              "      border-bottom-color: var(--fill-color);\n",
              "    }\n",
              "    90% {\n",
              "      border-color: transparent;\n",
              "      border-bottom-color: var(--fill-color);\n",
              "    }\n",
              "  }\n",
              "</style>\n",
              "\n",
              "  <script>\n",
              "    async function quickchart(key) {\n",
              "      const quickchartButtonEl =\n",
              "        document.querySelector('#' + key + ' button');\n",
              "      quickchartButtonEl.disabled = true;  // To prevent multiple clicks.\n",
              "      quickchartButtonEl.classList.add('colab-df-spinner');\n",
              "      try {\n",
              "        const charts = await google.colab.kernel.invokeFunction(\n",
              "            'suggestCharts', [key], {});\n",
              "      } catch (error) {\n",
              "        console.error('Error during call to suggestCharts:', error);\n",
              "      }\n",
              "      quickchartButtonEl.classList.remove('colab-df-spinner');\n",
              "      quickchartButtonEl.classList.add('colab-df-quickchart-complete');\n",
              "    }\n",
              "    (() => {\n",
              "      let quickchartButtonEl =\n",
              "        document.querySelector('#df-568f0c06-5fb6-45a6-9591-300ddee507ad button');\n",
              "      quickchartButtonEl.style.display =\n",
              "        google.colab.kernel.accessAllowed ? 'block' : 'none';\n",
              "    })();\n",
              "  </script>\n",
              "</div>\n",
              "    </div>\n",
              "  </div>\n"
            ],
            "application/vnd.google.colaboratory.intrinsic+json": {
              "type": "dataframe",
              "variable_name": "df",
              "summary": "{\n  \"name\": \"df\",\n  \"rows\": 10781,\n  \"fields\": [\n    {\n      \"column\": \"model\",\n      \"properties\": {\n        \"dtype\": \"category\",\n        \"num_unique_values\": 24,\n        \"samples\": [\n          \" X5\",\n          \" Z4\",\n          \" 5 Series\"\n        ],\n        \"semantic_type\": \"\",\n        \"description\": \"\"\n      }\n    },\n    {\n      \"column\": \"year\",\n      \"properties\": {\n        \"dtype\": \"number\",\n        \"std\": 2,\n        \"min\": 1996,\n        \"max\": 2020,\n        \"num_unique_values\": 25,\n        \"samples\": [\n          2002,\n          2010,\n          2014\n        ],\n        \"semantic_type\": \"\",\n        \"description\": \"\"\n      }\n    },\n    {\n      \"column\": \"price\",\n      \"properties\": {\n        \"dtype\": \"number\",\n        \"std\": 11415,\n        \"min\": 1200,\n        \"max\": 123456,\n        \"num_unique_values\": 3777,\n        \"samples\": [\n          14988,\n          20480,\n          15745\n        ],\n        \"semantic_type\": \"\",\n        \"description\": \"\"\n      }\n    },\n    {\n      \"column\": \"transmission\",\n      \"properties\": {\n        \"dtype\": \"category\",\n        \"num_unique_values\": 3,\n        \"samples\": [\n          \"Automatic\",\n          \"Manual\",\n          \"Semi-Auto\"\n        ],\n        \"semantic_type\": \"\",\n        \"description\": \"\"\n      }\n    },\n    {\n      \"column\": \"mileage\",\n      \"properties\": {\n        \"dtype\": \"number\",\n        \"std\": 25143,\n        \"min\": 1,\n        \"max\": 214000,\n        \"num_unique_values\": 8086,\n        \"samples\": [\n          20955,\n          51344,\n          24658\n        ],\n        \"semantic_type\": \"\",\n        \"description\": \"\"\n      }\n    },\n    {\n      \"column\": \"fuelType\",\n      \"properties\": {\n        \"dtype\": \"category\",\n        \"num_unique_values\": 5,\n        \"samples\": [\n          \"Petrol\",\n          \"Electric\",\n          \"Other\"\n        ],\n        \"semantic_type\": \"\",\n        \"description\": \"\"\n      }\n    },\n    {\n      \"column\": \"tax\",\n      \"properties\": {\n        \"dtype\": \"number\",\n        \"std\": 61,\n        \"min\": 0,\n        \"max\": 580,\n        \"num_unique_values\": 38,\n        \"samples\": [\n          255,\n          130,\n          20\n        ],\n        \"semantic_type\": \"\",\n        \"description\": \"\"\n      }\n    },\n    {\n      \"column\": \"mpg\",\n      \"properties\": {\n        \"dtype\": \"number\",\n        \"std\": 31.336957870354897,\n        \"min\": 5.5,\n        \"max\": 470.8,\n        \"num_unique_values\": 102,\n        \"samples\": [\n          74.3,\n          28.5,\n          24.4\n        ],\n        \"semantic_type\": \"\",\n        \"description\": \"\"\n      }\n    },\n    {\n      \"column\": \"engineSize\",\n      \"properties\": {\n        \"dtype\": \"number\",\n        \"std\": 0.5520537772398764,\n        \"min\": 0.0,\n        \"max\": 6.6,\n        \"num_unique_values\": 17,\n        \"samples\": [\n          2.0,\n          3.0,\n          4.4\n        ],\n        \"semantic_type\": \"\",\n        \"description\": \"\"\n      }\n    }\n  ]\n}"
            }
          },
          "metadata": {},
          "execution_count": 5
        }
      ]
    },
    {
      "cell_type": "markdown",
      "source": [
        "# **Обучающая и тестовая выборка**"
      ],
      "metadata": {
        "id": "yPAYoeXvKD45"
      }
    },
    {
      "cell_type": "code",
      "source": [
        "from sklearn.model_selection import train_test_split"
      ],
      "metadata": {
        "id": "RTR6LUmqKNtL"
      },
      "execution_count": 6,
      "outputs": []
    },
    {
      "cell_type": "code",
      "source": [
        "train, test = train_test_split(df, train_size=0.6, random_state=42)"
      ],
      "metadata": {
        "id": "T6x0mw_cK0Cj"
      },
      "execution_count": 7,
      "outputs": []
    },
    {
      "cell_type": "markdown",
      "source": [
        "# **Валидационныя выборка**"
      ],
      "metadata": {
        "id": "USoMMgclLBdn"
      }
    },
    {
      "cell_type": "code",
      "source": [
        "len(train) / len(df)"
      ],
      "metadata": {
        "id": "i7XPrDe9LLzR",
        "outputId": "872a9a58-8238-4954-d9ef-e3994f7779e5",
        "colab": {
          "base_uri": "https://localhost:8080/"
        }
      },
      "execution_count": 8,
      "outputs": [
        {
          "output_type": "execute_result",
          "data": {
            "text/plain": [
              "0.5999443465355718"
            ]
          },
          "metadata": {},
          "execution_count": 8
        }
      ]
    },
    {
      "cell_type": "code",
      "source": [
        "len(test) / len(df)"
      ],
      "metadata": {
        "id": "7CipJUAPGkqs",
        "outputId": "fba0967c-456a-4cf8-e9bc-f2007865a7f4",
        "colab": {
          "base_uri": "https://localhost:8080/"
        }
      },
      "execution_count": 9,
      "outputs": [
        {
          "output_type": "execute_result",
          "data": {
            "text/plain": [
              "0.4000556534644282"
            ]
          },
          "metadata": {},
          "execution_count": 9
        }
      ]
    },
    {
      "cell_type": "code",
      "source": [
        "val, test = train_test_split(test, train_size=0.5,random_state=42)"
      ],
      "metadata": {
        "id": "mSlkaokvGr99"
      },
      "execution_count": 10,
      "outputs": []
    },
    {
      "cell_type": "code",
      "source": [
        "len(train) / len(df)"
      ],
      "metadata": {
        "id": "3DzhgPXLHVkm",
        "outputId": "175cbd74-d30f-4741-b1b9-23c2242e5c33",
        "colab": {
          "base_uri": "https://localhost:8080/"
        }
      },
      "execution_count": 11,
      "outputs": [
        {
          "output_type": "execute_result",
          "data": {
            "text/plain": [
              "0.5999443465355718"
            ]
          },
          "metadata": {},
          "execution_count": 11
        }
      ]
    },
    {
      "cell_type": "code",
      "source": [
        "len(val) / len(df)"
      ],
      "metadata": {
        "id": "mVyLPr7-HdRj",
        "outputId": "fc9707c0-ad46-4491-e82f-ab44eeee202b",
        "colab": {
          "base_uri": "https://localhost:8080/"
        }
      },
      "execution_count": 12,
      "outputs": [
        {
          "output_type": "execute_result",
          "data": {
            "text/plain": [
              "0.19998144884519062"
            ]
          },
          "metadata": {},
          "execution_count": 12
        }
      ]
    },
    {
      "cell_type": "code",
      "source": [
        "len(test) / len(df)"
      ],
      "metadata": {
        "id": "mC2xQkECHgGC",
        "outputId": "ec2af8d8-03d5-4a94-c5aa-c00ec7971992",
        "colab": {
          "base_uri": "https://localhost:8080/"
        }
      },
      "execution_count": 13,
      "outputs": [
        {
          "output_type": "execute_result",
          "data": {
            "text/plain": [
              "0.20007420461923756"
            ]
          },
          "metadata": {},
          "execution_count": 13
        }
      ]
    },
    {
      "cell_type": "markdown",
      "source": [
        "# **Список фичей**"
      ],
      "metadata": {
        "id": "hMbW3G0HHlIc"
      }
    },
    {
      "cell_type": "code",
      "source": [
        "train.columns"
      ],
      "metadata": {
        "id": "f2WmtF3CHv5X",
        "outputId": "4208f3f9-4f93-4c74-fbe5-5dfe6f53c339",
        "colab": {
          "base_uri": "https://localhost:8080/"
        }
      },
      "execution_count": 14,
      "outputs": [
        {
          "output_type": "execute_result",
          "data": {
            "text/plain": [
              "Index(['model', 'year', 'price', 'transmission', 'mileage', 'fuelType', 'tax',\n",
              "       'mpg', 'engineSize'],\n",
              "      dtype='object')"
            ]
          },
          "metadata": {},
          "execution_count": 14
        }
      ]
    },
    {
      "cell_type": "code",
      "source": [
        "train"
      ],
      "metadata": {
        "id": "Jj_-HxBQHzsg",
        "outputId": "2911912b-26fe-415f-def2-457921c00629",
        "colab": {
          "base_uri": "https://localhost:8080/",
          "height": 424
        }
      },
      "execution_count": 15,
      "outputs": [
        {
          "output_type": "execute_result",
          "data": {
            "text/plain": [
              "          model  year  price transmission  mileage fuelType  tax   mpg  \\\n",
              "5133         X6  2015  25000    Semi-Auto    26100   Diesel  205  45.6   \n",
              "2121         X2  2019  31980    Automatic     4804   Petrol  145  34.0   \n",
              "6576         X2  2018  22995    Semi-Auto    24136   Petrol  145  38.7   \n",
              "8330   3 Series  2016  12999       Manual    52224   Diesel  125  62.8   \n",
              "3161         X3  2019  32980    Semi-Auto     1961   Diesel  150  54.3   \n",
              "...         ...   ...    ...          ...      ...      ...  ...   ...   \n",
              "5734   3 Series  2018  17995    Semi-Auto    40456   Diesel  145  64.2   \n",
              "5191   1 Series  2016  19950    Semi-Auto    23210   Petrol  200  39.8   \n",
              "5390         X2  2019  25450    Semi-Auto     5652   Diesel  145  47.9   \n",
              "860          X1  2016  19850    Semi-Auto    14542   Diesel  125  60.1   \n",
              "7270   1 Series  2016  15745    Automatic    17237   Petrol  125  54.3   \n",
              "\n",
              "      engineSize  \n",
              "5133         3.0  \n",
              "2121         2.0  \n",
              "6576         2.0  \n",
              "8330         2.0  \n",
              "3161         2.0  \n",
              "...          ...  \n",
              "5734         2.0  \n",
              "5191         3.0  \n",
              "5390         2.0  \n",
              "860          2.0  \n",
              "7270         1.5  \n",
              "\n",
              "[6468 rows x 9 columns]"
            ],
            "text/html": [
              "\n",
              "  <div id=\"df-e556618e-4f98-462a-9875-6e81f07d55d3\" class=\"colab-df-container\">\n",
              "    <div>\n",
              "<style scoped>\n",
              "    .dataframe tbody tr th:only-of-type {\n",
              "        vertical-align: middle;\n",
              "    }\n",
              "\n",
              "    .dataframe tbody tr th {\n",
              "        vertical-align: top;\n",
              "    }\n",
              "\n",
              "    .dataframe thead th {\n",
              "        text-align: right;\n",
              "    }\n",
              "</style>\n",
              "<table border=\"1\" class=\"dataframe\">\n",
              "  <thead>\n",
              "    <tr style=\"text-align: right;\">\n",
              "      <th></th>\n",
              "      <th>model</th>\n",
              "      <th>year</th>\n",
              "      <th>price</th>\n",
              "      <th>transmission</th>\n",
              "      <th>mileage</th>\n",
              "      <th>fuelType</th>\n",
              "      <th>tax</th>\n",
              "      <th>mpg</th>\n",
              "      <th>engineSize</th>\n",
              "    </tr>\n",
              "  </thead>\n",
              "  <tbody>\n",
              "    <tr>\n",
              "      <th>5133</th>\n",
              "      <td>X6</td>\n",
              "      <td>2015</td>\n",
              "      <td>25000</td>\n",
              "      <td>Semi-Auto</td>\n",
              "      <td>26100</td>\n",
              "      <td>Diesel</td>\n",
              "      <td>205</td>\n",
              "      <td>45.6</td>\n",
              "      <td>3.0</td>\n",
              "    </tr>\n",
              "    <tr>\n",
              "      <th>2121</th>\n",
              "      <td>X2</td>\n",
              "      <td>2019</td>\n",
              "      <td>31980</td>\n",
              "      <td>Automatic</td>\n",
              "      <td>4804</td>\n",
              "      <td>Petrol</td>\n",
              "      <td>145</td>\n",
              "      <td>34.0</td>\n",
              "      <td>2.0</td>\n",
              "    </tr>\n",
              "    <tr>\n",
              "      <th>6576</th>\n",
              "      <td>X2</td>\n",
              "      <td>2018</td>\n",
              "      <td>22995</td>\n",
              "      <td>Semi-Auto</td>\n",
              "      <td>24136</td>\n",
              "      <td>Petrol</td>\n",
              "      <td>145</td>\n",
              "      <td>38.7</td>\n",
              "      <td>2.0</td>\n",
              "    </tr>\n",
              "    <tr>\n",
              "      <th>8330</th>\n",
              "      <td>3 Series</td>\n",
              "      <td>2016</td>\n",
              "      <td>12999</td>\n",
              "      <td>Manual</td>\n",
              "      <td>52224</td>\n",
              "      <td>Diesel</td>\n",
              "      <td>125</td>\n",
              "      <td>62.8</td>\n",
              "      <td>2.0</td>\n",
              "    </tr>\n",
              "    <tr>\n",
              "      <th>3161</th>\n",
              "      <td>X3</td>\n",
              "      <td>2019</td>\n",
              "      <td>32980</td>\n",
              "      <td>Semi-Auto</td>\n",
              "      <td>1961</td>\n",
              "      <td>Diesel</td>\n",
              "      <td>150</td>\n",
              "      <td>54.3</td>\n",
              "      <td>2.0</td>\n",
              "    </tr>\n",
              "    <tr>\n",
              "      <th>...</th>\n",
              "      <td>...</td>\n",
              "      <td>...</td>\n",
              "      <td>...</td>\n",
              "      <td>...</td>\n",
              "      <td>...</td>\n",
              "      <td>...</td>\n",
              "      <td>...</td>\n",
              "      <td>...</td>\n",
              "      <td>...</td>\n",
              "    </tr>\n",
              "    <tr>\n",
              "      <th>5734</th>\n",
              "      <td>3 Series</td>\n",
              "      <td>2018</td>\n",
              "      <td>17995</td>\n",
              "      <td>Semi-Auto</td>\n",
              "      <td>40456</td>\n",
              "      <td>Diesel</td>\n",
              "      <td>145</td>\n",
              "      <td>64.2</td>\n",
              "      <td>2.0</td>\n",
              "    </tr>\n",
              "    <tr>\n",
              "      <th>5191</th>\n",
              "      <td>1 Series</td>\n",
              "      <td>2016</td>\n",
              "      <td>19950</td>\n",
              "      <td>Semi-Auto</td>\n",
              "      <td>23210</td>\n",
              "      <td>Petrol</td>\n",
              "      <td>200</td>\n",
              "      <td>39.8</td>\n",
              "      <td>3.0</td>\n",
              "    </tr>\n",
              "    <tr>\n",
              "      <th>5390</th>\n",
              "      <td>X2</td>\n",
              "      <td>2019</td>\n",
              "      <td>25450</td>\n",
              "      <td>Semi-Auto</td>\n",
              "      <td>5652</td>\n",
              "      <td>Diesel</td>\n",
              "      <td>145</td>\n",
              "      <td>47.9</td>\n",
              "      <td>2.0</td>\n",
              "    </tr>\n",
              "    <tr>\n",
              "      <th>860</th>\n",
              "      <td>X1</td>\n",
              "      <td>2016</td>\n",
              "      <td>19850</td>\n",
              "      <td>Semi-Auto</td>\n",
              "      <td>14542</td>\n",
              "      <td>Diesel</td>\n",
              "      <td>125</td>\n",
              "      <td>60.1</td>\n",
              "      <td>2.0</td>\n",
              "    </tr>\n",
              "    <tr>\n",
              "      <th>7270</th>\n",
              "      <td>1 Series</td>\n",
              "      <td>2016</td>\n",
              "      <td>15745</td>\n",
              "      <td>Automatic</td>\n",
              "      <td>17237</td>\n",
              "      <td>Petrol</td>\n",
              "      <td>125</td>\n",
              "      <td>54.3</td>\n",
              "      <td>1.5</td>\n",
              "    </tr>\n",
              "  </tbody>\n",
              "</table>\n",
              "<p>6468 rows × 9 columns</p>\n",
              "</div>\n",
              "    <div class=\"colab-df-buttons\">\n",
              "\n",
              "  <div class=\"colab-df-container\">\n",
              "    <button class=\"colab-df-convert\" onclick=\"convertToInteractive('df-e556618e-4f98-462a-9875-6e81f07d55d3')\"\n",
              "            title=\"Convert this dataframe to an interactive table.\"\n",
              "            style=\"display:none;\">\n",
              "\n",
              "  <svg xmlns=\"http://www.w3.org/2000/svg\" height=\"24px\" viewBox=\"0 -960 960 960\">\n",
              "    <path d=\"M120-120v-720h720v720H120Zm60-500h600v-160H180v160Zm220 220h160v-160H400v160Zm0 220h160v-160H400v160ZM180-400h160v-160H180v160Zm440 0h160v-160H620v160ZM180-180h160v-160H180v160Zm440 0h160v-160H620v160Z\"/>\n",
              "  </svg>\n",
              "    </button>\n",
              "\n",
              "  <style>\n",
              "    .colab-df-container {\n",
              "      display:flex;\n",
              "      gap: 12px;\n",
              "    }\n",
              "\n",
              "    .colab-df-convert {\n",
              "      background-color: #E8F0FE;\n",
              "      border: none;\n",
              "      border-radius: 50%;\n",
              "      cursor: pointer;\n",
              "      display: none;\n",
              "      fill: #1967D2;\n",
              "      height: 32px;\n",
              "      padding: 0 0 0 0;\n",
              "      width: 32px;\n",
              "    }\n",
              "\n",
              "    .colab-df-convert:hover {\n",
              "      background-color: #E2EBFA;\n",
              "      box-shadow: 0px 1px 2px rgba(60, 64, 67, 0.3), 0px 1px 3px 1px rgba(60, 64, 67, 0.15);\n",
              "      fill: #174EA6;\n",
              "    }\n",
              "\n",
              "    .colab-df-buttons div {\n",
              "      margin-bottom: 4px;\n",
              "    }\n",
              "\n",
              "    [theme=dark] .colab-df-convert {\n",
              "      background-color: #3B4455;\n",
              "      fill: #D2E3FC;\n",
              "    }\n",
              "\n",
              "    [theme=dark] .colab-df-convert:hover {\n",
              "      background-color: #434B5C;\n",
              "      box-shadow: 0px 1px 3px 1px rgba(0, 0, 0, 0.15);\n",
              "      filter: drop-shadow(0px 1px 2px rgba(0, 0, 0, 0.3));\n",
              "      fill: #FFFFFF;\n",
              "    }\n",
              "  </style>\n",
              "\n",
              "    <script>\n",
              "      const buttonEl =\n",
              "        document.querySelector('#df-e556618e-4f98-462a-9875-6e81f07d55d3 button.colab-df-convert');\n",
              "      buttonEl.style.display =\n",
              "        google.colab.kernel.accessAllowed ? 'block' : 'none';\n",
              "\n",
              "      async function convertToInteractive(key) {\n",
              "        const element = document.querySelector('#df-e556618e-4f98-462a-9875-6e81f07d55d3');\n",
              "        const dataTable =\n",
              "          await google.colab.kernel.invokeFunction('convertToInteractive',\n",
              "                                                    [key], {});\n",
              "        if (!dataTable) return;\n",
              "\n",
              "        const docLinkHtml = 'Like what you see? Visit the ' +\n",
              "          '<a target=\"_blank\" href=https://colab.research.google.com/notebooks/data_table.ipynb>data table notebook</a>'\n",
              "          + ' to learn more about interactive tables.';\n",
              "        element.innerHTML = '';\n",
              "        dataTable['output_type'] = 'display_data';\n",
              "        await google.colab.output.renderOutput(dataTable, element);\n",
              "        const docLink = document.createElement('div');\n",
              "        docLink.innerHTML = docLinkHtml;\n",
              "        element.appendChild(docLink);\n",
              "      }\n",
              "    </script>\n",
              "  </div>\n",
              "\n",
              "\n",
              "<div id=\"df-de4a2a6e-50be-4dec-adf0-552ae7472cfc\">\n",
              "  <button class=\"colab-df-quickchart\" onclick=\"quickchart('df-de4a2a6e-50be-4dec-adf0-552ae7472cfc')\"\n",
              "            title=\"Suggest charts\"\n",
              "            style=\"display:none;\">\n",
              "\n",
              "<svg xmlns=\"http://www.w3.org/2000/svg\" height=\"24px\"viewBox=\"0 0 24 24\"\n",
              "     width=\"24px\">\n",
              "    <g>\n",
              "        <path d=\"M19 3H5c-1.1 0-2 .9-2 2v14c0 1.1.9 2 2 2h14c1.1 0 2-.9 2-2V5c0-1.1-.9-2-2-2zM9 17H7v-7h2v7zm4 0h-2V7h2v10zm4 0h-2v-4h2v4z\"/>\n",
              "    </g>\n",
              "</svg>\n",
              "  </button>\n",
              "\n",
              "<style>\n",
              "  .colab-df-quickchart {\n",
              "      --bg-color: #E8F0FE;\n",
              "      --fill-color: #1967D2;\n",
              "      --hover-bg-color: #E2EBFA;\n",
              "      --hover-fill-color: #174EA6;\n",
              "      --disabled-fill-color: #AAA;\n",
              "      --disabled-bg-color: #DDD;\n",
              "  }\n",
              "\n",
              "  [theme=dark] .colab-df-quickchart {\n",
              "      --bg-color: #3B4455;\n",
              "      --fill-color: #D2E3FC;\n",
              "      --hover-bg-color: #434B5C;\n",
              "      --hover-fill-color: #FFFFFF;\n",
              "      --disabled-bg-color: #3B4455;\n",
              "      --disabled-fill-color: #666;\n",
              "  }\n",
              "\n",
              "  .colab-df-quickchart {\n",
              "    background-color: var(--bg-color);\n",
              "    border: none;\n",
              "    border-radius: 50%;\n",
              "    cursor: pointer;\n",
              "    display: none;\n",
              "    fill: var(--fill-color);\n",
              "    height: 32px;\n",
              "    padding: 0;\n",
              "    width: 32px;\n",
              "  }\n",
              "\n",
              "  .colab-df-quickchart:hover {\n",
              "    background-color: var(--hover-bg-color);\n",
              "    box-shadow: 0 1px 2px rgba(60, 64, 67, 0.3), 0 1px 3px 1px rgba(60, 64, 67, 0.15);\n",
              "    fill: var(--button-hover-fill-color);\n",
              "  }\n",
              "\n",
              "  .colab-df-quickchart-complete:disabled,\n",
              "  .colab-df-quickchart-complete:disabled:hover {\n",
              "    background-color: var(--disabled-bg-color);\n",
              "    fill: var(--disabled-fill-color);\n",
              "    box-shadow: none;\n",
              "  }\n",
              "\n",
              "  .colab-df-spinner {\n",
              "    border: 2px solid var(--fill-color);\n",
              "    border-color: transparent;\n",
              "    border-bottom-color: var(--fill-color);\n",
              "    animation:\n",
              "      spin 1s steps(1) infinite;\n",
              "  }\n",
              "\n",
              "  @keyframes spin {\n",
              "    0% {\n",
              "      border-color: transparent;\n",
              "      border-bottom-color: var(--fill-color);\n",
              "      border-left-color: var(--fill-color);\n",
              "    }\n",
              "    20% {\n",
              "      border-color: transparent;\n",
              "      border-left-color: var(--fill-color);\n",
              "      border-top-color: var(--fill-color);\n",
              "    }\n",
              "    30% {\n",
              "      border-color: transparent;\n",
              "      border-left-color: var(--fill-color);\n",
              "      border-top-color: var(--fill-color);\n",
              "      border-right-color: var(--fill-color);\n",
              "    }\n",
              "    40% {\n",
              "      border-color: transparent;\n",
              "      border-right-color: var(--fill-color);\n",
              "      border-top-color: var(--fill-color);\n",
              "    }\n",
              "    60% {\n",
              "      border-color: transparent;\n",
              "      border-right-color: var(--fill-color);\n",
              "    }\n",
              "    80% {\n",
              "      border-color: transparent;\n",
              "      border-right-color: var(--fill-color);\n",
              "      border-bottom-color: var(--fill-color);\n",
              "    }\n",
              "    90% {\n",
              "      border-color: transparent;\n",
              "      border-bottom-color: var(--fill-color);\n",
              "    }\n",
              "  }\n",
              "</style>\n",
              "\n",
              "  <script>\n",
              "    async function quickchart(key) {\n",
              "      const quickchartButtonEl =\n",
              "        document.querySelector('#' + key + ' button');\n",
              "      quickchartButtonEl.disabled = true;  // To prevent multiple clicks.\n",
              "      quickchartButtonEl.classList.add('colab-df-spinner');\n",
              "      try {\n",
              "        const charts = await google.colab.kernel.invokeFunction(\n",
              "            'suggestCharts', [key], {});\n",
              "      } catch (error) {\n",
              "        console.error('Error during call to suggestCharts:', error);\n",
              "      }\n",
              "      quickchartButtonEl.classList.remove('colab-df-spinner');\n",
              "      quickchartButtonEl.classList.add('colab-df-quickchart-complete');\n",
              "    }\n",
              "    (() => {\n",
              "      let quickchartButtonEl =\n",
              "        document.querySelector('#df-de4a2a6e-50be-4dec-adf0-552ae7472cfc button');\n",
              "      quickchartButtonEl.style.display =\n",
              "        google.colab.kernel.accessAllowed ? 'block' : 'none';\n",
              "    })();\n",
              "  </script>\n",
              "</div>\n",
              "    </div>\n",
              "  </div>\n"
            ],
            "application/vnd.google.colaboratory.intrinsic+json": {
              "type": "dataframe",
              "variable_name": "train",
              "summary": "{\n  \"name\": \"train\",\n  \"rows\": 6468,\n  \"fields\": [\n    {\n      \"column\": \"model\",\n      \"properties\": {\n        \"dtype\": \"category\",\n        \"num_unique_values\": 24,\n        \"samples\": [\n          \" 5 Series\",\n          \" 8 Series\",\n          \" X6\"\n        ],\n        \"semantic_type\": \"\",\n        \"description\": \"\"\n      }\n    },\n    {\n      \"column\": \"year\",\n      \"properties\": {\n        \"dtype\": \"number\",\n        \"std\": 2,\n        \"min\": 1997,\n        \"max\": 2020,\n        \"num_unique_values\": 23,\n        \"samples\": [\n          2004,\n          2013,\n          2015\n        ],\n        \"semantic_type\": \"\",\n        \"description\": \"\"\n      }\n    },\n    {\n      \"column\": \"price\",\n      \"properties\": {\n        \"dtype\": \"number\",\n        \"std\": 11591,\n        \"min\": 1445,\n        \"max\": 123456,\n        \"num_unique_values\": 2685,\n        \"samples\": [\n          17988,\n          18759,\n          18402\n        ],\n        \"semantic_type\": \"\",\n        \"description\": \"\"\n      }\n    },\n    {\n      \"column\": \"transmission\",\n      \"properties\": {\n        \"dtype\": \"category\",\n        \"num_unique_values\": 3,\n        \"samples\": [\n          \"Semi-Auto\",\n          \"Automatic\",\n          \"Manual\"\n        ],\n        \"semantic_type\": \"\",\n        \"description\": \"\"\n      }\n    },\n    {\n      \"column\": \"mileage\",\n      \"properties\": {\n        \"dtype\": \"number\",\n        \"std\": 25138,\n        \"min\": 4,\n        \"max\": 214000,\n        \"num_unique_values\": 5075,\n        \"samples\": [\n          980,\n          18404,\n          17988\n        ],\n        \"semantic_type\": \"\",\n        \"description\": \"\"\n      }\n    },\n    {\n      \"column\": \"fuelType\",\n      \"properties\": {\n        \"dtype\": \"category\",\n        \"num_unique_values\": 5,\n        \"samples\": [\n          \"Petrol\",\n          \"Other\",\n          \"Hybrid\"\n        ],\n        \"semantic_type\": \"\",\n        \"description\": \"\"\n      }\n    },\n    {\n      \"column\": \"tax\",\n      \"properties\": {\n        \"dtype\": \"number\",\n        \"std\": 60,\n        \"min\": 0,\n        \"max\": 580,\n        \"num_unique_values\": 36,\n        \"samples\": [\n          245,\n          135,\n          580\n        ],\n        \"semantic_type\": \"\",\n        \"description\": \"\"\n      }\n    },\n    {\n      \"column\": \"mpg\",\n      \"properties\": {\n        \"dtype\": \"number\",\n        \"std\": 31.196889728179734,\n        \"min\": 5.5,\n        \"max\": 470.8,\n        \"num_unique_values\": 97,\n        \"samples\": [\n          188.3,\n          46.3,\n          23.3\n        ],\n        \"semantic_type\": \"\",\n        \"description\": \"\"\n      }\n    },\n    {\n      \"column\": \"engineSize\",\n      \"properties\": {\n        \"dtype\": \"number\",\n        \"std\": 0.5495052664715686,\n        \"min\": 0.0,\n        \"max\": 6.6,\n        \"num_unique_values\": 16,\n        \"samples\": [\n          3.0,\n          2.0,\n          0.0\n        ],\n        \"semantic_type\": \"\",\n        \"description\": \"\"\n      }\n    }\n  ]\n}"
            }
          },
          "metadata": {},
          "execution_count": 15
        }
      ]
    },
    {
      "cell_type": "code",
      "source": [
        "X = ['model', 'year', 'transmission', 'mileage', 'fuelType', 'tax',\n",
        "       'mpg', 'engineSize']\n",
        "\n",
        "cat_features = ['model', 'transmission', 'fuelType']\n",
        "\n",
        "y = ['price']"
      ],
      "metadata": {
        "id": "CGVAMySEH0_9"
      },
      "execution_count": 16,
      "outputs": []
    },
    {
      "cell_type": "markdown",
      "source": [
        "#**Принцип преобразования категориальных фичей**"
      ],
      "metadata": {
        "id": "1GoWYqPWIYR0"
      }
    },
    {
      "cell_type": "code",
      "source": [
        "train['transmission']"
      ],
      "metadata": {
        "id": "BQje-F1eIr1m",
        "outputId": "965164ab-c0ff-4016-a069-d7ba4f2224f3",
        "colab": {
          "base_uri": "https://localhost:8080/",
          "height": 458
        }
      },
      "execution_count": 17,
      "outputs": [
        {
          "output_type": "execute_result",
          "data": {
            "text/plain": [
              "5133    Semi-Auto\n",
              "2121    Automatic\n",
              "6576    Semi-Auto\n",
              "8330       Manual\n",
              "3161    Semi-Auto\n",
              "          ...    \n",
              "5734    Semi-Auto\n",
              "5191    Semi-Auto\n",
              "5390    Semi-Auto\n",
              "860     Semi-Auto\n",
              "7270    Automatic\n",
              "Name: transmission, Length: 6468, dtype: object"
            ],
            "text/html": [
              "<div>\n",
              "<style scoped>\n",
              "    .dataframe tbody tr th:only-of-type {\n",
              "        vertical-align: middle;\n",
              "    }\n",
              "\n",
              "    .dataframe tbody tr th {\n",
              "        vertical-align: top;\n",
              "    }\n",
              "\n",
              "    .dataframe thead th {\n",
              "        text-align: right;\n",
              "    }\n",
              "</style>\n",
              "<table border=\"1\" class=\"dataframe\">\n",
              "  <thead>\n",
              "    <tr style=\"text-align: right;\">\n",
              "      <th></th>\n",
              "      <th>transmission</th>\n",
              "    </tr>\n",
              "  </thead>\n",
              "  <tbody>\n",
              "    <tr>\n",
              "      <th>5133</th>\n",
              "      <td>Semi-Auto</td>\n",
              "    </tr>\n",
              "    <tr>\n",
              "      <th>2121</th>\n",
              "      <td>Automatic</td>\n",
              "    </tr>\n",
              "    <tr>\n",
              "      <th>6576</th>\n",
              "      <td>Semi-Auto</td>\n",
              "    </tr>\n",
              "    <tr>\n",
              "      <th>8330</th>\n",
              "      <td>Manual</td>\n",
              "    </tr>\n",
              "    <tr>\n",
              "      <th>3161</th>\n",
              "      <td>Semi-Auto</td>\n",
              "    </tr>\n",
              "    <tr>\n",
              "      <th>...</th>\n",
              "      <td>...</td>\n",
              "    </tr>\n",
              "    <tr>\n",
              "      <th>5734</th>\n",
              "      <td>Semi-Auto</td>\n",
              "    </tr>\n",
              "    <tr>\n",
              "      <th>5191</th>\n",
              "      <td>Semi-Auto</td>\n",
              "    </tr>\n",
              "    <tr>\n",
              "      <th>5390</th>\n",
              "      <td>Semi-Auto</td>\n",
              "    </tr>\n",
              "    <tr>\n",
              "      <th>860</th>\n",
              "      <td>Semi-Auto</td>\n",
              "    </tr>\n",
              "    <tr>\n",
              "      <th>7270</th>\n",
              "      <td>Automatic</td>\n",
              "    </tr>\n",
              "  </tbody>\n",
              "</table>\n",
              "<p>6468 rows × 1 columns</p>\n",
              "</div><br><label><b>dtype:</b> object</label>"
            ]
          },
          "metadata": {},
          "execution_count": 17
        }
      ]
    },
    {
      "cell_type": "code",
      "source": [
        "pd.get_dummies(train['transmission']) * 1"
      ],
      "metadata": {
        "id": "wvBdG2IVIwsq",
        "outputId": "116e9fee-8f1f-4767-cc43-4ccbb77fa038",
        "colab": {
          "base_uri": "https://localhost:8080/",
          "height": 424
        }
      },
      "execution_count": 18,
      "outputs": [
        {
          "output_type": "execute_result",
          "data": {
            "text/plain": [
              "      Automatic  Manual  Semi-Auto\n",
              "5133          0       0          1\n",
              "2121          1       0          0\n",
              "6576          0       0          1\n",
              "8330          0       1          0\n",
              "3161          0       0          1\n",
              "...         ...     ...        ...\n",
              "5734          0       0          1\n",
              "5191          0       0          1\n",
              "5390          0       0          1\n",
              "860           0       0          1\n",
              "7270          1       0          0\n",
              "\n",
              "[6468 rows x 3 columns]"
            ],
            "text/html": [
              "\n",
              "  <div id=\"df-f6e3fff4-02e6-4249-9e29-8d9ad64a9d32\" class=\"colab-df-container\">\n",
              "    <div>\n",
              "<style scoped>\n",
              "    .dataframe tbody tr th:only-of-type {\n",
              "        vertical-align: middle;\n",
              "    }\n",
              "\n",
              "    .dataframe tbody tr th {\n",
              "        vertical-align: top;\n",
              "    }\n",
              "\n",
              "    .dataframe thead th {\n",
              "        text-align: right;\n",
              "    }\n",
              "</style>\n",
              "<table border=\"1\" class=\"dataframe\">\n",
              "  <thead>\n",
              "    <tr style=\"text-align: right;\">\n",
              "      <th></th>\n",
              "      <th>Automatic</th>\n",
              "      <th>Manual</th>\n",
              "      <th>Semi-Auto</th>\n",
              "    </tr>\n",
              "  </thead>\n",
              "  <tbody>\n",
              "    <tr>\n",
              "      <th>5133</th>\n",
              "      <td>0</td>\n",
              "      <td>0</td>\n",
              "      <td>1</td>\n",
              "    </tr>\n",
              "    <tr>\n",
              "      <th>2121</th>\n",
              "      <td>1</td>\n",
              "      <td>0</td>\n",
              "      <td>0</td>\n",
              "    </tr>\n",
              "    <tr>\n",
              "      <th>6576</th>\n",
              "      <td>0</td>\n",
              "      <td>0</td>\n",
              "      <td>1</td>\n",
              "    </tr>\n",
              "    <tr>\n",
              "      <th>8330</th>\n",
              "      <td>0</td>\n",
              "      <td>1</td>\n",
              "      <td>0</td>\n",
              "    </tr>\n",
              "    <tr>\n",
              "      <th>3161</th>\n",
              "      <td>0</td>\n",
              "      <td>0</td>\n",
              "      <td>1</td>\n",
              "    </tr>\n",
              "    <tr>\n",
              "      <th>...</th>\n",
              "      <td>...</td>\n",
              "      <td>...</td>\n",
              "      <td>...</td>\n",
              "    </tr>\n",
              "    <tr>\n",
              "      <th>5734</th>\n",
              "      <td>0</td>\n",
              "      <td>0</td>\n",
              "      <td>1</td>\n",
              "    </tr>\n",
              "    <tr>\n",
              "      <th>5191</th>\n",
              "      <td>0</td>\n",
              "      <td>0</td>\n",
              "      <td>1</td>\n",
              "    </tr>\n",
              "    <tr>\n",
              "      <th>5390</th>\n",
              "      <td>0</td>\n",
              "      <td>0</td>\n",
              "      <td>1</td>\n",
              "    </tr>\n",
              "    <tr>\n",
              "      <th>860</th>\n",
              "      <td>0</td>\n",
              "      <td>0</td>\n",
              "      <td>1</td>\n",
              "    </tr>\n",
              "    <tr>\n",
              "      <th>7270</th>\n",
              "      <td>1</td>\n",
              "      <td>0</td>\n",
              "      <td>0</td>\n",
              "    </tr>\n",
              "  </tbody>\n",
              "</table>\n",
              "<p>6468 rows × 3 columns</p>\n",
              "</div>\n",
              "    <div class=\"colab-df-buttons\">\n",
              "\n",
              "  <div class=\"colab-df-container\">\n",
              "    <button class=\"colab-df-convert\" onclick=\"convertToInteractive('df-f6e3fff4-02e6-4249-9e29-8d9ad64a9d32')\"\n",
              "            title=\"Convert this dataframe to an interactive table.\"\n",
              "            style=\"display:none;\">\n",
              "\n",
              "  <svg xmlns=\"http://www.w3.org/2000/svg\" height=\"24px\" viewBox=\"0 -960 960 960\">\n",
              "    <path d=\"M120-120v-720h720v720H120Zm60-500h600v-160H180v160Zm220 220h160v-160H400v160Zm0 220h160v-160H400v160ZM180-400h160v-160H180v160Zm440 0h160v-160H620v160ZM180-180h160v-160H180v160Zm440 0h160v-160H620v160Z\"/>\n",
              "  </svg>\n",
              "    </button>\n",
              "\n",
              "  <style>\n",
              "    .colab-df-container {\n",
              "      display:flex;\n",
              "      gap: 12px;\n",
              "    }\n",
              "\n",
              "    .colab-df-convert {\n",
              "      background-color: #E8F0FE;\n",
              "      border: none;\n",
              "      border-radius: 50%;\n",
              "      cursor: pointer;\n",
              "      display: none;\n",
              "      fill: #1967D2;\n",
              "      height: 32px;\n",
              "      padding: 0 0 0 0;\n",
              "      width: 32px;\n",
              "    }\n",
              "\n",
              "    .colab-df-convert:hover {\n",
              "      background-color: #E2EBFA;\n",
              "      box-shadow: 0px 1px 2px rgba(60, 64, 67, 0.3), 0px 1px 3px 1px rgba(60, 64, 67, 0.15);\n",
              "      fill: #174EA6;\n",
              "    }\n",
              "\n",
              "    .colab-df-buttons div {\n",
              "      margin-bottom: 4px;\n",
              "    }\n",
              "\n",
              "    [theme=dark] .colab-df-convert {\n",
              "      background-color: #3B4455;\n",
              "      fill: #D2E3FC;\n",
              "    }\n",
              "\n",
              "    [theme=dark] .colab-df-convert:hover {\n",
              "      background-color: #434B5C;\n",
              "      box-shadow: 0px 1px 3px 1px rgba(0, 0, 0, 0.15);\n",
              "      filter: drop-shadow(0px 1px 2px rgba(0, 0, 0, 0.3));\n",
              "      fill: #FFFFFF;\n",
              "    }\n",
              "  </style>\n",
              "\n",
              "    <script>\n",
              "      const buttonEl =\n",
              "        document.querySelector('#df-f6e3fff4-02e6-4249-9e29-8d9ad64a9d32 button.colab-df-convert');\n",
              "      buttonEl.style.display =\n",
              "        google.colab.kernel.accessAllowed ? 'block' : 'none';\n",
              "\n",
              "      async function convertToInteractive(key) {\n",
              "        const element = document.querySelector('#df-f6e3fff4-02e6-4249-9e29-8d9ad64a9d32');\n",
              "        const dataTable =\n",
              "          await google.colab.kernel.invokeFunction('convertToInteractive',\n",
              "                                                    [key], {});\n",
              "        if (!dataTable) return;\n",
              "\n",
              "        const docLinkHtml = 'Like what you see? Visit the ' +\n",
              "          '<a target=\"_blank\" href=https://colab.research.google.com/notebooks/data_table.ipynb>data table notebook</a>'\n",
              "          + ' to learn more about interactive tables.';\n",
              "        element.innerHTML = '';\n",
              "        dataTable['output_type'] = 'display_data';\n",
              "        await google.colab.output.renderOutput(dataTable, element);\n",
              "        const docLink = document.createElement('div');\n",
              "        docLink.innerHTML = docLinkHtml;\n",
              "        element.appendChild(docLink);\n",
              "      }\n",
              "    </script>\n",
              "  </div>\n",
              "\n",
              "\n",
              "<div id=\"df-78b16f09-9795-4c44-a0da-9da86f25bb33\">\n",
              "  <button class=\"colab-df-quickchart\" onclick=\"quickchart('df-78b16f09-9795-4c44-a0da-9da86f25bb33')\"\n",
              "            title=\"Suggest charts\"\n",
              "            style=\"display:none;\">\n",
              "\n",
              "<svg xmlns=\"http://www.w3.org/2000/svg\" height=\"24px\"viewBox=\"0 0 24 24\"\n",
              "     width=\"24px\">\n",
              "    <g>\n",
              "        <path d=\"M19 3H5c-1.1 0-2 .9-2 2v14c0 1.1.9 2 2 2h14c1.1 0 2-.9 2-2V5c0-1.1-.9-2-2-2zM9 17H7v-7h2v7zm4 0h-2V7h2v10zm4 0h-2v-4h2v4z\"/>\n",
              "    </g>\n",
              "</svg>\n",
              "  </button>\n",
              "\n",
              "<style>\n",
              "  .colab-df-quickchart {\n",
              "      --bg-color: #E8F0FE;\n",
              "      --fill-color: #1967D2;\n",
              "      --hover-bg-color: #E2EBFA;\n",
              "      --hover-fill-color: #174EA6;\n",
              "      --disabled-fill-color: #AAA;\n",
              "      --disabled-bg-color: #DDD;\n",
              "  }\n",
              "\n",
              "  [theme=dark] .colab-df-quickchart {\n",
              "      --bg-color: #3B4455;\n",
              "      --fill-color: #D2E3FC;\n",
              "      --hover-bg-color: #434B5C;\n",
              "      --hover-fill-color: #FFFFFF;\n",
              "      --disabled-bg-color: #3B4455;\n",
              "      --disabled-fill-color: #666;\n",
              "  }\n",
              "\n",
              "  .colab-df-quickchart {\n",
              "    background-color: var(--bg-color);\n",
              "    border: none;\n",
              "    border-radius: 50%;\n",
              "    cursor: pointer;\n",
              "    display: none;\n",
              "    fill: var(--fill-color);\n",
              "    height: 32px;\n",
              "    padding: 0;\n",
              "    width: 32px;\n",
              "  }\n",
              "\n",
              "  .colab-df-quickchart:hover {\n",
              "    background-color: var(--hover-bg-color);\n",
              "    box-shadow: 0 1px 2px rgba(60, 64, 67, 0.3), 0 1px 3px 1px rgba(60, 64, 67, 0.15);\n",
              "    fill: var(--button-hover-fill-color);\n",
              "  }\n",
              "\n",
              "  .colab-df-quickchart-complete:disabled,\n",
              "  .colab-df-quickchart-complete:disabled:hover {\n",
              "    background-color: var(--disabled-bg-color);\n",
              "    fill: var(--disabled-fill-color);\n",
              "    box-shadow: none;\n",
              "  }\n",
              "\n",
              "  .colab-df-spinner {\n",
              "    border: 2px solid var(--fill-color);\n",
              "    border-color: transparent;\n",
              "    border-bottom-color: var(--fill-color);\n",
              "    animation:\n",
              "      spin 1s steps(1) infinite;\n",
              "  }\n",
              "\n",
              "  @keyframes spin {\n",
              "    0% {\n",
              "      border-color: transparent;\n",
              "      border-bottom-color: var(--fill-color);\n",
              "      border-left-color: var(--fill-color);\n",
              "    }\n",
              "    20% {\n",
              "      border-color: transparent;\n",
              "      border-left-color: var(--fill-color);\n",
              "      border-top-color: var(--fill-color);\n",
              "    }\n",
              "    30% {\n",
              "      border-color: transparent;\n",
              "      border-left-color: var(--fill-color);\n",
              "      border-top-color: var(--fill-color);\n",
              "      border-right-color: var(--fill-color);\n",
              "    }\n",
              "    40% {\n",
              "      border-color: transparent;\n",
              "      border-right-color: var(--fill-color);\n",
              "      border-top-color: var(--fill-color);\n",
              "    }\n",
              "    60% {\n",
              "      border-color: transparent;\n",
              "      border-right-color: var(--fill-color);\n",
              "    }\n",
              "    80% {\n",
              "      border-color: transparent;\n",
              "      border-right-color: var(--fill-color);\n",
              "      border-bottom-color: var(--fill-color);\n",
              "    }\n",
              "    90% {\n",
              "      border-color: transparent;\n",
              "      border-bottom-color: var(--fill-color);\n",
              "    }\n",
              "  }\n",
              "</style>\n",
              "\n",
              "  <script>\n",
              "    async function quickchart(key) {\n",
              "      const quickchartButtonEl =\n",
              "        document.querySelector('#' + key + ' button');\n",
              "      quickchartButtonEl.disabled = true;  // To prevent multiple clicks.\n",
              "      quickchartButtonEl.classList.add('colab-df-spinner');\n",
              "      try {\n",
              "        const charts = await google.colab.kernel.invokeFunction(\n",
              "            'suggestCharts', [key], {});\n",
              "      } catch (error) {\n",
              "        console.error('Error during call to suggestCharts:', error);\n",
              "      }\n",
              "      quickchartButtonEl.classList.remove('colab-df-spinner');\n",
              "      quickchartButtonEl.classList.add('colab-df-quickchart-complete');\n",
              "    }\n",
              "    (() => {\n",
              "      let quickchartButtonEl =\n",
              "        document.querySelector('#df-78b16f09-9795-4c44-a0da-9da86f25bb33 button');\n",
              "      quickchartButtonEl.style.display =\n",
              "        google.colab.kernel.accessAllowed ? 'block' : 'none';\n",
              "    })();\n",
              "  </script>\n",
              "</div>\n",
              "    </div>\n",
              "  </div>\n"
            ],
            "application/vnd.google.colaboratory.intrinsic+json": {
              "type": "dataframe",
              "summary": "{\n  \"name\": \"pd\",\n  \"rows\": 6468,\n  \"fields\": [\n    {\n      \"column\": \"Automatic\",\n      \"properties\": {\n        \"dtype\": \"number\",\n        \"std\": 0,\n        \"min\": 0,\n        \"max\": 1,\n        \"num_unique_values\": 2,\n        \"samples\": [\n          1,\n          0\n        ],\n        \"semantic_type\": \"\",\n        \"description\": \"\"\n      }\n    },\n    {\n      \"column\": \"Manual\",\n      \"properties\": {\n        \"dtype\": \"number\",\n        \"std\": 0,\n        \"min\": 0,\n        \"max\": 1,\n        \"num_unique_values\": 2,\n        \"samples\": [\n          1,\n          0\n        ],\n        \"semantic_type\": \"\",\n        \"description\": \"\"\n      }\n    },\n    {\n      \"column\": \"Semi-Auto\",\n      \"properties\": {\n        \"dtype\": \"number\",\n        \"std\": 0,\n        \"min\": 0,\n        \"max\": 1,\n        \"num_unique_values\": 2,\n        \"samples\": [\n          0,\n          1\n        ],\n        \"semantic_type\": \"\",\n        \"description\": \"\"\n      }\n    }\n  ]\n}"
            }
          },
          "metadata": {},
          "execution_count": 18
        }
      ]
    },
    {
      "cell_type": "markdown",
      "source": [
        "# **Первый запуск Кэтбуста**"
      ],
      "metadata": {
        "id": "xz495GI5JCIi"
      }
    },
    {
      "cell_type": "code",
      "source": [
        "! pip install catboost"
      ],
      "metadata": {
        "id": "GzgeXQpQwGF3",
        "outputId": "0852686d-fa6e-460d-fbd5-6bd1a7eebb95",
        "colab": {
          "base_uri": "https://localhost:8080/"
        }
      },
      "execution_count": 19,
      "outputs": [
        {
          "output_type": "stream",
          "name": "stdout",
          "text": [
            "Collecting catboost\n",
            "  Downloading catboost-1.2.8-cp311-cp311-manylinux2014_x86_64.whl.metadata (1.2 kB)\n",
            "Requirement already satisfied: graphviz in /usr/local/lib/python3.11/dist-packages (from catboost) (0.20.3)\n",
            "Requirement already satisfied: matplotlib in /usr/local/lib/python3.11/dist-packages (from catboost) (3.10.0)\n",
            "Requirement already satisfied: numpy<3.0,>=1.16.0 in /usr/local/lib/python3.11/dist-packages (from catboost) (2.0.2)\n",
            "Requirement already satisfied: pandas>=0.24 in /usr/local/lib/python3.11/dist-packages (from catboost) (2.2.2)\n",
            "Requirement already satisfied: scipy in /usr/local/lib/python3.11/dist-packages (from catboost) (1.14.1)\n",
            "Requirement already satisfied: plotly in /usr/local/lib/python3.11/dist-packages (from catboost) (5.24.1)\n",
            "Requirement already satisfied: six in /usr/local/lib/python3.11/dist-packages (from catboost) (1.17.0)\n",
            "Requirement already satisfied: python-dateutil>=2.8.2 in /usr/local/lib/python3.11/dist-packages (from pandas>=0.24->catboost) (2.8.2)\n",
            "Requirement already satisfied: pytz>=2020.1 in /usr/local/lib/python3.11/dist-packages (from pandas>=0.24->catboost) (2025.2)\n",
            "Requirement already satisfied: tzdata>=2022.7 in /usr/local/lib/python3.11/dist-packages (from pandas>=0.24->catboost) (2025.2)\n",
            "Requirement already satisfied: contourpy>=1.0.1 in /usr/local/lib/python3.11/dist-packages (from matplotlib->catboost) (1.3.2)\n",
            "Requirement already satisfied: cycler>=0.10 in /usr/local/lib/python3.11/dist-packages (from matplotlib->catboost) (0.12.1)\n",
            "Requirement already satisfied: fonttools>=4.22.0 in /usr/local/lib/python3.11/dist-packages (from matplotlib->catboost) (4.57.0)\n",
            "Requirement already satisfied: kiwisolver>=1.3.1 in /usr/local/lib/python3.11/dist-packages (from matplotlib->catboost) (1.4.8)\n",
            "Requirement already satisfied: packaging>=20.0 in /usr/local/lib/python3.11/dist-packages (from matplotlib->catboost) (24.2)\n",
            "Requirement already satisfied: pillow>=8 in /usr/local/lib/python3.11/dist-packages (from matplotlib->catboost) (11.1.0)\n",
            "Requirement already satisfied: pyparsing>=2.3.1 in /usr/local/lib/python3.11/dist-packages (from matplotlib->catboost) (3.2.3)\n",
            "Requirement already satisfied: tenacity>=6.2.0 in /usr/local/lib/python3.11/dist-packages (from plotly->catboost) (9.1.2)\n",
            "Downloading catboost-1.2.8-cp311-cp311-manylinux2014_x86_64.whl (99.2 MB)\n",
            "\u001b[2K   \u001b[90m━━━━━━━━━━━━━━━━━━━━━━━━━━━━━━━━━━━━━━━━\u001b[0m \u001b[32m99.2/99.2 MB\u001b[0m \u001b[31m7.6 MB/s\u001b[0m eta \u001b[36m0:00:00\u001b[0m\n",
            "\u001b[?25hInstalling collected packages: catboost\n",
            "Successfully installed catboost-1.2.8\n"
          ]
        }
      ]
    },
    {
      "cell_type": "code",
      "source": [
        "train"
      ],
      "metadata": {
        "id": "apVm4soawbk2",
        "outputId": "d2cae270-8418-49c3-80e9-94deb2b7d04d",
        "colab": {
          "base_uri": "https://localhost:8080/",
          "height": 424
        }
      },
      "execution_count": 20,
      "outputs": [
        {
          "output_type": "execute_result",
          "data": {
            "text/plain": [
              "          model  year  price transmission  mileage fuelType  tax   mpg  \\\n",
              "5133         X6  2015  25000    Semi-Auto    26100   Diesel  205  45.6   \n",
              "2121         X2  2019  31980    Automatic     4804   Petrol  145  34.0   \n",
              "6576         X2  2018  22995    Semi-Auto    24136   Petrol  145  38.7   \n",
              "8330   3 Series  2016  12999       Manual    52224   Diesel  125  62.8   \n",
              "3161         X3  2019  32980    Semi-Auto     1961   Diesel  150  54.3   \n",
              "...         ...   ...    ...          ...      ...      ...  ...   ...   \n",
              "5734   3 Series  2018  17995    Semi-Auto    40456   Diesel  145  64.2   \n",
              "5191   1 Series  2016  19950    Semi-Auto    23210   Petrol  200  39.8   \n",
              "5390         X2  2019  25450    Semi-Auto     5652   Diesel  145  47.9   \n",
              "860          X1  2016  19850    Semi-Auto    14542   Diesel  125  60.1   \n",
              "7270   1 Series  2016  15745    Automatic    17237   Petrol  125  54.3   \n",
              "\n",
              "      engineSize  \n",
              "5133         3.0  \n",
              "2121         2.0  \n",
              "6576         2.0  \n",
              "8330         2.0  \n",
              "3161         2.0  \n",
              "...          ...  \n",
              "5734         2.0  \n",
              "5191         3.0  \n",
              "5390         2.0  \n",
              "860          2.0  \n",
              "7270         1.5  \n",
              "\n",
              "[6468 rows x 9 columns]"
            ],
            "text/html": [
              "\n",
              "  <div id=\"df-cbdd7ab6-0df8-4970-a8df-edb7057c7507\" class=\"colab-df-container\">\n",
              "    <div>\n",
              "<style scoped>\n",
              "    .dataframe tbody tr th:only-of-type {\n",
              "        vertical-align: middle;\n",
              "    }\n",
              "\n",
              "    .dataframe tbody tr th {\n",
              "        vertical-align: top;\n",
              "    }\n",
              "\n",
              "    .dataframe thead th {\n",
              "        text-align: right;\n",
              "    }\n",
              "</style>\n",
              "<table border=\"1\" class=\"dataframe\">\n",
              "  <thead>\n",
              "    <tr style=\"text-align: right;\">\n",
              "      <th></th>\n",
              "      <th>model</th>\n",
              "      <th>year</th>\n",
              "      <th>price</th>\n",
              "      <th>transmission</th>\n",
              "      <th>mileage</th>\n",
              "      <th>fuelType</th>\n",
              "      <th>tax</th>\n",
              "      <th>mpg</th>\n",
              "      <th>engineSize</th>\n",
              "    </tr>\n",
              "  </thead>\n",
              "  <tbody>\n",
              "    <tr>\n",
              "      <th>5133</th>\n",
              "      <td>X6</td>\n",
              "      <td>2015</td>\n",
              "      <td>25000</td>\n",
              "      <td>Semi-Auto</td>\n",
              "      <td>26100</td>\n",
              "      <td>Diesel</td>\n",
              "      <td>205</td>\n",
              "      <td>45.6</td>\n",
              "      <td>3.0</td>\n",
              "    </tr>\n",
              "    <tr>\n",
              "      <th>2121</th>\n",
              "      <td>X2</td>\n",
              "      <td>2019</td>\n",
              "      <td>31980</td>\n",
              "      <td>Automatic</td>\n",
              "      <td>4804</td>\n",
              "      <td>Petrol</td>\n",
              "      <td>145</td>\n",
              "      <td>34.0</td>\n",
              "      <td>2.0</td>\n",
              "    </tr>\n",
              "    <tr>\n",
              "      <th>6576</th>\n",
              "      <td>X2</td>\n",
              "      <td>2018</td>\n",
              "      <td>22995</td>\n",
              "      <td>Semi-Auto</td>\n",
              "      <td>24136</td>\n",
              "      <td>Petrol</td>\n",
              "      <td>145</td>\n",
              "      <td>38.7</td>\n",
              "      <td>2.0</td>\n",
              "    </tr>\n",
              "    <tr>\n",
              "      <th>8330</th>\n",
              "      <td>3 Series</td>\n",
              "      <td>2016</td>\n",
              "      <td>12999</td>\n",
              "      <td>Manual</td>\n",
              "      <td>52224</td>\n",
              "      <td>Diesel</td>\n",
              "      <td>125</td>\n",
              "      <td>62.8</td>\n",
              "      <td>2.0</td>\n",
              "    </tr>\n",
              "    <tr>\n",
              "      <th>3161</th>\n",
              "      <td>X3</td>\n",
              "      <td>2019</td>\n",
              "      <td>32980</td>\n",
              "      <td>Semi-Auto</td>\n",
              "      <td>1961</td>\n",
              "      <td>Diesel</td>\n",
              "      <td>150</td>\n",
              "      <td>54.3</td>\n",
              "      <td>2.0</td>\n",
              "    </tr>\n",
              "    <tr>\n",
              "      <th>...</th>\n",
              "      <td>...</td>\n",
              "      <td>...</td>\n",
              "      <td>...</td>\n",
              "      <td>...</td>\n",
              "      <td>...</td>\n",
              "      <td>...</td>\n",
              "      <td>...</td>\n",
              "      <td>...</td>\n",
              "      <td>...</td>\n",
              "    </tr>\n",
              "    <tr>\n",
              "      <th>5734</th>\n",
              "      <td>3 Series</td>\n",
              "      <td>2018</td>\n",
              "      <td>17995</td>\n",
              "      <td>Semi-Auto</td>\n",
              "      <td>40456</td>\n",
              "      <td>Diesel</td>\n",
              "      <td>145</td>\n",
              "      <td>64.2</td>\n",
              "      <td>2.0</td>\n",
              "    </tr>\n",
              "    <tr>\n",
              "      <th>5191</th>\n",
              "      <td>1 Series</td>\n",
              "      <td>2016</td>\n",
              "      <td>19950</td>\n",
              "      <td>Semi-Auto</td>\n",
              "      <td>23210</td>\n",
              "      <td>Petrol</td>\n",
              "      <td>200</td>\n",
              "      <td>39.8</td>\n",
              "      <td>3.0</td>\n",
              "    </tr>\n",
              "    <tr>\n",
              "      <th>5390</th>\n",
              "      <td>X2</td>\n",
              "      <td>2019</td>\n",
              "      <td>25450</td>\n",
              "      <td>Semi-Auto</td>\n",
              "      <td>5652</td>\n",
              "      <td>Diesel</td>\n",
              "      <td>145</td>\n",
              "      <td>47.9</td>\n",
              "      <td>2.0</td>\n",
              "    </tr>\n",
              "    <tr>\n",
              "      <th>860</th>\n",
              "      <td>X1</td>\n",
              "      <td>2016</td>\n",
              "      <td>19850</td>\n",
              "      <td>Semi-Auto</td>\n",
              "      <td>14542</td>\n",
              "      <td>Diesel</td>\n",
              "      <td>125</td>\n",
              "      <td>60.1</td>\n",
              "      <td>2.0</td>\n",
              "    </tr>\n",
              "    <tr>\n",
              "      <th>7270</th>\n",
              "      <td>1 Series</td>\n",
              "      <td>2016</td>\n",
              "      <td>15745</td>\n",
              "      <td>Automatic</td>\n",
              "      <td>17237</td>\n",
              "      <td>Petrol</td>\n",
              "      <td>125</td>\n",
              "      <td>54.3</td>\n",
              "      <td>1.5</td>\n",
              "    </tr>\n",
              "  </tbody>\n",
              "</table>\n",
              "<p>6468 rows × 9 columns</p>\n",
              "</div>\n",
              "    <div class=\"colab-df-buttons\">\n",
              "\n",
              "  <div class=\"colab-df-container\">\n",
              "    <button class=\"colab-df-convert\" onclick=\"convertToInteractive('df-cbdd7ab6-0df8-4970-a8df-edb7057c7507')\"\n",
              "            title=\"Convert this dataframe to an interactive table.\"\n",
              "            style=\"display:none;\">\n",
              "\n",
              "  <svg xmlns=\"http://www.w3.org/2000/svg\" height=\"24px\" viewBox=\"0 -960 960 960\">\n",
              "    <path d=\"M120-120v-720h720v720H120Zm60-500h600v-160H180v160Zm220 220h160v-160H400v160Zm0 220h160v-160H400v160ZM180-400h160v-160H180v160Zm440 0h160v-160H620v160ZM180-180h160v-160H180v160Zm440 0h160v-160H620v160Z\"/>\n",
              "  </svg>\n",
              "    </button>\n",
              "\n",
              "  <style>\n",
              "    .colab-df-container {\n",
              "      display:flex;\n",
              "      gap: 12px;\n",
              "    }\n",
              "\n",
              "    .colab-df-convert {\n",
              "      background-color: #E8F0FE;\n",
              "      border: none;\n",
              "      border-radius: 50%;\n",
              "      cursor: pointer;\n",
              "      display: none;\n",
              "      fill: #1967D2;\n",
              "      height: 32px;\n",
              "      padding: 0 0 0 0;\n",
              "      width: 32px;\n",
              "    }\n",
              "\n",
              "    .colab-df-convert:hover {\n",
              "      background-color: #E2EBFA;\n",
              "      box-shadow: 0px 1px 2px rgba(60, 64, 67, 0.3), 0px 1px 3px 1px rgba(60, 64, 67, 0.15);\n",
              "      fill: #174EA6;\n",
              "    }\n",
              "\n",
              "    .colab-df-buttons div {\n",
              "      margin-bottom: 4px;\n",
              "    }\n",
              "\n",
              "    [theme=dark] .colab-df-convert {\n",
              "      background-color: #3B4455;\n",
              "      fill: #D2E3FC;\n",
              "    }\n",
              "\n",
              "    [theme=dark] .colab-df-convert:hover {\n",
              "      background-color: #434B5C;\n",
              "      box-shadow: 0px 1px 3px 1px rgba(0, 0, 0, 0.15);\n",
              "      filter: drop-shadow(0px 1px 2px rgba(0, 0, 0, 0.3));\n",
              "      fill: #FFFFFF;\n",
              "    }\n",
              "  </style>\n",
              "\n",
              "    <script>\n",
              "      const buttonEl =\n",
              "        document.querySelector('#df-cbdd7ab6-0df8-4970-a8df-edb7057c7507 button.colab-df-convert');\n",
              "      buttonEl.style.display =\n",
              "        google.colab.kernel.accessAllowed ? 'block' : 'none';\n",
              "\n",
              "      async function convertToInteractive(key) {\n",
              "        const element = document.querySelector('#df-cbdd7ab6-0df8-4970-a8df-edb7057c7507');\n",
              "        const dataTable =\n",
              "          await google.colab.kernel.invokeFunction('convertToInteractive',\n",
              "                                                    [key], {});\n",
              "        if (!dataTable) return;\n",
              "\n",
              "        const docLinkHtml = 'Like what you see? Visit the ' +\n",
              "          '<a target=\"_blank\" href=https://colab.research.google.com/notebooks/data_table.ipynb>data table notebook</a>'\n",
              "          + ' to learn more about interactive tables.';\n",
              "        element.innerHTML = '';\n",
              "        dataTable['output_type'] = 'display_data';\n",
              "        await google.colab.output.renderOutput(dataTable, element);\n",
              "        const docLink = document.createElement('div');\n",
              "        docLink.innerHTML = docLinkHtml;\n",
              "        element.appendChild(docLink);\n",
              "      }\n",
              "    </script>\n",
              "  </div>\n",
              "\n",
              "\n",
              "<div id=\"df-d82b9752-7a75-408d-8fc5-1de2dd01f0f4\">\n",
              "  <button class=\"colab-df-quickchart\" onclick=\"quickchart('df-d82b9752-7a75-408d-8fc5-1de2dd01f0f4')\"\n",
              "            title=\"Suggest charts\"\n",
              "            style=\"display:none;\">\n",
              "\n",
              "<svg xmlns=\"http://www.w3.org/2000/svg\" height=\"24px\"viewBox=\"0 0 24 24\"\n",
              "     width=\"24px\">\n",
              "    <g>\n",
              "        <path d=\"M19 3H5c-1.1 0-2 .9-2 2v14c0 1.1.9 2 2 2h14c1.1 0 2-.9 2-2V5c0-1.1-.9-2-2-2zM9 17H7v-7h2v7zm4 0h-2V7h2v10zm4 0h-2v-4h2v4z\"/>\n",
              "    </g>\n",
              "</svg>\n",
              "  </button>\n",
              "\n",
              "<style>\n",
              "  .colab-df-quickchart {\n",
              "      --bg-color: #E8F0FE;\n",
              "      --fill-color: #1967D2;\n",
              "      --hover-bg-color: #E2EBFA;\n",
              "      --hover-fill-color: #174EA6;\n",
              "      --disabled-fill-color: #AAA;\n",
              "      --disabled-bg-color: #DDD;\n",
              "  }\n",
              "\n",
              "  [theme=dark] .colab-df-quickchart {\n",
              "      --bg-color: #3B4455;\n",
              "      --fill-color: #D2E3FC;\n",
              "      --hover-bg-color: #434B5C;\n",
              "      --hover-fill-color: #FFFFFF;\n",
              "      --disabled-bg-color: #3B4455;\n",
              "      --disabled-fill-color: #666;\n",
              "  }\n",
              "\n",
              "  .colab-df-quickchart {\n",
              "    background-color: var(--bg-color);\n",
              "    border: none;\n",
              "    border-radius: 50%;\n",
              "    cursor: pointer;\n",
              "    display: none;\n",
              "    fill: var(--fill-color);\n",
              "    height: 32px;\n",
              "    padding: 0;\n",
              "    width: 32px;\n",
              "  }\n",
              "\n",
              "  .colab-df-quickchart:hover {\n",
              "    background-color: var(--hover-bg-color);\n",
              "    box-shadow: 0 1px 2px rgba(60, 64, 67, 0.3), 0 1px 3px 1px rgba(60, 64, 67, 0.15);\n",
              "    fill: var(--button-hover-fill-color);\n",
              "  }\n",
              "\n",
              "  .colab-df-quickchart-complete:disabled,\n",
              "  .colab-df-quickchart-complete:disabled:hover {\n",
              "    background-color: var(--disabled-bg-color);\n",
              "    fill: var(--disabled-fill-color);\n",
              "    box-shadow: none;\n",
              "  }\n",
              "\n",
              "  .colab-df-spinner {\n",
              "    border: 2px solid var(--fill-color);\n",
              "    border-color: transparent;\n",
              "    border-bottom-color: var(--fill-color);\n",
              "    animation:\n",
              "      spin 1s steps(1) infinite;\n",
              "  }\n",
              "\n",
              "  @keyframes spin {\n",
              "    0% {\n",
              "      border-color: transparent;\n",
              "      border-bottom-color: var(--fill-color);\n",
              "      border-left-color: var(--fill-color);\n",
              "    }\n",
              "    20% {\n",
              "      border-color: transparent;\n",
              "      border-left-color: var(--fill-color);\n",
              "      border-top-color: var(--fill-color);\n",
              "    }\n",
              "    30% {\n",
              "      border-color: transparent;\n",
              "      border-left-color: var(--fill-color);\n",
              "      border-top-color: var(--fill-color);\n",
              "      border-right-color: var(--fill-color);\n",
              "    }\n",
              "    40% {\n",
              "      border-color: transparent;\n",
              "      border-right-color: var(--fill-color);\n",
              "      border-top-color: var(--fill-color);\n",
              "    }\n",
              "    60% {\n",
              "      border-color: transparent;\n",
              "      border-right-color: var(--fill-color);\n",
              "    }\n",
              "    80% {\n",
              "      border-color: transparent;\n",
              "      border-right-color: var(--fill-color);\n",
              "      border-bottom-color: var(--fill-color);\n",
              "    }\n",
              "    90% {\n",
              "      border-color: transparent;\n",
              "      border-bottom-color: var(--fill-color);\n",
              "    }\n",
              "  }\n",
              "</style>\n",
              "\n",
              "  <script>\n",
              "    async function quickchart(key) {\n",
              "      const quickchartButtonEl =\n",
              "        document.querySelector('#' + key + ' button');\n",
              "      quickchartButtonEl.disabled = true;  // To prevent multiple clicks.\n",
              "      quickchartButtonEl.classList.add('colab-df-spinner');\n",
              "      try {\n",
              "        const charts = await google.colab.kernel.invokeFunction(\n",
              "            'suggestCharts', [key], {});\n",
              "      } catch (error) {\n",
              "        console.error('Error during call to suggestCharts:', error);\n",
              "      }\n",
              "      quickchartButtonEl.classList.remove('colab-df-spinner');\n",
              "      quickchartButtonEl.classList.add('colab-df-quickchart-complete');\n",
              "    }\n",
              "    (() => {\n",
              "      let quickchartButtonEl =\n",
              "        document.querySelector('#df-d82b9752-7a75-408d-8fc5-1de2dd01f0f4 button');\n",
              "      quickchartButtonEl.style.display =\n",
              "        google.colab.kernel.accessAllowed ? 'block' : 'none';\n",
              "    })();\n",
              "  </script>\n",
              "</div>\n",
              "    </div>\n",
              "  </div>\n"
            ],
            "application/vnd.google.colaboratory.intrinsic+json": {
              "type": "dataframe",
              "variable_name": "train",
              "summary": "{\n  \"name\": \"train\",\n  \"rows\": 6468,\n  \"fields\": [\n    {\n      \"column\": \"model\",\n      \"properties\": {\n        \"dtype\": \"category\",\n        \"num_unique_values\": 24,\n        \"samples\": [\n          \" 5 Series\",\n          \" 8 Series\",\n          \" X6\"\n        ],\n        \"semantic_type\": \"\",\n        \"description\": \"\"\n      }\n    },\n    {\n      \"column\": \"year\",\n      \"properties\": {\n        \"dtype\": \"number\",\n        \"std\": 2,\n        \"min\": 1997,\n        \"max\": 2020,\n        \"num_unique_values\": 23,\n        \"samples\": [\n          2004,\n          2013,\n          2015\n        ],\n        \"semantic_type\": \"\",\n        \"description\": \"\"\n      }\n    },\n    {\n      \"column\": \"price\",\n      \"properties\": {\n        \"dtype\": \"number\",\n        \"std\": 11591,\n        \"min\": 1445,\n        \"max\": 123456,\n        \"num_unique_values\": 2685,\n        \"samples\": [\n          17988,\n          18759,\n          18402\n        ],\n        \"semantic_type\": \"\",\n        \"description\": \"\"\n      }\n    },\n    {\n      \"column\": \"transmission\",\n      \"properties\": {\n        \"dtype\": \"category\",\n        \"num_unique_values\": 3,\n        \"samples\": [\n          \"Semi-Auto\",\n          \"Automatic\",\n          \"Manual\"\n        ],\n        \"semantic_type\": \"\",\n        \"description\": \"\"\n      }\n    },\n    {\n      \"column\": \"mileage\",\n      \"properties\": {\n        \"dtype\": \"number\",\n        \"std\": 25138,\n        \"min\": 4,\n        \"max\": 214000,\n        \"num_unique_values\": 5075,\n        \"samples\": [\n          980,\n          18404,\n          17988\n        ],\n        \"semantic_type\": \"\",\n        \"description\": \"\"\n      }\n    },\n    {\n      \"column\": \"fuelType\",\n      \"properties\": {\n        \"dtype\": \"category\",\n        \"num_unique_values\": 5,\n        \"samples\": [\n          \"Petrol\",\n          \"Other\",\n          \"Hybrid\"\n        ],\n        \"semantic_type\": \"\",\n        \"description\": \"\"\n      }\n    },\n    {\n      \"column\": \"tax\",\n      \"properties\": {\n        \"dtype\": \"number\",\n        \"std\": 60,\n        \"min\": 0,\n        \"max\": 580,\n        \"num_unique_values\": 36,\n        \"samples\": [\n          245,\n          135,\n          580\n        ],\n        \"semantic_type\": \"\",\n        \"description\": \"\"\n      }\n    },\n    {\n      \"column\": \"mpg\",\n      \"properties\": {\n        \"dtype\": \"number\",\n        \"std\": 31.196889728179734,\n        \"min\": 5.5,\n        \"max\": 470.8,\n        \"num_unique_values\": 97,\n        \"samples\": [\n          188.3,\n          46.3,\n          23.3\n        ],\n        \"semantic_type\": \"\",\n        \"description\": \"\"\n      }\n    },\n    {\n      \"column\": \"engineSize\",\n      \"properties\": {\n        \"dtype\": \"number\",\n        \"std\": 0.5495052664715686,\n        \"min\": 0.0,\n        \"max\": 6.6,\n        \"num_unique_values\": 16,\n        \"samples\": [\n          3.0,\n          2.0,\n          0.0\n        ],\n        \"semantic_type\": \"\",\n        \"description\": \"\"\n      }\n    }\n  ]\n}"
            }
          },
          "metadata": {},
          "execution_count": 20
        }
      ]
    },
    {
      "cell_type": "code",
      "source": [
        "from catboost import CatBoostRegressor"
      ],
      "metadata": {
        "id": "4T0BZb1RwlkE"
      },
      "execution_count": 21,
      "outputs": []
    },
    {
      "cell_type": "code",
      "source": [
        "X = ['year', 'transmission', 'engineSize']\n",
        "\n",
        "cat_features = ['transmission']\n",
        "\n",
        "y = ['price']"
      ],
      "metadata": {
        "id": "WTgzSKBJw3Yv"
      },
      "execution_count": 22,
      "outputs": []
    },
    {
      "cell_type": "code",
      "source": [
        "model = CatBoostRegressor(cat_features=cat_features,\n",
        "                          eval_metric='MAPE',\n",
        "                          random_seed=42,\n",
        "                          verbose=100)"
      ],
      "metadata": {
        "id": "tpCDMNb_xKQe"
      },
      "execution_count": 23,
      "outputs": []
    },
    {
      "cell_type": "code",
      "source": [
        "model.fit(train[X],train[y],eval_set=(val[X],val[y]) )"
      ],
      "metadata": {
        "id": "Lhm2b9B8xuXt",
        "outputId": "acae2745-1866-46a6-b546-00b8ad294725",
        "colab": {
          "base_uri": "https://localhost:8080/"
        }
      },
      "execution_count": 24,
      "outputs": [
        {
          "output_type": "stream",
          "name": "stdout",
          "text": [
            "Learning rate set to 0.068263\n",
            "0:\tlearn: 0.4603375\ttest: 0.4555509\tbest: 0.4555509 (0)\ttotal: 49.7ms\tremaining: 49.7s\n",
            "100:\tlearn: 0.1546393\ttest: 0.1529687\tbest: 0.1529687 (100)\ttotal: 301ms\tremaining: 2.68s\n",
            "200:\tlearn: 0.1528213\ttest: 0.1517332\tbest: 0.1517332 (200)\ttotal: 532ms\tremaining: 2.12s\n",
            "300:\tlearn: 0.1517532\ttest: 0.1514386\tbest: 0.1514000 (288)\ttotal: 885ms\tremaining: 2.05s\n",
            "400:\tlearn: 0.1509722\ttest: 0.1515508\tbest: 0.1514000 (288)\ttotal: 1.21s\tremaining: 1.81s\n",
            "500:\tlearn: 0.1502967\ttest: 0.1516166\tbest: 0.1514000 (288)\ttotal: 1.69s\tremaining: 1.68s\n",
            "600:\tlearn: 0.1499412\ttest: 0.1516849\tbest: 0.1514000 (288)\ttotal: 1.95s\tremaining: 1.29s\n",
            "700:\tlearn: 0.1494768\ttest: 0.1516928\tbest: 0.1514000 (288)\ttotal: 2.21s\tremaining: 942ms\n",
            "800:\tlearn: 0.1490851\ttest: 0.1518297\tbest: 0.1514000 (288)\ttotal: 2.82s\tremaining: 701ms\n",
            "900:\tlearn: 0.1487173\ttest: 0.1519119\tbest: 0.1514000 (288)\ttotal: 3.63s\tremaining: 399ms\n",
            "999:\tlearn: 0.1483869\ttest: 0.1519628\tbest: 0.1514000 (288)\ttotal: 4.5s\tremaining: 0us\n",
            "\n",
            "bestTest = 0.1514000297\n",
            "bestIteration = 288\n",
            "\n",
            "Shrink model to first 289 iterations.\n"
          ]
        },
        {
          "output_type": "execute_result",
          "data": {
            "text/plain": [
              "<catboost.core.CatBoostRegressor at 0x7ca88c702290>"
            ]
          },
          "metadata": {},
          "execution_count": 24
        }
      ]
    },
    {
      "cell_type": "code",
      "source": [
        "model.predict(test[X])"
      ],
      "metadata": {
        "id": "zluPEATEyM71",
        "outputId": "7ec963ad-b178-43b4-a8d2-49f7f6ee8109",
        "colab": {
          "base_uri": "https://localhost:8080/"
        }
      },
      "execution_count": 25,
      "outputs": [
        {
          "output_type": "execute_result",
          "data": {
            "text/plain": [
              "array([45436.28801924, 21738.83525716, 16205.32627896, ...,\n",
              "       28444.11570854, 16205.32627896, 27824.78614511])"
            ]
          },
          "metadata": {},
          "execution_count": 25
        }
      ]
    },
    {
      "cell_type": "code",
      "source": [
        "test['price_pred'] = model.predict(test[X])"
      ],
      "metadata": {
        "id": "Yh5HwTt4yjHH"
      },
      "execution_count": 26,
      "outputs": []
    },
    {
      "cell_type": "code",
      "source": [
        "test"
      ],
      "metadata": {
        "id": "uphZmJ2ayrjK",
        "outputId": "477506f8-9dd5-4d60-f7a9-16303d295691",
        "colab": {
          "base_uri": "https://localhost:8080/",
          "height": 424
        }
      },
      "execution_count": 27,
      "outputs": [
        {
          "output_type": "execute_result",
          "data": {
            "text/plain": [
              "          model  year  price transmission  mileage fuelType  tax    mpg  \\\n",
              "4984         X6  2019  52990    Semi-Auto     3086   Diesel  145   34.9   \n",
              "4880         X1  2018  24081    Semi-Auto    13245   Diesel  150   60.1   \n",
              "9132   1 Series  2016  12999    Automatic    68949   Petrol  200   43.5   \n",
              "6451   1 Series  2020  11995    Semi-Auto       10   Petrol  150   34.5   \n",
              "7199   3 Series  2020  29875    Semi-Auto      150   Petrol  145   42.2   \n",
              "...         ...   ...    ...          ...      ...      ...  ...    ...   \n",
              "9627   3 Series  2015  14999    Automatic    78680   Diesel  160   52.3   \n",
              "6096   4 Series  2019  29676    Automatic     7365   Petrol  145   41.5   \n",
              "1747   5 Series  2019  30570    Automatic     3067   Hybrid  145   49.6   \n",
              "4023   3 Series  2016  14999    Automatic    70054   Hybrid    0  148.7   \n",
              "4372   2 Series  2019  24590    Semi-Auto     3300   Diesel  145   48.7   \n",
              "\n",
              "      engineSize    price_pred  \n",
              "4984         3.0  45436.288019  \n",
              "4880         2.0  21738.835257  \n",
              "9132         2.0  16205.326279  \n",
              "6451         2.0  32088.707415  \n",
              "7199         2.0  32088.707415  \n",
              "...          ...           ...  \n",
              "9627         3.0  19357.530409  \n",
              "6096         3.0  44808.449332  \n",
              "1747         2.0  28444.115709  \n",
              "4023         2.0  16205.326279  \n",
              "4372         2.0  27824.786145  \n",
              "\n",
              "[2157 rows x 10 columns]"
            ],
            "text/html": [
              "\n",
              "  <div id=\"df-e74a5be4-5a4c-4dad-84e6-1b94f0ed5db1\" class=\"colab-df-container\">\n",
              "    <div>\n",
              "<style scoped>\n",
              "    .dataframe tbody tr th:only-of-type {\n",
              "        vertical-align: middle;\n",
              "    }\n",
              "\n",
              "    .dataframe tbody tr th {\n",
              "        vertical-align: top;\n",
              "    }\n",
              "\n",
              "    .dataframe thead th {\n",
              "        text-align: right;\n",
              "    }\n",
              "</style>\n",
              "<table border=\"1\" class=\"dataframe\">\n",
              "  <thead>\n",
              "    <tr style=\"text-align: right;\">\n",
              "      <th></th>\n",
              "      <th>model</th>\n",
              "      <th>year</th>\n",
              "      <th>price</th>\n",
              "      <th>transmission</th>\n",
              "      <th>mileage</th>\n",
              "      <th>fuelType</th>\n",
              "      <th>tax</th>\n",
              "      <th>mpg</th>\n",
              "      <th>engineSize</th>\n",
              "      <th>price_pred</th>\n",
              "    </tr>\n",
              "  </thead>\n",
              "  <tbody>\n",
              "    <tr>\n",
              "      <th>4984</th>\n",
              "      <td>X6</td>\n",
              "      <td>2019</td>\n",
              "      <td>52990</td>\n",
              "      <td>Semi-Auto</td>\n",
              "      <td>3086</td>\n",
              "      <td>Diesel</td>\n",
              "      <td>145</td>\n",
              "      <td>34.9</td>\n",
              "      <td>3.0</td>\n",
              "      <td>45436.288019</td>\n",
              "    </tr>\n",
              "    <tr>\n",
              "      <th>4880</th>\n",
              "      <td>X1</td>\n",
              "      <td>2018</td>\n",
              "      <td>24081</td>\n",
              "      <td>Semi-Auto</td>\n",
              "      <td>13245</td>\n",
              "      <td>Diesel</td>\n",
              "      <td>150</td>\n",
              "      <td>60.1</td>\n",
              "      <td>2.0</td>\n",
              "      <td>21738.835257</td>\n",
              "    </tr>\n",
              "    <tr>\n",
              "      <th>9132</th>\n",
              "      <td>1 Series</td>\n",
              "      <td>2016</td>\n",
              "      <td>12999</td>\n",
              "      <td>Automatic</td>\n",
              "      <td>68949</td>\n",
              "      <td>Petrol</td>\n",
              "      <td>200</td>\n",
              "      <td>43.5</td>\n",
              "      <td>2.0</td>\n",
              "      <td>16205.326279</td>\n",
              "    </tr>\n",
              "    <tr>\n",
              "      <th>6451</th>\n",
              "      <td>1 Series</td>\n",
              "      <td>2020</td>\n",
              "      <td>11995</td>\n",
              "      <td>Semi-Auto</td>\n",
              "      <td>10</td>\n",
              "      <td>Petrol</td>\n",
              "      <td>150</td>\n",
              "      <td>34.5</td>\n",
              "      <td>2.0</td>\n",
              "      <td>32088.707415</td>\n",
              "    </tr>\n",
              "    <tr>\n",
              "      <th>7199</th>\n",
              "      <td>3 Series</td>\n",
              "      <td>2020</td>\n",
              "      <td>29875</td>\n",
              "      <td>Semi-Auto</td>\n",
              "      <td>150</td>\n",
              "      <td>Petrol</td>\n",
              "      <td>145</td>\n",
              "      <td>42.2</td>\n",
              "      <td>2.0</td>\n",
              "      <td>32088.707415</td>\n",
              "    </tr>\n",
              "    <tr>\n",
              "      <th>...</th>\n",
              "      <td>...</td>\n",
              "      <td>...</td>\n",
              "      <td>...</td>\n",
              "      <td>...</td>\n",
              "      <td>...</td>\n",
              "      <td>...</td>\n",
              "      <td>...</td>\n",
              "      <td>...</td>\n",
              "      <td>...</td>\n",
              "      <td>...</td>\n",
              "    </tr>\n",
              "    <tr>\n",
              "      <th>9627</th>\n",
              "      <td>3 Series</td>\n",
              "      <td>2015</td>\n",
              "      <td>14999</td>\n",
              "      <td>Automatic</td>\n",
              "      <td>78680</td>\n",
              "      <td>Diesel</td>\n",
              "      <td>160</td>\n",
              "      <td>52.3</td>\n",
              "      <td>3.0</td>\n",
              "      <td>19357.530409</td>\n",
              "    </tr>\n",
              "    <tr>\n",
              "      <th>6096</th>\n",
              "      <td>4 Series</td>\n",
              "      <td>2019</td>\n",
              "      <td>29676</td>\n",
              "      <td>Automatic</td>\n",
              "      <td>7365</td>\n",
              "      <td>Petrol</td>\n",
              "      <td>145</td>\n",
              "      <td>41.5</td>\n",
              "      <td>3.0</td>\n",
              "      <td>44808.449332</td>\n",
              "    </tr>\n",
              "    <tr>\n",
              "      <th>1747</th>\n",
              "      <td>5 Series</td>\n",
              "      <td>2019</td>\n",
              "      <td>30570</td>\n",
              "      <td>Automatic</td>\n",
              "      <td>3067</td>\n",
              "      <td>Hybrid</td>\n",
              "      <td>145</td>\n",
              "      <td>49.6</td>\n",
              "      <td>2.0</td>\n",
              "      <td>28444.115709</td>\n",
              "    </tr>\n",
              "    <tr>\n",
              "      <th>4023</th>\n",
              "      <td>3 Series</td>\n",
              "      <td>2016</td>\n",
              "      <td>14999</td>\n",
              "      <td>Automatic</td>\n",
              "      <td>70054</td>\n",
              "      <td>Hybrid</td>\n",
              "      <td>0</td>\n",
              "      <td>148.7</td>\n",
              "      <td>2.0</td>\n",
              "      <td>16205.326279</td>\n",
              "    </tr>\n",
              "    <tr>\n",
              "      <th>4372</th>\n",
              "      <td>2 Series</td>\n",
              "      <td>2019</td>\n",
              "      <td>24590</td>\n",
              "      <td>Semi-Auto</td>\n",
              "      <td>3300</td>\n",
              "      <td>Diesel</td>\n",
              "      <td>145</td>\n",
              "      <td>48.7</td>\n",
              "      <td>2.0</td>\n",
              "      <td>27824.786145</td>\n",
              "    </tr>\n",
              "  </tbody>\n",
              "</table>\n",
              "<p>2157 rows × 10 columns</p>\n",
              "</div>\n",
              "    <div class=\"colab-df-buttons\">\n",
              "\n",
              "  <div class=\"colab-df-container\">\n",
              "    <button class=\"colab-df-convert\" onclick=\"convertToInteractive('df-e74a5be4-5a4c-4dad-84e6-1b94f0ed5db1')\"\n",
              "            title=\"Convert this dataframe to an interactive table.\"\n",
              "            style=\"display:none;\">\n",
              "\n",
              "  <svg xmlns=\"http://www.w3.org/2000/svg\" height=\"24px\" viewBox=\"0 -960 960 960\">\n",
              "    <path d=\"M120-120v-720h720v720H120Zm60-500h600v-160H180v160Zm220 220h160v-160H400v160Zm0 220h160v-160H400v160ZM180-400h160v-160H180v160Zm440 0h160v-160H620v160ZM180-180h160v-160H180v160Zm440 0h160v-160H620v160Z\"/>\n",
              "  </svg>\n",
              "    </button>\n",
              "\n",
              "  <style>\n",
              "    .colab-df-container {\n",
              "      display:flex;\n",
              "      gap: 12px;\n",
              "    }\n",
              "\n",
              "    .colab-df-convert {\n",
              "      background-color: #E8F0FE;\n",
              "      border: none;\n",
              "      border-radius: 50%;\n",
              "      cursor: pointer;\n",
              "      display: none;\n",
              "      fill: #1967D2;\n",
              "      height: 32px;\n",
              "      padding: 0 0 0 0;\n",
              "      width: 32px;\n",
              "    }\n",
              "\n",
              "    .colab-df-convert:hover {\n",
              "      background-color: #E2EBFA;\n",
              "      box-shadow: 0px 1px 2px rgba(60, 64, 67, 0.3), 0px 1px 3px 1px rgba(60, 64, 67, 0.15);\n",
              "      fill: #174EA6;\n",
              "    }\n",
              "\n",
              "    .colab-df-buttons div {\n",
              "      margin-bottom: 4px;\n",
              "    }\n",
              "\n",
              "    [theme=dark] .colab-df-convert {\n",
              "      background-color: #3B4455;\n",
              "      fill: #D2E3FC;\n",
              "    }\n",
              "\n",
              "    [theme=dark] .colab-df-convert:hover {\n",
              "      background-color: #434B5C;\n",
              "      box-shadow: 0px 1px 3px 1px rgba(0, 0, 0, 0.15);\n",
              "      filter: drop-shadow(0px 1px 2px rgba(0, 0, 0, 0.3));\n",
              "      fill: #FFFFFF;\n",
              "    }\n",
              "  </style>\n",
              "\n",
              "    <script>\n",
              "      const buttonEl =\n",
              "        document.querySelector('#df-e74a5be4-5a4c-4dad-84e6-1b94f0ed5db1 button.colab-df-convert');\n",
              "      buttonEl.style.display =\n",
              "        google.colab.kernel.accessAllowed ? 'block' : 'none';\n",
              "\n",
              "      async function convertToInteractive(key) {\n",
              "        const element = document.querySelector('#df-e74a5be4-5a4c-4dad-84e6-1b94f0ed5db1');\n",
              "        const dataTable =\n",
              "          await google.colab.kernel.invokeFunction('convertToInteractive',\n",
              "                                                    [key], {});\n",
              "        if (!dataTable) return;\n",
              "\n",
              "        const docLinkHtml = 'Like what you see? Visit the ' +\n",
              "          '<a target=\"_blank\" href=https://colab.research.google.com/notebooks/data_table.ipynb>data table notebook</a>'\n",
              "          + ' to learn more about interactive tables.';\n",
              "        element.innerHTML = '';\n",
              "        dataTable['output_type'] = 'display_data';\n",
              "        await google.colab.output.renderOutput(dataTable, element);\n",
              "        const docLink = document.createElement('div');\n",
              "        docLink.innerHTML = docLinkHtml;\n",
              "        element.appendChild(docLink);\n",
              "      }\n",
              "    </script>\n",
              "  </div>\n",
              "\n",
              "\n",
              "<div id=\"df-d4fc3fc3-2ecc-4fc5-8490-eb63d1a49b82\">\n",
              "  <button class=\"colab-df-quickchart\" onclick=\"quickchart('df-d4fc3fc3-2ecc-4fc5-8490-eb63d1a49b82')\"\n",
              "            title=\"Suggest charts\"\n",
              "            style=\"display:none;\">\n",
              "\n",
              "<svg xmlns=\"http://www.w3.org/2000/svg\" height=\"24px\"viewBox=\"0 0 24 24\"\n",
              "     width=\"24px\">\n",
              "    <g>\n",
              "        <path d=\"M19 3H5c-1.1 0-2 .9-2 2v14c0 1.1.9 2 2 2h14c1.1 0 2-.9 2-2V5c0-1.1-.9-2-2-2zM9 17H7v-7h2v7zm4 0h-2V7h2v10zm4 0h-2v-4h2v4z\"/>\n",
              "    </g>\n",
              "</svg>\n",
              "  </button>\n",
              "\n",
              "<style>\n",
              "  .colab-df-quickchart {\n",
              "      --bg-color: #E8F0FE;\n",
              "      --fill-color: #1967D2;\n",
              "      --hover-bg-color: #E2EBFA;\n",
              "      --hover-fill-color: #174EA6;\n",
              "      --disabled-fill-color: #AAA;\n",
              "      --disabled-bg-color: #DDD;\n",
              "  }\n",
              "\n",
              "  [theme=dark] .colab-df-quickchart {\n",
              "      --bg-color: #3B4455;\n",
              "      --fill-color: #D2E3FC;\n",
              "      --hover-bg-color: #434B5C;\n",
              "      --hover-fill-color: #FFFFFF;\n",
              "      --disabled-bg-color: #3B4455;\n",
              "      --disabled-fill-color: #666;\n",
              "  }\n",
              "\n",
              "  .colab-df-quickchart {\n",
              "    background-color: var(--bg-color);\n",
              "    border: none;\n",
              "    border-radius: 50%;\n",
              "    cursor: pointer;\n",
              "    display: none;\n",
              "    fill: var(--fill-color);\n",
              "    height: 32px;\n",
              "    padding: 0;\n",
              "    width: 32px;\n",
              "  }\n",
              "\n",
              "  .colab-df-quickchart:hover {\n",
              "    background-color: var(--hover-bg-color);\n",
              "    box-shadow: 0 1px 2px rgba(60, 64, 67, 0.3), 0 1px 3px 1px rgba(60, 64, 67, 0.15);\n",
              "    fill: var(--button-hover-fill-color);\n",
              "  }\n",
              "\n",
              "  .colab-df-quickchart-complete:disabled,\n",
              "  .colab-df-quickchart-complete:disabled:hover {\n",
              "    background-color: var(--disabled-bg-color);\n",
              "    fill: var(--disabled-fill-color);\n",
              "    box-shadow: none;\n",
              "  }\n",
              "\n",
              "  .colab-df-spinner {\n",
              "    border: 2px solid var(--fill-color);\n",
              "    border-color: transparent;\n",
              "    border-bottom-color: var(--fill-color);\n",
              "    animation:\n",
              "      spin 1s steps(1) infinite;\n",
              "  }\n",
              "\n",
              "  @keyframes spin {\n",
              "    0% {\n",
              "      border-color: transparent;\n",
              "      border-bottom-color: var(--fill-color);\n",
              "      border-left-color: var(--fill-color);\n",
              "    }\n",
              "    20% {\n",
              "      border-color: transparent;\n",
              "      border-left-color: var(--fill-color);\n",
              "      border-top-color: var(--fill-color);\n",
              "    }\n",
              "    30% {\n",
              "      border-color: transparent;\n",
              "      border-left-color: var(--fill-color);\n",
              "      border-top-color: var(--fill-color);\n",
              "      border-right-color: var(--fill-color);\n",
              "    }\n",
              "    40% {\n",
              "      border-color: transparent;\n",
              "      border-right-color: var(--fill-color);\n",
              "      border-top-color: var(--fill-color);\n",
              "    }\n",
              "    60% {\n",
              "      border-color: transparent;\n",
              "      border-right-color: var(--fill-color);\n",
              "    }\n",
              "    80% {\n",
              "      border-color: transparent;\n",
              "      border-right-color: var(--fill-color);\n",
              "      border-bottom-color: var(--fill-color);\n",
              "    }\n",
              "    90% {\n",
              "      border-color: transparent;\n",
              "      border-bottom-color: var(--fill-color);\n",
              "    }\n",
              "  }\n",
              "</style>\n",
              "\n",
              "  <script>\n",
              "    async function quickchart(key) {\n",
              "      const quickchartButtonEl =\n",
              "        document.querySelector('#' + key + ' button');\n",
              "      quickchartButtonEl.disabled = true;  // To prevent multiple clicks.\n",
              "      quickchartButtonEl.classList.add('colab-df-spinner');\n",
              "      try {\n",
              "        const charts = await google.colab.kernel.invokeFunction(\n",
              "            'suggestCharts', [key], {});\n",
              "      } catch (error) {\n",
              "        console.error('Error during call to suggestCharts:', error);\n",
              "      }\n",
              "      quickchartButtonEl.classList.remove('colab-df-spinner');\n",
              "      quickchartButtonEl.classList.add('colab-df-quickchart-complete');\n",
              "    }\n",
              "    (() => {\n",
              "      let quickchartButtonEl =\n",
              "        document.querySelector('#df-d4fc3fc3-2ecc-4fc5-8490-eb63d1a49b82 button');\n",
              "      quickchartButtonEl.style.display =\n",
              "        google.colab.kernel.accessAllowed ? 'block' : 'none';\n",
              "    })();\n",
              "  </script>\n",
              "</div>\n",
              "    </div>\n",
              "  </div>\n"
            ],
            "application/vnd.google.colaboratory.intrinsic+json": {
              "type": "dataframe",
              "variable_name": "test",
              "summary": "{\n  \"name\": \"test\",\n  \"rows\": 2157,\n  \"fields\": [\n    {\n      \"column\": \"model\",\n      \"properties\": {\n        \"dtype\": \"category\",\n        \"num_unique_values\": 24,\n        \"samples\": [\n          \" 4 Series\",\n          \" X4\",\n          \" X6\"\n        ],\n        \"semantic_type\": \"\",\n        \"description\": \"\"\n      }\n    },\n    {\n      \"column\": \"year\",\n      \"properties\": {\n        \"dtype\": \"number\",\n        \"std\": 2,\n        \"min\": 1996,\n        \"max\": 2020,\n        \"num_unique_values\": 21,\n        \"samples\": [\n          2019,\n          2004,\n          2002\n        ],\n        \"semantic_type\": \"\",\n        \"description\": \"\"\n      }\n    },\n    {\n      \"column\": \"price\",\n      \"properties\": {\n        \"dtype\": \"number\",\n        \"std\": 10785,\n        \"min\": 1200,\n        \"max\": 74990,\n        \"num_unique_values\": 1274,\n        \"samples\": [\n          36991,\n          23488,\n          13541\n        ],\n        \"semantic_type\": \"\",\n        \"description\": \"\"\n      }\n    },\n    {\n      \"column\": \"transmission\",\n      \"properties\": {\n        \"dtype\": \"category\",\n        \"num_unique_values\": 3,\n        \"samples\": [\n          \"Semi-Auto\",\n          \"Automatic\",\n          \"Manual\"\n        ],\n        \"semantic_type\": \"\",\n        \"description\": \"\"\n      }\n    },\n    {\n      \"column\": \"mileage\",\n      \"properties\": {\n        \"dtype\": \"number\",\n        \"std\": 25103,\n        \"min\": 1,\n        \"max\": 190000,\n        \"num_unique_values\": 1840,\n        \"samples\": [\n          1756,\n          117,\n          5527\n        ],\n        \"semantic_type\": \"\",\n        \"description\": \"\"\n      }\n    },\n    {\n      \"column\": \"fuelType\",\n      \"properties\": {\n        \"dtype\": \"category\",\n        \"num_unique_values\": 4,\n        \"samples\": [\n          \"Petrol\",\n          \"Other\",\n          \"Diesel\"\n        ],\n        \"semantic_type\": \"\",\n        \"description\": \"\"\n      }\n    },\n    {\n      \"column\": \"tax\",\n      \"properties\": {\n        \"dtype\": \"number\",\n        \"std\": 61,\n        \"min\": 0,\n        \"max\": 580,\n        \"num_unique_values\": 31,\n        \"samples\": [\n          580,\n          270,\n          565\n        ],\n        \"semantic_type\": \"\",\n        \"description\": \"\"\n      }\n    },\n    {\n      \"column\": \"mpg\",\n      \"properties\": {\n        \"dtype\": \"number\",\n        \"std\": 28.93965576469115,\n        \"min\": 5.5,\n        \"max\": 470.8,\n        \"num_unique_values\": 85,\n        \"samples\": [\n          22.1,\n          34.9,\n          26.9\n        ],\n        \"semantic_type\": \"\",\n        \"description\": \"\"\n      }\n    },\n    {\n      \"column\": \"engineSize\",\n      \"properties\": {\n        \"dtype\": \"number\",\n        \"std\": 0.5496742899154017,\n        \"min\": 0.0,\n        \"max\": 6.6,\n        \"num_unique_values\": 13,\n        \"samples\": [\n          4.0,\n          3.2,\n          3.0\n        ],\n        \"semantic_type\": \"\",\n        \"description\": \"\"\n      }\n    },\n    {\n      \"column\": \"price_pred\",\n      \"properties\": {\n        \"dtype\": \"number\",\n        \"std\": 10111.371837837429,\n        \"min\": 3317.500006073009,\n        \"max\": 69888.26169046159,\n        \"num_unique_values\": 115,\n        \"samples\": [\n          24439.214506218414,\n          22103.83854371344,\n          25088.838345486467\n        ],\n        \"semantic_type\": \"\",\n        \"description\": \"\"\n      }\n    }\n  ]\n}"
            }
          },
          "metadata": {},
          "execution_count": 27
        }
      ]
    },
    {
      "cell_type": "code",
      "source": [
        "from sklearn.metrics import mean_absolute_error, mean_absolute_percentage_error"
      ],
      "metadata": {
        "id": "E15akZiZytdb"
      },
      "execution_count": 28,
      "outputs": []
    },
    {
      "cell_type": "code",
      "source": [
        "def error(y_true,y_pred):\n",
        "  print(mean_absolute_error(y_true,y_pred))\n",
        "  print(mean_absolute_percentage_error(y_true,y_pred))"
      ],
      "metadata": {
        "id": "4sKFhL1ZzIRf"
      },
      "execution_count": 29,
      "outputs": []
    },
    {
      "cell_type": "code",
      "source": [
        "error(test['price'],test['price_pred'])"
      ],
      "metadata": {
        "id": "0kvFcBXPzgjq",
        "outputId": "95b9c9ad-2df9-489f-e18c-e4642a27f1ce",
        "colab": {
          "base_uri": "https://localhost:8080/"
        }
      },
      "execution_count": 30,
      "outputs": [
        {
          "output_type": "stream",
          "name": "stdout",
          "text": [
            "3366.679482256595\n",
            "0.15363582890850797\n"
          ]
        }
      ]
    },
    {
      "cell_type": "markdown",
      "source": [
        "# **Обучаемся на всех фичах**"
      ],
      "metadata": {
        "id": "f17R063Kzp0x"
      }
    },
    {
      "cell_type": "code",
      "source": [
        "X = ['model', 'year', 'transmission', 'mileage', 'fuelType', 'tax',\n",
        "       'mpg', 'engineSize']\n",
        "\n",
        "cat_features = ['model', 'transmission', 'fuelType']\n",
        "\n",
        "y = ['price']"
      ],
      "metadata": {
        "id": "PQlLaKun1Gh-"
      },
      "execution_count": 31,
      "outputs": []
    },
    {
      "cell_type": "code",
      "source": [
        "parameters = {'cat_features' : cat_features,\n",
        "              'eval_metric' : 'MAPE',\n",
        "              'random_seed' : 42,\n",
        "              'verbose' : 100}"
      ],
      "metadata": {
        "id": "biPJrXfo1amb"
      },
      "execution_count": 32,
      "outputs": []
    },
    {
      "cell_type": "code",
      "source": [
        "model = CatBoostRegressor(**parameters)"
      ],
      "metadata": {
        "id": "D0iDMEJm1Pjl"
      },
      "execution_count": 33,
      "outputs": []
    },
    {
      "cell_type": "code",
      "source": [
        "model.fit(train[X],train[y],eval_set=(val[X],val[y]))"
      ],
      "metadata": {
        "id": "DRHV7KSa19n7",
        "outputId": "64d1b8df-288d-44d5-f27d-4d0f2b2e7f29",
        "colab": {
          "base_uri": "https://localhost:8080/"
        }
      },
      "execution_count": 34,
      "outputs": [
        {
          "output_type": "stream",
          "name": "stdout",
          "text": [
            "Learning rate set to 0.068263\n",
            "0:\tlearn: 0.4607438\ttest: 0.4563750\tbest: 0.4563750 (0)\ttotal: 22.2ms\tremaining: 22.1s\n",
            "100:\tlearn: 0.0904302\ttest: 0.0896388\tbest: 0.0896388 (100)\ttotal: 1.08s\tremaining: 9.66s\n",
            "200:\tlearn: 0.0781784\ttest: 0.0803125\tbest: 0.0803125 (200)\ttotal: 1.67s\tremaining: 6.65s\n",
            "300:\tlearn: 0.0729925\ttest: 0.0764506\tbest: 0.0764506 (300)\ttotal: 2.83s\tremaining: 6.56s\n",
            "400:\tlearn: 0.0695552\ttest: 0.0744676\tbest: 0.0744553 (399)\ttotal: 5.1s\tremaining: 7.62s\n",
            "500:\tlearn: 0.0670683\ttest: 0.0732827\tbest: 0.0732827 (500)\ttotal: 7.02s\tremaining: 6.99s\n",
            "600:\tlearn: 0.0652835\ttest: 0.0726170\tbest: 0.0726128 (597)\ttotal: 8.53s\tremaining: 5.66s\n",
            "700:\tlearn: 0.0636320\ttest: 0.0720622\tbest: 0.0720500 (695)\ttotal: 10.2s\tremaining: 4.37s\n",
            "800:\tlearn: 0.0623408\ttest: 0.0714586\tbest: 0.0714329 (794)\ttotal: 11.8s\tremaining: 2.92s\n",
            "900:\tlearn: 0.0611487\ttest: 0.0711564\tbest: 0.0711321 (898)\ttotal: 13.2s\tremaining: 1.45s\n",
            "999:\tlearn: 0.0601407\ttest: 0.0708439\tbest: 0.0708403 (998)\ttotal: 14s\tremaining: 0us\n",
            "\n",
            "bestTest = 0.07084025495\n",
            "bestIteration = 998\n",
            "\n",
            "Shrink model to first 999 iterations.\n"
          ]
        },
        {
          "output_type": "execute_result",
          "data": {
            "text/plain": [
              "<catboost.core.CatBoostRegressor at 0x7ca88c624390>"
            ]
          },
          "metadata": {},
          "execution_count": 34
        }
      ]
    },
    {
      "cell_type": "code",
      "source": [
        "test['price_pred_all'] = model.predict(test[X])"
      ],
      "metadata": {
        "id": "lqJEYST32LYf"
      },
      "execution_count": 35,
      "outputs": []
    },
    {
      "cell_type": "code",
      "source": [
        "error(test['price'],test['price_pred_all'])"
      ],
      "metadata": {
        "id": "CcmhgGYP2eoO",
        "outputId": "56ad2ad9-a6b1-4c77-95dc-d7bb32b031a6",
        "colab": {
          "base_uri": "https://localhost:8080/"
        }
      },
      "execution_count": 36,
      "outputs": [
        {
          "output_type": "stream",
          "name": "stdout",
          "text": [
            "1556.5378327680894\n",
            "0.07367840910148211\n"
          ]
        }
      ]
    },
    {
      "cell_type": "markdown",
      "source": [
        "# **Количество итераций и Learning rate**"
      ],
      "metadata": {
        "id": "HuBQGIWz21NM"
      }
    },
    {
      "cell_type": "markdown",
      "source": [
        "## **Уменьшим learning rate**"
      ],
      "metadata": {
        "id": "RtuX7OVChXI6"
      }
    },
    {
      "cell_type": "code",
      "source": [
        "X = ['year', 'transmission', 'engineSize']\n",
        "\n",
        "cat_features = ['transmission']\n",
        "\n",
        "y = ['price']"
      ],
      "metadata": {
        "id": "dEr6OTv9heOV"
      },
      "execution_count": 37,
      "outputs": []
    },
    {
      "cell_type": "code",
      "source": [
        "model = CatBoostRegressor(cat_features=cat_features,\n",
        "                          learning_rate=0.03,\n",
        "                          eval_metric='MAPE',\n",
        "                          random_seed=42,\n",
        "                          verbose=100)"
      ],
      "metadata": {
        "id": "7NpUFFMthv6D"
      },
      "execution_count": 40,
      "outputs": []
    },
    {
      "cell_type": "code",
      "source": [
        "model.fit(train[X],train[y],eval_set=(val[X],val[y]))"
      ],
      "metadata": {
        "id": "xJwnuUc2j55A",
        "outputId": "4a8dfdf4-dbfb-4af3-a13c-f650b36e2e23",
        "colab": {
          "base_uri": "https://localhost:8080/"
        }
      },
      "execution_count": 41,
      "outputs": [
        {
          "output_type": "stream",
          "name": "stdout",
          "text": [
            "0:\tlearn: 0.4746987\ttest: 0.4699730\tbest: 0.4699730 (0)\ttotal: 15.6ms\tremaining: 15.6s\n",
            "100:\tlearn: 0.1681230\ttest: 0.1638970\tbest: 0.1638970 (100)\ttotal: 547ms\tremaining: 4.87s\n",
            "200:\tlearn: 0.1561398\ttest: 0.1538311\tbest: 0.1538311 (200)\ttotal: 791ms\tremaining: 3.15s\n",
            "300:\tlearn: 0.1543096\ttest: 0.1525317\tbest: 0.1525309 (299)\ttotal: 1.02s\tremaining: 2.37s\n",
            "400:\tlearn: 0.1534465\ttest: 0.1519221\tbest: 0.1519198 (397)\ttotal: 1.23s\tremaining: 1.83s\n",
            "500:\tlearn: 0.1527824\ttest: 0.1516330\tbest: 0.1516164 (480)\ttotal: 1.47s\tremaining: 1.47s\n",
            "600:\tlearn: 0.1522590\ttest: 0.1514284\tbest: 0.1514284 (600)\ttotal: 1.72s\tremaining: 1.14s\n",
            "700:\tlearn: 0.1518052\ttest: 0.1513704\tbest: 0.1513673 (689)\ttotal: 1.95s\tremaining: 831ms\n",
            "800:\tlearn: 0.1514495\ttest: 0.1513967\tbest: 0.1513651 (703)\ttotal: 2.21s\tremaining: 548ms\n",
            "900:\tlearn: 0.1510958\ttest: 0.1513657\tbest: 0.1513489 (873)\ttotal: 2.46s\tremaining: 270ms\n",
            "999:\tlearn: 0.1508297\ttest: 0.1513297\tbest: 0.1513168 (992)\ttotal: 2.7s\tremaining: 0us\n",
            "\n",
            "bestTest = 0.1513167711\n",
            "bestIteration = 992\n",
            "\n",
            "Shrink model to first 993 iterations.\n"
          ]
        },
        {
          "output_type": "execute_result",
          "data": {
            "text/plain": [
              "<catboost.core.CatBoostRegressor at 0x7ca88c750cd0>"
            ]
          },
          "metadata": {},
          "execution_count": 41
        }
      ]
    },
    {
      "cell_type": "markdown",
      "source": [
        "# **Увеличим Learning rate**"
      ],
      "metadata": {
        "id": "89PoYd4DkQVt"
      }
    },
    {
      "cell_type": "code",
      "source": [
        "X = ['model', 'year', 'transmission', 'mileage', 'fuelType', 'tax',\n",
        "       'mpg', 'engineSize']\n",
        "\n",
        "cat_features = ['model', 'transmission', 'fuelType']\n",
        "\n",
        "y = ['price']"
      ],
      "metadata": {
        "id": "P5sa-90RkpfB"
      },
      "execution_count": 43,
      "outputs": []
    },
    {
      "cell_type": "code",
      "source": [
        "parameters = {'cat_features' : cat_features,\n",
        "              'eval_metric' : 'MAPE',\n",
        "              'learning_rate' : 0.08,\n",
        "              'random_seed' : 42,\n",
        "              'verbose' : 100}"
      ],
      "metadata": {
        "id": "5Q2gj2S_lCDB"
      },
      "execution_count": 45,
      "outputs": []
    },
    {
      "cell_type": "code",
      "source": [
        "model = CatBoostRegressor(**parameters)"
      ],
      "metadata": {
        "id": "RqUAqJZ3k3-K"
      },
      "execution_count": 47,
      "outputs": []
    },
    {
      "cell_type": "code",
      "source": [
        "model.fit(train[X],train[y],eval_set=(val[X],val[y]))"
      ],
      "metadata": {
        "id": "VVzFStHqlWdO",
        "outputId": "e37c6d0a-81de-434c-ddd1-eec5d4efc555",
        "colab": {
          "base_uri": "https://localhost:8080/"
        }
      },
      "execution_count": 48,
      "outputs": [
        {
          "output_type": "stream",
          "name": "stdout",
          "text": [
            "0:\tlearn: 0.4564416\ttest: 0.4521294\tbest: 0.4521294 (0)\ttotal: 7.84ms\tremaining: 7.83s\n",
            "100:\tlearn: 0.0875290\ttest: 0.0867329\tbest: 0.0867329 (100)\ttotal: 952ms\tremaining: 8.48s\n",
            "200:\tlearn: 0.0760834\ttest: 0.0779235\tbest: 0.0779235 (200)\ttotal: 1.5s\tremaining: 5.96s\n",
            "300:\tlearn: 0.0708670\ttest: 0.0740290\tbest: 0.0740290 (300)\ttotal: 2.07s\tremaining: 4.82s\n",
            "400:\tlearn: 0.0676240\ttest: 0.0718814\tbest: 0.0718814 (400)\ttotal: 2.67s\tremaining: 3.99s\n",
            "500:\tlearn: 0.0654070\ttest: 0.0709221\tbest: 0.0708594 (496)\ttotal: 3.35s\tremaining: 3.33s\n",
            "600:\tlearn: 0.0638577\ttest: 0.0704606\tbest: 0.0704490 (599)\ttotal: 4.73s\tremaining: 3.14s\n",
            "700:\tlearn: 0.0622969\ttest: 0.0698226\tbest: 0.0698226 (700)\ttotal: 5.96s\tremaining: 2.54s\n",
            "800:\tlearn: 0.0609583\ttest: 0.0694169\tbest: 0.0694004 (791)\ttotal: 6.55s\tremaining: 1.63s\n",
            "900:\tlearn: 0.0596089\ttest: 0.0689968\tbest: 0.0689945 (895)\ttotal: 7.13s\tremaining: 784ms\n",
            "999:\tlearn: 0.0584626\ttest: 0.0686829\tbest: 0.0686377 (993)\ttotal: 7.72s\tremaining: 0us\n",
            "\n",
            "bestTest = 0.06863774536\n",
            "bestIteration = 993\n",
            "\n",
            "Shrink model to first 994 iterations.\n"
          ]
        },
        {
          "output_type": "execute_result",
          "data": {
            "text/plain": [
              "<catboost.core.CatBoostRegressor at 0x7ca876fa0610>"
            ]
          },
          "metadata": {},
          "execution_count": 48
        }
      ]
    },
    {
      "cell_type": "markdown",
      "source": [
        "# **Останавливаем если нет улучшения**"
      ],
      "metadata": {
        "id": "qUcWdumXltGk"
      }
    },
    {
      "cell_type": "code",
      "source": [
        "X = ['year', 'transmission', 'engineSize']\n",
        "\n",
        "cat_features = ['transmission']\n",
        "\n",
        "y = ['price']"
      ],
      "metadata": {
        "id": "6o6vex13l_77"
      },
      "execution_count": 49,
      "outputs": []
    },
    {
      "cell_type": "code",
      "source": [
        "model = CatBoostRegressor(cat_features=cat_features,\n",
        "                          early_stopping_rounds=200,\n",
        "                          eval_metric='MAPE',\n",
        "                          random_seed=42,\n",
        "                          verbose=100)"
      ],
      "metadata": {
        "id": "lMG8bfxZmH0w"
      },
      "execution_count": 51,
      "outputs": []
    },
    {
      "cell_type": "code",
      "source": [
        "model.fit(train[X],train[y],eval_set=(val[X],val[y]))"
      ],
      "metadata": {
        "id": "X6NuVhKQmKrs",
        "outputId": "ef2cdf79-341d-463d-b90e-1ea952d7cc7f",
        "colab": {
          "base_uri": "https://localhost:8080/"
        }
      },
      "execution_count": 53,
      "outputs": [
        {
          "output_type": "stream",
          "name": "stdout",
          "text": [
            "Learning rate set to 0.068263\n",
            "0:\tlearn: 0.4603375\ttest: 0.4555509\tbest: 0.4555509 (0)\ttotal: 12.1ms\tremaining: 12s\n",
            "100:\tlearn: 0.1546393\ttest: 0.1529687\tbest: 0.1529687 (100)\ttotal: 361ms\tremaining: 3.21s\n",
            "200:\tlearn: 0.1528213\ttest: 0.1517332\tbest: 0.1517332 (200)\ttotal: 571ms\tremaining: 2.27s\n",
            "300:\tlearn: 0.1517532\ttest: 0.1514386\tbest: 0.1514000 (288)\ttotal: 810ms\tremaining: 1.88s\n",
            "400:\tlearn: 0.1509722\ttest: 0.1515508\tbest: 0.1514000 (288)\ttotal: 1.05s\tremaining: 1.57s\n",
            "Stopped by overfitting detector  (200 iterations wait)\n",
            "\n",
            "bestTest = 0.1514000297\n",
            "bestIteration = 288\n",
            "\n",
            "Shrink model to first 289 iterations.\n"
          ]
        },
        {
          "output_type": "execute_result",
          "data": {
            "text/plain": [
              "<catboost.core.CatBoostRegressor at 0x7ca876f94610>"
            ]
          },
          "metadata": {},
          "execution_count": 53
        }
      ]
    },
    {
      "cell_type": "markdown",
      "source": [
        "# **Обучаемся на всех данных**"
      ],
      "metadata": {
        "id": "Q-bjNoFZml4a"
      }
    },
    {
      "cell_type": "code",
      "source": [
        "len(train)"
      ],
      "metadata": {
        "id": "Qz4munkjm5bU",
        "outputId": "fc348251-833c-4176-a6e6-12bd4b0b9e74",
        "colab": {
          "base_uri": "https://localhost:8080/"
        }
      },
      "execution_count": 54,
      "outputs": [
        {
          "output_type": "execute_result",
          "data": {
            "text/plain": [
              "6468"
            ]
          },
          "metadata": {},
          "execution_count": 54
        }
      ]
    },
    {
      "cell_type": "code",
      "source": [
        "len(val)"
      ],
      "metadata": {
        "id": "Th2nqxlOn_Da",
        "outputId": "8ac0f38a-c7db-4646-f6c8-16472d80ec2c",
        "colab": {
          "base_uri": "https://localhost:8080/"
        }
      },
      "execution_count": 55,
      "outputs": [
        {
          "output_type": "execute_result",
          "data": {
            "text/plain": [
              "2156"
            ]
          },
          "metadata": {},
          "execution_count": 55
        }
      ]
    },
    {
      "cell_type": "code",
      "source": [
        "len(train) + len(val)"
      ],
      "metadata": {
        "id": "GExsfa1-oAGg",
        "outputId": "cff74cea-fce4-482e-ec76-34d8c5f6b81c",
        "colab": {
          "base_uri": "https://localhost:8080/"
        }
      },
      "execution_count": 56,
      "outputs": [
        {
          "output_type": "execute_result",
          "data": {
            "text/plain": [
              "8624"
            ]
          },
          "metadata": {},
          "execution_count": 56
        }
      ]
    },
    {
      "cell_type": "code",
      "source": [
        "train_full = pd.concat([train,val])"
      ],
      "metadata": {
        "id": "0jiYWxWloD0V"
      },
      "execution_count": 57,
      "outputs": []
    },
    {
      "cell_type": "code",
      "source": [
        "X = ['model', 'year', 'transmission', 'mileage', 'fuelType', 'tax',\n",
        "       'mpg', 'engineSize']\n",
        "\n",
        "cat_features = ['model', 'transmission', 'fuelType']\n",
        "\n",
        "y = ['price']"
      ],
      "metadata": {
        "id": "NolHDFaooOts"
      },
      "execution_count": 58,
      "outputs": []
    },
    {
      "cell_type": "code",
      "source": [
        "parameters = {'cat_features' : cat_features,\n",
        "              'eval_metric' : 'MAPE',\n",
        "              'learning_rate' : 0.08,\n",
        "              'random_seed' : 42,\n",
        "              'verbose' : 100}"
      ],
      "metadata": {
        "id": "5u1S2Ad7ocC6"
      },
      "execution_count": 67,
      "outputs": []
    },
    {
      "cell_type": "code",
      "source": [
        "model = CatBoostRegressor(**parameters)"
      ],
      "metadata": {
        "id": "G7nMHk99oun_"
      },
      "execution_count": 68,
      "outputs": []
    },
    {
      "cell_type": "code",
      "source": [
        "model.fit(train[X],train[y],eval_set=(val[X],val[y]))"
      ],
      "metadata": {
        "id": "yFJjbuiDoh10",
        "outputId": "b8969cb1-2254-49b1-c3c8-e8bf8bdd4e2c",
        "colab": {
          "base_uri": "https://localhost:8080/"
        }
      },
      "execution_count": 69,
      "outputs": [
        {
          "output_type": "stream",
          "name": "stdout",
          "text": [
            "0:\tlearn: 0.4564416\ttest: 0.4521294\tbest: 0.4521294 (0)\ttotal: 23.7ms\tremaining: 23.6s\n",
            "100:\tlearn: 0.0875290\ttest: 0.0867329\tbest: 0.0867329 (100)\ttotal: 1.35s\tremaining: 12s\n",
            "200:\tlearn: 0.0760834\ttest: 0.0779235\tbest: 0.0779235 (200)\ttotal: 1.92s\tremaining: 7.64s\n",
            "300:\tlearn: 0.0708670\ttest: 0.0740290\tbest: 0.0740290 (300)\ttotal: 2.49s\tremaining: 5.78s\n",
            "400:\tlearn: 0.0676240\ttest: 0.0718814\tbest: 0.0718814 (400)\ttotal: 3.08s\tremaining: 4.61s\n",
            "500:\tlearn: 0.0654070\ttest: 0.0709221\tbest: 0.0708594 (496)\ttotal: 3.68s\tremaining: 3.67s\n",
            "600:\tlearn: 0.0638577\ttest: 0.0704606\tbest: 0.0704490 (599)\ttotal: 4.25s\tremaining: 2.82s\n",
            "700:\tlearn: 0.0622969\ttest: 0.0698226\tbest: 0.0698226 (700)\ttotal: 5.34s\tremaining: 2.28s\n",
            "800:\tlearn: 0.0609583\ttest: 0.0694169\tbest: 0.0694004 (791)\ttotal: 6.41s\tremaining: 1.59s\n",
            "900:\tlearn: 0.0596089\ttest: 0.0689968\tbest: 0.0689945 (895)\ttotal: 6.99s\tremaining: 768ms\n",
            "999:\tlearn: 0.0584626\ttest: 0.0686829\tbest: 0.0686377 (993)\ttotal: 7.57s\tremaining: 0us\n",
            "\n",
            "bestTest = 0.06863774536\n",
            "bestIteration = 993\n",
            "\n",
            "Shrink model to first 994 iterations.\n"
          ]
        },
        {
          "output_type": "execute_result",
          "data": {
            "text/plain": [
              "<catboost.core.CatBoostRegressor at 0x7ca876974110>"
            ]
          },
          "metadata": {},
          "execution_count": 69
        }
      ]
    },
    {
      "cell_type": "code",
      "source": [
        "model.best_iteration_"
      ],
      "metadata": {
        "id": "gYWCWzJgo4A2",
        "outputId": "b7dcc9ae-2099-42d0-c70e-a36351964761",
        "colab": {
          "base_uri": "https://localhost:8080/"
        }
      },
      "execution_count": 70,
      "outputs": [
        {
          "output_type": "execute_result",
          "data": {
            "text/plain": [
              "993"
            ]
          },
          "metadata": {},
          "execution_count": 70
        }
      ]
    },
    {
      "cell_type": "code",
      "source": [
        "parameters = {'iterations' : model.best_iteration_ + 1,\n",
        "              'cat_features' : cat_features,\n",
        "              'eval_metric' : 'MAPE',\n",
        "              'learning_rate' : 0.08,\n",
        "              'random_seed' : 42,\n",
        "              'verbose' : 100}"
      ],
      "metadata": {
        "id": "KC8hjQH2pAGh"
      },
      "execution_count": 74,
      "outputs": []
    },
    {
      "cell_type": "code",
      "source": [
        "parameters"
      ],
      "metadata": {
        "id": "uwZo9YOBpUZ4",
        "outputId": "2ed9009f-3201-41d5-f2d8-e7f29d88de05",
        "colab": {
          "base_uri": "https://localhost:8080/"
        }
      },
      "execution_count": 75,
      "outputs": [
        {
          "output_type": "execute_result",
          "data": {
            "text/plain": [
              "{'iterations': 994,\n",
              " 'cat_features': ['model', 'transmission', 'fuelType'],\n",
              " 'eval_metric': 'MAPE',\n",
              " 'learning_rate': 0.08,\n",
              " 'random_seed': 42,\n",
              " 'verbose': 100}"
            ]
          },
          "metadata": {},
          "execution_count": 75
        }
      ]
    },
    {
      "cell_type": "code",
      "source": [
        "model = CatBoostRegressor(**parameters)"
      ],
      "metadata": {
        "id": "vYAqhruaprn4"
      },
      "execution_count": 76,
      "outputs": []
    },
    {
      "cell_type": "code",
      "source": [
        "model.fit(train_full[X],train_full[y])"
      ],
      "metadata": {
        "id": "NBdFLwfDp8db",
        "outputId": "128a2c59-230c-4377-9fe6-3e171147a875",
        "colab": {
          "base_uri": "https://localhost:8080/"
        }
      },
      "execution_count": 77,
      "outputs": [
        {
          "output_type": "stream",
          "name": "stdout",
          "text": [
            "0:\tlearn: 0.4538016\ttotal: 8.76ms\tremaining: 8.7s\n",
            "100:\tlearn: 0.0854178\ttotal: 1.01s\tremaining: 8.98s\n",
            "200:\tlearn: 0.0745022\ttotal: 1.7s\tremaining: 6.72s\n",
            "300:\tlearn: 0.0701717\ttotal: 2.36s\tremaining: 5.42s\n",
            "400:\tlearn: 0.0676577\ttotal: 3s\tremaining: 4.44s\n",
            "500:\tlearn: 0.0656926\ttotal: 3.66s\tremaining: 3.6s\n",
            "600:\tlearn: 0.0638104\ttotal: 4.29s\tremaining: 2.81s\n",
            "700:\tlearn: 0.0624302\ttotal: 4.96s\tremaining: 2.07s\n",
            "800:\tlearn: 0.0612275\ttotal: 5.65s\tremaining: 1.36s\n",
            "900:\tlearn: 0.0599823\ttotal: 6.31s\tremaining: 652ms\n",
            "993:\tlearn: 0.0590330\ttotal: 6.97s\tremaining: 0us\n"
          ]
        },
        {
          "output_type": "execute_result",
          "data": {
            "text/plain": [
              "<catboost.core.CatBoostRegressor at 0x7ca876f77510>"
            ]
          },
          "metadata": {},
          "execution_count": 77
        }
      ]
    },
    {
      "cell_type": "code",
      "source": [
        "test['train_pred_all_features_and_data'] = model.predict(test[X])"
      ],
      "metadata": {
        "id": "j8qjwB2RqDvy"
      },
      "execution_count": 78,
      "outputs": []
    },
    {
      "cell_type": "code",
      "source": [
        "error(test['price'],test['price_pred_all'])"
      ],
      "metadata": {
        "id": "QWrGH4koqTda",
        "outputId": "db0065fa-f3b4-492a-8a4b-b66e9546598c",
        "colab": {
          "base_uri": "https://localhost:8080/"
        }
      },
      "execution_count": 79,
      "outputs": [
        {
          "output_type": "stream",
          "name": "stdout",
          "text": [
            "1556.5378327680894\n",
            "0.07367840910148211\n"
          ]
        }
      ]
    },
    {
      "cell_type": "code",
      "source": [
        "error(test['price'],test['train_pred_all_features_and_data'])"
      ],
      "metadata": {
        "id": "pLeAqTr0qdCk",
        "outputId": "dc9957fc-b631-4185-e2a3-043fb37ae405",
        "colab": {
          "base_uri": "https://localhost:8080/"
        }
      },
      "execution_count": 80,
      "outputs": [
        {
          "output_type": "stream",
          "name": "stdout",
          "text": [
            "1512.6160783572977\n",
            "0.07305203023986592\n"
          ]
        }
      ]
    },
    {
      "cell_type": "markdown",
      "source": [
        "# **Меняем функцию оптимизации**"
      ],
      "metadata": {
        "id": "fubxvFPqqiUx"
      }
    },
    {
      "cell_type": "code",
      "source": [
        "X = ['model', 'year', 'transmission', 'mileage', 'fuelType', 'tax',\n",
        "       'mpg', 'engineSize']\n",
        "\n",
        "cat_features = ['model', 'transmission', 'fuelType']\n",
        "\n",
        "y = ['price']\n"
      ],
      "metadata": {
        "id": "N4-i0DXmqvSJ"
      },
      "execution_count": 81,
      "outputs": []
    },
    {
      "cell_type": "code",
      "source": [
        "parameters = {'cat_features' : cat_features,\n",
        "              'loss_function' : 'MAE',\n",
        "              'eval_metric' : 'MAPE',\n",
        "              'learning_rate' : 0.1,\n",
        "              'random_seed' : 42,\n",
        "              'verbose' : 100}"
      ],
      "metadata": {
        "id": "aP0dLAFaq-OK"
      },
      "execution_count": 95,
      "outputs": []
    },
    {
      "cell_type": "code",
      "source": [
        "model = CatBoostRegressor(**parameters)"
      ],
      "metadata": {
        "id": "K6uipoL1rElV"
      },
      "execution_count": 96,
      "outputs": []
    },
    {
      "cell_type": "code",
      "source": [
        "model.fit(train[X],train[y],eval_set=(val[X],val[y]))"
      ],
      "metadata": {
        "id": "ojfLu9-yrXUN",
        "outputId": "b77cadd3-eb98-41fe-eb07-eafed2e731ba",
        "colab": {
          "base_uri": "https://localhost:8080/"
        }
      },
      "execution_count": 97,
      "outputs": [
        {
          "output_type": "stream",
          "name": "stdout",
          "text": [
            "0:\tlearn: 0.3849345\ttest: 0.3793341\tbest: 0.3793341 (0)\ttotal: 9.05ms\tremaining: 9.04s\n",
            "100:\tlearn: 0.0764009\ttest: 0.0774578\tbest: 0.0774578 (100)\ttotal: 722ms\tremaining: 6.42s\n",
            "200:\tlearn: 0.0666216\ttest: 0.0706498\tbest: 0.0706498 (200)\ttotal: 1.44s\tremaining: 5.7s\n",
            "300:\tlearn: 0.0628577\ttest: 0.0695086\tbest: 0.0694924 (298)\ttotal: 2.11s\tremaining: 4.91s\n",
            "400:\tlearn: 0.0605748\ttest: 0.0687890\tbest: 0.0687826 (399)\ttotal: 3.4s\tremaining: 5.08s\n",
            "500:\tlearn: 0.0589764\ttest: 0.0683467\tbest: 0.0683222 (490)\ttotal: 4.19s\tremaining: 4.17s\n",
            "600:\tlearn: 0.0579201\ttest: 0.0680567\tbest: 0.0680567 (600)\ttotal: 5.86s\tremaining: 3.89s\n",
            "700:\tlearn: 0.0570454\ttest: 0.0678671\tbest: 0.0678659 (681)\ttotal: 6.88s\tremaining: 2.94s\n",
            "800:\tlearn: 0.0563072\ttest: 0.0676018\tbest: 0.0676018 (800)\ttotal: 7.51s\tremaining: 1.86s\n",
            "900:\tlearn: 0.0555798\ttest: 0.0674500\tbest: 0.0674384 (889)\ttotal: 8.17s\tremaining: 897ms\n",
            "999:\tlearn: 0.0548863\ttest: 0.0673326\tbest: 0.0672972 (972)\ttotal: 8.82s\tremaining: 0us\n",
            "\n",
            "bestTest = 0.0672972276\n",
            "bestIteration = 972\n",
            "\n",
            "Shrink model to first 973 iterations.\n"
          ]
        },
        {
          "output_type": "execute_result",
          "data": {
            "text/plain": [
              "<catboost.core.CatBoostRegressor at 0x7ca8767bfc50>"
            ]
          },
          "metadata": {},
          "execution_count": 97
        }
      ]
    },
    {
      "cell_type": "code",
      "source": [],
      "metadata": {
        "id": "TcxJ9nyVricy"
      },
      "execution_count": null,
      "outputs": []
    }
  ]
}