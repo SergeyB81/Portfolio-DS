{
  "nbformat": 4,
  "nbformat_minor": 0,
  "metadata": {
    "colab": {
      "provenance": [],
      "authorship_tag": "ABX9TyO5lEwxOcnZu2e0x0CYEn43",
      "include_colab_link": true
    },
    "kernelspec": {
      "name": "python3",
      "display_name": "Python 3"
    },
    "language_info": {
      "name": "python"
    }
  },
  "cells": [
    {
      "cell_type": "markdown",
      "metadata": {
        "id": "view-in-github",
        "colab_type": "text"
      },
      "source": [
        "<a href=\"https://colab.research.google.com/github/SergeyB81/Portfolio-DS/blob/main/Car%20price/machine_learning.ipynb\" target=\"_parent\"><img src=\"https://colab.research.google.com/assets/colab-badge.svg\" alt=\"Open In Colab\"/></a>"
      ]
    },
    {
      "cell_type": "markdown",
      "source": [
        "# **Загрузка данных**"
      ],
      "metadata": {
        "id": "9275W_mYUI4Y"
      }
    },
    {
      "cell_type": "markdown",
      "source": [
        "https://www.kaggle.com/adityadesai13/used-car-dataset-ford-and-mercedes?select=bmw.csv\n",
        "\n",
        "https://drive.google.com/file/d/10pq7rvk_FtY-ulQ8ldVM4QAtaR6LWt-j/view?usp=sharing\n"
      ],
      "metadata": {
        "id": "IypKs4QUVWIk"
      }
    },
    {
      "cell_type": "code",
      "source": [
        "! gdown --id 10pq7rvk_FtY-ulQ8ldVM4QAtaR6LWt-j"
      ],
      "metadata": {
        "id": "Umups7r9UM4-",
        "colab": {
          "base_uri": "https://localhost:8080/"
        },
        "outputId": "d66a08b0-6199-408e-a809-7e419e480f36"
      },
      "execution_count": null,
      "outputs": [
        {
          "output_type": "stream",
          "name": "stdout",
          "text": [
            "/usr/local/lib/python3.11/dist-packages/gdown/__main__.py:140: FutureWarning: Option `--id` was deprecated in version 4.3.1 and will be removed in 5.0. You don't need to pass it anymore to use a file ID.\n",
            "  warnings.warn(\n",
            "Downloading...\n",
            "From: https://drive.google.com/uc?id=10pq7rvk_FtY-ulQ8ldVM4QAtaR6LWt-j\n",
            "To: /content/uk-used-cars.zip\n",
            "100% 1.15M/1.15M [00:00<00:00, 118MB/s]\n"
          ]
        }
      ]
    },
    {
      "cell_type": "code",
      "source": [
        "! unzip /content/uk-used-cars.zip -d /content/uk-used-cars"
      ],
      "metadata": {
        "colab": {
          "base_uri": "https://localhost:8080/"
        },
        "id": "GC4PjIBnbtb1",
        "outputId": "f2889090-a2db-440e-ac6c-1d12b567c32c"
      },
      "execution_count": null,
      "outputs": [
        {
          "output_type": "stream",
          "name": "stdout",
          "text": [
            "Archive:  /content/uk-used-cars.zip\n",
            "  inflating: /content/uk-used-cars/audi.csv  \n",
            "  inflating: /content/uk-used-cars/bmw.csv  \n",
            "  inflating: /content/uk-used-cars/cclass.csv  \n",
            "  inflating: /content/uk-used-cars/focus.csv  \n",
            "  inflating: /content/uk-used-cars/ford.csv  \n",
            "  inflating: /content/uk-used-cars/hyundi.csv  \n",
            "  inflating: /content/uk-used-cars/merc.csv  \n",
            "  inflating: /content/uk-used-cars/skoda.csv  \n",
            "  inflating: /content/uk-used-cars/toyota.csv  \n",
            "  inflating: /content/uk-used-cars/unclean cclass.csv  \n",
            "  inflating: /content/uk-used-cars/unclean focus.csv  \n",
            "  inflating: /content/uk-used-cars/vauxhall.csv  \n",
            "  inflating: /content/uk-used-cars/vw.csv  \n"
          ]
        }
      ]
    },
    {
      "cell_type": "code",
      "source": [
        "111"
      ],
      "metadata": {
        "id": "H3h7svfecgVg"
      },
      "execution_count": null,
      "outputs": []
    }
  ]
}