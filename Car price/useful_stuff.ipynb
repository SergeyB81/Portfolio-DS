{
  "nbformat": 4,
  "nbformat_minor": 0,
  "metadata": {
    "colab": {
      "provenance": [],
      "authorship_tag": "ABX9TyOiH3L+cZZYWjy8B975h7Ok",
      "include_colab_link": true
    },
    "kernelspec": {
      "name": "python3",
      "display_name": "Python 3"
    },
    "language_info": {
      "name": "python"
    }
  },
  "cells": [
    {
      "cell_type": "markdown",
      "metadata": {
        "id": "view-in-github",
        "colab_type": "text"
      },
      "source": [
        "<a href=\"https://colab.research.google.com/github/SergeyB81/Portfolio-DS/blob/main/Car%20price/useful_stuff.ipynb\" target=\"_parent\"><img src=\"https://colab.research.google.com/assets/colab-badge.svg\" alt=\"Open In Colab\"/></a>"
      ]
    },
    {
      "cell_type": "code",
      "execution_count": 1,
      "metadata": {
        "colab": {
          "base_uri": "https://localhost:8080/"
        },
        "id": "aylJ2J7nvTQS",
        "outputId": "4a334068-d995-4ade-b208-959d766c6632"
      },
      "outputs": [
        {
          "output_type": "stream",
          "name": "stdout",
          "text": [
            "/usr/local/lib/python3.11/dist-packages/gdown/__main__.py:140: FutureWarning: Option `--id` was deprecated in version 4.3.1 and will be removed in 5.0. You don't need to pass it anymore to use a file ID.\n",
            "  warnings.warn(\n",
            "Downloading...\n",
            "From: https://drive.google.com/uc?id=1Ym8EaWePP17RvrweKhWzCJmITXLgqvCZ\n",
            "To: /content/churn-modeling.zip\n",
            "100% 268k/268k [00:00<00:00, 45.1MB/s]\n"
          ]
        }
      ],
      "source": [
        "! gdown  --id 1Ym8EaWePP17RvrweKhWzCJmITXLgqvCZ"
      ]
    },
    {
      "cell_type": "code",
      "source": [
        "import pandas as pd"
      ],
      "metadata": {
        "id": "0Zs1jRInvgZj"
      },
      "execution_count": 2,
      "outputs": []
    },
    {
      "cell_type": "code",
      "source": [
        "df = pd.read_csv('/content/churn-modeling.zip')"
      ],
      "metadata": {
        "id": "_qidQIR1vjlR"
      },
      "execution_count": 3,
      "outputs": []
    },
    {
      "cell_type": "code",
      "source": [
        "df.head(5)"
      ],
      "metadata": {
        "colab": {
          "base_uri": "https://localhost:8080/",
          "height": 206
        },
        "id": "XxSQOzTRvr5f",
        "outputId": "8ec33a9a-978f-4e96-eac5-340277f2a8c5"
      },
      "execution_count": 4,
      "outputs": [
        {
          "output_type": "execute_result",
          "data": {
            "text/plain": [
              "   RowNumber  CustomerId   Surname  CreditScore Geography  Gender  Age  \\\n",
              "0          1    15634602  Hargrave          619    France  Female   42   \n",
              "1          2    15647311      Hill          608     Spain  Female   41   \n",
              "2          3    15619304      Onio          502    France  Female   42   \n",
              "3          4    15701354      Boni          699    France  Female   39   \n",
              "4          5    15737888  Mitchell          850     Spain  Female   43   \n",
              "\n",
              "   Tenure    Balance  NumOfProducts  HasCrCard  IsActiveMember  \\\n",
              "0       2       0.00              1          1               1   \n",
              "1       1   83807.86              1          0               1   \n",
              "2       8  159660.80              3          1               0   \n",
              "3       1       0.00              2          0               0   \n",
              "4       2  125510.82              1          1               1   \n",
              "\n",
              "   EstimatedSalary  Exited  \n",
              "0        101348.88       1  \n",
              "1        112542.58       0  \n",
              "2        113931.57       1  \n",
              "3         93826.63       0  \n",
              "4         79084.10       0  "
            ],
            "text/html": [
              "\n",
              "  <div id=\"df-dde3cbb4-7bb7-4b07-9554-677dff2ba63c\" class=\"colab-df-container\">\n",
              "    <div>\n",
              "<style scoped>\n",
              "    .dataframe tbody tr th:only-of-type {\n",
              "        vertical-align: middle;\n",
              "    }\n",
              "\n",
              "    .dataframe tbody tr th {\n",
              "        vertical-align: top;\n",
              "    }\n",
              "\n",
              "    .dataframe thead th {\n",
              "        text-align: right;\n",
              "    }\n",
              "</style>\n",
              "<table border=\"1\" class=\"dataframe\">\n",
              "  <thead>\n",
              "    <tr style=\"text-align: right;\">\n",
              "      <th></th>\n",
              "      <th>RowNumber</th>\n",
              "      <th>CustomerId</th>\n",
              "      <th>Surname</th>\n",
              "      <th>CreditScore</th>\n",
              "      <th>Geography</th>\n",
              "      <th>Gender</th>\n",
              "      <th>Age</th>\n",
              "      <th>Tenure</th>\n",
              "      <th>Balance</th>\n",
              "      <th>NumOfProducts</th>\n",
              "      <th>HasCrCard</th>\n",
              "      <th>IsActiveMember</th>\n",
              "      <th>EstimatedSalary</th>\n",
              "      <th>Exited</th>\n",
              "    </tr>\n",
              "  </thead>\n",
              "  <tbody>\n",
              "    <tr>\n",
              "      <th>0</th>\n",
              "      <td>1</td>\n",
              "      <td>15634602</td>\n",
              "      <td>Hargrave</td>\n",
              "      <td>619</td>\n",
              "      <td>France</td>\n",
              "      <td>Female</td>\n",
              "      <td>42</td>\n",
              "      <td>2</td>\n",
              "      <td>0.00</td>\n",
              "      <td>1</td>\n",
              "      <td>1</td>\n",
              "      <td>1</td>\n",
              "      <td>101348.88</td>\n",
              "      <td>1</td>\n",
              "    </tr>\n",
              "    <tr>\n",
              "      <th>1</th>\n",
              "      <td>2</td>\n",
              "      <td>15647311</td>\n",
              "      <td>Hill</td>\n",
              "      <td>608</td>\n",
              "      <td>Spain</td>\n",
              "      <td>Female</td>\n",
              "      <td>41</td>\n",
              "      <td>1</td>\n",
              "      <td>83807.86</td>\n",
              "      <td>1</td>\n",
              "      <td>0</td>\n",
              "      <td>1</td>\n",
              "      <td>112542.58</td>\n",
              "      <td>0</td>\n",
              "    </tr>\n",
              "    <tr>\n",
              "      <th>2</th>\n",
              "      <td>3</td>\n",
              "      <td>15619304</td>\n",
              "      <td>Onio</td>\n",
              "      <td>502</td>\n",
              "      <td>France</td>\n",
              "      <td>Female</td>\n",
              "      <td>42</td>\n",
              "      <td>8</td>\n",
              "      <td>159660.80</td>\n",
              "      <td>3</td>\n",
              "      <td>1</td>\n",
              "      <td>0</td>\n",
              "      <td>113931.57</td>\n",
              "      <td>1</td>\n",
              "    </tr>\n",
              "    <tr>\n",
              "      <th>3</th>\n",
              "      <td>4</td>\n",
              "      <td>15701354</td>\n",
              "      <td>Boni</td>\n",
              "      <td>699</td>\n",
              "      <td>France</td>\n",
              "      <td>Female</td>\n",
              "      <td>39</td>\n",
              "      <td>1</td>\n",
              "      <td>0.00</td>\n",
              "      <td>2</td>\n",
              "      <td>0</td>\n",
              "      <td>0</td>\n",
              "      <td>93826.63</td>\n",
              "      <td>0</td>\n",
              "    </tr>\n",
              "    <tr>\n",
              "      <th>4</th>\n",
              "      <td>5</td>\n",
              "      <td>15737888</td>\n",
              "      <td>Mitchell</td>\n",
              "      <td>850</td>\n",
              "      <td>Spain</td>\n",
              "      <td>Female</td>\n",
              "      <td>43</td>\n",
              "      <td>2</td>\n",
              "      <td>125510.82</td>\n",
              "      <td>1</td>\n",
              "      <td>1</td>\n",
              "      <td>1</td>\n",
              "      <td>79084.10</td>\n",
              "      <td>0</td>\n",
              "    </tr>\n",
              "  </tbody>\n",
              "</table>\n",
              "</div>\n",
              "    <div class=\"colab-df-buttons\">\n",
              "\n",
              "  <div class=\"colab-df-container\">\n",
              "    <button class=\"colab-df-convert\" onclick=\"convertToInteractive('df-dde3cbb4-7bb7-4b07-9554-677dff2ba63c')\"\n",
              "            title=\"Convert this dataframe to an interactive table.\"\n",
              "            style=\"display:none;\">\n",
              "\n",
              "  <svg xmlns=\"http://www.w3.org/2000/svg\" height=\"24px\" viewBox=\"0 -960 960 960\">\n",
              "    <path d=\"M120-120v-720h720v720H120Zm60-500h600v-160H180v160Zm220 220h160v-160H400v160Zm0 220h160v-160H400v160ZM180-400h160v-160H180v160Zm440 0h160v-160H620v160ZM180-180h160v-160H180v160Zm440 0h160v-160H620v160Z\"/>\n",
              "  </svg>\n",
              "    </button>\n",
              "\n",
              "  <style>\n",
              "    .colab-df-container {\n",
              "      display:flex;\n",
              "      gap: 12px;\n",
              "    }\n",
              "\n",
              "    .colab-df-convert {\n",
              "      background-color: #E8F0FE;\n",
              "      border: none;\n",
              "      border-radius: 50%;\n",
              "      cursor: pointer;\n",
              "      display: none;\n",
              "      fill: #1967D2;\n",
              "      height: 32px;\n",
              "      padding: 0 0 0 0;\n",
              "      width: 32px;\n",
              "    }\n",
              "\n",
              "    .colab-df-convert:hover {\n",
              "      background-color: #E2EBFA;\n",
              "      box-shadow: 0px 1px 2px rgba(60, 64, 67, 0.3), 0px 1px 3px 1px rgba(60, 64, 67, 0.15);\n",
              "      fill: #174EA6;\n",
              "    }\n",
              "\n",
              "    .colab-df-buttons div {\n",
              "      margin-bottom: 4px;\n",
              "    }\n",
              "\n",
              "    [theme=dark] .colab-df-convert {\n",
              "      background-color: #3B4455;\n",
              "      fill: #D2E3FC;\n",
              "    }\n",
              "\n",
              "    [theme=dark] .colab-df-convert:hover {\n",
              "      background-color: #434B5C;\n",
              "      box-shadow: 0px 1px 3px 1px rgba(0, 0, 0, 0.15);\n",
              "      filter: drop-shadow(0px 1px 2px rgba(0, 0, 0, 0.3));\n",
              "      fill: #FFFFFF;\n",
              "    }\n",
              "  </style>\n",
              "\n",
              "    <script>\n",
              "      const buttonEl =\n",
              "        document.querySelector('#df-dde3cbb4-7bb7-4b07-9554-677dff2ba63c button.colab-df-convert');\n",
              "      buttonEl.style.display =\n",
              "        google.colab.kernel.accessAllowed ? 'block' : 'none';\n",
              "\n",
              "      async function convertToInteractive(key) {\n",
              "        const element = document.querySelector('#df-dde3cbb4-7bb7-4b07-9554-677dff2ba63c');\n",
              "        const dataTable =\n",
              "          await google.colab.kernel.invokeFunction('convertToInteractive',\n",
              "                                                    [key], {});\n",
              "        if (!dataTable) return;\n",
              "\n",
              "        const docLinkHtml = 'Like what you see? Visit the ' +\n",
              "          '<a target=\"_blank\" href=https://colab.research.google.com/notebooks/data_table.ipynb>data table notebook</a>'\n",
              "          + ' to learn more about interactive tables.';\n",
              "        element.innerHTML = '';\n",
              "        dataTable['output_type'] = 'display_data';\n",
              "        await google.colab.output.renderOutput(dataTable, element);\n",
              "        const docLink = document.createElement('div');\n",
              "        docLink.innerHTML = docLinkHtml;\n",
              "        element.appendChild(docLink);\n",
              "      }\n",
              "    </script>\n",
              "  </div>\n",
              "\n",
              "\n",
              "    <div id=\"df-df564c14-1147-4e8a-aff2-145ae7cfe159\">\n",
              "      <button class=\"colab-df-quickchart\" onclick=\"quickchart('df-df564c14-1147-4e8a-aff2-145ae7cfe159')\"\n",
              "                title=\"Suggest charts\"\n",
              "                style=\"display:none;\">\n",
              "\n",
              "<svg xmlns=\"http://www.w3.org/2000/svg\" height=\"24px\"viewBox=\"0 0 24 24\"\n",
              "     width=\"24px\">\n",
              "    <g>\n",
              "        <path d=\"M19 3H5c-1.1 0-2 .9-2 2v14c0 1.1.9 2 2 2h14c1.1 0 2-.9 2-2V5c0-1.1-.9-2-2-2zM9 17H7v-7h2v7zm4 0h-2V7h2v10zm4 0h-2v-4h2v4z\"/>\n",
              "    </g>\n",
              "</svg>\n",
              "      </button>\n",
              "\n",
              "<style>\n",
              "  .colab-df-quickchart {\n",
              "      --bg-color: #E8F0FE;\n",
              "      --fill-color: #1967D2;\n",
              "      --hover-bg-color: #E2EBFA;\n",
              "      --hover-fill-color: #174EA6;\n",
              "      --disabled-fill-color: #AAA;\n",
              "      --disabled-bg-color: #DDD;\n",
              "  }\n",
              "\n",
              "  [theme=dark] .colab-df-quickchart {\n",
              "      --bg-color: #3B4455;\n",
              "      --fill-color: #D2E3FC;\n",
              "      --hover-bg-color: #434B5C;\n",
              "      --hover-fill-color: #FFFFFF;\n",
              "      --disabled-bg-color: #3B4455;\n",
              "      --disabled-fill-color: #666;\n",
              "  }\n",
              "\n",
              "  .colab-df-quickchart {\n",
              "    background-color: var(--bg-color);\n",
              "    border: none;\n",
              "    border-radius: 50%;\n",
              "    cursor: pointer;\n",
              "    display: none;\n",
              "    fill: var(--fill-color);\n",
              "    height: 32px;\n",
              "    padding: 0;\n",
              "    width: 32px;\n",
              "  }\n",
              "\n",
              "  .colab-df-quickchart:hover {\n",
              "    background-color: var(--hover-bg-color);\n",
              "    box-shadow: 0 1px 2px rgba(60, 64, 67, 0.3), 0 1px 3px 1px rgba(60, 64, 67, 0.15);\n",
              "    fill: var(--button-hover-fill-color);\n",
              "  }\n",
              "\n",
              "  .colab-df-quickchart-complete:disabled,\n",
              "  .colab-df-quickchart-complete:disabled:hover {\n",
              "    background-color: var(--disabled-bg-color);\n",
              "    fill: var(--disabled-fill-color);\n",
              "    box-shadow: none;\n",
              "  }\n",
              "\n",
              "  .colab-df-spinner {\n",
              "    border: 2px solid var(--fill-color);\n",
              "    border-color: transparent;\n",
              "    border-bottom-color: var(--fill-color);\n",
              "    animation:\n",
              "      spin 1s steps(1) infinite;\n",
              "  }\n",
              "\n",
              "  @keyframes spin {\n",
              "    0% {\n",
              "      border-color: transparent;\n",
              "      border-bottom-color: var(--fill-color);\n",
              "      border-left-color: var(--fill-color);\n",
              "    }\n",
              "    20% {\n",
              "      border-color: transparent;\n",
              "      border-left-color: var(--fill-color);\n",
              "      border-top-color: var(--fill-color);\n",
              "    }\n",
              "    30% {\n",
              "      border-color: transparent;\n",
              "      border-left-color: var(--fill-color);\n",
              "      border-top-color: var(--fill-color);\n",
              "      border-right-color: var(--fill-color);\n",
              "    }\n",
              "    40% {\n",
              "      border-color: transparent;\n",
              "      border-right-color: var(--fill-color);\n",
              "      border-top-color: var(--fill-color);\n",
              "    }\n",
              "    60% {\n",
              "      border-color: transparent;\n",
              "      border-right-color: var(--fill-color);\n",
              "    }\n",
              "    80% {\n",
              "      border-color: transparent;\n",
              "      border-right-color: var(--fill-color);\n",
              "      border-bottom-color: var(--fill-color);\n",
              "    }\n",
              "    90% {\n",
              "      border-color: transparent;\n",
              "      border-bottom-color: var(--fill-color);\n",
              "    }\n",
              "  }\n",
              "</style>\n",
              "\n",
              "      <script>\n",
              "        async function quickchart(key) {\n",
              "          const quickchartButtonEl =\n",
              "            document.querySelector('#' + key + ' button');\n",
              "          quickchartButtonEl.disabled = true;  // To prevent multiple clicks.\n",
              "          quickchartButtonEl.classList.add('colab-df-spinner');\n",
              "          try {\n",
              "            const charts = await google.colab.kernel.invokeFunction(\n",
              "                'suggestCharts', [key], {});\n",
              "          } catch (error) {\n",
              "            console.error('Error during call to suggestCharts:', error);\n",
              "          }\n",
              "          quickchartButtonEl.classList.remove('colab-df-spinner');\n",
              "          quickchartButtonEl.classList.add('colab-df-quickchart-complete');\n",
              "        }\n",
              "        (() => {\n",
              "          let quickchartButtonEl =\n",
              "            document.querySelector('#df-df564c14-1147-4e8a-aff2-145ae7cfe159 button');\n",
              "          quickchartButtonEl.style.display =\n",
              "            google.colab.kernel.accessAllowed ? 'block' : 'none';\n",
              "        })();\n",
              "      </script>\n",
              "    </div>\n",
              "    </div>\n",
              "  </div>\n"
            ],
            "application/vnd.google.colaboratory.intrinsic+json": {
              "type": "dataframe",
              "variable_name": "df",
              "summary": "{\n  \"name\": \"df\",\n  \"rows\": 10000,\n  \"fields\": [\n    {\n      \"column\": \"RowNumber\",\n      \"properties\": {\n        \"dtype\": \"number\",\n        \"std\": 2886,\n        \"min\": 1,\n        \"max\": 10000,\n        \"num_unique_values\": 10000,\n        \"samples\": [\n          6253,\n          4685,\n          1732\n        ],\n        \"semantic_type\": \"\",\n        \"description\": \"\"\n      }\n    },\n    {\n      \"column\": \"CustomerId\",\n      \"properties\": {\n        \"dtype\": \"number\",\n        \"std\": 71936,\n        \"min\": 15565701,\n        \"max\": 15815690,\n        \"num_unique_values\": 10000,\n        \"samples\": [\n          15687492,\n          15736963,\n          15721730\n        ],\n        \"semantic_type\": \"\",\n        \"description\": \"\"\n      }\n    },\n    {\n      \"column\": \"Surname\",\n      \"properties\": {\n        \"dtype\": \"category\",\n        \"num_unique_values\": 2932,\n        \"samples\": [\n          \"McGuirk\",\n          \"Torkelson\",\n          \"Rapuluchukwu\"\n        ],\n        \"semantic_type\": \"\",\n        \"description\": \"\"\n      }\n    },\n    {\n      \"column\": \"CreditScore\",\n      \"properties\": {\n        \"dtype\": \"number\",\n        \"std\": 96,\n        \"min\": 350,\n        \"max\": 850,\n        \"num_unique_values\": 460,\n        \"samples\": [\n          754,\n          533,\n          744\n        ],\n        \"semantic_type\": \"\",\n        \"description\": \"\"\n      }\n    },\n    {\n      \"column\": \"Geography\",\n      \"properties\": {\n        \"dtype\": \"category\",\n        \"num_unique_values\": 3,\n        \"samples\": [\n          \"France\",\n          \"Spain\",\n          \"Germany\"\n        ],\n        \"semantic_type\": \"\",\n        \"description\": \"\"\n      }\n    },\n    {\n      \"column\": \"Gender\",\n      \"properties\": {\n        \"dtype\": \"category\",\n        \"num_unique_values\": 2,\n        \"samples\": [\n          \"Male\",\n          \"Female\"\n        ],\n        \"semantic_type\": \"\",\n        \"description\": \"\"\n      }\n    },\n    {\n      \"column\": \"Age\",\n      \"properties\": {\n        \"dtype\": \"number\",\n        \"std\": 10,\n        \"min\": 18,\n        \"max\": 92,\n        \"num_unique_values\": 70,\n        \"samples\": [\n          61,\n          42\n        ],\n        \"semantic_type\": \"\",\n        \"description\": \"\"\n      }\n    },\n    {\n      \"column\": \"Tenure\",\n      \"properties\": {\n        \"dtype\": \"number\",\n        \"std\": 2,\n        \"min\": 0,\n        \"max\": 10,\n        \"num_unique_values\": 11,\n        \"samples\": [\n          6,\n          2\n        ],\n        \"semantic_type\": \"\",\n        \"description\": \"\"\n      }\n    },\n    {\n      \"column\": \"Balance\",\n      \"properties\": {\n        \"dtype\": \"number\",\n        \"std\": 62397.40520238623,\n        \"min\": 0.0,\n        \"max\": 250898.09,\n        \"num_unique_values\": 6382,\n        \"samples\": [\n          117707.18,\n          133050.97\n        ],\n        \"semantic_type\": \"\",\n        \"description\": \"\"\n      }\n    },\n    {\n      \"column\": \"NumOfProducts\",\n      \"properties\": {\n        \"dtype\": \"number\",\n        \"std\": 0,\n        \"min\": 1,\n        \"max\": 4,\n        \"num_unique_values\": 4,\n        \"samples\": [\n          3,\n          4\n        ],\n        \"semantic_type\": \"\",\n        \"description\": \"\"\n      }\n    },\n    {\n      \"column\": \"HasCrCard\",\n      \"properties\": {\n        \"dtype\": \"number\",\n        \"std\": 0,\n        \"min\": 0,\n        \"max\": 1,\n        \"num_unique_values\": 2,\n        \"samples\": [\n          0,\n          1\n        ],\n        \"semantic_type\": \"\",\n        \"description\": \"\"\n      }\n    },\n    {\n      \"column\": \"IsActiveMember\",\n      \"properties\": {\n        \"dtype\": \"number\",\n        \"std\": 0,\n        \"min\": 0,\n        \"max\": 1,\n        \"num_unique_values\": 2,\n        \"samples\": [\n          0,\n          1\n        ],\n        \"semantic_type\": \"\",\n        \"description\": \"\"\n      }\n    },\n    {\n      \"column\": \"EstimatedSalary\",\n      \"properties\": {\n        \"dtype\": \"number\",\n        \"std\": 57510.49281769822,\n        \"min\": 11.58,\n        \"max\": 199992.48,\n        \"num_unique_values\": 9999,\n        \"samples\": [\n          100809.99,\n          95273.73\n        ],\n        \"semantic_type\": \"\",\n        \"description\": \"\"\n      }\n    },\n    {\n      \"column\": \"Exited\",\n      \"properties\": {\n        \"dtype\": \"number\",\n        \"std\": 0,\n        \"min\": 0,\n        \"max\": 1,\n        \"num_unique_values\": 2,\n        \"samples\": [\n          0,\n          1\n        ],\n        \"semantic_type\": \"\",\n        \"description\": \"\"\n      }\n    }\n  ]\n}"
            }
          },
          "metadata": {},
          "execution_count": 4
        }
      ]
    },
    {
      "cell_type": "markdown",
      "source": [
        "# **Обучающая, валидационная и тестовая выборка**"
      ],
      "metadata": {
        "id": "rpluWsojvuBc"
      }
    },
    {
      "cell_type": "code",
      "source": [
        "from sklearn.model_selection import train_test_split"
      ],
      "metadata": {
        "id": "Nv9J5ETzv3mq"
      },
      "execution_count": 5,
      "outputs": []
    },
    {
      "cell_type": "code",
      "source": [
        "train, test = train_test_split(df,train_size=0.6,random_state=42,stratify=df['Exited'])"
      ],
      "metadata": {
        "id": "pdulEczBwCRu"
      },
      "execution_count": 6,
      "outputs": []
    },
    {
      "cell_type": "code",
      "source": [
        "val, test = train_test_split(test,train_size=0.5,random_state=42,stratify=test['Exited'])"
      ],
      "metadata": {
        "id": "mQewJUWlwSU4"
      },
      "execution_count": 7,
      "outputs": []
    },
    {
      "cell_type": "markdown",
      "source": [
        "# **Обучение модели**"
      ],
      "metadata": {
        "id": "tFbxbUIEwhgb"
      }
    },
    {
      "cell_type": "code",
      "source": [
        "! pip install catboost"
      ],
      "metadata": {
        "colab": {
          "base_uri": "https://localhost:8080/"
        },
        "id": "CMejP15HxDAf",
        "outputId": "99dd3828-1b44-44f0-ad06-b659588c3d81"
      },
      "execution_count": 8,
      "outputs": [
        {
          "output_type": "stream",
          "name": "stdout",
          "text": [
            "Collecting catboost\n",
            "  Downloading catboost-1.2.8-cp311-cp311-manylinux2014_x86_64.whl.metadata (1.2 kB)\n",
            "Requirement already satisfied: graphviz in /usr/local/lib/python3.11/dist-packages (from catboost) (0.20.3)\n",
            "Requirement already satisfied: matplotlib in /usr/local/lib/python3.11/dist-packages (from catboost) (3.10.0)\n",
            "Requirement already satisfied: numpy<3.0,>=1.16.0 in /usr/local/lib/python3.11/dist-packages (from catboost) (2.0.2)\n",
            "Requirement already satisfied: pandas>=0.24 in /usr/local/lib/python3.11/dist-packages (from catboost) (2.2.2)\n",
            "Requirement already satisfied: scipy in /usr/local/lib/python3.11/dist-packages (from catboost) (1.15.3)\n",
            "Requirement already satisfied: plotly in /usr/local/lib/python3.11/dist-packages (from catboost) (5.24.1)\n",
            "Requirement already satisfied: six in /usr/local/lib/python3.11/dist-packages (from catboost) (1.17.0)\n",
            "Requirement already satisfied: python-dateutil>=2.8.2 in /usr/local/lib/python3.11/dist-packages (from pandas>=0.24->catboost) (2.9.0.post0)\n",
            "Requirement already satisfied: pytz>=2020.1 in /usr/local/lib/python3.11/dist-packages (from pandas>=0.24->catboost) (2025.2)\n",
            "Requirement already satisfied: tzdata>=2022.7 in /usr/local/lib/python3.11/dist-packages (from pandas>=0.24->catboost) (2025.2)\n",
            "Requirement already satisfied: contourpy>=1.0.1 in /usr/local/lib/python3.11/dist-packages (from matplotlib->catboost) (1.3.2)\n",
            "Requirement already satisfied: cycler>=0.10 in /usr/local/lib/python3.11/dist-packages (from matplotlib->catboost) (0.12.1)\n",
            "Requirement already satisfied: fonttools>=4.22.0 in /usr/local/lib/python3.11/dist-packages (from matplotlib->catboost) (4.58.0)\n",
            "Requirement already satisfied: kiwisolver>=1.3.1 in /usr/local/lib/python3.11/dist-packages (from matplotlib->catboost) (1.4.8)\n",
            "Requirement already satisfied: packaging>=20.0 in /usr/local/lib/python3.11/dist-packages (from matplotlib->catboost) (24.2)\n",
            "Requirement already satisfied: pillow>=8 in /usr/local/lib/python3.11/dist-packages (from matplotlib->catboost) (11.2.1)\n",
            "Requirement already satisfied: pyparsing>=2.3.1 in /usr/local/lib/python3.11/dist-packages (from matplotlib->catboost) (3.2.3)\n",
            "Requirement already satisfied: tenacity>=6.2.0 in /usr/local/lib/python3.11/dist-packages (from plotly->catboost) (9.1.2)\n",
            "Downloading catboost-1.2.8-cp311-cp311-manylinux2014_x86_64.whl (99.2 MB)\n",
            "\u001b[2K   \u001b[90m━━━━━━━━━━━━━━━━━━━━━━━━━━━━━━━━━━━━━━━━\u001b[0m \u001b[32m99.2/99.2 MB\u001b[0m \u001b[31m10.2 MB/s\u001b[0m eta \u001b[36m0:00:00\u001b[0m\n",
            "\u001b[?25hInstalling collected packages: catboost\n",
            "Successfully installed catboost-1.2.8\n"
          ]
        }
      ]
    },
    {
      "cell_type": "code",
      "source": [
        "from catboost import CatBoostClassifier"
      ],
      "metadata": {
        "id": "h0ieyb_0xG_q"
      },
      "execution_count": 9,
      "outputs": []
    },
    {
      "cell_type": "code",
      "source": [
        "df.dtypes"
      ],
      "metadata": {
        "colab": {
          "base_uri": "https://localhost:8080/",
          "height": 523
        },
        "id": "ySME2CFgxO5g",
        "outputId": "982d9b79-db86-4120-89d3-4a673131cfd1"
      },
      "execution_count": 10,
      "outputs": [
        {
          "output_type": "execute_result",
          "data": {
            "text/plain": [
              "RowNumber            int64\n",
              "CustomerId           int64\n",
              "Surname             object\n",
              "CreditScore          int64\n",
              "Geography           object\n",
              "Gender              object\n",
              "Age                  int64\n",
              "Tenure               int64\n",
              "Balance            float64\n",
              "NumOfProducts        int64\n",
              "HasCrCard            int64\n",
              "IsActiveMember       int64\n",
              "EstimatedSalary    float64\n",
              "Exited               int64\n",
              "dtype: object"
            ],
            "text/html": [
              "<div>\n",
              "<style scoped>\n",
              "    .dataframe tbody tr th:only-of-type {\n",
              "        vertical-align: middle;\n",
              "    }\n",
              "\n",
              "    .dataframe tbody tr th {\n",
              "        vertical-align: top;\n",
              "    }\n",
              "\n",
              "    .dataframe thead th {\n",
              "        text-align: right;\n",
              "    }\n",
              "</style>\n",
              "<table border=\"1\" class=\"dataframe\">\n",
              "  <thead>\n",
              "    <tr style=\"text-align: right;\">\n",
              "      <th></th>\n",
              "      <th>0</th>\n",
              "    </tr>\n",
              "  </thead>\n",
              "  <tbody>\n",
              "    <tr>\n",
              "      <th>RowNumber</th>\n",
              "      <td>int64</td>\n",
              "    </tr>\n",
              "    <tr>\n",
              "      <th>CustomerId</th>\n",
              "      <td>int64</td>\n",
              "    </tr>\n",
              "    <tr>\n",
              "      <th>Surname</th>\n",
              "      <td>object</td>\n",
              "    </tr>\n",
              "    <tr>\n",
              "      <th>CreditScore</th>\n",
              "      <td>int64</td>\n",
              "    </tr>\n",
              "    <tr>\n",
              "      <th>Geography</th>\n",
              "      <td>object</td>\n",
              "    </tr>\n",
              "    <tr>\n",
              "      <th>Gender</th>\n",
              "      <td>object</td>\n",
              "    </tr>\n",
              "    <tr>\n",
              "      <th>Age</th>\n",
              "      <td>int64</td>\n",
              "    </tr>\n",
              "    <tr>\n",
              "      <th>Tenure</th>\n",
              "      <td>int64</td>\n",
              "    </tr>\n",
              "    <tr>\n",
              "      <th>Balance</th>\n",
              "      <td>float64</td>\n",
              "    </tr>\n",
              "    <tr>\n",
              "      <th>NumOfProducts</th>\n",
              "      <td>int64</td>\n",
              "    </tr>\n",
              "    <tr>\n",
              "      <th>HasCrCard</th>\n",
              "      <td>int64</td>\n",
              "    </tr>\n",
              "    <tr>\n",
              "      <th>IsActiveMember</th>\n",
              "      <td>int64</td>\n",
              "    </tr>\n",
              "    <tr>\n",
              "      <th>EstimatedSalary</th>\n",
              "      <td>float64</td>\n",
              "    </tr>\n",
              "    <tr>\n",
              "      <th>Exited</th>\n",
              "      <td>int64</td>\n",
              "    </tr>\n",
              "  </tbody>\n",
              "</table>\n",
              "</div><br><label><b>dtype:</b> object</label>"
            ]
          },
          "metadata": {},
          "execution_count": 10
        }
      ]
    },
    {
      "cell_type": "code",
      "source": [
        "df.select_dtypes(include='object')"
      ],
      "metadata": {
        "colab": {
          "base_uri": "https://localhost:8080/",
          "height": 424
        },
        "id": "ebBvJCA_xWRp",
        "outputId": "c54d9f33-7da8-4bfa-d035-c239811aca64"
      },
      "execution_count": 11,
      "outputs": [
        {
          "output_type": "execute_result",
          "data": {
            "text/plain": [
              "        Surname Geography  Gender\n",
              "0      Hargrave    France  Female\n",
              "1          Hill     Spain  Female\n",
              "2          Onio    France  Female\n",
              "3          Boni    France  Female\n",
              "4      Mitchell     Spain  Female\n",
              "...         ...       ...     ...\n",
              "9995   Obijiaku    France    Male\n",
              "9996  Johnstone    France    Male\n",
              "9997        Liu    France  Female\n",
              "9998  Sabbatini   Germany    Male\n",
              "9999     Walker    France  Female\n",
              "\n",
              "[10000 rows x 3 columns]"
            ],
            "text/html": [
              "\n",
              "  <div id=\"df-5bc7ef29-4365-4c36-9950-c7bb106bf741\" class=\"colab-df-container\">\n",
              "    <div>\n",
              "<style scoped>\n",
              "    .dataframe tbody tr th:only-of-type {\n",
              "        vertical-align: middle;\n",
              "    }\n",
              "\n",
              "    .dataframe tbody tr th {\n",
              "        vertical-align: top;\n",
              "    }\n",
              "\n",
              "    .dataframe thead th {\n",
              "        text-align: right;\n",
              "    }\n",
              "</style>\n",
              "<table border=\"1\" class=\"dataframe\">\n",
              "  <thead>\n",
              "    <tr style=\"text-align: right;\">\n",
              "      <th></th>\n",
              "      <th>Surname</th>\n",
              "      <th>Geography</th>\n",
              "      <th>Gender</th>\n",
              "    </tr>\n",
              "  </thead>\n",
              "  <tbody>\n",
              "    <tr>\n",
              "      <th>0</th>\n",
              "      <td>Hargrave</td>\n",
              "      <td>France</td>\n",
              "      <td>Female</td>\n",
              "    </tr>\n",
              "    <tr>\n",
              "      <th>1</th>\n",
              "      <td>Hill</td>\n",
              "      <td>Spain</td>\n",
              "      <td>Female</td>\n",
              "    </tr>\n",
              "    <tr>\n",
              "      <th>2</th>\n",
              "      <td>Onio</td>\n",
              "      <td>France</td>\n",
              "      <td>Female</td>\n",
              "    </tr>\n",
              "    <tr>\n",
              "      <th>3</th>\n",
              "      <td>Boni</td>\n",
              "      <td>France</td>\n",
              "      <td>Female</td>\n",
              "    </tr>\n",
              "    <tr>\n",
              "      <th>4</th>\n",
              "      <td>Mitchell</td>\n",
              "      <td>Spain</td>\n",
              "      <td>Female</td>\n",
              "    </tr>\n",
              "    <tr>\n",
              "      <th>...</th>\n",
              "      <td>...</td>\n",
              "      <td>...</td>\n",
              "      <td>...</td>\n",
              "    </tr>\n",
              "    <tr>\n",
              "      <th>9995</th>\n",
              "      <td>Obijiaku</td>\n",
              "      <td>France</td>\n",
              "      <td>Male</td>\n",
              "    </tr>\n",
              "    <tr>\n",
              "      <th>9996</th>\n",
              "      <td>Johnstone</td>\n",
              "      <td>France</td>\n",
              "      <td>Male</td>\n",
              "    </tr>\n",
              "    <tr>\n",
              "      <th>9997</th>\n",
              "      <td>Liu</td>\n",
              "      <td>France</td>\n",
              "      <td>Female</td>\n",
              "    </tr>\n",
              "    <tr>\n",
              "      <th>9998</th>\n",
              "      <td>Sabbatini</td>\n",
              "      <td>Germany</td>\n",
              "      <td>Male</td>\n",
              "    </tr>\n",
              "    <tr>\n",
              "      <th>9999</th>\n",
              "      <td>Walker</td>\n",
              "      <td>France</td>\n",
              "      <td>Female</td>\n",
              "    </tr>\n",
              "  </tbody>\n",
              "</table>\n",
              "<p>10000 rows × 3 columns</p>\n",
              "</div>\n",
              "    <div class=\"colab-df-buttons\">\n",
              "\n",
              "  <div class=\"colab-df-container\">\n",
              "    <button class=\"colab-df-convert\" onclick=\"convertToInteractive('df-5bc7ef29-4365-4c36-9950-c7bb106bf741')\"\n",
              "            title=\"Convert this dataframe to an interactive table.\"\n",
              "            style=\"display:none;\">\n",
              "\n",
              "  <svg xmlns=\"http://www.w3.org/2000/svg\" height=\"24px\" viewBox=\"0 -960 960 960\">\n",
              "    <path d=\"M120-120v-720h720v720H120Zm60-500h600v-160H180v160Zm220 220h160v-160H400v160Zm0 220h160v-160H400v160ZM180-400h160v-160H180v160Zm440 0h160v-160H620v160ZM180-180h160v-160H180v160Zm440 0h160v-160H620v160Z\"/>\n",
              "  </svg>\n",
              "    </button>\n",
              "\n",
              "  <style>\n",
              "    .colab-df-container {\n",
              "      display:flex;\n",
              "      gap: 12px;\n",
              "    }\n",
              "\n",
              "    .colab-df-convert {\n",
              "      background-color: #E8F0FE;\n",
              "      border: none;\n",
              "      border-radius: 50%;\n",
              "      cursor: pointer;\n",
              "      display: none;\n",
              "      fill: #1967D2;\n",
              "      height: 32px;\n",
              "      padding: 0 0 0 0;\n",
              "      width: 32px;\n",
              "    }\n",
              "\n",
              "    .colab-df-convert:hover {\n",
              "      background-color: #E2EBFA;\n",
              "      box-shadow: 0px 1px 2px rgba(60, 64, 67, 0.3), 0px 1px 3px 1px rgba(60, 64, 67, 0.15);\n",
              "      fill: #174EA6;\n",
              "    }\n",
              "\n",
              "    .colab-df-buttons div {\n",
              "      margin-bottom: 4px;\n",
              "    }\n",
              "\n",
              "    [theme=dark] .colab-df-convert {\n",
              "      background-color: #3B4455;\n",
              "      fill: #D2E3FC;\n",
              "    }\n",
              "\n",
              "    [theme=dark] .colab-df-convert:hover {\n",
              "      background-color: #434B5C;\n",
              "      box-shadow: 0px 1px 3px 1px rgba(0, 0, 0, 0.15);\n",
              "      filter: drop-shadow(0px 1px 2px rgba(0, 0, 0, 0.3));\n",
              "      fill: #FFFFFF;\n",
              "    }\n",
              "  </style>\n",
              "\n",
              "    <script>\n",
              "      const buttonEl =\n",
              "        document.querySelector('#df-5bc7ef29-4365-4c36-9950-c7bb106bf741 button.colab-df-convert');\n",
              "      buttonEl.style.display =\n",
              "        google.colab.kernel.accessAllowed ? 'block' : 'none';\n",
              "\n",
              "      async function convertToInteractive(key) {\n",
              "        const element = document.querySelector('#df-5bc7ef29-4365-4c36-9950-c7bb106bf741');\n",
              "        const dataTable =\n",
              "          await google.colab.kernel.invokeFunction('convertToInteractive',\n",
              "                                                    [key], {});\n",
              "        if (!dataTable) return;\n",
              "\n",
              "        const docLinkHtml = 'Like what you see? Visit the ' +\n",
              "          '<a target=\"_blank\" href=https://colab.research.google.com/notebooks/data_table.ipynb>data table notebook</a>'\n",
              "          + ' to learn more about interactive tables.';\n",
              "        element.innerHTML = '';\n",
              "        dataTable['output_type'] = 'display_data';\n",
              "        await google.colab.output.renderOutput(dataTable, element);\n",
              "        const docLink = document.createElement('div');\n",
              "        docLink.innerHTML = docLinkHtml;\n",
              "        element.appendChild(docLink);\n",
              "      }\n",
              "    </script>\n",
              "  </div>\n",
              "\n",
              "\n",
              "    <div id=\"df-1e5caedf-a61f-418e-b583-196ead1a9c10\">\n",
              "      <button class=\"colab-df-quickchart\" onclick=\"quickchart('df-1e5caedf-a61f-418e-b583-196ead1a9c10')\"\n",
              "                title=\"Suggest charts\"\n",
              "                style=\"display:none;\">\n",
              "\n",
              "<svg xmlns=\"http://www.w3.org/2000/svg\" height=\"24px\"viewBox=\"0 0 24 24\"\n",
              "     width=\"24px\">\n",
              "    <g>\n",
              "        <path d=\"M19 3H5c-1.1 0-2 .9-2 2v14c0 1.1.9 2 2 2h14c1.1 0 2-.9 2-2V5c0-1.1-.9-2-2-2zM9 17H7v-7h2v7zm4 0h-2V7h2v10zm4 0h-2v-4h2v4z\"/>\n",
              "    </g>\n",
              "</svg>\n",
              "      </button>\n",
              "\n",
              "<style>\n",
              "  .colab-df-quickchart {\n",
              "      --bg-color: #E8F0FE;\n",
              "      --fill-color: #1967D2;\n",
              "      --hover-bg-color: #E2EBFA;\n",
              "      --hover-fill-color: #174EA6;\n",
              "      --disabled-fill-color: #AAA;\n",
              "      --disabled-bg-color: #DDD;\n",
              "  }\n",
              "\n",
              "  [theme=dark] .colab-df-quickchart {\n",
              "      --bg-color: #3B4455;\n",
              "      --fill-color: #D2E3FC;\n",
              "      --hover-bg-color: #434B5C;\n",
              "      --hover-fill-color: #FFFFFF;\n",
              "      --disabled-bg-color: #3B4455;\n",
              "      --disabled-fill-color: #666;\n",
              "  }\n",
              "\n",
              "  .colab-df-quickchart {\n",
              "    background-color: var(--bg-color);\n",
              "    border: none;\n",
              "    border-radius: 50%;\n",
              "    cursor: pointer;\n",
              "    display: none;\n",
              "    fill: var(--fill-color);\n",
              "    height: 32px;\n",
              "    padding: 0;\n",
              "    width: 32px;\n",
              "  }\n",
              "\n",
              "  .colab-df-quickchart:hover {\n",
              "    background-color: var(--hover-bg-color);\n",
              "    box-shadow: 0 1px 2px rgba(60, 64, 67, 0.3), 0 1px 3px 1px rgba(60, 64, 67, 0.15);\n",
              "    fill: var(--button-hover-fill-color);\n",
              "  }\n",
              "\n",
              "  .colab-df-quickchart-complete:disabled,\n",
              "  .colab-df-quickchart-complete:disabled:hover {\n",
              "    background-color: var(--disabled-bg-color);\n",
              "    fill: var(--disabled-fill-color);\n",
              "    box-shadow: none;\n",
              "  }\n",
              "\n",
              "  .colab-df-spinner {\n",
              "    border: 2px solid var(--fill-color);\n",
              "    border-color: transparent;\n",
              "    border-bottom-color: var(--fill-color);\n",
              "    animation:\n",
              "      spin 1s steps(1) infinite;\n",
              "  }\n",
              "\n",
              "  @keyframes spin {\n",
              "    0% {\n",
              "      border-color: transparent;\n",
              "      border-bottom-color: var(--fill-color);\n",
              "      border-left-color: var(--fill-color);\n",
              "    }\n",
              "    20% {\n",
              "      border-color: transparent;\n",
              "      border-left-color: var(--fill-color);\n",
              "      border-top-color: var(--fill-color);\n",
              "    }\n",
              "    30% {\n",
              "      border-color: transparent;\n",
              "      border-left-color: var(--fill-color);\n",
              "      border-top-color: var(--fill-color);\n",
              "      border-right-color: var(--fill-color);\n",
              "    }\n",
              "    40% {\n",
              "      border-color: transparent;\n",
              "      border-right-color: var(--fill-color);\n",
              "      border-top-color: var(--fill-color);\n",
              "    }\n",
              "    60% {\n",
              "      border-color: transparent;\n",
              "      border-right-color: var(--fill-color);\n",
              "    }\n",
              "    80% {\n",
              "      border-color: transparent;\n",
              "      border-right-color: var(--fill-color);\n",
              "      border-bottom-color: var(--fill-color);\n",
              "    }\n",
              "    90% {\n",
              "      border-color: transparent;\n",
              "      border-bottom-color: var(--fill-color);\n",
              "    }\n",
              "  }\n",
              "</style>\n",
              "\n",
              "      <script>\n",
              "        async function quickchart(key) {\n",
              "          const quickchartButtonEl =\n",
              "            document.querySelector('#' + key + ' button');\n",
              "          quickchartButtonEl.disabled = true;  // To prevent multiple clicks.\n",
              "          quickchartButtonEl.classList.add('colab-df-spinner');\n",
              "          try {\n",
              "            const charts = await google.colab.kernel.invokeFunction(\n",
              "                'suggestCharts', [key], {});\n",
              "          } catch (error) {\n",
              "            console.error('Error during call to suggestCharts:', error);\n",
              "          }\n",
              "          quickchartButtonEl.classList.remove('colab-df-spinner');\n",
              "          quickchartButtonEl.classList.add('colab-df-quickchart-complete');\n",
              "        }\n",
              "        (() => {\n",
              "          let quickchartButtonEl =\n",
              "            document.querySelector('#df-1e5caedf-a61f-418e-b583-196ead1a9c10 button');\n",
              "          quickchartButtonEl.style.display =\n",
              "            google.colab.kernel.accessAllowed ? 'block' : 'none';\n",
              "        })();\n",
              "      </script>\n",
              "    </div>\n",
              "    </div>\n",
              "  </div>\n"
            ],
            "application/vnd.google.colaboratory.intrinsic+json": {
              "type": "dataframe",
              "summary": "{\n  \"name\": \"df\",\n  \"rows\": 10000,\n  \"fields\": [\n    {\n      \"column\": \"Surname\",\n      \"properties\": {\n        \"dtype\": \"category\",\n        \"num_unique_values\": 2932,\n        \"samples\": [\n          \"McGuirk\",\n          \"Torkelson\",\n          \"Rapuluchukwu\"\n        ],\n        \"semantic_type\": \"\",\n        \"description\": \"\"\n      }\n    },\n    {\n      \"column\": \"Geography\",\n      \"properties\": {\n        \"dtype\": \"category\",\n        \"num_unique_values\": 3,\n        \"samples\": [\n          \"France\",\n          \"Spain\",\n          \"Germany\"\n        ],\n        \"semantic_type\": \"\",\n        \"description\": \"\"\n      }\n    },\n    {\n      \"column\": \"Gender\",\n      \"properties\": {\n        \"dtype\": \"category\",\n        \"num_unique_values\": 2,\n        \"samples\": [\n          \"Male\",\n          \"Female\"\n        ],\n        \"semantic_type\": \"\",\n        \"description\": \"\"\n      }\n    }\n  ]\n}"
            }
          },
          "metadata": {},
          "execution_count": 11
        }
      ]
    },
    {
      "cell_type": "code",
      "source": [
        "df.columns"
      ],
      "metadata": {
        "colab": {
          "base_uri": "https://localhost:8080/"
        },
        "id": "SqwE1cTfx7KP",
        "outputId": "12521213-01a3-4fe4-b71f-f2fb3b9f41a4"
      },
      "execution_count": 12,
      "outputs": [
        {
          "output_type": "execute_result",
          "data": {
            "text/plain": [
              "Index(['RowNumber', 'CustomerId', 'Surname', 'CreditScore', 'Geography',\n",
              "       'Gender', 'Age', 'Tenure', 'Balance', 'NumOfProducts', 'HasCrCard',\n",
              "       'IsActiveMember', 'EstimatedSalary', 'Exited'],\n",
              "      dtype='object')"
            ]
          },
          "metadata": {},
          "execution_count": 12
        }
      ]
    },
    {
      "cell_type": "code",
      "source": [
        "X = ['CustomerId', 'CreditScore', 'Geography',\n",
        "       'Gender', 'Age', 'Tenure', 'Balance', 'NumOfProducts', 'HasCrCard',\n",
        "       'IsActiveMember', 'EstimatedSalary']\n",
        "\n",
        "cat_features = ['Geography','Gender']\n",
        "\n",
        "y = ['Exited']"
      ],
      "metadata": {
        "id": "tIFuDRx9x_Kf"
      },
      "execution_count": 13,
      "outputs": []
    },
    {
      "cell_type": "code",
      "source": [
        "from catboost import Pool\n",
        "\n",
        "train_data = Pool(data=train[X],\n",
        "                  label=train[y],\n",
        "                  cat_features=cat_features\n",
        "                  )\n",
        "\n",
        "valid_data = Pool(data=val[X],\n",
        "                  label=val[y],\n",
        "                  cat_features=cat_features\n",
        "                  )\n",
        "\n",
        "test_data = Pool(data=test[X],\n",
        "                  label=test[y],\n",
        "                  cat_features=cat_features\n",
        "                  )\n",
        "\n"
      ],
      "metadata": {
        "id": "xE1tHXtmyIkd"
      },
      "execution_count": 14,
      "outputs": []
    },
    {
      "cell_type": "code",
      "source": [
        "params = {'verbose':100,\n",
        "          'eval_metric':'AUC',\n",
        "          'loss_function':'Logloss',\n",
        "          'random_seed':42,\n",
        "          'learning_rate':0.01}"
      ],
      "metadata": {
        "id": "YKSgWeMFyPIA"
      },
      "execution_count": 15,
      "outputs": []
    },
    {
      "cell_type": "code",
      "source": [
        "model = CatBoostClassifier(**params)"
      ],
      "metadata": {
        "id": "1FJ4kVwQzZ1P"
      },
      "execution_count": 16,
      "outputs": []
    },
    {
      "cell_type": "code",
      "source": [
        "model.fit(train_data,eval_set=valid_data)"
      ],
      "metadata": {
        "colab": {
          "base_uri": "https://localhost:8080/"
        },
        "id": "3eoEpgFDzd6l",
        "outputId": "40316bbc-9b1a-41c9-8054-af028da19611"
      },
      "execution_count": 17,
      "outputs": [
        {
          "output_type": "stream",
          "name": "stdout",
          "text": [
            "0:\ttest: 0.8338545\tbest: 0.8338545 (0)\ttotal: 71.2ms\tremaining: 1m 11s\n",
            "100:\ttest: 0.8725090\tbest: 0.8725090 (100)\ttotal: 1.9s\tremaining: 16.9s\n",
            "200:\ttest: 0.8784656\tbest: 0.8784656 (200)\ttotal: 3.85s\tremaining: 15.3s\n",
            "300:\ttest: 0.8812676\tbest: 0.8812676 (300)\ttotal: 6.03s\tremaining: 14s\n",
            "400:\ttest: 0.8823868\tbest: 0.8824376 (390)\ttotal: 8.58s\tremaining: 12.8s\n",
            "500:\ttest: 0.8834491\tbest: 0.8834522 (498)\ttotal: 11s\tremaining: 11s\n",
            "600:\ttest: 0.8834737\tbest: 0.8836554 (564)\ttotal: 13.8s\tremaining: 9.17s\n",
            "700:\ttest: 0.8837847\tbest: 0.8838694 (685)\ttotal: 15.6s\tremaining: 6.65s\n",
            "800:\ttest: 0.8834383\tbest: 0.8838694 (685)\ttotal: 16.4s\tremaining: 4.06s\n",
            "900:\ttest: 0.8829318\tbest: 0.8838694 (685)\ttotal: 17.1s\tremaining: 1.88s\n",
            "999:\ttest: 0.8822744\tbest: 0.8838694 (685)\ttotal: 17.9s\tremaining: 0us\n",
            "\n",
            "bestTest = 0.8838694083\n",
            "bestIteration = 685\n",
            "\n",
            "Shrink model to first 686 iterations.\n"
          ]
        },
        {
          "output_type": "execute_result",
          "data": {
            "text/plain": [
              "<catboost.core.CatBoostClassifier at 0x7a74d51e2d90>"
            ]
          },
          "metadata": {},
          "execution_count": 17
        }
      ]
    },
    {
      "cell_type": "code",
      "source": [
        "n_iters = model.best_iteration_ + 1"
      ],
      "metadata": {
        "id": "DoHWgvB9zptL"
      },
      "execution_count": 18,
      "outputs": []
    },
    {
      "cell_type": "code",
      "source": [
        "n_iters"
      ],
      "metadata": {
        "colab": {
          "base_uri": "https://localhost:8080/"
        },
        "id": "CARuhPubz9a8",
        "outputId": "872b2a71-dc27-4fea-e393-0403aaed13e0"
      },
      "execution_count": 19,
      "outputs": [
        {
          "output_type": "execute_result",
          "data": {
            "text/plain": [
              "686"
            ]
          },
          "metadata": {},
          "execution_count": 19
        }
      ]
    },
    {
      "cell_type": "code",
      "source": [
        "params = {'iterations':n_iters,\n",
        "          'verbose':100,\n",
        "          'eval_metric':'AUC',\n",
        "          'loss_function':'Logloss',\n",
        "          'random_seed':42,\n",
        "          'learning_rate':0.01}"
      ],
      "metadata": {
        "id": "8b7ZHgco0ALV"
      },
      "execution_count": 20,
      "outputs": []
    },
    {
      "cell_type": "code",
      "source": [
        "model = CatBoostClassifier(**params)"
      ],
      "metadata": {
        "id": "DK7otEu_0OOA"
      },
      "execution_count": 21,
      "outputs": []
    },
    {
      "cell_type": "code",
      "source": [
        "train_full = pd.concat([train,val])"
      ],
      "metadata": {
        "id": "NkVC9jJ_0XEe"
      },
      "execution_count": 22,
      "outputs": []
    },
    {
      "cell_type": "code",
      "source": [
        "train_full_data = Pool(data=train_full[X],\n",
        "                  label=train_full[y],\n",
        "                  cat_features=cat_features\n",
        "                  )"
      ],
      "metadata": {
        "id": "0BOAjpiE0s8U"
      },
      "execution_count": 23,
      "outputs": []
    },
    {
      "cell_type": "code",
      "source": [
        "model.fit(train_full_data)"
      ],
      "metadata": {
        "colab": {
          "base_uri": "https://localhost:8080/"
        },
        "id": "1ES8dOwT05_H",
        "outputId": "ef94bdf3-38d7-4c81-8be6-69ec315c054a"
      },
      "execution_count": 24,
      "outputs": [
        {
          "output_type": "stream",
          "name": "stdout",
          "text": [
            "0:\ttotal: 9.55ms\tremaining: 6.54s\n",
            "100:\ttotal: 947ms\tremaining: 5.49s\n",
            "200:\ttotal: 1.84s\tremaining: 4.44s\n",
            "300:\ttotal: 2.74s\tremaining: 3.51s\n",
            "400:\ttotal: 3.65s\tremaining: 2.6s\n",
            "500:\ttotal: 4.54s\tremaining: 1.67s\n",
            "600:\ttotal: 5.44s\tremaining: 769ms\n",
            "685:\ttotal: 6.21s\tremaining: 0us\n"
          ]
        },
        {
          "output_type": "execute_result",
          "data": {
            "text/plain": [
              "<catboost.core.CatBoostClassifier at 0x7a74d5180990>"
            ]
          },
          "metadata": {},
          "execution_count": 24
        }
      ]
    },
    {
      "cell_type": "code",
      "source": [
        "test['y_score_no_cross_val'] = model.predict_proba(test_data)[:,1]"
      ],
      "metadata": {
        "id": "VsiqiYrY1BWA"
      },
      "execution_count": 25,
      "outputs": []
    },
    {
      "cell_type": "code",
      "source": [
        "from sklearn.metrics import roc_auc_score"
      ],
      "metadata": {
        "id": "S-t5DPqd1GFd"
      },
      "execution_count": 26,
      "outputs": []
    },
    {
      "cell_type": "code",
      "source": [
        "roc_auc_score(test['Exited'],test['y_score_no_cross_val'])"
      ],
      "metadata": {
        "colab": {
          "base_uri": "https://localhost:8080/"
        },
        "id": "aiuXIlvA1LS9",
        "outputId": "fba6a551-fb6d-4b3b-fd5a-b7658894b157"
      },
      "execution_count": 27,
      "outputs": [
        {
          "output_type": "execute_result",
          "data": {
            "text/plain": [
              "np.float64(0.8735839074822127)"
            ]
          },
          "metadata": {},
          "execution_count": 27
        }
      ]
    },
    {
      "cell_type": "markdown",
      "source": [
        "# **Кросс валидация**"
      ],
      "metadata": {
        "id": "11HtBJDS2GeD"
      }
    },
    {
      "cell_type": "code",
      "source": [
        "from catboost import cv"
      ],
      "metadata": {
        "id": "73A5qEVJb9iA"
      },
      "execution_count": 28,
      "outputs": []
    },
    {
      "cell_type": "code",
      "source": [
        "params = {'verbose':100,\n",
        "          'eval_metric':'AUC',\n",
        "          'loss_function':'Logloss',\n",
        "          'random_seed':42,\n",
        "          'learning_rate':0.01}"
      ],
      "metadata": {
        "id": "S-aACNyAcDry"
      },
      "execution_count": 29,
      "outputs": []
    },
    {
      "cell_type": "code",
      "source": [
        "cv_data = cv(\n",
        "    params = params,\n",
        "    pool = train_full_data,\n",
        "    fold_count=5,\n",
        "    shuffle=True,\n",
        "    partition_random_seed = 0,\n",
        "    stratified=False,\n",
        "    verbose=False\n",
        ")"
      ],
      "metadata": {
        "colab": {
          "base_uri": "https://localhost:8080/"
        },
        "id": "uhvKt3ktcRJu",
        "outputId": "88530a44-753d-4d8a-c616-eff50357844b"
      },
      "execution_count": 32,
      "outputs": [
        {
          "output_type": "stream",
          "name": "stdout",
          "text": [
            "Training on fold [0/5]\n",
            "\n",
            "bestTest = 0.866360207\n",
            "bestIteration = 881\n",
            "\n",
            "Training on fold [1/5]\n",
            "\n",
            "bestTest = 0.8716621864\n",
            "bestIteration = 998\n",
            "\n",
            "Training on fold [2/5]\n",
            "\n",
            "bestTest = 0.8695412245\n",
            "bestIteration = 540\n",
            "\n",
            "Training on fold [3/5]\n",
            "\n",
            "bestTest = 0.8795945701\n",
            "bestIteration = 942\n",
            "\n",
            "Training on fold [4/5]\n",
            "\n",
            "bestTest = 0.8586794872\n",
            "bestIteration = 750\n",
            "\n"
          ]
        }
      ]
    },
    {
      "cell_type": "code",
      "source": [
        "cv_data"
      ],
      "metadata": {
        "colab": {
          "base_uri": "https://localhost:8080/",
          "height": 424
        },
        "id": "ISyw3ZVIdBsy",
        "outputId": "51ada6b5-6fa1-4559-d59a-f577be7eba70"
      },
      "execution_count": 34,
      "outputs": [
        {
          "output_type": "execute_result",
          "data": {
            "text/plain": [
              "     iterations  test-AUC-mean  test-AUC-std  test-Logloss-mean  \\\n",
              "0             0       0.818479      0.009480           0.685020   \n",
              "1             1       0.823848      0.010334           0.677216   \n",
              "2             2       0.831819      0.009265           0.668989   \n",
              "3             3       0.834559      0.008771           0.662008   \n",
              "4             4       0.834483      0.008218           0.654599   \n",
              "..          ...            ...           ...                ...   \n",
              "995         995       0.868703      0.007809           0.329986   \n",
              "996         996       0.868715      0.007781           0.329972   \n",
              "997         997       0.868718      0.007804           0.329972   \n",
              "998         998       0.868725      0.007777           0.329969   \n",
              "999         999       0.868729      0.007779           0.329964   \n",
              "\n",
              "     test-Logloss-std  train-Logloss-mean  train-Logloss-std  \n",
              "0            0.000209            0.684939           0.000262  \n",
              "1            0.000374            0.677055           0.000503  \n",
              "2            0.000472            0.668799           0.000751  \n",
              "3            0.001326            0.661753           0.000689  \n",
              "4            0.001429            0.654270           0.000898  \n",
              "..                ...                 ...                ...  \n",
              "995          0.016873            0.284097           0.003644  \n",
              "996          0.016875            0.284057           0.003631  \n",
              "997          0.016876            0.284003           0.003636  \n",
              "998          0.016855            0.283943           0.003613  \n",
              "999          0.016869            0.283886           0.003601  \n",
              "\n",
              "[1000 rows x 7 columns]"
            ],
            "text/html": [
              "\n",
              "  <div id=\"df-f7e6b850-e908-486d-8dfc-55db8aae4544\" class=\"colab-df-container\">\n",
              "    <div>\n",
              "<style scoped>\n",
              "    .dataframe tbody tr th:only-of-type {\n",
              "        vertical-align: middle;\n",
              "    }\n",
              "\n",
              "    .dataframe tbody tr th {\n",
              "        vertical-align: top;\n",
              "    }\n",
              "\n",
              "    .dataframe thead th {\n",
              "        text-align: right;\n",
              "    }\n",
              "</style>\n",
              "<table border=\"1\" class=\"dataframe\">\n",
              "  <thead>\n",
              "    <tr style=\"text-align: right;\">\n",
              "      <th></th>\n",
              "      <th>iterations</th>\n",
              "      <th>test-AUC-mean</th>\n",
              "      <th>test-AUC-std</th>\n",
              "      <th>test-Logloss-mean</th>\n",
              "      <th>test-Logloss-std</th>\n",
              "      <th>train-Logloss-mean</th>\n",
              "      <th>train-Logloss-std</th>\n",
              "    </tr>\n",
              "  </thead>\n",
              "  <tbody>\n",
              "    <tr>\n",
              "      <th>0</th>\n",
              "      <td>0</td>\n",
              "      <td>0.818479</td>\n",
              "      <td>0.009480</td>\n",
              "      <td>0.685020</td>\n",
              "      <td>0.000209</td>\n",
              "      <td>0.684939</td>\n",
              "      <td>0.000262</td>\n",
              "    </tr>\n",
              "    <tr>\n",
              "      <th>1</th>\n",
              "      <td>1</td>\n",
              "      <td>0.823848</td>\n",
              "      <td>0.010334</td>\n",
              "      <td>0.677216</td>\n",
              "      <td>0.000374</td>\n",
              "      <td>0.677055</td>\n",
              "      <td>0.000503</td>\n",
              "    </tr>\n",
              "    <tr>\n",
              "      <th>2</th>\n",
              "      <td>2</td>\n",
              "      <td>0.831819</td>\n",
              "      <td>0.009265</td>\n",
              "      <td>0.668989</td>\n",
              "      <td>0.000472</td>\n",
              "      <td>0.668799</td>\n",
              "      <td>0.000751</td>\n",
              "    </tr>\n",
              "    <tr>\n",
              "      <th>3</th>\n",
              "      <td>3</td>\n",
              "      <td>0.834559</td>\n",
              "      <td>0.008771</td>\n",
              "      <td>0.662008</td>\n",
              "      <td>0.001326</td>\n",
              "      <td>0.661753</td>\n",
              "      <td>0.000689</td>\n",
              "    </tr>\n",
              "    <tr>\n",
              "      <th>4</th>\n",
              "      <td>4</td>\n",
              "      <td>0.834483</td>\n",
              "      <td>0.008218</td>\n",
              "      <td>0.654599</td>\n",
              "      <td>0.001429</td>\n",
              "      <td>0.654270</td>\n",
              "      <td>0.000898</td>\n",
              "    </tr>\n",
              "    <tr>\n",
              "      <th>...</th>\n",
              "      <td>...</td>\n",
              "      <td>...</td>\n",
              "      <td>...</td>\n",
              "      <td>...</td>\n",
              "      <td>...</td>\n",
              "      <td>...</td>\n",
              "      <td>...</td>\n",
              "    </tr>\n",
              "    <tr>\n",
              "      <th>995</th>\n",
              "      <td>995</td>\n",
              "      <td>0.868703</td>\n",
              "      <td>0.007809</td>\n",
              "      <td>0.329986</td>\n",
              "      <td>0.016873</td>\n",
              "      <td>0.284097</td>\n",
              "      <td>0.003644</td>\n",
              "    </tr>\n",
              "    <tr>\n",
              "      <th>996</th>\n",
              "      <td>996</td>\n",
              "      <td>0.868715</td>\n",
              "      <td>0.007781</td>\n",
              "      <td>0.329972</td>\n",
              "      <td>0.016875</td>\n",
              "      <td>0.284057</td>\n",
              "      <td>0.003631</td>\n",
              "    </tr>\n",
              "    <tr>\n",
              "      <th>997</th>\n",
              "      <td>997</td>\n",
              "      <td>0.868718</td>\n",
              "      <td>0.007804</td>\n",
              "      <td>0.329972</td>\n",
              "      <td>0.016876</td>\n",
              "      <td>0.284003</td>\n",
              "      <td>0.003636</td>\n",
              "    </tr>\n",
              "    <tr>\n",
              "      <th>998</th>\n",
              "      <td>998</td>\n",
              "      <td>0.868725</td>\n",
              "      <td>0.007777</td>\n",
              "      <td>0.329969</td>\n",
              "      <td>0.016855</td>\n",
              "      <td>0.283943</td>\n",
              "      <td>0.003613</td>\n",
              "    </tr>\n",
              "    <tr>\n",
              "      <th>999</th>\n",
              "      <td>999</td>\n",
              "      <td>0.868729</td>\n",
              "      <td>0.007779</td>\n",
              "      <td>0.329964</td>\n",
              "      <td>0.016869</td>\n",
              "      <td>0.283886</td>\n",
              "      <td>0.003601</td>\n",
              "    </tr>\n",
              "  </tbody>\n",
              "</table>\n",
              "<p>1000 rows × 7 columns</p>\n",
              "</div>\n",
              "    <div class=\"colab-df-buttons\">\n",
              "\n",
              "  <div class=\"colab-df-container\">\n",
              "    <button class=\"colab-df-convert\" onclick=\"convertToInteractive('df-f7e6b850-e908-486d-8dfc-55db8aae4544')\"\n",
              "            title=\"Convert this dataframe to an interactive table.\"\n",
              "            style=\"display:none;\">\n",
              "\n",
              "  <svg xmlns=\"http://www.w3.org/2000/svg\" height=\"24px\" viewBox=\"0 -960 960 960\">\n",
              "    <path d=\"M120-120v-720h720v720H120Zm60-500h600v-160H180v160Zm220 220h160v-160H400v160Zm0 220h160v-160H400v160ZM180-400h160v-160H180v160Zm440 0h160v-160H620v160ZM180-180h160v-160H180v160Zm440 0h160v-160H620v160Z\"/>\n",
              "  </svg>\n",
              "    </button>\n",
              "\n",
              "  <style>\n",
              "    .colab-df-container {\n",
              "      display:flex;\n",
              "      gap: 12px;\n",
              "    }\n",
              "\n",
              "    .colab-df-convert {\n",
              "      background-color: #E8F0FE;\n",
              "      border: none;\n",
              "      border-radius: 50%;\n",
              "      cursor: pointer;\n",
              "      display: none;\n",
              "      fill: #1967D2;\n",
              "      height: 32px;\n",
              "      padding: 0 0 0 0;\n",
              "      width: 32px;\n",
              "    }\n",
              "\n",
              "    .colab-df-convert:hover {\n",
              "      background-color: #E2EBFA;\n",
              "      box-shadow: 0px 1px 2px rgba(60, 64, 67, 0.3), 0px 1px 3px 1px rgba(60, 64, 67, 0.15);\n",
              "      fill: #174EA6;\n",
              "    }\n",
              "\n",
              "    .colab-df-buttons div {\n",
              "      margin-bottom: 4px;\n",
              "    }\n",
              "\n",
              "    [theme=dark] .colab-df-convert {\n",
              "      background-color: #3B4455;\n",
              "      fill: #D2E3FC;\n",
              "    }\n",
              "\n",
              "    [theme=dark] .colab-df-convert:hover {\n",
              "      background-color: #434B5C;\n",
              "      box-shadow: 0px 1px 3px 1px rgba(0, 0, 0, 0.15);\n",
              "      filter: drop-shadow(0px 1px 2px rgba(0, 0, 0, 0.3));\n",
              "      fill: #FFFFFF;\n",
              "    }\n",
              "  </style>\n",
              "\n",
              "    <script>\n",
              "      const buttonEl =\n",
              "        document.querySelector('#df-f7e6b850-e908-486d-8dfc-55db8aae4544 button.colab-df-convert');\n",
              "      buttonEl.style.display =\n",
              "        google.colab.kernel.accessAllowed ? 'block' : 'none';\n",
              "\n",
              "      async function convertToInteractive(key) {\n",
              "        const element = document.querySelector('#df-f7e6b850-e908-486d-8dfc-55db8aae4544');\n",
              "        const dataTable =\n",
              "          await google.colab.kernel.invokeFunction('convertToInteractive',\n",
              "                                                    [key], {});\n",
              "        if (!dataTable) return;\n",
              "\n",
              "        const docLinkHtml = 'Like what you see? Visit the ' +\n",
              "          '<a target=\"_blank\" href=https://colab.research.google.com/notebooks/data_table.ipynb>data table notebook</a>'\n",
              "          + ' to learn more about interactive tables.';\n",
              "        element.innerHTML = '';\n",
              "        dataTable['output_type'] = 'display_data';\n",
              "        await google.colab.output.renderOutput(dataTable, element);\n",
              "        const docLink = document.createElement('div');\n",
              "        docLink.innerHTML = docLinkHtml;\n",
              "        element.appendChild(docLink);\n",
              "      }\n",
              "    </script>\n",
              "  </div>\n",
              "\n",
              "\n",
              "    <div id=\"df-cb2a1b19-3c3a-485f-bf59-17d933b8afdd\">\n",
              "      <button class=\"colab-df-quickchart\" onclick=\"quickchart('df-cb2a1b19-3c3a-485f-bf59-17d933b8afdd')\"\n",
              "                title=\"Suggest charts\"\n",
              "                style=\"display:none;\">\n",
              "\n",
              "<svg xmlns=\"http://www.w3.org/2000/svg\" height=\"24px\"viewBox=\"0 0 24 24\"\n",
              "     width=\"24px\">\n",
              "    <g>\n",
              "        <path d=\"M19 3H5c-1.1 0-2 .9-2 2v14c0 1.1.9 2 2 2h14c1.1 0 2-.9 2-2V5c0-1.1-.9-2-2-2zM9 17H7v-7h2v7zm4 0h-2V7h2v10zm4 0h-2v-4h2v4z\"/>\n",
              "    </g>\n",
              "</svg>\n",
              "      </button>\n",
              "\n",
              "<style>\n",
              "  .colab-df-quickchart {\n",
              "      --bg-color: #E8F0FE;\n",
              "      --fill-color: #1967D2;\n",
              "      --hover-bg-color: #E2EBFA;\n",
              "      --hover-fill-color: #174EA6;\n",
              "      --disabled-fill-color: #AAA;\n",
              "      --disabled-bg-color: #DDD;\n",
              "  }\n",
              "\n",
              "  [theme=dark] .colab-df-quickchart {\n",
              "      --bg-color: #3B4455;\n",
              "      --fill-color: #D2E3FC;\n",
              "      --hover-bg-color: #434B5C;\n",
              "      --hover-fill-color: #FFFFFF;\n",
              "      --disabled-bg-color: #3B4455;\n",
              "      --disabled-fill-color: #666;\n",
              "  }\n",
              "\n",
              "  .colab-df-quickchart {\n",
              "    background-color: var(--bg-color);\n",
              "    border: none;\n",
              "    border-radius: 50%;\n",
              "    cursor: pointer;\n",
              "    display: none;\n",
              "    fill: var(--fill-color);\n",
              "    height: 32px;\n",
              "    padding: 0;\n",
              "    width: 32px;\n",
              "  }\n",
              "\n",
              "  .colab-df-quickchart:hover {\n",
              "    background-color: var(--hover-bg-color);\n",
              "    box-shadow: 0 1px 2px rgba(60, 64, 67, 0.3), 0 1px 3px 1px rgba(60, 64, 67, 0.15);\n",
              "    fill: var(--button-hover-fill-color);\n",
              "  }\n",
              "\n",
              "  .colab-df-quickchart-complete:disabled,\n",
              "  .colab-df-quickchart-complete:disabled:hover {\n",
              "    background-color: var(--disabled-bg-color);\n",
              "    fill: var(--disabled-fill-color);\n",
              "    box-shadow: none;\n",
              "  }\n",
              "\n",
              "  .colab-df-spinner {\n",
              "    border: 2px solid var(--fill-color);\n",
              "    border-color: transparent;\n",
              "    border-bottom-color: var(--fill-color);\n",
              "    animation:\n",
              "      spin 1s steps(1) infinite;\n",
              "  }\n",
              "\n",
              "  @keyframes spin {\n",
              "    0% {\n",
              "      border-color: transparent;\n",
              "      border-bottom-color: var(--fill-color);\n",
              "      border-left-color: var(--fill-color);\n",
              "    }\n",
              "    20% {\n",
              "      border-color: transparent;\n",
              "      border-left-color: var(--fill-color);\n",
              "      border-top-color: var(--fill-color);\n",
              "    }\n",
              "    30% {\n",
              "      border-color: transparent;\n",
              "      border-left-color: var(--fill-color);\n",
              "      border-top-color: var(--fill-color);\n",
              "      border-right-color: var(--fill-color);\n",
              "    }\n",
              "    40% {\n",
              "      border-color: transparent;\n",
              "      border-right-color: var(--fill-color);\n",
              "      border-top-color: var(--fill-color);\n",
              "    }\n",
              "    60% {\n",
              "      border-color: transparent;\n",
              "      border-right-color: var(--fill-color);\n",
              "    }\n",
              "    80% {\n",
              "      border-color: transparent;\n",
              "      border-right-color: var(--fill-color);\n",
              "      border-bottom-color: var(--fill-color);\n",
              "    }\n",
              "    90% {\n",
              "      border-color: transparent;\n",
              "      border-bottom-color: var(--fill-color);\n",
              "    }\n",
              "  }\n",
              "</style>\n",
              "\n",
              "      <script>\n",
              "        async function quickchart(key) {\n",
              "          const quickchartButtonEl =\n",
              "            document.querySelector('#' + key + ' button');\n",
              "          quickchartButtonEl.disabled = true;  // To prevent multiple clicks.\n",
              "          quickchartButtonEl.classList.add('colab-df-spinner');\n",
              "          try {\n",
              "            const charts = await google.colab.kernel.invokeFunction(\n",
              "                'suggestCharts', [key], {});\n",
              "          } catch (error) {\n",
              "            console.error('Error during call to suggestCharts:', error);\n",
              "          }\n",
              "          quickchartButtonEl.classList.remove('colab-df-spinner');\n",
              "          quickchartButtonEl.classList.add('colab-df-quickchart-complete');\n",
              "        }\n",
              "        (() => {\n",
              "          let quickchartButtonEl =\n",
              "            document.querySelector('#df-cb2a1b19-3c3a-485f-bf59-17d933b8afdd button');\n",
              "          quickchartButtonEl.style.display =\n",
              "            google.colab.kernel.accessAllowed ? 'block' : 'none';\n",
              "        })();\n",
              "      </script>\n",
              "    </div>\n",
              "    </div>\n",
              "  </div>\n"
            ],
            "application/vnd.google.colaboratory.intrinsic+json": {
              "type": "dataframe",
              "variable_name": "cv_data",
              "summary": "{\n  \"name\": \"cv_data\",\n  \"rows\": 1000,\n  \"fields\": [\n    {\n      \"column\": \"iterations\",\n      \"properties\": {\n        \"dtype\": \"number\",\n        \"std\": 288,\n        \"min\": 0,\n        \"max\": 999,\n        \"num_unique_values\": 1000,\n        \"samples\": [\n          521,\n          737,\n          740\n        ],\n        \"semantic_type\": \"\",\n        \"description\": \"\"\n      }\n    },\n    {\n      \"column\": \"test-AUC-mean\",\n      \"properties\": {\n        \"dtype\": \"number\",\n        \"std\": 0.0069042631004569005,\n        \"min\": 0.8184786310664103,\n        \"max\": 0.8688218559102292,\n        \"num_unique_values\": 1000,\n        \"samples\": [\n          0.8680927825769988,\n          0.8688112541821823,\n          0.8688126614129128\n        ],\n        \"semantic_type\": \"\",\n        \"description\": \"\"\n      }\n    },\n    {\n      \"column\": \"test-AUC-std\",\n      \"properties\": {\n        \"dtype\": \"number\",\n        \"std\": 0.0011897369344733967,\n        \"min\": 0.007375525964690294,\n        \"max\": 0.013514308884443731,\n        \"num_unique_values\": 1000,\n        \"samples\": [\n          0.007516326435238886,\n          0.0074930152338874055,\n          0.007464845459462979\n        ],\n        \"semantic_type\": \"\",\n        \"description\": \"\"\n      }\n    },\n    {\n      \"column\": \"test-Logloss-mean\",\n      \"properties\": {\n        \"dtype\": \"number\",\n        \"std\": 0.052911874835349565,\n        \"min\": 0.3299586010492434,\n        \"max\": 0.685020265064378,\n        \"num_unique_values\": 1000,\n        \"samples\": [\n          0.33328508411045626,\n          0.3308363035316654,\n          0.3308304637022058\n        ],\n        \"semantic_type\": \"\",\n        \"description\": \"\"\n      }\n    },\n    {\n      \"column\": \"test-Logloss-std\",\n      \"properties\": {\n        \"dtype\": \"number\",\n        \"std\": 0.002995970950883945,\n        \"min\": 0.00020903846271185731,\n        \"max\": 0.017228780619837628,\n        \"num_unique_values\": 1000,\n        \"samples\": [\n          0.01711120818799487,\n          0.017021320199666578,\n          0.017010510557396066\n        ],\n        \"semantic_type\": \"\",\n        \"description\": \"\"\n      }\n    },\n    {\n      \"column\": \"train-Logloss-mean\",\n      \"properties\": {\n        \"dtype\": \"number\",\n        \"std\": 0.061545794300428724,\n        \"min\": 0.28388620451286295,\n        \"max\": 0.6849392440471956,\n        \"num_unique_values\": 1000,\n        \"samples\": [\n          0.30952725598987674,\n          0.2975998677545974,\n          0.29747941374997316\n        ],\n        \"semantic_type\": \"\",\n        \"description\": \"\"\n      }\n    },\n    {\n      \"column\": \"train-Logloss-std\",\n      \"properties\": {\n        \"dtype\": \"number\",\n        \"std\": 0.0006636564826997693,\n        \"min\": 0.0002616976770828111,\n        \"max\": 0.005076557340507927,\n        \"num_unique_values\": 1000,\n        \"samples\": [\n          0.004616919708040409,\n          0.004361464970723275,\n          0.004309654788703347\n        ],\n        \"semantic_type\": \"\",\n        \"description\": \"\"\n      }\n    }\n  ]\n}"
            }
          },
          "metadata": {},
          "execution_count": 34
        }
      ]
    },
    {
      "cell_type": "code",
      "source": [
        "cv_data[cv_data['test-AUC-mean'] == cv_data['test-AUC-mean'].max()]"
      ],
      "metadata": {
        "colab": {
          "base_uri": "https://localhost:8080/",
          "height": 81
        },
        "id": "QQwboCoYdUJd",
        "outputId": "2fee59f9-e056-4fa6-dfc1-e9e8ca50c6ea"
      },
      "execution_count": 43,
      "outputs": [
        {
          "output_type": "execute_result",
          "data": {
            "text/plain": [
              "     iterations  test-AUC-mean  test-AUC-std  test-Logloss-mean  \\\n",
              "741         741       0.868822      0.007457           0.330818   \n",
              "\n",
              "     test-Logloss-std  train-Logloss-mean  train-Logloss-std  \n",
              "741          0.017005            0.297428           0.004326  "
            ],
            "text/html": [
              "\n",
              "  <div id=\"df-61bf8817-f193-44c5-a053-2fc4b83058b4\" class=\"colab-df-container\">\n",
              "    <div>\n",
              "<style scoped>\n",
              "    .dataframe tbody tr th:only-of-type {\n",
              "        vertical-align: middle;\n",
              "    }\n",
              "\n",
              "    .dataframe tbody tr th {\n",
              "        vertical-align: top;\n",
              "    }\n",
              "\n",
              "    .dataframe thead th {\n",
              "        text-align: right;\n",
              "    }\n",
              "</style>\n",
              "<table border=\"1\" class=\"dataframe\">\n",
              "  <thead>\n",
              "    <tr style=\"text-align: right;\">\n",
              "      <th></th>\n",
              "      <th>iterations</th>\n",
              "      <th>test-AUC-mean</th>\n",
              "      <th>test-AUC-std</th>\n",
              "      <th>test-Logloss-mean</th>\n",
              "      <th>test-Logloss-std</th>\n",
              "      <th>train-Logloss-mean</th>\n",
              "      <th>train-Logloss-std</th>\n",
              "    </tr>\n",
              "  </thead>\n",
              "  <tbody>\n",
              "    <tr>\n",
              "      <th>741</th>\n",
              "      <td>741</td>\n",
              "      <td>0.868822</td>\n",
              "      <td>0.007457</td>\n",
              "      <td>0.330818</td>\n",
              "      <td>0.017005</td>\n",
              "      <td>0.297428</td>\n",
              "      <td>0.004326</td>\n",
              "    </tr>\n",
              "  </tbody>\n",
              "</table>\n",
              "</div>\n",
              "    <div class=\"colab-df-buttons\">\n",
              "\n",
              "  <div class=\"colab-df-container\">\n",
              "    <button class=\"colab-df-convert\" onclick=\"convertToInteractive('df-61bf8817-f193-44c5-a053-2fc4b83058b4')\"\n",
              "            title=\"Convert this dataframe to an interactive table.\"\n",
              "            style=\"display:none;\">\n",
              "\n",
              "  <svg xmlns=\"http://www.w3.org/2000/svg\" height=\"24px\" viewBox=\"0 -960 960 960\">\n",
              "    <path d=\"M120-120v-720h720v720H120Zm60-500h600v-160H180v160Zm220 220h160v-160H400v160Zm0 220h160v-160H400v160ZM180-400h160v-160H180v160Zm440 0h160v-160H620v160ZM180-180h160v-160H180v160Zm440 0h160v-160H620v160Z\"/>\n",
              "  </svg>\n",
              "    </button>\n",
              "\n",
              "  <style>\n",
              "    .colab-df-container {\n",
              "      display:flex;\n",
              "      gap: 12px;\n",
              "    }\n",
              "\n",
              "    .colab-df-convert {\n",
              "      background-color: #E8F0FE;\n",
              "      border: none;\n",
              "      border-radius: 50%;\n",
              "      cursor: pointer;\n",
              "      display: none;\n",
              "      fill: #1967D2;\n",
              "      height: 32px;\n",
              "      padding: 0 0 0 0;\n",
              "      width: 32px;\n",
              "    }\n",
              "\n",
              "    .colab-df-convert:hover {\n",
              "      background-color: #E2EBFA;\n",
              "      box-shadow: 0px 1px 2px rgba(60, 64, 67, 0.3), 0px 1px 3px 1px rgba(60, 64, 67, 0.15);\n",
              "      fill: #174EA6;\n",
              "    }\n",
              "\n",
              "    .colab-df-buttons div {\n",
              "      margin-bottom: 4px;\n",
              "    }\n",
              "\n",
              "    [theme=dark] .colab-df-convert {\n",
              "      background-color: #3B4455;\n",
              "      fill: #D2E3FC;\n",
              "    }\n",
              "\n",
              "    [theme=dark] .colab-df-convert:hover {\n",
              "      background-color: #434B5C;\n",
              "      box-shadow: 0px 1px 3px 1px rgba(0, 0, 0, 0.15);\n",
              "      filter: drop-shadow(0px 1px 2px rgba(0, 0, 0, 0.3));\n",
              "      fill: #FFFFFF;\n",
              "    }\n",
              "  </style>\n",
              "\n",
              "    <script>\n",
              "      const buttonEl =\n",
              "        document.querySelector('#df-61bf8817-f193-44c5-a053-2fc4b83058b4 button.colab-df-convert');\n",
              "      buttonEl.style.display =\n",
              "        google.colab.kernel.accessAllowed ? 'block' : 'none';\n",
              "\n",
              "      async function convertToInteractive(key) {\n",
              "        const element = document.querySelector('#df-61bf8817-f193-44c5-a053-2fc4b83058b4');\n",
              "        const dataTable =\n",
              "          await google.colab.kernel.invokeFunction('convertToInteractive',\n",
              "                                                    [key], {});\n",
              "        if (!dataTable) return;\n",
              "\n",
              "        const docLinkHtml = 'Like what you see? Visit the ' +\n",
              "          '<a target=\"_blank\" href=https://colab.research.google.com/notebooks/data_table.ipynb>data table notebook</a>'\n",
              "          + ' to learn more about interactive tables.';\n",
              "        element.innerHTML = '';\n",
              "        dataTable['output_type'] = 'display_data';\n",
              "        await google.colab.output.renderOutput(dataTable, element);\n",
              "        const docLink = document.createElement('div');\n",
              "        docLink.innerHTML = docLinkHtml;\n",
              "        element.appendChild(docLink);\n",
              "      }\n",
              "    </script>\n",
              "  </div>\n",
              "\n",
              "    </div>\n",
              "  </div>\n"
            ],
            "application/vnd.google.colaboratory.intrinsic+json": {
              "type": "dataframe",
              "summary": "{\n  \"name\": \"cv_data[cv_data['test-AUC-mean'] == cv_data['test-AUC-mean']\",\n  \"rows\": 1,\n  \"fields\": [\n    {\n      \"column\": \"iterations\",\n      \"properties\": {\n        \"dtype\": \"number\",\n        \"std\": null,\n        \"min\": 741,\n        \"max\": 741,\n        \"num_unique_values\": 1,\n        \"samples\": [\n          741\n        ],\n        \"semantic_type\": \"\",\n        \"description\": \"\"\n      }\n    },\n    {\n      \"column\": \"test-AUC-mean\",\n      \"properties\": {\n        \"dtype\": \"number\",\n        \"std\": null,\n        \"min\": 0.8688218559102292,\n        \"max\": 0.8688218559102292,\n        \"num_unique_values\": 1,\n        \"samples\": [\n          0.8688218559102292\n        ],\n        \"semantic_type\": \"\",\n        \"description\": \"\"\n      }\n    },\n    {\n      \"column\": \"test-AUC-std\",\n      \"properties\": {\n        \"dtype\": \"number\",\n        \"std\": null,\n        \"min\": 0.007456967581853894,\n        \"max\": 0.007456967581853894,\n        \"num_unique_values\": 1,\n        \"samples\": [\n          0.007456967581853894\n        ],\n        \"semantic_type\": \"\",\n        \"description\": \"\"\n      }\n    },\n    {\n      \"column\": \"test-Logloss-mean\",\n      \"properties\": {\n        \"dtype\": \"number\",\n        \"std\": null,\n        \"min\": 0.3308176292307154,\n        \"max\": 0.3308176292307154,\n        \"num_unique_values\": 1,\n        \"samples\": [\n          0.3308176292307154\n        ],\n        \"semantic_type\": \"\",\n        \"description\": \"\"\n      }\n    },\n    {\n      \"column\": \"test-Logloss-std\",\n      \"properties\": {\n        \"dtype\": \"number\",\n        \"std\": null,\n        \"min\": 0.017005477393161997,\n        \"max\": 0.017005477393161997,\n        \"num_unique_values\": 1,\n        \"samples\": [\n          0.017005477393161997\n        ],\n        \"semantic_type\": \"\",\n        \"description\": \"\"\n      }\n    },\n    {\n      \"column\": \"train-Logloss-mean\",\n      \"properties\": {\n        \"dtype\": \"number\",\n        \"std\": null,\n        \"min\": 0.29742776058348797,\n        \"max\": 0.29742776058348797,\n        \"num_unique_values\": 1,\n        \"samples\": [\n          0.29742776058348797\n        ],\n        \"semantic_type\": \"\",\n        \"description\": \"\"\n      }\n    },\n    {\n      \"column\": \"train-Logloss-std\",\n      \"properties\": {\n        \"dtype\": \"number\",\n        \"std\": null,\n        \"min\": 0.0043263275223987385,\n        \"max\": 0.0043263275223987385,\n        \"num_unique_values\": 1,\n        \"samples\": [\n          0.0043263275223987385\n        ],\n        \"semantic_type\": \"\",\n        \"description\": \"\"\n      }\n    }\n  ]\n}"
            }
          },
          "metadata": {},
          "execution_count": 43
        }
      ]
    },
    {
      "cell_type": "code",
      "source": [
        "n_iters = cv_data[cv_data['test-AUC-mean'] == cv_data['test-AUC-mean'].max()]['iterations'].values[0]"
      ],
      "metadata": {
        "id": "TnoQzZ5DfY1W"
      },
      "execution_count": 56,
      "outputs": []
    },
    {
      "cell_type": "code",
      "source": [
        "n_iters"
      ],
      "metadata": {
        "colab": {
          "base_uri": "https://localhost:8080/"
        },
        "id": "MSgWjQ4Tfmrg",
        "outputId": "def3fc3c-881a-4d43-899f-41f3de8ebe44"
      },
      "execution_count": 57,
      "outputs": [
        {
          "output_type": "execute_result",
          "data": {
            "text/plain": [
              "np.int64(741)"
            ]
          },
          "metadata": {},
          "execution_count": 57
        }
      ]
    },
    {
      "cell_type": "code",
      "source": [
        "\n",
        "params = {'iterations':n_iters,\n",
        "          'verbose':100,\n",
        "          'eval_metric':'AUC',\n",
        "          'loss_function': 'Logloss',\n",
        "          'random_seed':42,\n",
        "          'learning_rate':0.01}"
      ],
      "metadata": {
        "id": "GrfMcZ9tfn4L"
      },
      "execution_count": 58,
      "outputs": []
    },
    {
      "cell_type": "code",
      "source": [
        "model = CatBoostClassifier(**params)"
      ],
      "metadata": {
        "id": "ok9IbY81gMqb"
      },
      "execution_count": 59,
      "outputs": []
    },
    {
      "cell_type": "code",
      "source": [
        "model.fit(train_full_data)"
      ],
      "metadata": {
        "colab": {
          "base_uri": "https://localhost:8080/"
        },
        "id": "u2b1Fg-ZgSgl",
        "outputId": "635dc66f-23e7-40ed-ada9-427090ea3301"
      },
      "execution_count": 60,
      "outputs": [
        {
          "output_type": "stream",
          "name": "stdout",
          "text": [
            "0:\ttotal: 21ms\tremaining: 15.6s\n",
            "100:\ttotal: 1.52s\tremaining: 9.64s\n",
            "200:\ttotal: 2.4s\tremaining: 6.45s\n",
            "300:\ttotal: 3.3s\tremaining: 4.82s\n",
            "400:\ttotal: 4.21s\tremaining: 3.56s\n",
            "500:\ttotal: 5.09s\tremaining: 2.44s\n",
            "600:\ttotal: 5.99s\tremaining: 1.4s\n",
            "700:\ttotal: 7.22s\tremaining: 412ms\n",
            "740:\ttotal: 8.06s\tremaining: 0us\n"
          ]
        },
        {
          "output_type": "execute_result",
          "data": {
            "text/plain": [
              "<catboost.core.CatBoostClassifier at 0x7a74b87bd890>"
            ]
          },
          "metadata": {},
          "execution_count": 60
        }
      ]
    },
    {
      "cell_type": "code",
      "source": [
        "test['y_score_cross_val'] = model.predict_proba(test_data)[:,1]"
      ],
      "metadata": {
        "id": "-U7F-YNJgWyK"
      },
      "execution_count": 66,
      "outputs": []
    },
    {
      "cell_type": "code",
      "source": [
        "roc_auc_score(test['Exited'],test['y_score_cross_val'])"
      ],
      "metadata": {
        "colab": {
          "base_uri": "https://localhost:8080/"
        },
        "id": "f8Q4Bm5zgyho",
        "outputId": "022c3e9c-4514-4333-fdef-63441bab5a40"
      },
      "execution_count": 67,
      "outputs": [
        {
          "output_type": "execute_result",
          "data": {
            "text/plain": [
              "np.float64(0.8737196364315009)"
            ]
          },
          "metadata": {},
          "execution_count": 67
        }
      ]
    },
    {
      "cell_type": "code",
      "source": [
        "len(train_full)"
      ],
      "metadata": {
        "colab": {
          "base_uri": "https://localhost:8080/"
        },
        "id": "FCpAFlDHg7-e",
        "outputId": "01781241-2111-4c4f-a4f4-d8b12e14dd7d"
      },
      "execution_count": 68,
      "outputs": [
        {
          "output_type": "execute_result",
          "data": {
            "text/plain": [
              "8000"
            ]
          },
          "metadata": {},
          "execution_count": 68
        }
      ]
    },
    {
      "cell_type": "markdown",
      "source": [
        "# **Подбор гиперпараметров**"
      ],
      "metadata": {
        "id": "0ULnDTfYhN4z"
      }
    },
    {
      "cell_type": "code",
      "source": [
        "model.get_all_params()"
      ],
      "metadata": {
        "colab": {
          "base_uri": "https://localhost:8080/"
        },
        "id": "xHPLMzZ4ppnR",
        "outputId": "8095e3bc-1804-445a-c4e6-5a2928c3357d"
      },
      "execution_count": 69,
      "outputs": [
        {
          "output_type": "execute_result",
          "data": {
            "text/plain": [
              "{'nan_mode': 'Min',\n",
              " 'eval_metric': 'AUC',\n",
              " 'combinations_ctr': ['Borders:CtrBorderCount=15:CtrBorderType=Uniform:TargetBorderCount=1:TargetBorderType=MinEntropy:Prior=0/1:Prior=0.5/1:Prior=1/1',\n",
              "  'Counter:CtrBorderCount=15:CtrBorderType=Uniform:Prior=0/1'],\n",
              " 'iterations': 741,\n",
              " 'sampling_frequency': 'PerTree',\n",
              " 'fold_permutation_block': 0,\n",
              " 'leaf_estimation_method': 'Newton',\n",
              " 'random_score_type': 'NormalWithModelSizeDecrease',\n",
              " 'counter_calc_method': 'SkipTest',\n",
              " 'grow_policy': 'SymmetricTree',\n",
              " 'penalties_coefficient': 1,\n",
              " 'boosting_type': 'Plain',\n",
              " 'model_shrink_mode': 'Constant',\n",
              " 'feature_border_type': 'GreedyLogSum',\n",
              " 'ctr_leaf_count_limit': 18446744073709551615,\n",
              " 'bayesian_matrix_reg': 0.10000000149011612,\n",
              " 'one_hot_max_size': 2,\n",
              " 'eval_fraction': 0,\n",
              " 'force_unit_auto_pair_weights': False,\n",
              " 'l2_leaf_reg': 3,\n",
              " 'random_strength': 1,\n",
              " 'rsm': 1,\n",
              " 'boost_from_average': False,\n",
              " 'max_ctr_complexity': 4,\n",
              " 'model_size_reg': 0.5,\n",
              " 'simple_ctr': ['Borders:CtrBorderCount=15:CtrBorderType=Uniform:TargetBorderCount=1:TargetBorderType=MinEntropy:Prior=0/1:Prior=0.5/1:Prior=1/1',\n",
              "  'Counter:CtrBorderCount=15:CtrBorderType=Uniform:Prior=0/1'],\n",
              " 'pool_metainfo_options': {'tags': {}},\n",
              " 'subsample': 0.800000011920929,\n",
              " 'use_best_model': False,\n",
              " 'class_names': [0, 1],\n",
              " 'random_seed': 42,\n",
              " 'depth': 6,\n",
              " 'ctr_target_border_count': 1,\n",
              " 'posterior_sampling': False,\n",
              " 'has_time': False,\n",
              " 'store_all_simple_ctr': False,\n",
              " 'border_count': 254,\n",
              " 'classes_count': 0,\n",
              " 'auto_class_weights': 'None',\n",
              " 'sparse_features_conflict_fraction': 0,\n",
              " 'leaf_estimation_backtracking': 'AnyImprovement',\n",
              " 'best_model_min_trees': 1,\n",
              " 'model_shrink_rate': 0,\n",
              " 'min_data_in_leaf': 1,\n",
              " 'loss_function': 'Logloss',\n",
              " 'learning_rate': 0.009999999776482582,\n",
              " 'score_function': 'Cosine',\n",
              " 'task_type': 'CPU',\n",
              " 'leaf_estimation_iterations': 10,\n",
              " 'bootstrap_type': 'MVS',\n",
              " 'max_leaves': 64,\n",
              " 'permutation_count': 4}"
            ]
          },
          "metadata": {},
          "execution_count": 69
        }
      ]
    },
    {
      "cell_type": "code",
      "source": [
        "\n",
        "params = {'verbose':100,\n",
        "          'eval_metric':'AUC',\n",
        "          'loss_function': 'Logloss',\n",
        "          'random_seed':42}"
      ],
      "metadata": {
        "id": "loQoStEipv3i"
      },
      "execution_count": 70,
      "outputs": []
    },
    {
      "cell_type": "code",
      "source": [
        "model = CatBoostClassifier(**params)"
      ],
      "metadata": {
        "id": "OmYeInRcp-s9"
      },
      "execution_count": 71,
      "outputs": []
    },
    {
      "cell_type": "code",
      "source": [
        "grid = {'learning_rate':[0.01, 0.1],\n",
        "        'depth':[5,6]}"
      ],
      "metadata": {
        "id": "iPVgCaHNqC_m"
      },
      "execution_count": 72,
      "outputs": []
    },
    {
      "cell_type": "code",
      "source": [
        "result = model.grid_search(grid,train_full_data,verbose=False)"
      ],
      "metadata": {
        "colab": {
          "base_uri": "https://localhost:8080/"
        },
        "id": "5ufhQ0OVqdVX",
        "outputId": "14a18a96-c02e-4da1-f4bd-79cb4cd0582d"
      },
      "execution_count": 73,
      "outputs": [
        {
          "output_type": "stream",
          "name": "stdout",
          "text": [
            "0:\ttest: 0.7811641\tbest: 0.7811641 (0)\ttotal: 21ms\tremaining: 21s\n",
            "100:\ttest: 0.8435462\tbest: 0.8435769 (99)\ttotal: 1.44s\tremaining: 12.8s\n",
            "200:\ttest: 0.8508923\tbest: 0.8508923 (200)\ttotal: 2.41s\tremaining: 9.6s\n",
            "300:\ttest: 0.8547897\tbest: 0.8547897 (300)\ttotal: 3.62s\tremaining: 8.41s\n",
            "400:\ttest: 0.8569385\tbest: 0.8569385 (400)\ttotal: 4.83s\tremaining: 7.21s\n",
            "500:\ttest: 0.8576410\tbest: 0.8576410 (500)\ttotal: 5.7s\tremaining: 5.67s\n",
            "600:\ttest: 0.8585538\tbest: 0.8585538 (600)\ttotal: 6.48s\tremaining: 4.3s\n",
            "700:\ttest: 0.8590923\tbest: 0.8591487 (694)\ttotal: 7.25s\tremaining: 3.09s\n",
            "800:\ttest: 0.8593590\tbest: 0.8595564 (749)\ttotal: 8.01s\tremaining: 1.99s\n",
            "900:\ttest: 0.8593282\tbest: 0.8595564 (749)\ttotal: 8.8s\tremaining: 967ms\n",
            "999:\ttest: 0.8593897\tbest: 0.8595974 (986)\ttotal: 9.58s\tremaining: 0us\n",
            "\n",
            "bestTest = 0.8595974359\n",
            "bestIteration = 986\n",
            "\n",
            "Metric AUC is not calculated on train by default. To calculate this metric on train, add hints=skip_train~false to metric parameters.\n",
            "0:\ttest: 0.7811641\tbest: 0.7811641 (0)\ttotal: 8.48ms\tremaining: 8.48s\n",
            "100:\ttest: 0.8601513\tbest: 0.8604077 (89)\ttotal: 791ms\tremaining: 7.04s\n",
            "200:\ttest: 0.8557769\tbest: 0.8609103 (111)\ttotal: 1.57s\tremaining: 6.26s\n",
            "300:\ttest: 0.8521564\tbest: 0.8609103 (111)\ttotal: 2.38s\tremaining: 5.54s\n",
            "400:\ttest: 0.8456949\tbest: 0.8609103 (111)\ttotal: 3.2s\tremaining: 4.78s\n",
            "500:\ttest: 0.8432923\tbest: 0.8609103 (111)\ttotal: 4.01s\tremaining: 4s\n",
            "600:\ttest: 0.8407359\tbest: 0.8609103 (111)\ttotal: 4.8s\tremaining: 3.19s\n",
            "700:\ttest: 0.8388282\tbest: 0.8609103 (111)\ttotal: 5.68s\tremaining: 2.42s\n",
            "800:\ttest: 0.8358282\tbest: 0.8609103 (111)\ttotal: 6.94s\tremaining: 1.72s\n",
            "900:\ttest: 0.8356949\tbest: 0.8609103 (111)\ttotal: 8.18s\tremaining: 899ms\n",
            "999:\ttest: 0.8335590\tbest: 0.8609103 (111)\ttotal: 9.04s\tremaining: 0us\n",
            "\n",
            "bestTest = 0.8609102564\n",
            "bestIteration = 111\n",
            "\n",
            "Metric AUC is not calculated on train by default. To calculate this metric on train, add hints=skip_train~false to metric parameters.\n",
            "0:\ttest: 0.8068872\tbest: 0.8068872 (0)\ttotal: 10.1ms\tremaining: 10.1s\n",
            "100:\ttest: 0.8455590\tbest: 0.8455590 (100)\ttotal: 870ms\tremaining: 7.75s\n",
            "200:\ttest: 0.8530923\tbest: 0.8530923 (200)\ttotal: 1.73s\tremaining: 6.87s\n",
            "300:\ttest: 0.8563026\tbest: 0.8563410 (292)\ttotal: 2.62s\tremaining: 6.08s\n",
            "400:\ttest: 0.8578000\tbest: 0.8578385 (398)\ttotal: 3.5s\tremaining: 5.23s\n",
            "500:\ttest: 0.8583872\tbest: 0.8584821 (476)\ttotal: 4.37s\tremaining: 4.35s\n",
            "600:\ttest: 0.8588821\tbest: 0.8589487 (593)\ttotal: 5.21s\tremaining: 3.46s\n",
            "700:\ttest: 0.8587308\tbest: 0.8590282 (605)\ttotal: 6.06s\tremaining: 2.59s\n",
            "800:\ttest: 0.8584744\tbest: 0.8590282 (605)\ttotal: 6.94s\tremaining: 1.72s\n",
            "900:\ttest: 0.8583590\tbest: 0.8590282 (605)\ttotal: 7.81s\tremaining: 858ms\n",
            "999:\ttest: 0.8581103\tbest: 0.8590282 (605)\ttotal: 8.69s\tremaining: 0us\n",
            "\n",
            "bestTest = 0.8590282051\n",
            "bestIteration = 605\n",
            "\n",
            "Metric AUC is not calculated on train by default. To calculate this metric on train, add hints=skip_train~false to metric parameters.\n",
            "0:\ttest: 0.8068872\tbest: 0.8068872 (0)\ttotal: 9.34ms\tremaining: 9.33s\n",
            "100:\ttest: 0.8554795\tbest: 0.8574051 (69)\ttotal: 1.04s\tremaining: 9.23s\n",
            "200:\ttest: 0.8486359\tbest: 0.8574051 (69)\ttotal: 2.49s\tremaining: 9.89s\n",
            "300:\ttest: 0.8455051\tbest: 0.8574051 (69)\ttotal: 3.79s\tremaining: 8.81s\n",
            "400:\ttest: 0.8399846\tbest: 0.8574051 (69)\ttotal: 4.69s\tremaining: 7.01s\n",
            "500:\ttest: 0.8388077\tbest: 0.8574051 (69)\ttotal: 5.6s\tremaining: 5.58s\n",
            "600:\ttest: 0.8364026\tbest: 0.8574051 (69)\ttotal: 6.53s\tremaining: 4.34s\n",
            "700:\ttest: 0.8340974\tbest: 0.8574051 (69)\ttotal: 7.45s\tremaining: 3.18s\n",
            "800:\ttest: 0.8320769\tbest: 0.8574051 (69)\ttotal: 8.38s\tremaining: 2.08s\n",
            "900:\ttest: 0.8298923\tbest: 0.8574051 (69)\ttotal: 9.3s\tremaining: 1.02s\n",
            "999:\ttest: 0.8302846\tbest: 0.8574051 (69)\ttotal: 10.2s\tremaining: 0us\n",
            "\n",
            "bestTest = 0.8574051282\n",
            "bestIteration = 69\n",
            "\n",
            "Metric AUC is not calculated on train by default. To calculate this metric on train, add hints=skip_train~false to metric parameters.\n",
            "Training on fold [0/3]\n",
            "0:\ttest: 0.8023131\tbest: 0.8023131 (0)\ttotal: 7.58ms\tremaining: 7.57s\n",
            "100:\ttest: 0.8696792\tbest: 0.8705039 (90)\ttotal: 706ms\tremaining: 6.28s\n",
            "200:\ttest: 0.8691616\tbest: 0.8705039 (90)\ttotal: 1.45s\tremaining: 5.77s\n",
            "300:\ttest: 0.8649927\tbest: 0.8705039 (90)\ttotal: 2.2s\tremaining: 5.12s\n",
            "400:\ttest: 0.8618130\tbest: 0.8705039 (90)\ttotal: 2.94s\tremaining: 4.4s\n",
            "500:\ttest: 0.8585372\tbest: 0.8705039 (90)\ttotal: 4.01s\tremaining: 4s\n",
            "600:\ttest: 0.8560785\tbest: 0.8705039 (90)\ttotal: 5.23s\tremaining: 3.47s\n",
            "700:\ttest: 0.8535254\tbest: 0.8705039 (90)\ttotal: 6.34s\tremaining: 2.7s\n",
            "800:\ttest: 0.8519736\tbest: 0.8705039 (90)\ttotal: 7.07s\tremaining: 1.75s\n",
            "900:\ttest: 0.8499848\tbest: 0.8705039 (90)\ttotal: 7.8s\tremaining: 857ms\n",
            "999:\ttest: 0.8481197\tbest: 0.8705039 (90)\ttotal: 8.55s\tremaining: 0us\n",
            "\n",
            "bestTest = 0.8705039396\n",
            "bestIteration = 90\n",
            "\n",
            "Training on fold [1/3]\n",
            "0:\ttest: 0.7921723\tbest: 0.7921723 (0)\ttotal: 8.11ms\tremaining: 8.1s\n",
            "100:\ttest: 0.8705982\tbest: 0.8712713 (94)\ttotal: 720ms\tremaining: 6.41s\n",
            "200:\ttest: 0.8665098\tbest: 0.8712713 (94)\ttotal: 1.47s\tremaining: 5.85s\n",
            "300:\ttest: 0.8628075\tbest: 0.8712713 (94)\ttotal: 2.24s\tremaining: 5.21s\n",
            "400:\ttest: 0.8613719\tbest: 0.8712713 (94)\ttotal: 3.01s\tremaining: 4.5s\n",
            "500:\ttest: 0.8585821\tbest: 0.8712713 (94)\ttotal: 3.75s\tremaining: 3.73s\n",
            "600:\ttest: 0.8552467\tbest: 0.8712713 (94)\ttotal: 4.49s\tremaining: 2.98s\n",
            "700:\ttest: 0.8529644\tbest: 0.8712713 (94)\ttotal: 5.26s\tremaining: 2.25s\n",
            "800:\ttest: 0.8514316\tbest: 0.8712713 (94)\ttotal: 6.01s\tremaining: 1.49s\n",
            "900:\ttest: 0.8502718\tbest: 0.8712713 (94)\ttotal: 6.75s\tremaining: 741ms\n",
            "999:\ttest: 0.8486688\tbest: 0.8712713 (94)\ttotal: 7.5s\tremaining: 0us\n",
            "\n",
            "bestTest = 0.8712713255\n",
            "bestIteration = 94\n",
            "\n",
            "Training on fold [2/3]\n",
            "0:\ttest: 0.7876129\tbest: 0.7876129 (0)\ttotal: 8.01ms\tremaining: 8s\n",
            "100:\ttest: 0.8656068\tbest: 0.8656805 (98)\ttotal: 1.17s\tremaining: 10.4s\n",
            "200:\ttest: 0.8618255\tbest: 0.8657300 (108)\ttotal: 2.34s\tremaining: 9.29s\n",
            "300:\ttest: 0.8583852\tbest: 0.8657300 (108)\ttotal: 3.3s\tremaining: 7.66s\n",
            "400:\ttest: 0.8567639\tbest: 0.8657300 (108)\ttotal: 4.04s\tremaining: 6.04s\n",
            "500:\ttest: 0.8542379\tbest: 0.8657300 (108)\ttotal: 4.8s\tremaining: 4.78s\n",
            "600:\ttest: 0.8524682\tbest: 0.8657300 (108)\ttotal: 5.53s\tremaining: 3.67s\n",
            "700:\ttest: 0.8516927\tbest: 0.8657300 (108)\ttotal: 6.29s\tremaining: 2.68s\n",
            "800:\ttest: 0.8481899\tbest: 0.8657300 (108)\ttotal: 7.04s\tremaining: 1.75s\n",
            "900:\ttest: 0.8458981\tbest: 0.8657300 (108)\ttotal: 7.78s\tremaining: 854ms\n",
            "999:\ttest: 0.8452310\tbest: 0.8657300 (108)\ttotal: 8.52s\tremaining: 0us\n",
            "\n",
            "bestTest = 0.8657299818\n",
            "bestIteration = 108\n",
            "\n"
          ]
        }
      ]
    },
    {
      "cell_type": "code",
      "source": [
        "result['params']"
      ],
      "metadata": {
        "colab": {
          "base_uri": "https://localhost:8080/"
        },
        "id": "FSiQrEkcqqxI",
        "outputId": "28007c06-0a2d-4ea2-dc42-bcaee1ff236c"
      },
      "execution_count": 76,
      "outputs": [
        {
          "output_type": "execute_result",
          "data": {
            "text/plain": [
              "{'depth': 5, 'learning_rate': 0.1}"
            ]
          },
          "metadata": {},
          "execution_count": 76
        }
      ]
    },
    {
      "cell_type": "code",
      "source": [
        "pd.DataFrame(result['cv_results'])['test-AUC-mean'].max()\n"
      ],
      "metadata": {
        "colab": {
          "base_uri": "https://localhost:8080/"
        },
        "id": "GTIgNA77rBFJ",
        "outputId": "e593f648-5b54-4a54-b415-717e72d75068"
      },
      "execution_count": 77,
      "outputs": [
        {
          "output_type": "execute_result",
          "data": {
            "text/plain": [
              "0.8689660773549619"
            ]
          },
          "metadata": {},
          "execution_count": 77
        }
      ]
    },
    {
      "cell_type": "code",
      "source": [],
      "metadata": {
        "id": "lBa0I-svrimt"
      },
      "execution_count": 80,
      "outputs": []
    },
    {
      "cell_type": "code",
      "source": [],
      "metadata": {
        "id": "MptFhtKsrjfa"
      },
      "execution_count": null,
      "outputs": []
    }
  ]
}