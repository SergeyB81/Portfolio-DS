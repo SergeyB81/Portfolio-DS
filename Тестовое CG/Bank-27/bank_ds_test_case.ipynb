{
  "nbformat": 4,
  "nbformat_minor": 0,
  "metadata": {
    "colab": {
      "provenance": [],
      "include_colab_link": true
    },
    "kernelspec": {
      "name": "python3",
      "display_name": "Python 3"
    },
    "language_info": {
      "name": "python"
    },
    "widgets": {
      "application/vnd.jupyter.widget-state+json": {
        "e7b5ba163641418fa5950bdff7ff9c95": {
          "model_module": "@jupyter-widgets/controls",
          "model_name": "HBoxModel",
          "state": {
            "_view_name": "HBoxView",
            "_dom_classes": [],
            "_model_name": "HBoxModel",
            "_view_module": "@jupyter-widgets/controls",
            "_model_module_version": "1.5.0",
            "_view_count": null,
            "_view_module_version": "1.5.0",
            "box_style": "",
            "layout": "IPY_MODEL_dd793bccc63644f28067c4cf7b4af330",
            "_model_module": "@jupyter-widgets/controls",
            "children": [
              "IPY_MODEL_aa9f4ce2df1a4637991ac3703677bc2d",
              "IPY_MODEL_a7f2cc10883a481a98622588fa834514"
            ]
          },
          "model_module_version": "1.5.0"
        },
        "dd793bccc63644f28067c4cf7b4af330": {
          "model_module": "@jupyter-widgets/base",
          "model_name": "LayoutModel",
          "state": {
            "_view_name": "LayoutView",
            "grid_template_rows": null,
            "right": null,
            "justify_content": null,
            "_view_module": "@jupyter-widgets/base",
            "overflow": null,
            "_model_module_version": "1.2.0",
            "_view_count": null,
            "flex_flow": null,
            "width": null,
            "min_width": null,
            "border": null,
            "align_items": null,
            "bottom": null,
            "_model_module": "@jupyter-widgets/base",
            "top": null,
            "grid_column": null,
            "overflow_y": null,
            "overflow_x": null,
            "grid_auto_flow": null,
            "grid_area": null,
            "grid_template_columns": null,
            "flex": null,
            "_model_name": "LayoutModel",
            "justify_items": null,
            "grid_row": null,
            "max_height": null,
            "align_content": null,
            "visibility": null,
            "align_self": null,
            "height": null,
            "min_height": null,
            "padding": null,
            "grid_auto_rows": null,
            "grid_gap": null,
            "max_width": null,
            "order": null,
            "_view_module_version": "1.2.0",
            "grid_template_areas": null,
            "object_position": null,
            "object_fit": null,
            "grid_auto_columns": null,
            "margin": null,
            "display": null,
            "left": null
          },
          "model_module_version": "1.2.0"
        },
        "aa9f4ce2df1a4637991ac3703677bc2d": {
          "model_module": "@jupyter-widgets/controls",
          "model_name": "FloatProgressModel",
          "state": {
            "_view_name": "ProgressView",
            "style": "IPY_MODEL_ee80b449062c4f3cb49fecfa6e8902d2",
            "_dom_classes": [],
            "description": "100%",
            "_model_name": "FloatProgressModel",
            "bar_style": "success",
            "max": 14255,
            "_view_module": "@jupyter-widgets/controls",
            "_model_module_version": "1.5.0",
            "value": 14255,
            "_view_count": null,
            "_view_module_version": "1.5.0",
            "orientation": "horizontal",
            "min": 0,
            "description_tooltip": null,
            "_model_module": "@jupyter-widgets/controls",
            "layout": "IPY_MODEL_160fbe5434aa4f69a68e4f53f570be53"
          },
          "model_module_version": "1.5.0"
        },
        "a7f2cc10883a481a98622588fa834514": {
          "model_module": "@jupyter-widgets/controls",
          "model_name": "HTMLModel",
          "state": {
            "_view_name": "HTMLView",
            "style": "IPY_MODEL_09692a4efa434b82911d7ab3d0e2b755",
            "_dom_classes": [],
            "description": "",
            "_model_name": "HTMLModel",
            "placeholder": "​",
            "_view_module": "@jupyter-widgets/controls",
            "_model_module_version": "1.5.0",
            "value": " 14255/14255 [03:52&lt;00:00, 61.37it/s]",
            "_view_count": null,
            "_view_module_version": "1.5.0",
            "description_tooltip": null,
            "_model_module": "@jupyter-widgets/controls",
            "layout": "IPY_MODEL_9af5df32a07549ea8597012b636a49c2"
          },
          "model_module_version": "1.5.0"
        },
        "ee80b449062c4f3cb49fecfa6e8902d2": {
          "model_module": "@jupyter-widgets/controls",
          "model_name": "ProgressStyleModel",
          "state": {
            "_view_name": "StyleView",
            "_model_name": "ProgressStyleModel",
            "description_width": "initial",
            "_view_module": "@jupyter-widgets/base",
            "_model_module_version": "1.5.0",
            "_view_count": null,
            "_view_module_version": "1.2.0",
            "bar_color": null,
            "_model_module": "@jupyter-widgets/controls"
          },
          "model_module_version": "1.5.0"
        },
        "160fbe5434aa4f69a68e4f53f570be53": {
          "model_module": "@jupyter-widgets/base",
          "model_name": "LayoutModel",
          "state": {
            "_view_name": "LayoutView",
            "grid_template_rows": null,
            "right": null,
            "justify_content": null,
            "_view_module": "@jupyter-widgets/base",
            "overflow": null,
            "_model_module_version": "1.2.0",
            "_view_count": null,
            "flex_flow": null,
            "width": null,
            "min_width": null,
            "border": null,
            "align_items": null,
            "bottom": null,
            "_model_module": "@jupyter-widgets/base",
            "top": null,
            "grid_column": null,
            "overflow_y": null,
            "overflow_x": null,
            "grid_auto_flow": null,
            "grid_area": null,
            "grid_template_columns": null,
            "flex": null,
            "_model_name": "LayoutModel",
            "justify_items": null,
            "grid_row": null,
            "max_height": null,
            "align_content": null,
            "visibility": null,
            "align_self": null,
            "height": null,
            "min_height": null,
            "padding": null,
            "grid_auto_rows": null,
            "grid_gap": null,
            "max_width": null,
            "order": null,
            "_view_module_version": "1.2.0",
            "grid_template_areas": null,
            "object_position": null,
            "object_fit": null,
            "grid_auto_columns": null,
            "margin": null,
            "display": null,
            "left": null
          },
          "model_module_version": "1.2.0"
        },
        "09692a4efa434b82911d7ab3d0e2b755": {
          "model_module": "@jupyter-widgets/controls",
          "model_name": "DescriptionStyleModel",
          "state": {
            "_view_name": "StyleView",
            "_model_name": "DescriptionStyleModel",
            "description_width": "",
            "_view_module": "@jupyter-widgets/base",
            "_model_module_version": "1.5.0",
            "_view_count": null,
            "_view_module_version": "1.2.0",
            "_model_module": "@jupyter-widgets/controls"
          },
          "model_module_version": "1.5.0"
        },
        "9af5df32a07549ea8597012b636a49c2": {
          "model_module": "@jupyter-widgets/base",
          "model_name": "LayoutModel",
          "state": {
            "_view_name": "LayoutView",
            "grid_template_rows": null,
            "right": null,
            "justify_content": null,
            "_view_module": "@jupyter-widgets/base",
            "overflow": null,
            "_model_module_version": "1.2.0",
            "_view_count": null,
            "flex_flow": null,
            "width": null,
            "min_width": null,
            "border": null,
            "align_items": null,
            "bottom": null,
            "_model_module": "@jupyter-widgets/base",
            "top": null,
            "grid_column": null,
            "overflow_y": null,
            "overflow_x": null,
            "grid_auto_flow": null,
            "grid_area": null,
            "grid_template_columns": null,
            "flex": null,
            "_model_name": "LayoutModel",
            "justify_items": null,
            "grid_row": null,
            "max_height": null,
            "align_content": null,
            "visibility": null,
            "align_self": null,
            "height": null,
            "min_height": null,
            "padding": null,
            "grid_auto_rows": null,
            "grid_gap": null,
            "max_width": null,
            "order": null,
            "_view_module_version": "1.2.0",
            "grid_template_areas": null,
            "object_position": null,
            "object_fit": null,
            "grid_auto_columns": null,
            "margin": null,
            "display": null,
            "left": null
          },
          "model_module_version": "1.2.0"
        }
      }
    }
  },
  "cells": [
    {
      "cell_type": "markdown",
      "metadata": {
        "id": "view-in-github",
        "colab_type": "text"
      },
      "source": [
        "<a href=\"https://colab.research.google.com/github/SergeyB81/Portfolio-DS/blob/main/%D0%A2%D0%B5%D1%81%D1%82%D0%BE%D0%B2%D0%BE%D0%B5%20CG/Bank-27/bank_ds_test_case.ipynb\" target=\"_parent\"><img src=\"https://colab.research.google.com/assets/colab-badge.svg\" alt=\"Open In Colab\"/></a>"
      ]
    },
    {
      "cell_type": "code",
      "metadata": {
        "id": "qJZsgvjV4Gb8"
      },
      "source": [
        "import pandas as pd\n",
        "import numpy as np"
      ],
      "execution_count": null,
      "outputs": []
    },
    {
      "cell_type": "markdown",
      "metadata": {
        "id": "J99nk6xG4Kys"
      },
      "source": [
        "https://drive.google.com/file/d/1plvZ7poGmKX2YWgEUyuaAkjcb7ZvNVS-/view?usp=sharing"
      ]
    },
    {
      "cell_type": "code",
      "metadata": {
        "colab": {
          "base_uri": "https://localhost:8080/"
        },
        "id": "jBhwuPPE4LqY",
        "outputId": "1826197f-472c-401e-cfc4-bf8ceda70989"
      },
      "source": [
        "!gdown --id 1plvZ7poGmKX2YWgEUyuaAkjcb7ZvNVS-"
      ],
      "execution_count": null,
      "outputs": [
        {
          "output_type": "stream",
          "text": [
            "Downloading...\n",
            "From: https://drive.google.com/uc?id=1plvZ7poGmKX2YWgEUyuaAkjcb7ZvNVS-\n",
            "To: /content/bank-test-case-ds.csv\n",
            "\r0.00B [00:00, ?B/s]\r4.35MB [00:00, 66.8MB/s]\n"
          ],
          "name": "stdout"
        }
      ]
    },
    {
      "cell_type": "code",
      "metadata": {
        "id": "Mk3tiGm24Olb"
      },
      "source": [
        "df = pd.read_csv('/content/bank-test-case-ds.csv',sep=';')"
      ],
      "execution_count": null,
      "outputs": []
    },
    {
      "cell_type": "code",
      "metadata": {
        "colab": {
          "base_uri": "https://localhost:8080/",
          "height": 215
        },
        "id": "-_Bi1Gez4SD5",
        "outputId": "8f243b96-3e06-4896-e863-3ba8a494af19"
      },
      "source": [
        "df.head()"
      ],
      "execution_count": null,
      "outputs": [
        {
          "output_type": "execute_result",
          "data": {
            "text/html": [
              "<div>\n",
              "<style scoped>\n",
              "    .dataframe tbody tr th:only-of-type {\n",
              "        vertical-align: middle;\n",
              "    }\n",
              "\n",
              "    .dataframe tbody tr th {\n",
              "        vertical-align: top;\n",
              "    }\n",
              "\n",
              "    .dataframe thead th {\n",
              "        text-align: right;\n",
              "    }\n",
              "</style>\n",
              "<table border=\"1\" class=\"dataframe\">\n",
              "  <thead>\n",
              "    <tr style=\"text-align: right;\">\n",
              "      <th></th>\n",
              "      <th>closed_cred_sum</th>\n",
              "      <th>closed_creds</th>\n",
              "      <th>active_cred_sum_overdue</th>\n",
              "      <th>active_cred_sum</th>\n",
              "      <th>active_cred_day_overdue</th>\n",
              "      <th>active_cred_max_overdue</th>\n",
              "      <th>age</th>\n",
              "      <th>gender</th>\n",
              "      <th>region</th>\n",
              "      <th>first_loan</th>\n",
              "      <th>loan_cost_all</th>\n",
              "      <th>first_days_quant</th>\n",
              "      <th>month_income</th>\n",
              "      <th>order_date</th>\n",
              "      <th>cost_all</th>\n",
              "      <th>order_id</th>\n",
              "      <th>client_id</th>\n",
              "      <th>expert</th>\n",
              "    </tr>\n",
              "  </thead>\n",
              "  <tbody>\n",
              "    <tr>\n",
              "      <th>0</th>\n",
              "      <td>143822.0</td>\n",
              "      <td>22</td>\n",
              "      <td>104.12</td>\n",
              "      <td>130068.80</td>\n",
              "      <td>8</td>\n",
              "      <td>756.09</td>\n",
              "      <td>31</td>\n",
              "      <td>0</td>\n",
              "      <td>36</td>\n",
              "      <td>10000.0</td>\n",
              "      <td>10000</td>\n",
              "      <td>196</td>\n",
              "      <td>0.0</td>\n",
              "      <td>2017-07-23</td>\n",
              "      <td>0.0</td>\n",
              "      <td>728319</td>\n",
              "      <td>320464</td>\n",
              "      <td>1</td>\n",
              "    </tr>\n",
              "    <tr>\n",
              "      <th>1</th>\n",
              "      <td>0.0</td>\n",
              "      <td>0</td>\n",
              "      <td>38151.93</td>\n",
              "      <td>46230.00</td>\n",
              "      <td>1492</td>\n",
              "      <td>38151.93</td>\n",
              "      <td>51</td>\n",
              "      <td>0</td>\n",
              "      <td>93</td>\n",
              "      <td>10000.0</td>\n",
              "      <td>10000</td>\n",
              "      <td>17</td>\n",
              "      <td>20000.0</td>\n",
              "      <td>2017-07-23</td>\n",
              "      <td>0.0</td>\n",
              "      <td>728321</td>\n",
              "      <td>320466</td>\n",
              "      <td>1</td>\n",
              "    </tr>\n",
              "    <tr>\n",
              "      <th>2</th>\n",
              "      <td>51356.0</td>\n",
              "      <td>2</td>\n",
              "      <td>3000.00</td>\n",
              "      <td>3000.00</td>\n",
              "      <td>8</td>\n",
              "      <td>3000.00</td>\n",
              "      <td>28</td>\n",
              "      <td>1</td>\n",
              "      <td>3</td>\n",
              "      <td>10000.0</td>\n",
              "      <td>10000</td>\n",
              "      <td>84</td>\n",
              "      <td>0.0</td>\n",
              "      <td>2017-07-23</td>\n",
              "      <td>0.0</td>\n",
              "      <td>728323</td>\n",
              "      <td>320467</td>\n",
              "      <td>1</td>\n",
              "    </tr>\n",
              "    <tr>\n",
              "      <th>3</th>\n",
              "      <td>0.0</td>\n",
              "      <td>0</td>\n",
              "      <td>22784.19</td>\n",
              "      <td>32103.52</td>\n",
              "      <td>913</td>\n",
              "      <td>22784.19</td>\n",
              "      <td>28</td>\n",
              "      <td>0</td>\n",
              "      <td>52</td>\n",
              "      <td>10000.0</td>\n",
              "      <td>10000</td>\n",
              "      <td>7</td>\n",
              "      <td>0.0</td>\n",
              "      <td>2017-07-23</td>\n",
              "      <td>0.0</td>\n",
              "      <td>728447</td>\n",
              "      <td>320533</td>\n",
              "      <td>1</td>\n",
              "    </tr>\n",
              "    <tr>\n",
              "      <th>4</th>\n",
              "      <td>12298.0</td>\n",
              "      <td>1</td>\n",
              "      <td>4942.95</td>\n",
              "      <td>4950.00</td>\n",
              "      <td>2883</td>\n",
              "      <td>4942.95</td>\n",
              "      <td>31</td>\n",
              "      <td>0</td>\n",
              "      <td>47</td>\n",
              "      <td>5000.0</td>\n",
              "      <td>5000</td>\n",
              "      <td>20</td>\n",
              "      <td>0.0</td>\n",
              "      <td>2017-07-23</td>\n",
              "      <td>0.0</td>\n",
              "      <td>728421</td>\n",
              "      <td>298598</td>\n",
              "      <td>1</td>\n",
              "    </tr>\n",
              "  </tbody>\n",
              "</table>\n",
              "</div>"
            ],
            "text/plain": [
              "   closed_cred_sum  closed_creds  ...  client_id  expert\n",
              "0         143822.0            22  ...     320464       1\n",
              "1              0.0             0  ...     320466       1\n",
              "2          51356.0             2  ...     320467       1\n",
              "3              0.0             0  ...     320533       1\n",
              "4          12298.0             1  ...     298598       1\n",
              "\n",
              "[5 rows x 18 columns]"
            ]
          },
          "metadata": {
            "tags": []
          },
          "execution_count": 4
        }
      ]
    },
    {
      "cell_type": "markdown",
      "metadata": {
        "id": "OsMj3JXc4eoP"
      },
      "source": [
        "Задание\n",
        "Вам предлагается набор данных, содержащий следующие переменные\n",
        "Переменные, характеризующие кредитную историю клиента\n",
        "closed_cred_sum - сумма, которую клиент выплатил по ранее взятым и закрытым\n",
        "кредитам  \n",
        "closed_creds - количество закрытых кредитов  \n",
        "active_cred_sum_overdue - суммарная задолженность по активным кредитам  \n",
        "active_cred_sum - сумма всех активных кредитов  \n",
        "active_cred_day_overdue - суммарная просрочка в днях по всем активным кредитам  \n",
        "active_cred_max_overdue - максимальная сумма просроченной задолженности по\n",
        "активным кредитам  \n",
        "Переменные характеризующие клиента  \n",
        "age - возраст  \n",
        "gender - пол  \n",
        "region - регион  \n",
        "month_income - ежемесячный доход  \n",
        "Переменные, характеризующие кредит, по которому нужно сделать\n",
        "прогноз  \n",
        "first_loan - сумма, которую клиент хочет получить в кредит (из заявки)  \n",
        "first_days_quant - срок, на которую клиент хочет взять кредит  \n",
        "loan_cost_all - одобренная клиенту сумма кредита  \n",
        "order_date - дата подачи заявки на получение кредита  \n",
        "cost_all - сумма всех выплат по одобренному кредиту  \n",
        "order_id - id заявки  \n",
        "client_id - id клиента  \n",
        "Целевая переменная:  \n",
        "expert - решение, которое принято по заявке (0 - одобрено, 1 - отклонено)  \n",
        "Необходимо на основе предоставленных данных построить модель для предсказания\n",
        "целевой переменной. Сделать описание проделанных шагов\n",
        "● Анализ данных\n",
        "● Фильтрация\n",
        "● Преобразование переменных\n",
        "● Моделирование\n",
        "● Оценка качества модели\n",
        "Обоснование выбранной метрики качества."
      ]
    },
    {
      "cell_type": "code",
      "metadata": {
        "colab": {
          "base_uri": "https://localhost:8080/"
        },
        "id": "uqyjVWMupQPo",
        "outputId": "e7da4646-43c5-472e-ed90-a544dbee99c2"
      },
      "source": [
        "df['expert']"
      ],
      "execution_count": null,
      "outputs": [
        {
          "output_type": "execute_result",
          "data": {
            "text/plain": [
              "0        1\n",
              "1        1\n",
              "2        1\n",
              "3        1\n",
              "4        1\n",
              "        ..\n",
              "49996    1\n",
              "49997    1\n",
              "49998    1\n",
              "49999    1\n",
              "50000    1\n",
              "Name: expert, Length: 50001, dtype: int64"
            ]
          },
          "metadata": {
            "tags": []
          },
          "execution_count": 6
        }
      ]
    },
    {
      "cell_type": "code",
      "metadata": {
        "colab": {
          "base_uri": "https://localhost:8080/"
        },
        "id": "OuJ2Gi14pSIh",
        "outputId": "d31f0048-4a9d-4d74-e647-27cdb984d5b3"
      },
      "source": [
        "df['expert'].value_counts()"
      ],
      "execution_count": null,
      "outputs": [
        {
          "output_type": "execute_result",
          "data": {
            "text/plain": [
              "1    37464\n",
              "0    12537\n",
              "Name: expert, dtype: int64"
            ]
          },
          "metadata": {
            "tags": []
          },
          "execution_count": 7
        }
      ]
    },
    {
      "cell_type": "code",
      "metadata": {
        "colab": {
          "base_uri": "https://localhost:8080/"
        },
        "id": "zdV1s2rVpVcE",
        "outputId": "008e5f6d-4060-47ae-bcbe-6afced513e6a"
      },
      "source": [
        "df['expert'].value_counts(normalize=True)"
      ],
      "execution_count": null,
      "outputs": [
        {
          "output_type": "execute_result",
          "data": {
            "text/plain": [
              "1    0.749265\n",
              "0    0.250735\n",
              "Name: expert, dtype: float64"
            ]
          },
          "metadata": {
            "tags": []
          },
          "execution_count": 8
        }
      ]
    },
    {
      "cell_type": "code",
      "metadata": {
        "colab": {
          "base_uri": "https://localhost:8080/"
        },
        "id": "xubyTzmz4TBV",
        "outputId": "89c88e3f-1cb4-4975-d9b0-56ab13ee6175"
      },
      "source": [
        "df['expert'].mean()"
      ],
      "execution_count": null,
      "outputs": [
        {
          "output_type": "execute_result",
          "data": {
            "text/plain": [
              "0.749265014699706"
            ]
          },
          "metadata": {
            "tags": []
          },
          "execution_count": 5
        }
      ]
    },
    {
      "cell_type": "code",
      "metadata": {
        "colab": {
          "base_uri": "https://localhost:8080/"
        },
        "id": "NzbbgpvvqK6p",
        "outputId": "3fb14d4f-88d6-49a5-91f3-0d808b77664d"
      },
      "source": [
        "df.isna().mean()"
      ],
      "execution_count": null,
      "outputs": [
        {
          "output_type": "execute_result",
          "data": {
            "text/plain": [
              "closed_cred_sum            0.00000\n",
              "closed_creds               0.00000\n",
              "active_cred_sum_overdue    0.00000\n",
              "active_cred_sum            0.00000\n",
              "active_cred_day_overdue    0.00000\n",
              "active_cred_max_overdue    0.00000\n",
              "age                        0.00000\n",
              "gender                     0.00000\n",
              "region                     0.00000\n",
              "first_loan                 0.00038\n",
              "loan_cost_all              0.00000\n",
              "first_days_quant           0.00000\n",
              "month_income               0.00000\n",
              "order_date                 0.00000\n",
              "cost_all                   0.00000\n",
              "order_id                   0.00000\n",
              "client_id                  0.00000\n",
              "expert                     0.00000\n",
              "dtype: float64"
            ]
          },
          "metadata": {
            "tags": []
          },
          "execution_count": 15
        }
      ]
    },
    {
      "cell_type": "code",
      "metadata": {
        "id": "4wbhp7WtxhGb"
      },
      "source": [
        "df[['gender','region']] = df[['gender','region']].astype(str)"
      ],
      "execution_count": null,
      "outputs": []
    },
    {
      "cell_type": "code",
      "metadata": {
        "id": "HPnQuQwb4X1o"
      },
      "source": [
        "train = df.sample(frac=0.7,random_state=42).copy()"
      ],
      "execution_count": null,
      "outputs": []
    },
    {
      "cell_type": "code",
      "metadata": {
        "id": "agR8R5YTpsHl"
      },
      "source": [
        "val = df[~df.index.isin(train.index)].copy()"
      ],
      "execution_count": null,
      "outputs": []
    },
    {
      "cell_type": "code",
      "metadata": {
        "colab": {
          "base_uri": "https://localhost:8080/"
        },
        "id": "dMz5mWW7qF6u",
        "outputId": "c0d696f0-f15f-43a6-d756-e5f214867b03"
      },
      "source": [
        "len(train) + len(val)"
      ],
      "execution_count": null,
      "outputs": [
        {
          "output_type": "execute_result",
          "data": {
            "text/plain": [
              "50001"
            ]
          },
          "metadata": {
            "tags": []
          },
          "execution_count": 68
        }
      ]
    },
    {
      "cell_type": "code",
      "metadata": {
        "colab": {
          "base_uri": "https://localhost:8080/"
        },
        "id": "CKLSCDOkqHs7",
        "outputId": "cddcacf7-3984-4179-8c77-778629f407f9"
      },
      "source": [
        "len(df)"
      ],
      "execution_count": null,
      "outputs": [
        {
          "output_type": "execute_result",
          "data": {
            "text/plain": [
              "50001"
            ]
          },
          "metadata": {
            "tags": []
          },
          "execution_count": 69
        }
      ]
    },
    {
      "cell_type": "code",
      "metadata": {
        "colab": {
          "base_uri": "https://localhost:8080/",
          "height": 285
        },
        "id": "PttN46BnqJid",
        "outputId": "2c530696-ee52-4b89-e4fb-13a399c852d3"
      },
      "source": [
        "df['first_loan'].hist()"
      ],
      "execution_count": null,
      "outputs": [
        {
          "output_type": "execute_result",
          "data": {
            "text/plain": [
              "<matplotlib.axes._subplots.AxesSubplot at 0x7f5caa7edc10>"
            ]
          },
          "metadata": {
            "tags": []
          },
          "execution_count": 70
        },
        {
          "output_type": "display_data",
          "data": {
            "image/png": "[encoded data removed]",
            "text/plain": [
              "<Figure size 432x288 with 1 Axes>"
            ]
          },
          "metadata": {
            "tags": [],
            "needs_background": "light"
          }
        }
      ]
    },
    {
      "cell_type": "code",
      "metadata": {
        "colab": {
          "base_uri": "https://localhost:8080/",
          "height": 282
        },
        "id": "BplJmAfZq3Tq",
        "outputId": "2b3ed061-17c2-4b56-dc35-a5b2f75a531d"
      },
      "source": [
        "df['loan_cost_all'].hist()"
      ],
      "execution_count": null,
      "outputs": [
        {
          "output_type": "execute_result",
          "data": {
            "text/plain": [
              "<matplotlib.axes._subplots.AxesSubplot at 0x7f5caa769e50>"
            ]
          },
          "metadata": {
            "tags": []
          },
          "execution_count": 71
        },
        {
          "output_type": "display_data",
          "data": {
            "image/png": "[encoded data removed]",
            "text/plain": [
              "<Figure size 432x288 with 1 Axes>"
            ]
          },
          "metadata": {
            "tags": [],
            "needs_background": "light"
          }
        }
      ]
    },
    {
      "cell_type": "code",
      "metadata": {
        "colab": {
          "base_uri": "https://localhost:8080/",
          "height": 284
        },
        "id": "_Se34Q3TrHZb",
        "outputId": "47ad1720-6d4c-4b70-97e4-dd11322f3000"
      },
      "source": [
        "df[['first_loan','loan_cost_all']].describe()"
      ],
      "execution_count": null,
      "outputs": [
        {
          "output_type": "execute_result",
          "data": {
            "text/html": [
              "<div>\n",
              "<style scoped>\n",
              "    .dataframe tbody tr th:only-of-type {\n",
              "        vertical-align: middle;\n",
              "    }\n",
              "\n",
              "    .dataframe tbody tr th {\n",
              "        vertical-align: top;\n",
              "    }\n",
              "\n",
              "    .dataframe thead th {\n",
              "        text-align: right;\n",
              "    }\n",
              "</style>\n",
              "<table border=\"1\" class=\"dataframe\">\n",
              "  <thead>\n",
              "    <tr style=\"text-align: right;\">\n",
              "      <th></th>\n",
              "      <th>first_loan</th>\n",
              "      <th>loan_cost_all</th>\n",
              "    </tr>\n",
              "  </thead>\n",
              "  <tbody>\n",
              "    <tr>\n",
              "      <th>count</th>\n",
              "      <td>49982.000000</td>\n",
              "      <td>50001.000000</td>\n",
              "    </tr>\n",
              "    <tr>\n",
              "      <th>mean</th>\n",
              "      <td>7751.682606</td>\n",
              "      <td>6703.681926</td>\n",
              "    </tr>\n",
              "    <tr>\n",
              "      <th>std</th>\n",
              "      <td>5310.782009</td>\n",
              "      <td>4610.529844</td>\n",
              "    </tr>\n",
              "    <tr>\n",
              "      <th>min</th>\n",
              "      <td>2000.000000</td>\n",
              "      <td>0.000000</td>\n",
              "    </tr>\n",
              "    <tr>\n",
              "      <th>25%</th>\n",
              "      <td>5000.000000</td>\n",
              "      <td>3000.000000</td>\n",
              "    </tr>\n",
              "    <tr>\n",
              "      <th>50%</th>\n",
              "      <td>7000.000000</td>\n",
              "      <td>7000.000000</td>\n",
              "    </tr>\n",
              "    <tr>\n",
              "      <th>75%</th>\n",
              "      <td>10000.000000</td>\n",
              "      <td>10000.000000</td>\n",
              "    </tr>\n",
              "    <tr>\n",
              "      <th>max</th>\n",
              "      <td>100000.000000</td>\n",
              "      <td>100000.000000</td>\n",
              "    </tr>\n",
              "  </tbody>\n",
              "</table>\n",
              "</div>"
            ],
            "text/plain": [
              "          first_loan  loan_cost_all\n",
              "count   49982.000000   50001.000000\n",
              "mean     7751.682606    6703.681926\n",
              "std      5310.782009    4610.529844\n",
              "min      2000.000000       0.000000\n",
              "25%      5000.000000    3000.000000\n",
              "50%      7000.000000    7000.000000\n",
              "75%     10000.000000   10000.000000\n",
              "max    100000.000000  100000.000000"
            ]
          },
          "metadata": {
            "tags": []
          },
          "execution_count": 72
        }
      ]
    },
    {
      "cell_type": "code",
      "metadata": {
        "colab": {
          "base_uri": "https://localhost:8080/"
        },
        "id": "zpvDWYnlrSH3",
        "outputId": "ec65f750-a7e3-4fe0-a046-6f8ff6dc0223"
      },
      "source": [
        "! pip install catboost"
      ],
      "execution_count": null,
      "outputs": [
        {
          "output_type": "stream",
          "text": [
            "Collecting catboost\n",
            "\u001b[?25l  Downloading https://files.pythonhosted.org/packages/1e/21/d1718eb4c93d6bacdd540b3792187f32ccb1ad9c51b9c4f10875d63ec176/catboost-0.25-cp37-none-manylinux1_x86_64.whl (67.3MB)\n",
            "\u001b[K     |████████████████████████████████| 67.3MB 60kB/s \n",
            "\u001b[?25hRequirement already satisfied: pandas>=0.24.0 in /usr/local/lib/python3.7/dist-packages (from catboost) (1.1.5)\n",
            "Requirement already satisfied: graphviz in /usr/local/lib/python3.7/dist-packages (from catboost) (0.10.1)\n",
            "Requirement already satisfied: scipy in /usr/local/lib/python3.7/dist-packages (from catboost) (1.4.1)\n",
            "Requirement already satisfied: matplotlib in /usr/local/lib/python3.7/dist-packages (from catboost) (3.2.2)\n",
            "Requirement already satisfied: six in /usr/local/lib/python3.7/dist-packages (from catboost) (1.15.0)\n",
            "Requirement already satisfied: plotly in /usr/local/lib/python3.7/dist-packages (from catboost) (4.4.1)\n",
            "Requirement already satisfied: numpy>=1.16.0 in /usr/local/lib/python3.7/dist-packages (from catboost) (1.19.5)\n",
            "Requirement already satisfied: pytz>=2017.2 in /usr/local/lib/python3.7/dist-packages (from pandas>=0.24.0->catboost) (2018.9)\n",
            "Requirement already satisfied: python-dateutil>=2.7.3 in /usr/local/lib/python3.7/dist-packages (from pandas>=0.24.0->catboost) (2.8.1)\n",
            "Requirement already satisfied: kiwisolver>=1.0.1 in /usr/local/lib/python3.7/dist-packages (from matplotlib->catboost) (1.3.1)\n",
            "Requirement already satisfied: pyparsing!=2.0.4,!=2.1.2,!=2.1.6,>=2.0.1 in /usr/local/lib/python3.7/dist-packages (from matplotlib->catboost) (2.4.7)\n",
            "Requirement already satisfied: cycler>=0.10 in /usr/local/lib/python3.7/dist-packages (from matplotlib->catboost) (0.10.0)\n",
            "Requirement already satisfied: retrying>=1.3.3 in /usr/local/lib/python3.7/dist-packages (from plotly->catboost) (1.3.3)\n",
            "Installing collected packages: catboost\n",
            "Successfully installed catboost-0.25\n"
          ],
          "name": "stdout"
        }
      ]
    },
    {
      "cell_type": "code",
      "metadata": {
        "id": "vtQxsVN4reUQ"
      },
      "source": [
        "from catboost import CatBoostClassifier"
      ],
      "execution_count": null,
      "outputs": []
    },
    {
      "cell_type": "code",
      "metadata": {
        "colab": {
          "base_uri": "https://localhost:8080/"
        },
        "id": "SVYh2qj5ri6U",
        "outputId": "48eb0c73-71bb-4f20-b8e2-22886b00c212"
      },
      "source": [
        "df.columns"
      ],
      "execution_count": null,
      "outputs": [
        {
          "output_type": "execute_result",
          "data": {
            "text/plain": [
              "Index(['closed_cred_sum', 'closed_creds', 'active_cred_sum_overdue',\n",
              "       'active_cred_sum', 'active_cred_day_overdue', 'active_cred_max_overdue',\n",
              "       'age', 'gender', 'region', 'first_loan', 'loan_cost_all',\n",
              "       'first_days_quant', 'month_income', 'order_date', 'cost_all',\n",
              "       'order_id', 'client_id', 'expert'],\n",
              "      dtype='object')"
            ]
          },
          "metadata": {
            "tags": []
          },
          "execution_count": 74
        }
      ]
    },
    {
      "cell_type": "code",
      "metadata": {
        "colab": {
          "base_uri": "https://localhost:8080/",
          "height": 422
        },
        "id": "VlkrKPW0ruJC",
        "outputId": "7d2b65a9-70d8-4827-d797-5464da89cd72"
      },
      "source": [
        "df"
      ],
      "execution_count": null,
      "outputs": [
        {
          "output_type": "execute_result",
          "data": {
            "text/html": [
              "<div>\n",
              "<style scoped>\n",
              "    .dataframe tbody tr th:only-of-type {\n",
              "        vertical-align: middle;\n",
              "    }\n",
              "\n",
              "    .dataframe tbody tr th {\n",
              "        vertical-align: top;\n",
              "    }\n",
              "\n",
              "    .dataframe thead th {\n",
              "        text-align: right;\n",
              "    }\n",
              "</style>\n",
              "<table border=\"1\" class=\"dataframe\">\n",
              "  <thead>\n",
              "    <tr style=\"text-align: right;\">\n",
              "      <th></th>\n",
              "      <th>closed_cred_sum</th>\n",
              "      <th>closed_creds</th>\n",
              "      <th>active_cred_sum_overdue</th>\n",
              "      <th>active_cred_sum</th>\n",
              "      <th>active_cred_day_overdue</th>\n",
              "      <th>active_cred_max_overdue</th>\n",
              "      <th>age</th>\n",
              "      <th>gender</th>\n",
              "      <th>region</th>\n",
              "      <th>first_loan</th>\n",
              "      <th>loan_cost_all</th>\n",
              "      <th>first_days_quant</th>\n",
              "      <th>month_income</th>\n",
              "      <th>order_date</th>\n",
              "      <th>cost_all</th>\n",
              "      <th>order_id</th>\n",
              "      <th>client_id</th>\n",
              "      <th>expert</th>\n",
              "    </tr>\n",
              "  </thead>\n",
              "  <tbody>\n",
              "    <tr>\n",
              "      <th>0</th>\n",
              "      <td>143822.00</td>\n",
              "      <td>22</td>\n",
              "      <td>104.12</td>\n",
              "      <td>130068.80</td>\n",
              "      <td>8</td>\n",
              "      <td>756.09</td>\n",
              "      <td>31</td>\n",
              "      <td>0</td>\n",
              "      <td>36</td>\n",
              "      <td>10000.0</td>\n",
              "      <td>10000</td>\n",
              "      <td>196</td>\n",
              "      <td>0.0</td>\n",
              "      <td>2017-07-23</td>\n",
              "      <td>0.0</td>\n",
              "      <td>728319</td>\n",
              "      <td>320464</td>\n",
              "      <td>1</td>\n",
              "    </tr>\n",
              "    <tr>\n",
              "      <th>1</th>\n",
              "      <td>0.00</td>\n",
              "      <td>0</td>\n",
              "      <td>38151.93</td>\n",
              "      <td>46230.00</td>\n",
              "      <td>1492</td>\n",
              "      <td>38151.93</td>\n",
              "      <td>51</td>\n",
              "      <td>0</td>\n",
              "      <td>93</td>\n",
              "      <td>10000.0</td>\n",
              "      <td>10000</td>\n",
              "      <td>17</td>\n",
              "      <td>20000.0</td>\n",
              "      <td>2017-07-23</td>\n",
              "      <td>0.0</td>\n",
              "      <td>728321</td>\n",
              "      <td>320466</td>\n",
              "      <td>1</td>\n",
              "    </tr>\n",
              "    <tr>\n",
              "      <th>2</th>\n",
              "      <td>51356.00</td>\n",
              "      <td>2</td>\n",
              "      <td>3000.00</td>\n",
              "      <td>3000.00</td>\n",
              "      <td>8</td>\n",
              "      <td>3000.00</td>\n",
              "      <td>28</td>\n",
              "      <td>1</td>\n",
              "      <td>3</td>\n",
              "      <td>10000.0</td>\n",
              "      <td>10000</td>\n",
              "      <td>84</td>\n",
              "      <td>0.0</td>\n",
              "      <td>2017-07-23</td>\n",
              "      <td>0.0</td>\n",
              "      <td>728323</td>\n",
              "      <td>320467</td>\n",
              "      <td>1</td>\n",
              "    </tr>\n",
              "    <tr>\n",
              "      <th>3</th>\n",
              "      <td>0.00</td>\n",
              "      <td>0</td>\n",
              "      <td>22784.19</td>\n",
              "      <td>32103.52</td>\n",
              "      <td>913</td>\n",
              "      <td>22784.19</td>\n",
              "      <td>28</td>\n",
              "      <td>0</td>\n",
              "      <td>52</td>\n",
              "      <td>10000.0</td>\n",
              "      <td>10000</td>\n",
              "      <td>7</td>\n",
              "      <td>0.0</td>\n",
              "      <td>2017-07-23</td>\n",
              "      <td>0.0</td>\n",
              "      <td>728447</td>\n",
              "      <td>320533</td>\n",
              "      <td>1</td>\n",
              "    </tr>\n",
              "    <tr>\n",
              "      <th>4</th>\n",
              "      <td>12298.00</td>\n",
              "      <td>1</td>\n",
              "      <td>4942.95</td>\n",
              "      <td>4950.00</td>\n",
              "      <td>2883</td>\n",
              "      <td>4942.95</td>\n",
              "      <td>31</td>\n",
              "      <td>0</td>\n",
              "      <td>47</td>\n",
              "      <td>5000.0</td>\n",
              "      <td>5000</td>\n",
              "      <td>20</td>\n",
              "      <td>0.0</td>\n",
              "      <td>2017-07-23</td>\n",
              "      <td>0.0</td>\n",
              "      <td>728421</td>\n",
              "      <td>298598</td>\n",
              "      <td>1</td>\n",
              "    </tr>\n",
              "    <tr>\n",
              "      <th>...</th>\n",
              "      <td>...</td>\n",
              "      <td>...</td>\n",
              "      <td>...</td>\n",
              "      <td>...</td>\n",
              "      <td>...</td>\n",
              "      <td>...</td>\n",
              "      <td>...</td>\n",
              "      <td>...</td>\n",
              "      <td>...</td>\n",
              "      <td>...</td>\n",
              "      <td>...</td>\n",
              "      <td>...</td>\n",
              "      <td>...</td>\n",
              "      <td>...</td>\n",
              "      <td>...</td>\n",
              "      <td>...</td>\n",
              "      <td>...</td>\n",
              "      <td>...</td>\n",
              "    </tr>\n",
              "    <tr>\n",
              "      <th>49996</th>\n",
              "      <td>0.00</td>\n",
              "      <td>0</td>\n",
              "      <td>74662.61</td>\n",
              "      <td>79662.61</td>\n",
              "      <td>2593</td>\n",
              "      <td>42204.55</td>\n",
              "      <td>27</td>\n",
              "      <td>1</td>\n",
              "      <td>0</td>\n",
              "      <td>4000.0</td>\n",
              "      <td>4000</td>\n",
              "      <td>20</td>\n",
              "      <td>0.0</td>\n",
              "      <td>2017-08-13</td>\n",
              "      <td>0.0</td>\n",
              "      <td>759472</td>\n",
              "      <td>96091</td>\n",
              "      <td>1</td>\n",
              "    </tr>\n",
              "    <tr>\n",
              "      <th>49997</th>\n",
              "      <td>21653.49</td>\n",
              "      <td>2</td>\n",
              "      <td>0.00</td>\n",
              "      <td>0.00</td>\n",
              "      <td>0</td>\n",
              "      <td>0.00</td>\n",
              "      <td>28</td>\n",
              "      <td>0</td>\n",
              "      <td>75</td>\n",
              "      <td>2000.0</td>\n",
              "      <td>2000</td>\n",
              "      <td>10</td>\n",
              "      <td>20000.0</td>\n",
              "      <td>2017-08-13</td>\n",
              "      <td>0.0</td>\n",
              "      <td>759475</td>\n",
              "      <td>338240</td>\n",
              "      <td>1</td>\n",
              "    </tr>\n",
              "    <tr>\n",
              "      <th>49998</th>\n",
              "      <td>0.00</td>\n",
              "      <td>0</td>\n",
              "      <td>0.00</td>\n",
              "      <td>1000.00</td>\n",
              "      <td>0</td>\n",
              "      <td>941.00</td>\n",
              "      <td>22</td>\n",
              "      <td>0</td>\n",
              "      <td>0</td>\n",
              "      <td>10000.0</td>\n",
              "      <td>10000</td>\n",
              "      <td>20</td>\n",
              "      <td>35000.0</td>\n",
              "      <td>2017-08-13</td>\n",
              "      <td>0.0</td>\n",
              "      <td>759485</td>\n",
              "      <td>338246</td>\n",
              "      <td>1</td>\n",
              "    </tr>\n",
              "    <tr>\n",
              "      <th>49999</th>\n",
              "      <td>0.00</td>\n",
              "      <td>0</td>\n",
              "      <td>0.00</td>\n",
              "      <td>1000.00</td>\n",
              "      <td>0</td>\n",
              "      <td>941.00</td>\n",
              "      <td>22</td>\n",
              "      <td>0</td>\n",
              "      <td>0</td>\n",
              "      <td>10000.0</td>\n",
              "      <td>10000</td>\n",
              "      <td>20</td>\n",
              "      <td>35000.0</td>\n",
              "      <td>2017-08-13</td>\n",
              "      <td>0.0</td>\n",
              "      <td>759485</td>\n",
              "      <td>338246</td>\n",
              "      <td>1</td>\n",
              "    </tr>\n",
              "    <tr>\n",
              "      <th>50000</th>\n",
              "      <td>19750.00</td>\n",
              "      <td>9</td>\n",
              "      <td>14100.00</td>\n",
              "      <td>14100.00</td>\n",
              "      <td>331</td>\n",
              "      <td>6000.00</td>\n",
              "      <td>33</td>\n",
              "      <td>0</td>\n",
              "      <td>40</td>\n",
              "      <td>2000.0</td>\n",
              "      <td>2000</td>\n",
              "      <td>21</td>\n",
              "      <td>0.0</td>\n",
              "      <td>2017-08-13</td>\n",
              "      <td>0.0</td>\n",
              "      <td>759490</td>\n",
              "      <td>261961</td>\n",
              "      <td>1</td>\n",
              "    </tr>\n",
              "  </tbody>\n",
              "</table>\n",
              "<p>50001 rows × 18 columns</p>\n",
              "</div>"
            ],
            "text/plain": [
              "       closed_cred_sum  closed_creds  ...  client_id  expert\n",
              "0            143822.00            22  ...     320464       1\n",
              "1                 0.00             0  ...     320466       1\n",
              "2             51356.00             2  ...     320467       1\n",
              "3                 0.00             0  ...     320533       1\n",
              "4             12298.00             1  ...     298598       1\n",
              "...                ...           ...  ...        ...     ...\n",
              "49996             0.00             0  ...      96091       1\n",
              "49997         21653.49             2  ...     338240       1\n",
              "49998             0.00             0  ...     338246       1\n",
              "49999             0.00             0  ...     338246       1\n",
              "50000         19750.00             9  ...     261961       1\n",
              "\n",
              "[50001 rows x 18 columns]"
            ]
          },
          "metadata": {
            "tags": []
          },
          "execution_count": 75
        }
      ]
    },
    {
      "cell_type": "code",
      "metadata": {
        "colab": {
          "base_uri": "https://localhost:8080/"
        },
        "id": "BdI6ifY7rupC",
        "outputId": "31df498e-ce83-4a00-e528-e9e1999ab255"
      },
      "source": [
        "df['region'].value_counts()"
      ],
      "execution_count": null,
      "outputs": [
        {
          "output_type": "execute_result",
          "data": {
            "text/plain": [
              "0     20061\n",
              "40     4185\n",
              "36     1921\n",
              "75     1778\n",
              "65     1614\n",
              "      ...  \n",
              "44       19\n",
              "85       17\n",
              "43       16\n",
              "21       11\n",
              "9         7\n",
              "Name: region, Length: 99, dtype: int64"
            ]
          },
          "metadata": {
            "tags": []
          },
          "execution_count": 76
        }
      ]
    },
    {
      "cell_type": "code",
      "metadata": {
        "colab": {
          "base_uri": "https://localhost:8080/"
        },
        "id": "3gsQ0FPor5ig",
        "outputId": "6cfb43b2-04b4-4d87-b0ae-43edad349b3d"
      },
      "source": [
        "df['order_date'].agg(['min','max'])"
      ],
      "execution_count": null,
      "outputs": [
        {
          "output_type": "execute_result",
          "data": {
            "text/plain": [
              "min    2017-06-26\n",
              "max    2017-09-25\n",
              "Name: order_date, dtype: object"
            ]
          },
          "metadata": {
            "tags": []
          },
          "execution_count": 77
        }
      ]
    },
    {
      "cell_type": "code",
      "metadata": {
        "colab": {
          "base_uri": "https://localhost:8080/",
          "height": 282
        },
        "id": "UtYvcpXxsI3U",
        "outputId": "b289f01f-2740-4f6b-c26d-9cf15f572dbf"
      },
      "source": [
        "df['age'].hist()"
      ],
      "execution_count": null,
      "outputs": [
        {
          "output_type": "execute_result",
          "data": {
            "text/plain": [
              "<matplotlib.axes._subplots.AxesSubplot at 0x7f5caa722110>"
            ]
          },
          "metadata": {
            "tags": []
          },
          "execution_count": 78
        },
        {
          "output_type": "display_data",
          "data": {
            "image/png": "[encoded data removed]",
            "text/plain": [
              "<Figure size 432x288 with 1 Axes>"
            ]
          },
          "metadata": {
            "tags": [],
            "needs_background": "light"
          }
        }
      ]
    },
    {
      "cell_type": "code",
      "metadata": {
        "colab": {
          "base_uri": "https://localhost:8080/"
        },
        "id": "DsrRu7jbsgMo",
        "outputId": "fc6d8974-5cab-42be-bb7e-a4b22deb2bfd"
      },
      "source": [
        "df['age'].describe()"
      ],
      "execution_count": null,
      "outputs": [
        {
          "output_type": "execute_result",
          "data": {
            "text/plain": [
              "count    50001.000000\n",
              "mean        35.018900\n",
              "std         11.235206\n",
              "min         18.000000\n",
              "25%         27.000000\n",
              "50%         32.000000\n",
              "75%         41.000000\n",
              "max         99.000000\n",
              "Name: age, dtype: float64"
            ]
          },
          "metadata": {
            "tags": []
          },
          "execution_count": 79
        }
      ]
    },
    {
      "cell_type": "code",
      "metadata": {
        "colab": {
          "base_uri": "https://localhost:8080/",
          "height": 297
        },
        "id": "0fOcTtqwskaP",
        "outputId": "425995c8-d86e-46ff-f6d7-8b578309b373"
      },
      "source": [
        "df.groupby('order_date')['order_id'].mean().plot()"
      ],
      "execution_count": null,
      "outputs": [
        {
          "output_type": "execute_result",
          "data": {
            "text/plain": [
              "<matplotlib.axes._subplots.AxesSubplot at 0x7f5caa614e10>"
            ]
          },
          "metadata": {
            "tags": []
          },
          "execution_count": 80
        },
        {
          "output_type": "display_data",
          "data": {
            "image/png": "[encoded data removed]",
            "text/plain": [
              "<Figure size 432x288 with 1 Axes>"
            ]
          },
          "metadata": {
            "tags": [],
            "needs_background": "light"
          }
        }
      ]
    },
    {
      "cell_type": "code",
      "metadata": {
        "id": "7qeyzo51s4iC"
      },
      "source": [
        "X_col = ['closed_cred_sum', 'closed_creds', 'active_cred_sum_overdue',\n",
        "       'active_cred_sum', 'active_cred_day_overdue', 'active_cred_max_overdue',\n",
        "       'age',  'first_loan',\n",
        "       'first_days_quant', 'month_income',\n",
        "        'client_id',\n",
        "       'gender', 'region',\n",
        "       ]\n",
        "\n",
        "cat_features = ['gender','region']\n",
        "y_col = ['expert']"
      ],
      "execution_count": null,
      "outputs": []
    },
    {
      "cell_type": "code",
      "metadata": {
        "id": "7iFU5qQGtN71"
      },
      "source": [
        "model = CatBoostClassifier(verbose=100,\n",
        "                           random_state=42,\n",
        "                           learning_rate=0.5,\n",
        "                           early_stopping_rounds=200,\n",
        "                           eval_metric='AUC',\n",
        "                           cat_features=cat_features\n",
        "                           )"
      ],
      "execution_count": null,
      "outputs": []
    },
    {
      "cell_type": "code",
      "metadata": {
        "colab": {
          "base_uri": "https://localhost:8080/"
        },
        "id": "z9DexnR_tVdO",
        "outputId": "2ea558ae-986e-48cb-d163-d56bba194a85"
      },
      "source": [
        "model.fit(train[X_col],train[y_col],\n",
        "          eval_set=(val[X_col],val[y_col]))"
      ],
      "execution_count": null,
      "outputs": [
        {
          "output_type": "stream",
          "text": [
            "0:\ttest: 0.8703715\tbest: 0.8703715 (0)\ttotal: 40.9ms\tremaining: 40.9s\n",
            "100:\ttest: 0.9441178\tbest: 0.9441178 (100)\ttotal: 3.92s\tremaining: 34.9s\n",
            "200:\ttest: 0.9459992\tbest: 0.9461400 (167)\ttotal: 7.75s\tremaining: 30.8s\n",
            "300:\ttest: 0.9468176\tbest: 0.9469663 (265)\ttotal: 11.6s\tremaining: 27s\n",
            "400:\ttest: 0.9476001\tbest: 0.9476765 (387)\ttotal: 15.5s\tremaining: 23.1s\n",
            "500:\ttest: 0.9484574\tbest: 0.9486474 (495)\ttotal: 19.4s\tremaining: 19.3s\n",
            "600:\ttest: 0.9485748\tbest: 0.9487407 (582)\ttotal: 23.2s\tremaining: 15.4s\n",
            "700:\ttest: 0.9486368\tbest: 0.9487417 (633)\ttotal: 27.1s\tremaining: 11.6s\n",
            "800:\ttest: 0.9492124\tbest: 0.9492575 (797)\ttotal: 30.9s\tremaining: 7.67s\n",
            "900:\ttest: 0.9494020\tbest: 0.9494097 (898)\ttotal: 34.7s\tremaining: 3.81s\n",
            "999:\ttest: 0.9496165\tbest: 0.9496848 (989)\ttotal: 38.4s\tremaining: 0us\n",
            "\n",
            "bestTest = 0.9496847863\n",
            "bestIteration = 989\n",
            "\n",
            "Shrink model to first 990 iterations.\n"
          ],
          "name": "stdout"
        },
        {
          "output_type": "execute_result",
          "data": {
            "text/plain": [
              "<catboost.core.CatBoostClassifier at 0x7f5c9f0d21d0>"
            ]
          },
          "metadata": {
            "tags": []
          },
          "execution_count": 136
        }
      ]
    },
    {
      "cell_type": "code",
      "metadata": {
        "id": "0jWXId4SyZ6g"
      },
      "source": [
        "bestTest = 0.9536299236\n",
        "bestIteration = 867"
      ],
      "execution_count": null,
      "outputs": []
    },
    {
      "cell_type": "code",
      "metadata": {
        "id": "gdBc4a0ftlJz"
      },
      "source": [
        "fi = pd.DataFrame({'w':model.feature_importances_,'name':X_col})"
      ],
      "execution_count": null,
      "outputs": []
    },
    {
      "cell_type": "code",
      "metadata": {
        "colab": {
          "base_uri": "https://localhost:8080/",
          "height": 432
        },
        "id": "XP9Qob5cuatI",
        "outputId": "157c0fa0-7922-455e-b476-5d26f9b1a138"
      },
      "source": [
        "fi.sort_values('w',ascending=False)"
      ],
      "execution_count": null,
      "outputs": [
        {
          "output_type": "execute_result",
          "data": {
            "text/html": [
              "<div>\n",
              "<style scoped>\n",
              "    .dataframe tbody tr th:only-of-type {\n",
              "        vertical-align: middle;\n",
              "    }\n",
              "\n",
              "    .dataframe tbody tr th {\n",
              "        vertical-align: top;\n",
              "    }\n",
              "\n",
              "    .dataframe thead th {\n",
              "        text-align: right;\n",
              "    }\n",
              "</style>\n",
              "<table border=\"1\" class=\"dataframe\">\n",
              "  <thead>\n",
              "    <tr style=\"text-align: right;\">\n",
              "      <th></th>\n",
              "      <th>w</th>\n",
              "      <th>name</th>\n",
              "    </tr>\n",
              "  </thead>\n",
              "  <tbody>\n",
              "    <tr>\n",
              "      <th>8</th>\n",
              "      <td>14.691746</td>\n",
              "      <td>first_days_quant</td>\n",
              "    </tr>\n",
              "    <tr>\n",
              "      <th>10</th>\n",
              "      <td>12.576234</td>\n",
              "      <td>client_id</td>\n",
              "    </tr>\n",
              "    <tr>\n",
              "      <th>9</th>\n",
              "      <td>10.023964</td>\n",
              "      <td>month_income</td>\n",
              "    </tr>\n",
              "    <tr>\n",
              "      <th>0</th>\n",
              "      <td>8.394945</td>\n",
              "      <td>closed_cred_sum</td>\n",
              "    </tr>\n",
              "    <tr>\n",
              "      <th>3</th>\n",
              "      <td>8.347118</td>\n",
              "      <td>active_cred_sum</td>\n",
              "    </tr>\n",
              "    <tr>\n",
              "      <th>6</th>\n",
              "      <td>7.329569</td>\n",
              "      <td>age</td>\n",
              "    </tr>\n",
              "    <tr>\n",
              "      <th>5</th>\n",
              "      <td>7.316254</td>\n",
              "      <td>active_cred_max_overdue</td>\n",
              "    </tr>\n",
              "    <tr>\n",
              "      <th>2</th>\n",
              "      <td>6.784682</td>\n",
              "      <td>active_cred_sum_overdue</td>\n",
              "    </tr>\n",
              "    <tr>\n",
              "      <th>7</th>\n",
              "      <td>6.083783</td>\n",
              "      <td>first_loan</td>\n",
              "    </tr>\n",
              "    <tr>\n",
              "      <th>1</th>\n",
              "      <td>6.057225</td>\n",
              "      <td>closed_creds</td>\n",
              "    </tr>\n",
              "    <tr>\n",
              "      <th>12</th>\n",
              "      <td>5.657942</td>\n",
              "      <td>region</td>\n",
              "    </tr>\n",
              "    <tr>\n",
              "      <th>4</th>\n",
              "      <td>5.528048</td>\n",
              "      <td>active_cred_day_overdue</td>\n",
              "    </tr>\n",
              "    <tr>\n",
              "      <th>11</th>\n",
              "      <td>1.208490</td>\n",
              "      <td>gender</td>\n",
              "    </tr>\n",
              "  </tbody>\n",
              "</table>\n",
              "</div>"
            ],
            "text/plain": [
              "            w                     name\n",
              "8   14.691746         first_days_quant\n",
              "10  12.576234                client_id\n",
              "9   10.023964             month_income\n",
              "0    8.394945          closed_cred_sum\n",
              "3    8.347118          active_cred_sum\n",
              "6    7.329569                      age\n",
              "5    7.316254  active_cred_max_overdue\n",
              "2    6.784682  active_cred_sum_overdue\n",
              "7    6.083783               first_loan\n",
              "1    6.057225             closed_creds\n",
              "12   5.657942                   region\n",
              "4    5.528048  active_cred_day_overdue\n",
              "11   1.208490                   gender"
            ]
          },
          "metadata": {
            "tags": []
          },
          "execution_count": 139
        }
      ]
    },
    {
      "cell_type": "code",
      "metadata": {
        "colab": {
          "base_uri": "https://localhost:8080/"
        },
        "id": "rpLnW37FuiTF",
        "outputId": "077b6106-1835-4016-e9e6-6be8fcf6d0ab"
      },
      "source": [
        "! pip install shap"
      ],
      "execution_count": null,
      "outputs": [
        {
          "output_type": "stream",
          "text": [
            "Collecting shap\n",
            "\u001b[?25l  Downloading https://files.pythonhosted.org/packages/b9/f4/c5b95cddae15be80f8e58b25edceca105aa83c0b8c86a1edad24a6af80d3/shap-0.39.0.tar.gz (356kB)\n",
            "\r\u001b[K     |█                               | 10kB 14.2MB/s eta 0:00:01\r\u001b[K     |█▉                              | 20kB 12.6MB/s eta 0:00:01\r\u001b[K     |██▊                             | 30kB 8.5MB/s eta 0:00:01\r\u001b[K     |███▊                            | 40kB 7.5MB/s eta 0:00:01\r\u001b[K     |████▋                           | 51kB 4.4MB/s eta 0:00:01\r\u001b[K     |█████▌                          | 61kB 4.9MB/s eta 0:00:01\r\u001b[K     |██████▍                         | 71kB 5.1MB/s eta 0:00:01\r\u001b[K     |███████▍                        | 81kB 5.4MB/s eta 0:00:01\r\u001b[K     |████████▎                       | 92kB 5.1MB/s eta 0:00:01\r\u001b[K     |█████████▏                      | 102kB 5.3MB/s eta 0:00:01\r\u001b[K     |██████████▏                     | 112kB 5.3MB/s eta 0:00:01\r\u001b[K     |███████████                     | 122kB 5.3MB/s eta 0:00:01\r\u001b[K     |████████████                    | 133kB 5.3MB/s eta 0:00:01\r\u001b[K     |████████████▉                   | 143kB 5.3MB/s eta 0:00:01\r\u001b[K     |█████████████▉                  | 153kB 5.3MB/s eta 0:00:01\r\u001b[K     |██████████████▊                 | 163kB 5.3MB/s eta 0:00:01\r\u001b[K     |███████████████▋                | 174kB 5.3MB/s eta 0:00:01\r\u001b[K     |████████████████▋               | 184kB 5.3MB/s eta 0:00:01\r\u001b[K     |█████████████████▌              | 194kB 5.3MB/s eta 0:00:01\r\u001b[K     |██████████████████▍             | 204kB 5.3MB/s eta 0:00:01\r\u001b[K     |███████████████████▎            | 215kB 5.3MB/s eta 0:00:01\r\u001b[K     |████████████████████▎           | 225kB 5.3MB/s eta 0:00:01\r\u001b[K     |█████████████████████▏          | 235kB 5.3MB/s eta 0:00:01\r\u001b[K     |██████████████████████          | 245kB 5.3MB/s eta 0:00:01\r\u001b[K     |███████████████████████         | 256kB 5.3MB/s eta 0:00:01\r\u001b[K     |████████████████████████        | 266kB 5.3MB/s eta 0:00:01\r\u001b[K     |████████████████████████▉       | 276kB 5.3MB/s eta 0:00:01\r\u001b[K     |█████████████████████████▊      | 286kB 5.3MB/s eta 0:00:01\r\u001b[K     |██████████████████████████▊     | 296kB 5.3MB/s eta 0:00:01\r\u001b[K     |███████████████████████████▋    | 307kB 5.3MB/s eta 0:00:01\r\u001b[K     |████████████████████████████▌   | 317kB 5.3MB/s eta 0:00:01\r\u001b[K     |█████████████████████████████▍  | 327kB 5.3MB/s eta 0:00:01\r\u001b[K     |██████████████████████████████▍ | 337kB 5.3MB/s eta 0:00:01\r\u001b[K     |███████████████████████████████▎| 348kB 5.3MB/s eta 0:00:01\r\u001b[K     |████████████████████████████████| 358kB 5.3MB/s \n",
            "\u001b[?25hRequirement already satisfied: numpy in /usr/local/lib/python3.7/dist-packages (from shap) (1.19.5)\n",
            "Requirement already satisfied: scipy in /usr/local/lib/python3.7/dist-packages (from shap) (1.4.1)\n",
            "Requirement already satisfied: scikit-learn in /usr/local/lib/python3.7/dist-packages (from shap) (0.22.2.post1)\n",
            "Requirement already satisfied: pandas in /usr/local/lib/python3.7/dist-packages (from shap) (1.1.5)\n",
            "Requirement already satisfied: tqdm>4.25.0 in /usr/local/lib/python3.7/dist-packages (from shap) (4.41.1)\n",
            "Collecting slicer==0.0.7\n",
            "  Downloading https://files.pythonhosted.org/packages/78/c2/b3f55dfdb8af9812fdb9baf70cacf3b9e82e505b2bd4324d588888b81202/slicer-0.0.7-py3-none-any.whl\n",
            "Requirement already satisfied: numba in /usr/local/lib/python3.7/dist-packages (from shap) (0.51.2)\n",
            "Requirement already satisfied: cloudpickle in /usr/local/lib/python3.7/dist-packages (from shap) (1.3.0)\n",
            "Requirement already satisfied: joblib>=0.11 in /usr/local/lib/python3.7/dist-packages (from scikit-learn->shap) (1.0.1)\n",
            "Requirement already satisfied: pytz>=2017.2 in /usr/local/lib/python3.7/dist-packages (from pandas->shap) (2018.9)\n",
            "Requirement already satisfied: python-dateutil>=2.7.3 in /usr/local/lib/python3.7/dist-packages (from pandas->shap) (2.8.1)\n",
            "Requirement already satisfied: setuptools in /usr/local/lib/python3.7/dist-packages (from numba->shap) (54.1.2)\n",
            "Requirement already satisfied: llvmlite<0.35,>=0.34.0.dev0 in /usr/local/lib/python3.7/dist-packages (from numba->shap) (0.34.0)\n",
            "Requirement already satisfied: six>=1.5 in /usr/local/lib/python3.7/dist-packages (from python-dateutil>=2.7.3->pandas->shap) (1.15.0)\n",
            "Building wheels for collected packages: shap\n",
            "  Building wheel for shap (setup.py) ... \u001b[?25l\u001b[?25hdone\n",
            "  Created wheel for shap: filename=shap-0.39.0-cp37-cp37m-linux_x86_64.whl size=491624 sha256=d43cf1fef5a606e16d10f1338f399af7327d81a7cf1052ee7db686a8fbf676a6\n",
            "  Stored in directory: /root/.cache/pip/wheels/15/27/f5/a8ab9da52fd159aae6477b5ede6eaaec69fd130fa0fa59f283\n",
            "Successfully built shap\n",
            "Installing collected packages: slicer, shap\n",
            "Successfully installed shap-0.39.0 slicer-0.0.7\n"
          ],
          "name": "stdout"
        }
      ]
    },
    {
      "cell_type": "code",
      "metadata": {
        "id": "2-LbrPaG4q8_"
      },
      "source": [
        "import shap"
      ],
      "execution_count": null,
      "outputs": []
    },
    {
      "cell_type": "code",
      "metadata": {
        "colab": {
          "base_uri": "https://localhost:8080/",
          "height": 433
        },
        "id": "OM7KCKWK0Tu_",
        "outputId": "f22586b3-9996-43f1-9bc8-6e1fe3b0259a"
      },
      "source": [
        "shap.summary_plot(shap_values, train[X_col])"
      ],
      "execution_count": null,
      "outputs": [
        {
          "output_type": "display_data",
          "data": {
            "image/png": "[encoded data removed]",
            "text/plain": [
              "<Figure size 576x482.4 with 2 Axes>"
            ]
          },
          "metadata": {
            "tags": [],
            "needs_background": "light"
          }
        }
      ]
    },
    {
      "cell_type": "code",
      "metadata": {
        "id": "c32AROf-wutk"
      },
      "source": [
        "df['income_cat'] = pd.qcut(df['month_income'],5,duplicates='drop')"
      ],
      "execution_count": null,
      "outputs": []
    },
    {
      "cell_type": "code",
      "metadata": {
        "colab": {
          "base_uri": "https://localhost:8080/",
          "height": 195
        },
        "id": "MSzoXHqxzY-2",
        "outputId": "faa02597-0f9c-427d-afe1-6e0c85f72f6b"
      },
      "source": [
        "df.groupby('income_cat')['expert'].agg(['mean','count'])"
      ],
      "execution_count": null,
      "outputs": [
        {
          "output_type": "execute_result",
          "data": {
            "text/html": [
              "<div>\n",
              "<style scoped>\n",
              "    .dataframe tbody tr th:only-of-type {\n",
              "        vertical-align: middle;\n",
              "    }\n",
              "\n",
              "    .dataframe tbody tr th {\n",
              "        vertical-align: top;\n",
              "    }\n",
              "\n",
              "    .dataframe thead th {\n",
              "        text-align: right;\n",
              "    }\n",
              "</style>\n",
              "<table border=\"1\" class=\"dataframe\">\n",
              "  <thead>\n",
              "    <tr style=\"text-align: right;\">\n",
              "      <th></th>\n",
              "      <th>mean</th>\n",
              "      <th>count</th>\n",
              "    </tr>\n",
              "    <tr>\n",
              "      <th>income_cat</th>\n",
              "      <th></th>\n",
              "      <th></th>\n",
              "    </tr>\n",
              "  </thead>\n",
              "  <tbody>\n",
              "    <tr>\n",
              "      <th>(-0.001, 20000.0]</th>\n",
              "      <td>0.863225</td>\n",
              "      <td>22972</td>\n",
              "    </tr>\n",
              "    <tr>\n",
              "      <th>(20000.0, 35000.0]</th>\n",
              "      <td>0.684896</td>\n",
              "      <td>15817</td>\n",
              "    </tr>\n",
              "    <tr>\n",
              "      <th>(35000.0, 50000.0]</th>\n",
              "      <td>0.601476</td>\n",
              "      <td>8401</td>\n",
              "    </tr>\n",
              "    <tr>\n",
              "      <th>(50000.0, 550000.0]</th>\n",
              "      <td>0.621843</td>\n",
              "      <td>2811</td>\n",
              "    </tr>\n",
              "  </tbody>\n",
              "</table>\n",
              "</div>"
            ],
            "text/plain": [
              "                         mean  count\n",
              "income_cat                          \n",
              "(-0.001, 20000.0]    0.863225  22972\n",
              "(20000.0, 35000.0]   0.684896  15817\n",
              "(35000.0, 50000.0]   0.601476   8401\n",
              "(50000.0, 550000.0]  0.621843   2811"
            ]
          },
          "metadata": {
            "tags": []
          },
          "execution_count": 144
        }
      ]
    },
    {
      "cell_type": "code",
      "metadata": {
        "id": "G7m-LscAzyGQ"
      },
      "source": [
        "df['client_cat'] = pd.qcut(df['client_id'],5,duplicates='drop')"
      ],
      "execution_count": null,
      "outputs": []
    },
    {
      "cell_type": "code",
      "metadata": {
        "colab": {
          "base_uri": "https://localhost:8080/",
          "height": 225
        },
        "id": "d3JcWxGJ0wk3",
        "outputId": "bd59d53a-e799-45fb-dfa4-1e320e54a143"
      },
      "source": [
        "df.groupby('client_cat')['expert'].agg(['mean','count'])"
      ],
      "execution_count": null,
      "outputs": [
        {
          "output_type": "execute_result",
          "data": {
            "text/html": [
              "<div>\n",
              "<style scoped>\n",
              "    .dataframe tbody tr th:only-of-type {\n",
              "        vertical-align: middle;\n",
              "    }\n",
              "\n",
              "    .dataframe tbody tr th {\n",
              "        vertical-align: top;\n",
              "    }\n",
              "\n",
              "    .dataframe thead th {\n",
              "        text-align: right;\n",
              "    }\n",
              "</style>\n",
              "<table border=\"1\" class=\"dataframe\">\n",
              "  <thead>\n",
              "    <tr style=\"text-align: right;\">\n",
              "      <th></th>\n",
              "      <th>mean</th>\n",
              "      <th>count</th>\n",
              "    </tr>\n",
              "    <tr>\n",
              "      <th>client_cat</th>\n",
              "      <th></th>\n",
              "      <th></th>\n",
              "    </tr>\n",
              "  </thead>\n",
              "  <tbody>\n",
              "    <tr>\n",
              "      <th>(108.999, 274066.0]</th>\n",
              "      <td>0.455954</td>\n",
              "      <td>10001</td>\n",
              "    </tr>\n",
              "    <tr>\n",
              "      <th>(274066.0, 310588.0]</th>\n",
              "      <td>0.716700</td>\n",
              "      <td>10000</td>\n",
              "    </tr>\n",
              "    <tr>\n",
              "      <th>(310588.0, 322138.0]</th>\n",
              "      <td>0.816000</td>\n",
              "      <td>10000</td>\n",
              "    </tr>\n",
              "    <tr>\n",
              "      <th>(322138.0, 332110.0]</th>\n",
              "      <td>0.869500</td>\n",
              "      <td>10000</td>\n",
              "    </tr>\n",
              "    <tr>\n",
              "      <th>(332110.0, 393528.0]</th>\n",
              "      <td>0.888200</td>\n",
              "      <td>10000</td>\n",
              "    </tr>\n",
              "  </tbody>\n",
              "</table>\n",
              "</div>"
            ],
            "text/plain": [
              "                          mean  count\n",
              "client_cat                           \n",
              "(108.999, 274066.0]   0.455954  10001\n",
              "(274066.0, 310588.0]  0.716700  10000\n",
              "(310588.0, 322138.0]  0.816000  10000\n",
              "(322138.0, 332110.0]  0.869500  10000\n",
              "(332110.0, 393528.0]  0.888200  10000"
            ]
          },
          "metadata": {
            "tags": []
          },
          "execution_count": 146
        }
      ]
    },
    {
      "cell_type": "code",
      "metadata": {
        "colab": {
          "base_uri": "https://localhost:8080/",
          "height": 590
        },
        "id": "wz3u5gNq0ylC",
        "outputId": "c06392c5-bca3-4beb-c519-aa18e5e2d495"
      },
      "source": [
        "df"
      ],
      "execution_count": null,
      "outputs": [
        {
          "output_type": "execute_result",
          "data": {
            "text/html": [
              "<div>\n",
              "<style scoped>\n",
              "    .dataframe tbody tr th:only-of-type {\n",
              "        vertical-align: middle;\n",
              "    }\n",
              "\n",
              "    .dataframe tbody tr th {\n",
              "        vertical-align: top;\n",
              "    }\n",
              "\n",
              "    .dataframe thead th {\n",
              "        text-align: right;\n",
              "    }\n",
              "</style>\n",
              "<table border=\"1\" class=\"dataframe\">\n",
              "  <thead>\n",
              "    <tr style=\"text-align: right;\">\n",
              "      <th></th>\n",
              "      <th>closed_cred_sum</th>\n",
              "      <th>closed_creds</th>\n",
              "      <th>active_cred_sum_overdue</th>\n",
              "      <th>active_cred_sum</th>\n",
              "      <th>active_cred_day_overdue</th>\n",
              "      <th>active_cred_max_overdue</th>\n",
              "      <th>age</th>\n",
              "      <th>gender</th>\n",
              "      <th>region</th>\n",
              "      <th>first_loan</th>\n",
              "      <th>loan_cost_all</th>\n",
              "      <th>first_days_quant</th>\n",
              "      <th>month_income</th>\n",
              "      <th>order_date</th>\n",
              "      <th>cost_all</th>\n",
              "      <th>order_id</th>\n",
              "      <th>client_id</th>\n",
              "      <th>expert</th>\n",
              "      <th>income_cat</th>\n",
              "      <th>client_cat</th>\n",
              "      <th>term_cat</th>\n",
              "    </tr>\n",
              "  </thead>\n",
              "  <tbody>\n",
              "    <tr>\n",
              "      <th>0</th>\n",
              "      <td>143822.00</td>\n",
              "      <td>22</td>\n",
              "      <td>104.12</td>\n",
              "      <td>130068.80</td>\n",
              "      <td>8</td>\n",
              "      <td>756.09</td>\n",
              "      <td>31</td>\n",
              "      <td>0</td>\n",
              "      <td>36</td>\n",
              "      <td>10000.0</td>\n",
              "      <td>10000</td>\n",
              "      <td>196</td>\n",
              "      <td>0.0</td>\n",
              "      <td>2017-07-23</td>\n",
              "      <td>0.0</td>\n",
              "      <td>728319</td>\n",
              "      <td>320464</td>\n",
              "      <td>1</td>\n",
              "      <td>(-0.001, 20000.0]</td>\n",
              "      <td>(310588.0, 322138.0]</td>\n",
              "      <td>(21.0, 336.0]</td>\n",
              "    </tr>\n",
              "    <tr>\n",
              "      <th>1</th>\n",
              "      <td>0.00</td>\n",
              "      <td>0</td>\n",
              "      <td>38151.93</td>\n",
              "      <td>46230.00</td>\n",
              "      <td>1492</td>\n",
              "      <td>38151.93</td>\n",
              "      <td>51</td>\n",
              "      <td>0</td>\n",
              "      <td>93</td>\n",
              "      <td>10000.0</td>\n",
              "      <td>10000</td>\n",
              "      <td>17</td>\n",
              "      <td>20000.0</td>\n",
              "      <td>2017-07-23</td>\n",
              "      <td>0.0</td>\n",
              "      <td>728321</td>\n",
              "      <td>320466</td>\n",
              "      <td>1</td>\n",
              "      <td>(-0.001, 20000.0]</td>\n",
              "      <td>(310588.0, 322138.0]</td>\n",
              "      <td>(14.0, 20.0]</td>\n",
              "    </tr>\n",
              "    <tr>\n",
              "      <th>2</th>\n",
              "      <td>51356.00</td>\n",
              "      <td>2</td>\n",
              "      <td>3000.00</td>\n",
              "      <td>3000.00</td>\n",
              "      <td>8</td>\n",
              "      <td>3000.00</td>\n",
              "      <td>28</td>\n",
              "      <td>1</td>\n",
              "      <td>3</td>\n",
              "      <td>10000.0</td>\n",
              "      <td>10000</td>\n",
              "      <td>84</td>\n",
              "      <td>0.0</td>\n",
              "      <td>2017-07-23</td>\n",
              "      <td>0.0</td>\n",
              "      <td>728323</td>\n",
              "      <td>320467</td>\n",
              "      <td>1</td>\n",
              "      <td>(-0.001, 20000.0]</td>\n",
              "      <td>(310588.0, 322138.0]</td>\n",
              "      <td>(21.0, 336.0]</td>\n",
              "    </tr>\n",
              "    <tr>\n",
              "      <th>3</th>\n",
              "      <td>0.00</td>\n",
              "      <td>0</td>\n",
              "      <td>22784.19</td>\n",
              "      <td>32103.52</td>\n",
              "      <td>913</td>\n",
              "      <td>22784.19</td>\n",
              "      <td>28</td>\n",
              "      <td>0</td>\n",
              "      <td>52</td>\n",
              "      <td>10000.0</td>\n",
              "      <td>10000</td>\n",
              "      <td>7</td>\n",
              "      <td>0.0</td>\n",
              "      <td>2017-07-23</td>\n",
              "      <td>0.0</td>\n",
              "      <td>728447</td>\n",
              "      <td>320533</td>\n",
              "      <td>1</td>\n",
              "      <td>(-0.001, 20000.0]</td>\n",
              "      <td>(310588.0, 322138.0]</td>\n",
              "      <td>(-0.001, 10.0]</td>\n",
              "    </tr>\n",
              "    <tr>\n",
              "      <th>4</th>\n",
              "      <td>12298.00</td>\n",
              "      <td>1</td>\n",
              "      <td>4942.95</td>\n",
              "      <td>4950.00</td>\n",
              "      <td>2883</td>\n",
              "      <td>4942.95</td>\n",
              "      <td>31</td>\n",
              "      <td>0</td>\n",
              "      <td>47</td>\n",
              "      <td>5000.0</td>\n",
              "      <td>5000</td>\n",
              "      <td>20</td>\n",
              "      <td>0.0</td>\n",
              "      <td>2017-07-23</td>\n",
              "      <td>0.0</td>\n",
              "      <td>728421</td>\n",
              "      <td>298598</td>\n",
              "      <td>1</td>\n",
              "      <td>(-0.001, 20000.0]</td>\n",
              "      <td>(274066.0, 310588.0]</td>\n",
              "      <td>(14.0, 20.0]</td>\n",
              "    </tr>\n",
              "    <tr>\n",
              "      <th>...</th>\n",
              "      <td>...</td>\n",
              "      <td>...</td>\n",
              "      <td>...</td>\n",
              "      <td>...</td>\n",
              "      <td>...</td>\n",
              "      <td>...</td>\n",
              "      <td>...</td>\n",
              "      <td>...</td>\n",
              "      <td>...</td>\n",
              "      <td>...</td>\n",
              "      <td>...</td>\n",
              "      <td>...</td>\n",
              "      <td>...</td>\n",
              "      <td>...</td>\n",
              "      <td>...</td>\n",
              "      <td>...</td>\n",
              "      <td>...</td>\n",
              "      <td>...</td>\n",
              "      <td>...</td>\n",
              "      <td>...</td>\n",
              "      <td>...</td>\n",
              "    </tr>\n",
              "    <tr>\n",
              "      <th>49996</th>\n",
              "      <td>0.00</td>\n",
              "      <td>0</td>\n",
              "      <td>74662.61</td>\n",
              "      <td>79662.61</td>\n",
              "      <td>2593</td>\n",
              "      <td>42204.55</td>\n",
              "      <td>27</td>\n",
              "      <td>1</td>\n",
              "      <td>0</td>\n",
              "      <td>4000.0</td>\n",
              "      <td>4000</td>\n",
              "      <td>20</td>\n",
              "      <td>0.0</td>\n",
              "      <td>2017-08-13</td>\n",
              "      <td>0.0</td>\n",
              "      <td>759472</td>\n",
              "      <td>96091</td>\n",
              "      <td>1</td>\n",
              "      <td>(-0.001, 20000.0]</td>\n",
              "      <td>(108.999, 274066.0]</td>\n",
              "      <td>(14.0, 20.0]</td>\n",
              "    </tr>\n",
              "    <tr>\n",
              "      <th>49997</th>\n",
              "      <td>21653.49</td>\n",
              "      <td>2</td>\n",
              "      <td>0.00</td>\n",
              "      <td>0.00</td>\n",
              "      <td>0</td>\n",
              "      <td>0.00</td>\n",
              "      <td>28</td>\n",
              "      <td>0</td>\n",
              "      <td>75</td>\n",
              "      <td>2000.0</td>\n",
              "      <td>2000</td>\n",
              "      <td>10</td>\n",
              "      <td>20000.0</td>\n",
              "      <td>2017-08-13</td>\n",
              "      <td>0.0</td>\n",
              "      <td>759475</td>\n",
              "      <td>338240</td>\n",
              "      <td>1</td>\n",
              "      <td>(-0.001, 20000.0]</td>\n",
              "      <td>(332110.0, 393528.0]</td>\n",
              "      <td>(-0.001, 10.0]</td>\n",
              "    </tr>\n",
              "    <tr>\n",
              "      <th>49998</th>\n",
              "      <td>0.00</td>\n",
              "      <td>0</td>\n",
              "      <td>0.00</td>\n",
              "      <td>1000.00</td>\n",
              "      <td>0</td>\n",
              "      <td>941.00</td>\n",
              "      <td>22</td>\n",
              "      <td>0</td>\n",
              "      <td>0</td>\n",
              "      <td>10000.0</td>\n",
              "      <td>10000</td>\n",
              "      <td>20</td>\n",
              "      <td>35000.0</td>\n",
              "      <td>2017-08-13</td>\n",
              "      <td>0.0</td>\n",
              "      <td>759485</td>\n",
              "      <td>338246</td>\n",
              "      <td>1</td>\n",
              "      <td>(20000.0, 35000.0]</td>\n",
              "      <td>(332110.0, 393528.0]</td>\n",
              "      <td>(14.0, 20.0]</td>\n",
              "    </tr>\n",
              "    <tr>\n",
              "      <th>49999</th>\n",
              "      <td>0.00</td>\n",
              "      <td>0</td>\n",
              "      <td>0.00</td>\n",
              "      <td>1000.00</td>\n",
              "      <td>0</td>\n",
              "      <td>941.00</td>\n",
              "      <td>22</td>\n",
              "      <td>0</td>\n",
              "      <td>0</td>\n",
              "      <td>10000.0</td>\n",
              "      <td>10000</td>\n",
              "      <td>20</td>\n",
              "      <td>35000.0</td>\n",
              "      <td>2017-08-13</td>\n",
              "      <td>0.0</td>\n",
              "      <td>759485</td>\n",
              "      <td>338246</td>\n",
              "      <td>1</td>\n",
              "      <td>(20000.0, 35000.0]</td>\n",
              "      <td>(332110.0, 393528.0]</td>\n",
              "      <td>(14.0, 20.0]</td>\n",
              "    </tr>\n",
              "    <tr>\n",
              "      <th>50000</th>\n",
              "      <td>19750.00</td>\n",
              "      <td>9</td>\n",
              "      <td>14100.00</td>\n",
              "      <td>14100.00</td>\n",
              "      <td>331</td>\n",
              "      <td>6000.00</td>\n",
              "      <td>33</td>\n",
              "      <td>0</td>\n",
              "      <td>40</td>\n",
              "      <td>2000.0</td>\n",
              "      <td>2000</td>\n",
              "      <td>21</td>\n",
              "      <td>0.0</td>\n",
              "      <td>2017-08-13</td>\n",
              "      <td>0.0</td>\n",
              "      <td>759490</td>\n",
              "      <td>261961</td>\n",
              "      <td>1</td>\n",
              "      <td>(-0.001, 20000.0]</td>\n",
              "      <td>(108.999, 274066.0]</td>\n",
              "      <td>(20.0, 21.0]</td>\n",
              "    </tr>\n",
              "  </tbody>\n",
              "</table>\n",
              "<p>50001 rows × 21 columns</p>\n",
              "</div>"
            ],
            "text/plain": [
              "       closed_cred_sum  closed_creds  ...            client_cat        term_cat\n",
              "0            143822.00            22  ...  (310588.0, 322138.0]   (21.0, 336.0]\n",
              "1                 0.00             0  ...  (310588.0, 322138.0]    (14.0, 20.0]\n",
              "2             51356.00             2  ...  (310588.0, 322138.0]   (21.0, 336.0]\n",
              "3                 0.00             0  ...  (310588.0, 322138.0]  (-0.001, 10.0]\n",
              "4             12298.00             1  ...  (274066.0, 310588.0]    (14.0, 20.0]\n",
              "...                ...           ...  ...                   ...             ...\n",
              "49996             0.00             0  ...   (108.999, 274066.0]    (14.0, 20.0]\n",
              "49997         21653.49             2  ...  (332110.0, 393528.0]  (-0.001, 10.0]\n",
              "49998             0.00             0  ...  (332110.0, 393528.0]    (14.0, 20.0]\n",
              "49999             0.00             0  ...  (332110.0, 393528.0]    (14.0, 20.0]\n",
              "50000         19750.00             9  ...   (108.999, 274066.0]    (20.0, 21.0]\n",
              "\n",
              "[50001 rows x 21 columns]"
            ]
          },
          "metadata": {
            "tags": []
          },
          "execution_count": 147
        }
      ]
    },
    {
      "cell_type": "code",
      "metadata": {
        "id": "uT3XRIr02jCL"
      },
      "source": [
        "df['term_cat'] = pd.qcut(df['first_days_quant'],5)"
      ],
      "execution_count": null,
      "outputs": []
    },
    {
      "cell_type": "code",
      "metadata": {
        "colab": {
          "base_uri": "https://localhost:8080/",
          "height": 225
        },
        "id": "q70mAB-M2C58",
        "outputId": "166a86ff-61d1-4230-faf8-4c933e0af96d"
      },
      "source": [
        "df.groupby('term_cat')['expert'].agg(['mean','count'])"
      ],
      "execution_count": null,
      "outputs": [
        {
          "output_type": "execute_result",
          "data": {
            "text/html": [
              "<div>\n",
              "<style scoped>\n",
              "    .dataframe tbody tr th:only-of-type {\n",
              "        vertical-align: middle;\n",
              "    }\n",
              "\n",
              "    .dataframe tbody tr th {\n",
              "        vertical-align: top;\n",
              "    }\n",
              "\n",
              "    .dataframe thead th {\n",
              "        text-align: right;\n",
              "    }\n",
              "</style>\n",
              "<table border=\"1\" class=\"dataframe\">\n",
              "  <thead>\n",
              "    <tr style=\"text-align: right;\">\n",
              "      <th></th>\n",
              "      <th>mean</th>\n",
              "      <th>count</th>\n",
              "    </tr>\n",
              "    <tr>\n",
              "      <th>term_cat</th>\n",
              "      <th></th>\n",
              "      <th></th>\n",
              "    </tr>\n",
              "  </thead>\n",
              "  <tbody>\n",
              "    <tr>\n",
              "      <th>(-0.001, 10.0]</th>\n",
              "      <td>0.775424</td>\n",
              "      <td>12606</td>\n",
              "    </tr>\n",
              "    <tr>\n",
              "      <th>(10.0, 14.0]</th>\n",
              "      <td>0.782866</td>\n",
              "      <td>7447</td>\n",
              "    </tr>\n",
              "    <tr>\n",
              "      <th>(14.0, 20.0]</th>\n",
              "      <td>0.654801</td>\n",
              "      <td>19131</td>\n",
              "    </tr>\n",
              "    <tr>\n",
              "      <th>(20.0, 21.0]</th>\n",
              "      <td>0.983274</td>\n",
              "      <td>3647</td>\n",
              "    </tr>\n",
              "    <tr>\n",
              "      <th>(21.0, 336.0]</th>\n",
              "      <td>0.801395</td>\n",
              "      <td>7170</td>\n",
              "    </tr>\n",
              "  </tbody>\n",
              "</table>\n",
              "</div>"
            ],
            "text/plain": [
              "                    mean  count\n",
              "term_cat                       \n",
              "(-0.001, 10.0]  0.775424  12606\n",
              "(10.0, 14.0]    0.782866   7447\n",
              "(14.0, 20.0]    0.654801  19131\n",
              "(20.0, 21.0]    0.983274   3647\n",
              "(21.0, 336.0]   0.801395   7170"
            ]
          },
          "metadata": {
            "tags": []
          },
          "execution_count": 149
        }
      ]
    },
    {
      "cell_type": "code",
      "metadata": {
        "id": "zFT9fXnQ2eVj"
      },
      "source": [
        "val['score'] = model.predict_proba(val[X_col])[:,1]"
      ],
      "execution_count": null,
      "outputs": []
    },
    {
      "cell_type": "code",
      "metadata": {
        "colab": {
          "base_uri": "https://localhost:8080/",
          "height": 422
        },
        "id": "6SVJZ2CB5Vj8",
        "outputId": "68bdf517-5f71-4b83-a8ec-e67c86024897"
      },
      "source": [
        "val"
      ],
      "execution_count": null,
      "outputs": [
        {
          "output_type": "execute_result",
          "data": {
            "text/html": [
              "<div>\n",
              "<style scoped>\n",
              "    .dataframe tbody tr th:only-of-type {\n",
              "        vertical-align: middle;\n",
              "    }\n",
              "\n",
              "    .dataframe tbody tr th {\n",
              "        vertical-align: top;\n",
              "    }\n",
              "\n",
              "    .dataframe thead th {\n",
              "        text-align: right;\n",
              "    }\n",
              "</style>\n",
              "<table border=\"1\" class=\"dataframe\">\n",
              "  <thead>\n",
              "    <tr style=\"text-align: right;\">\n",
              "      <th></th>\n",
              "      <th>closed_cred_sum</th>\n",
              "      <th>closed_creds</th>\n",
              "      <th>active_cred_sum_overdue</th>\n",
              "      <th>active_cred_sum</th>\n",
              "      <th>active_cred_day_overdue</th>\n",
              "      <th>active_cred_max_overdue</th>\n",
              "      <th>age</th>\n",
              "      <th>gender</th>\n",
              "      <th>region</th>\n",
              "      <th>first_loan</th>\n",
              "      <th>loan_cost_all</th>\n",
              "      <th>first_days_quant</th>\n",
              "      <th>month_income</th>\n",
              "      <th>order_date</th>\n",
              "      <th>cost_all</th>\n",
              "      <th>order_id</th>\n",
              "      <th>client_id</th>\n",
              "      <th>expert</th>\n",
              "      <th>score</th>\n",
              "    </tr>\n",
              "  </thead>\n",
              "  <tbody>\n",
              "    <tr>\n",
              "      <th>2</th>\n",
              "      <td>51356.0</td>\n",
              "      <td>2</td>\n",
              "      <td>3000.00</td>\n",
              "      <td>3000.00</td>\n",
              "      <td>8</td>\n",
              "      <td>3000.00</td>\n",
              "      <td>28</td>\n",
              "      <td>1</td>\n",
              "      <td>3</td>\n",
              "      <td>10000.0</td>\n",
              "      <td>10000</td>\n",
              "      <td>84</td>\n",
              "      <td>0.0</td>\n",
              "      <td>2017-07-23</td>\n",
              "      <td>0.0</td>\n",
              "      <td>728323</td>\n",
              "      <td>320467</td>\n",
              "      <td>1</td>\n",
              "      <td>0.999996</td>\n",
              "    </tr>\n",
              "    <tr>\n",
              "      <th>5</th>\n",
              "      <td>786916.0</td>\n",
              "      <td>11</td>\n",
              "      <td>0.00</td>\n",
              "      <td>1063763.00</td>\n",
              "      <td>0</td>\n",
              "      <td>10395.39</td>\n",
              "      <td>47</td>\n",
              "      <td>0</td>\n",
              "      <td>38</td>\n",
              "      <td>10000.0</td>\n",
              "      <td>5500</td>\n",
              "      <td>14</td>\n",
              "      <td>50000.0</td>\n",
              "      <td>2017-07-23</td>\n",
              "      <td>0.0</td>\n",
              "      <td>728526</td>\n",
              "      <td>320564</td>\n",
              "      <td>0</td>\n",
              "      <td>0.041321</td>\n",
              "    </tr>\n",
              "    <tr>\n",
              "      <th>9</th>\n",
              "      <td>0.0</td>\n",
              "      <td>0</td>\n",
              "      <td>21143.00</td>\n",
              "      <td>21143.00</td>\n",
              "      <td>1016</td>\n",
              "      <td>10924.00</td>\n",
              "      <td>28</td>\n",
              "      <td>1</td>\n",
              "      <td>0</td>\n",
              "      <td>10000.0</td>\n",
              "      <td>10000</td>\n",
              "      <td>90</td>\n",
              "      <td>0.0</td>\n",
              "      <td>2017-07-23</td>\n",
              "      <td>0.0</td>\n",
              "      <td>728454</td>\n",
              "      <td>123851</td>\n",
              "      <td>1</td>\n",
              "      <td>1.000000</td>\n",
              "    </tr>\n",
              "    <tr>\n",
              "      <th>10</th>\n",
              "      <td>0.0</td>\n",
              "      <td>0</td>\n",
              "      <td>21143.00</td>\n",
              "      <td>21143.00</td>\n",
              "      <td>1016</td>\n",
              "      <td>10924.00</td>\n",
              "      <td>28</td>\n",
              "      <td>1</td>\n",
              "      <td>0</td>\n",
              "      <td>10000.0</td>\n",
              "      <td>10000</td>\n",
              "      <td>15</td>\n",
              "      <td>30000.0</td>\n",
              "      <td>2017-07-23</td>\n",
              "      <td>0.0</td>\n",
              "      <td>728553</td>\n",
              "      <td>123851</td>\n",
              "      <td>1</td>\n",
              "      <td>0.999835</td>\n",
              "    </tr>\n",
              "    <tr>\n",
              "      <th>12</th>\n",
              "      <td>0.0</td>\n",
              "      <td>0</td>\n",
              "      <td>0.00</td>\n",
              "      <td>8000.00</td>\n",
              "      <td>0</td>\n",
              "      <td>0.00</td>\n",
              "      <td>24</td>\n",
              "      <td>1</td>\n",
              "      <td>80</td>\n",
              "      <td>7000.0</td>\n",
              "      <td>7000</td>\n",
              "      <td>10</td>\n",
              "      <td>35000.0</td>\n",
              "      <td>2017-07-23</td>\n",
              "      <td>0.0</td>\n",
              "      <td>728476</td>\n",
              "      <td>320544</td>\n",
              "      <td>1</td>\n",
              "      <td>0.989989</td>\n",
              "    </tr>\n",
              "    <tr>\n",
              "      <th>...</th>\n",
              "      <td>...</td>\n",
              "      <td>...</td>\n",
              "      <td>...</td>\n",
              "      <td>...</td>\n",
              "      <td>...</td>\n",
              "      <td>...</td>\n",
              "      <td>...</td>\n",
              "      <td>...</td>\n",
              "      <td>...</td>\n",
              "      <td>...</td>\n",
              "      <td>...</td>\n",
              "      <td>...</td>\n",
              "      <td>...</td>\n",
              "      <td>...</td>\n",
              "      <td>...</td>\n",
              "      <td>...</td>\n",
              "      <td>...</td>\n",
              "      <td>...</td>\n",
              "      <td>...</td>\n",
              "    </tr>\n",
              "    <tr>\n",
              "      <th>49985</th>\n",
              "      <td>0.0</td>\n",
              "      <td>0</td>\n",
              "      <td>0.00</td>\n",
              "      <td>0.00</td>\n",
              "      <td>0</td>\n",
              "      <td>0.00</td>\n",
              "      <td>20</td>\n",
              "      <td>1</td>\n",
              "      <td>0</td>\n",
              "      <td>7000.0</td>\n",
              "      <td>7000</td>\n",
              "      <td>20</td>\n",
              "      <td>20000.0</td>\n",
              "      <td>2017-08-13</td>\n",
              "      <td>0.0</td>\n",
              "      <td>759492</td>\n",
              "      <td>338248</td>\n",
              "      <td>1</td>\n",
              "      <td>0.999966</td>\n",
              "    </tr>\n",
              "    <tr>\n",
              "      <th>49986</th>\n",
              "      <td>0.0</td>\n",
              "      <td>0</td>\n",
              "      <td>0.00</td>\n",
              "      <td>0.00</td>\n",
              "      <td>0</td>\n",
              "      <td>0.00</td>\n",
              "      <td>20</td>\n",
              "      <td>1</td>\n",
              "      <td>0</td>\n",
              "      <td>7000.0</td>\n",
              "      <td>7000</td>\n",
              "      <td>20</td>\n",
              "      <td>20000.0</td>\n",
              "      <td>2017-08-13</td>\n",
              "      <td>0.0</td>\n",
              "      <td>759492</td>\n",
              "      <td>338248</td>\n",
              "      <td>1</td>\n",
              "      <td>0.999966</td>\n",
              "    </tr>\n",
              "    <tr>\n",
              "      <th>49995</th>\n",
              "      <td>0.0</td>\n",
              "      <td>0</td>\n",
              "      <td>26758.57</td>\n",
              "      <td>25000.00</td>\n",
              "      <td>371</td>\n",
              "      <td>26758.57</td>\n",
              "      <td>44</td>\n",
              "      <td>1</td>\n",
              "      <td>42</td>\n",
              "      <td>3000.0</td>\n",
              "      <td>1000</td>\n",
              "      <td>23</td>\n",
              "      <td>50000.0</td>\n",
              "      <td>2017-08-13</td>\n",
              "      <td>1545.0</td>\n",
              "      <td>759462</td>\n",
              "      <td>338231</td>\n",
              "      <td>0</td>\n",
              "      <td>0.002401</td>\n",
              "    </tr>\n",
              "    <tr>\n",
              "      <th>49996</th>\n",
              "      <td>0.0</td>\n",
              "      <td>0</td>\n",
              "      <td>74662.61</td>\n",
              "      <td>79662.61</td>\n",
              "      <td>2593</td>\n",
              "      <td>42204.55</td>\n",
              "      <td>27</td>\n",
              "      <td>1</td>\n",
              "      <td>0</td>\n",
              "      <td>4000.0</td>\n",
              "      <td>4000</td>\n",
              "      <td>20</td>\n",
              "      <td>0.0</td>\n",
              "      <td>2017-08-13</td>\n",
              "      <td>0.0</td>\n",
              "      <td>759472</td>\n",
              "      <td>96091</td>\n",
              "      <td>1</td>\n",
              "      <td>0.999997</td>\n",
              "    </tr>\n",
              "    <tr>\n",
              "      <th>49998</th>\n",
              "      <td>0.0</td>\n",
              "      <td>0</td>\n",
              "      <td>0.00</td>\n",
              "      <td>1000.00</td>\n",
              "      <td>0</td>\n",
              "      <td>941.00</td>\n",
              "      <td>22</td>\n",
              "      <td>0</td>\n",
              "      <td>0</td>\n",
              "      <td>10000.0</td>\n",
              "      <td>10000</td>\n",
              "      <td>20</td>\n",
              "      <td>35000.0</td>\n",
              "      <td>2017-08-13</td>\n",
              "      <td>0.0</td>\n",
              "      <td>759485</td>\n",
              "      <td>338246</td>\n",
              "      <td>1</td>\n",
              "      <td>0.999859</td>\n",
              "    </tr>\n",
              "  </tbody>\n",
              "</table>\n",
              "<p>15000 rows × 19 columns</p>\n",
              "</div>"
            ],
            "text/plain": [
              "       closed_cred_sum  closed_creds  ...  expert     score\n",
              "2              51356.0             2  ...       1  0.999996\n",
              "5             786916.0            11  ...       0  0.041321\n",
              "9                  0.0             0  ...       1  1.000000\n",
              "10                 0.0             0  ...       1  0.999835\n",
              "12                 0.0             0  ...       1  0.989989\n",
              "...                ...           ...  ...     ...       ...\n",
              "49985              0.0             0  ...       1  0.999966\n",
              "49986              0.0             0  ...       1  0.999966\n",
              "49995              0.0             0  ...       0  0.002401\n",
              "49996              0.0             0  ...       1  0.999997\n",
              "49998              0.0             0  ...       1  0.999859\n",
              "\n",
              "[15000 rows x 19 columns]"
            ]
          },
          "metadata": {
            "tags": []
          },
          "execution_count": 152
        }
      ]
    },
    {
      "cell_type": "code",
      "metadata": {
        "id": "EaTdm3sA5eLf"
      },
      "source": [
        "from sklearn.metrics import roc_auc_score, roc_curve"
      ],
      "execution_count": null,
      "outputs": []
    },
    {
      "cell_type": "code",
      "metadata": {
        "colab": {
          "base_uri": "https://localhost:8080/"
        },
        "id": "3ZmeoUrf5lsL",
        "outputId": "e478b3f5-5f95-45d4-a668-359771df827e"
      },
      "source": [
        "roc_auc_score(val['expert'],val['score'])"
      ],
      "execution_count": null,
      "outputs": [
        {
          "output_type": "execute_result",
          "data": {
            "text/plain": [
              "0.9496847862832667"
            ]
          },
          "metadata": {
            "tags": []
          },
          "execution_count": 155
        }
      ]
    },
    {
      "cell_type": "code",
      "metadata": {
        "colab": {
          "base_uri": "https://localhost:8080/"
        },
        "id": "TBg5YAaM5pJG",
        "outputId": "e1fe332e-a76b-4fe3-c002-5d37e40820be"
      },
      "source": [
        "0.9496847863"
      ],
      "execution_count": null,
      "outputs": [
        {
          "output_type": "execute_result",
          "data": {
            "text/plain": [
              "0.9496847863"
            ]
          },
          "metadata": {
            "tags": []
          },
          "execution_count": 156
        }
      ]
    },
    {
      "cell_type": "code",
      "metadata": {
        "id": "WrAoHg9o5zIL"
      },
      "source": [
        "fpr, tpr, thr = roc_curve(val['expert'],val['score'])"
      ],
      "execution_count": null,
      "outputs": []
    },
    {
      "cell_type": "code",
      "metadata": {
        "id": "p16ALmad588K"
      },
      "source": [
        "roc = pd.DataFrame({'fpr':fpr,'tpr':tpr,'thr':thr})"
      ],
      "execution_count": null,
      "outputs": []
    },
    {
      "cell_type": "code",
      "metadata": {
        "colab": {
          "base_uri": "https://localhost:8080/",
          "height": 405
        },
        "id": "jrOEm90p6EX_",
        "outputId": "2769cff5-3d43-44af-bd53-7a6ac91b72ed"
      },
      "source": [
        "roc.plot(x='fpr',y='tpr',figsize=(6,6),grid=True)"
      ],
      "execution_count": null,
      "outputs": [
        {
          "output_type": "execute_result",
          "data": {
            "text/plain": [
              "<matplotlib.axes._subplots.AxesSubplot at 0x7f5c9f0d2890>"
            ]
          },
          "metadata": {
            "tags": []
          },
          "execution_count": 161
        },
        {
          "output_type": "display_data",
          "data": {
            "image/png": "[encoded data removed]",
            "text/plain": [
              "<Figure size 432x432 with 1 Axes>"
            ]
          },
          "metadata": {
            "tags": [],
            "needs_background": "light"
          }
        }
      ]
    },
    {
      "cell_type": "code",
      "metadata": {
        "id": "0fXVMitR6Iqk"
      },
      "source": [
        "roc['tpr-fpr'] = roc['tpr'] - roc['fpr']"
      ],
      "execution_count": null,
      "outputs": []
    },
    {
      "cell_type": "code",
      "metadata": {
        "id": "aBGRzrCo61Bs"
      },
      "source": [
        "pd.set_option('display.float_format', lambda x: '%.3f' % x)"
      ],
      "execution_count": null,
      "outputs": []
    },
    {
      "cell_type": "code",
      "metadata": {
        "id": "z4obQEZj6YvW"
      },
      "source": [
        "best_thr = roc.sort_values('tpr-fpr',ascending=False)['thr'].iloc[0]"
      ],
      "execution_count": null,
      "outputs": []
    },
    {
      "cell_type": "code",
      "metadata": {
        "id": "ava4lBWW6qXG"
      },
      "source": [
        "val['y_pred'] = (val['score'] >= best_thr)*1"
      ],
      "execution_count": null,
      "outputs": []
    },
    {
      "cell_type": "code",
      "metadata": {
        "id": "dUdhLRzV7W0j"
      },
      "source": [
        "from sklearn.metrics import confusion_matrix, classification_report"
      ],
      "execution_count": null,
      "outputs": []
    },
    {
      "cell_type": "code",
      "metadata": {
        "colab": {
          "base_uri": "https://localhost:8080/"
        },
        "id": "6RBFh35o7dSY",
        "outputId": "a8b8b23d-74b0-4b89-a549-d4174faab4fb"
      },
      "source": [
        "print(classification_report(val['expert'],val['y_pred']))"
      ],
      "execution_count": null,
      "outputs": [
        {
          "output_type": "stream",
          "text": [
            "              precision    recall  f1-score   support\n",
            "\n",
            "           0       0.74      0.86      0.80      3835\n",
            "           1       0.95      0.90      0.92     11165\n",
            "\n",
            "    accuracy                           0.89     15000\n",
            "   macro avg       0.85      0.88      0.86     15000\n",
            "weighted avg       0.90      0.89      0.89     15000\n",
            "\n"
          ],
          "name": "stdout"
        }
      ]
    },
    {
      "cell_type": "code",
      "metadata": {
        "colab": {
          "base_uri": "https://localhost:8080/"
        },
        "id": "ZR11aeuf8AXd",
        "outputId": "5ba5b582-f812-42b7-8abb-8a1ddc0efeff"
      },
      "source": [
        "confusion_matrix(val['expert'],val['y_pred'])"
      ],
      "execution_count": null,
      "outputs": [
        {
          "output_type": "execute_result",
          "data": {
            "text/plain": [
              "array([[ 3314,   521],\n",
              "       [ 1151, 10014]])"
            ]
          },
          "metadata": {
            "tags": []
          },
          "execution_count": 181
        }
      ]
    },
    {
      "cell_type": "code",
      "metadata": {
        "id": "c8ikggFl7TIn"
      },
      "source": [
        "tn, fp, fn, tp = confusion_matrix(val['expert'],val['y_pred']).ravel()"
      ],
      "execution_count": null,
      "outputs": []
    },
    {
      "cell_type": "code",
      "metadata": {
        "colab": {
          "base_uri": "https://localhost:8080/",
          "height": 282
        },
        "id": "lqrQC8mN7Smz",
        "outputId": "0d7e0c03-87f5-4819-a620-6d6aeda52b21"
      },
      "source": [
        "val['score'].hist()"
      ],
      "execution_count": null,
      "outputs": [
        {
          "output_type": "execute_result",
          "data": {
            "text/plain": [
              "<matplotlib.axes._subplots.AxesSubplot at 0x7f5ca8f1c650>"
            ]
          },
          "metadata": {
            "tags": []
          },
          "execution_count": 182
        },
        {
          "output_type": "display_data",
          "data": {
            "image/png": "[encoded data removed]",
            "text/plain": [
              "<Figure size 432x288 with 1 Axes>"
            ]
          },
          "metadata": {
            "tags": [],
            "needs_background": "light"
          }
        }
      ]
    },
    {
      "cell_type": "code",
      "metadata": {
        "colab": {
          "base_uri": "https://localhost:8080/"
        },
        "id": "jhBUhCuM8SgX",
        "outputId": "d314cd82-defc-40e5-9670-66b7e17e85f6"
      },
      "source": [
        "fn"
      ],
      "execution_count": null,
      "outputs": [
        {
          "output_type": "execute_result",
          "data": {
            "text/plain": [
              "1151"
            ]
          },
          "metadata": {
            "tags": []
          },
          "execution_count": 183
        }
      ]
    },
    {
      "cell_type": "code",
      "metadata": {
        "colab": {
          "base_uri": "https://localhost:8080/"
        },
        "id": "MKavVekp88Cy",
        "outputId": "f0493ed9-26e7-4a9e-db32-1a4d30d54213"
      },
      "source": [
        "fp"
      ],
      "execution_count": null,
      "outputs": [
        {
          "output_type": "execute_result",
          "data": {
            "text/plain": [
              "521"
            ]
          },
          "metadata": {
            "tags": []
          },
          "execution_count": 184
        }
      ]
    },
    {
      "cell_type": "code",
      "metadata": {
        "colab": {
          "base_uri": "https://localhost:8080/"
        },
        "id": "3NrlMYTX9ElB",
        "outputId": "b061dd54-904a-460c-e113-0b42f0a96354"
      },
      "source": [
        "roc['thr'].unique()"
      ],
      "execution_count": null,
      "outputs": [
        {
          "output_type": "execute_result",
          "data": {
            "text/plain": [
              "array([2.00000000e+00, 1.00000000e+00, 1.00000000e+00, ...,\n",
              "       3.19145042e-06, 3.11007941e-06, 2.26192465e-08])"
            ]
          },
          "metadata": {
            "tags": []
          },
          "execution_count": 187
        }
      ]
    },
    {
      "cell_type": "code",
      "metadata": {
        "id": "k805cmE89pyG"
      },
      "source": [
        "thrs = [0] + list(np.sort(val['score'].unique()))"
      ],
      "execution_count": null,
      "outputs": []
    },
    {
      "cell_type": "code",
      "metadata": {
        "id": "9QbgFliF99vO"
      },
      "source": [
        "thr = thrs[123]"
      ],
      "execution_count": null,
      "outputs": []
    },
    {
      "cell_type": "code",
      "metadata": {
        "id": "TV6qtL9B-NoM"
      },
      "source": [
        "val['pred'] = (val['score'] > thr) * 1"
      ],
      "execution_count": null,
      "outputs": []
    },
    {
      "cell_type": "code",
      "metadata": {
        "id": "ckKW_QzP-UtE"
      },
      "source": [
        "tn, fp, fn, tp = confusion_matrix(val['expert'],val['pred']).ravel()"
      ],
      "execution_count": null,
      "outputs": []
    },
    {
      "cell_type": "code",
      "metadata": {
        "id": "Ogb0Kaaa-fZD"
      },
      "source": [
        "from tqdm.notebook import tqdm"
      ],
      "execution_count": null,
      "outputs": []
    },
    {
      "cell_type": "code",
      "metadata": {
        "colab": {
          "base_uri": "https://localhost:8080/",
          "height": 66,
          "referenced_widgets": [
            "e7b5ba163641418fa5950bdff7ff9c95",
            "dd793bccc63644f28067c4cf7b4af330",
            "aa9f4ce2df1a4637991ac3703677bc2d",
            "a7f2cc10883a481a98622588fa834514",
            "ee80b449062c4f3cb49fecfa6e8902d2",
            "160fbe5434aa4f69a68e4f53f570be53",
            "09692a4efa434b82911d7ab3d0e2b755",
            "9af5df32a07549ea8597012b636a49c2"
          ]
        },
        "id": "8E-dzSne-ZM1",
        "outputId": "9c728e89-3919-4a84-bea7-766cccb0e8a1"
      },
      "source": [
        "res = []\n",
        "for thr in tqdm(thrs):\n",
        "  val['pred'] = (val['score'] > thr) * 1\n",
        "  tn, fp, fn, tp = confusion_matrix(val['expert'],val['pred']).ravel()\n",
        "  res.append((tn, fp, fn, tp ,thr))\n"
      ],
      "execution_count": null,
      "outputs": [
        {
          "output_type": "display_data",
          "data": {
            "application/vnd.jupyter.widget-view+json": {
              "model_id": "e7b5ba163641418fa5950bdff7ff9c95",
              "version_minor": 0,
              "version_major": 2
            },
            "text/plain": [
              "HBox(children=(FloatProgress(value=0.0, max=14255.0), HTML(value='')))"
            ]
          },
          "metadata": {
            "tags": []
          }
        },
        {
          "output_type": "stream",
          "text": [
            "\n"
          ],
          "name": "stdout"
        }
      ]
    },
    {
      "cell_type": "code",
      "metadata": {
        "colab": {
          "base_uri": "https://localhost:8080/"
        },
        "id": "aeJRR1ORAYIz",
        "outputId": "478769d9-4f42-463d-8ed5-8800b9d750f1"
      },
      "source": [
        "'tn, fp, fn, tp ,thr'.split(',')"
      ],
      "execution_count": null,
      "outputs": [
        {
          "output_type": "execute_result",
          "data": {
            "text/plain": [
              "['tn', ' fp', ' fn', ' tp ', 'thr']"
            ]
          },
          "metadata": {
            "tags": []
          },
          "execution_count": 204
        }
      ]
    },
    {
      "cell_type": "code",
      "metadata": {
        "id": "AHMxBw4r-uvB"
      },
      "source": [
        "cf = pd.DataFrame(res, columns=['tn', 'fp', 'fn', 'tp','thr'])"
      ],
      "execution_count": null,
      "outputs": []
    },
    {
      "cell_type": "code",
      "metadata": {
        "id": "HbxKKjFHAH8p"
      },
      "source": [
        "cf['profit'] = cf['tn'] - 5 * cf['fn'] - cf['fp']"
      ],
      "execution_count": null,
      "outputs": []
    },
    {
      "cell_type": "code",
      "metadata": {
        "id": "CYuEMDdMAIgI"
      },
      "source": [
        "cf['profit2'] = cf['tp'] + cf['tn'] - 5 * cf['fn'] - cf['fp']"
      ],
      "execution_count": null,
      "outputs": []
    },
    {
      "cell_type": "code",
      "metadata": {
        "id": "1DMtU4pDB4L-"
      },
      "source": [
        "cf['profit3'] = -5 * cf['fn'] - cf['fp']"
      ],
      "execution_count": null,
      "outputs": []
    },
    {
      "cell_type": "code",
      "metadata": {
        "colab": {
          "base_uri": "https://localhost:8080/",
          "height": 402
        },
        "id": "fGeiGSBCBKWH",
        "outputId": "87e06f21-3b08-48d5-98e6-0e7b6eca09a2"
      },
      "source": [
        "cf.sort_values('profit',ascending=False)"
      ],
      "execution_count": null,
      "outputs": [
        {
          "output_type": "execute_result",
          "data": {
            "text/html": [
              "<div>\n",
              "<style scoped>\n",
              "    .dataframe tbody tr th:only-of-type {\n",
              "        vertical-align: middle;\n",
              "    }\n",
              "\n",
              "    .dataframe tbody tr th {\n",
              "        vertical-align: top;\n",
              "    }\n",
              "\n",
              "    .dataframe thead th {\n",
              "        text-align: right;\n",
              "    }\n",
              "</style>\n",
              "<table border=\"1\" class=\"dataframe\">\n",
              "  <thead>\n",
              "    <tr style=\"text-align: right;\">\n",
              "      <th></th>\n",
              "      <th>tn</th>\n",
              "      <th>fp</th>\n",
              "      <th>fn</th>\n",
              "      <th>tp</th>\n",
              "      <th>thr</th>\n",
              "      <th>profit</th>\n",
              "      <th>profit2</th>\n",
              "    </tr>\n",
              "  </thead>\n",
              "  <tbody>\n",
              "    <tr>\n",
              "      <th>2759</th>\n",
              "      <td>2586</td>\n",
              "      <td>1249</td>\n",
              "      <td>284</td>\n",
              "      <td>10881</td>\n",
              "      <td>0.219</td>\n",
              "      <td>-83</td>\n",
              "      <td>10798</td>\n",
              "    </tr>\n",
              "    <tr>\n",
              "      <th>2758</th>\n",
              "      <td>2585</td>\n",
              "      <td>1250</td>\n",
              "      <td>284</td>\n",
              "      <td>10881</td>\n",
              "      <td>0.219</td>\n",
              "      <td>-85</td>\n",
              "      <td>10796</td>\n",
              "    </tr>\n",
              "    <tr>\n",
              "      <th>2761</th>\n",
              "      <td>2587</td>\n",
              "      <td>1248</td>\n",
              "      <td>285</td>\n",
              "      <td>10880</td>\n",
              "      <td>0.220</td>\n",
              "      <td>-86</td>\n",
              "      <td>10794</td>\n",
              "    </tr>\n",
              "    <tr>\n",
              "      <th>2760</th>\n",
              "      <td>2586</td>\n",
              "      <td>1249</td>\n",
              "      <td>285</td>\n",
              "      <td>10880</td>\n",
              "      <td>0.219</td>\n",
              "      <td>-88</td>\n",
              "      <td>10792</td>\n",
              "    </tr>\n",
              "    <tr>\n",
              "      <th>2757</th>\n",
              "      <td>2583</td>\n",
              "      <td>1252</td>\n",
              "      <td>284</td>\n",
              "      <td>10881</td>\n",
              "      <td>0.219</td>\n",
              "      <td>-89</td>\n",
              "      <td>10792</td>\n",
              "    </tr>\n",
              "    <tr>\n",
              "      <th>...</th>\n",
              "      <td>...</td>\n",
              "      <td>...</td>\n",
              "      <td>...</td>\n",
              "      <td>...</td>\n",
              "      <td>...</td>\n",
              "      <td>...</td>\n",
              "      <td>...</td>\n",
              "    </tr>\n",
              "    <tr>\n",
              "      <th>14250</th>\n",
              "      <td>3835</td>\n",
              "      <td>0</td>\n",
              "      <td>11161</td>\n",
              "      <td>4</td>\n",
              "      <td>1.000</td>\n",
              "      <td>-51970</td>\n",
              "      <td>-51966</td>\n",
              "    </tr>\n",
              "    <tr>\n",
              "      <th>14251</th>\n",
              "      <td>3835</td>\n",
              "      <td>0</td>\n",
              "      <td>11162</td>\n",
              "      <td>3</td>\n",
              "      <td>1.000</td>\n",
              "      <td>-51975</td>\n",
              "      <td>-51972</td>\n",
              "    </tr>\n",
              "    <tr>\n",
              "      <th>14252</th>\n",
              "      <td>3835</td>\n",
              "      <td>0</td>\n",
              "      <td>11163</td>\n",
              "      <td>2</td>\n",
              "      <td>1.000</td>\n",
              "      <td>-51980</td>\n",
              "      <td>-51978</td>\n",
              "    </tr>\n",
              "    <tr>\n",
              "      <th>14253</th>\n",
              "      <td>3835</td>\n",
              "      <td>0</td>\n",
              "      <td>11164</td>\n",
              "      <td>1</td>\n",
              "      <td>1.000</td>\n",
              "      <td>-51985</td>\n",
              "      <td>-51984</td>\n",
              "    </tr>\n",
              "    <tr>\n",
              "      <th>14254</th>\n",
              "      <td>3835</td>\n",
              "      <td>0</td>\n",
              "      <td>11165</td>\n",
              "      <td>0</td>\n",
              "      <td>1.000</td>\n",
              "      <td>-51990</td>\n",
              "      <td>-51990</td>\n",
              "    </tr>\n",
              "  </tbody>\n",
              "</table>\n",
              "<p>14255 rows × 7 columns</p>\n",
              "</div>"
            ],
            "text/plain": [
              "         tn    fp     fn     tp   thr  profit  profit2\n",
              "2759   2586  1249    284  10881 0.219     -83    10798\n",
              "2758   2585  1250    284  10881 0.219     -85    10796\n",
              "2761   2587  1248    285  10880 0.220     -86    10794\n",
              "2760   2586  1249    285  10880 0.219     -88    10792\n",
              "2757   2583  1252    284  10881 0.219     -89    10792\n",
              "...     ...   ...    ...    ...   ...     ...      ...\n",
              "14250  3835     0  11161      4 1.000  -51970   -51966\n",
              "14251  3835     0  11162      3 1.000  -51975   -51972\n",
              "14252  3835     0  11163      2 1.000  -51980   -51978\n",
              "14253  3835     0  11164      1 1.000  -51985   -51984\n",
              "14254  3835     0  11165      0 1.000  -51990   -51990\n",
              "\n",
              "[14255 rows x 7 columns]"
            ]
          },
          "metadata": {
            "tags": []
          },
          "execution_count": 216
        }
      ]
    },
    {
      "cell_type": "code",
      "metadata": {
        "colab": {
          "base_uri": "https://localhost:8080/",
          "height": 402
        },
        "id": "Cm5LKThgBPPr",
        "outputId": "ac8508b5-22f0-4e4c-f3e1-0cee8a6e4fa6"
      },
      "source": [
        "cf.sort_values('profit2',ascending=False)"
      ],
      "execution_count": null,
      "outputs": [
        {
          "output_type": "execute_result",
          "data": {
            "text/html": [
              "<div>\n",
              "<style scoped>\n",
              "    .dataframe tbody tr th:only-of-type {\n",
              "        vertical-align: middle;\n",
              "    }\n",
              "\n",
              "    .dataframe tbody tr th {\n",
              "        vertical-align: top;\n",
              "    }\n",
              "\n",
              "    .dataframe thead th {\n",
              "        text-align: right;\n",
              "    }\n",
              "</style>\n",
              "<table border=\"1\" class=\"dataframe\">\n",
              "  <thead>\n",
              "    <tr style=\"text-align: right;\">\n",
              "      <th></th>\n",
              "      <th>tn</th>\n",
              "      <th>fp</th>\n",
              "      <th>fn</th>\n",
              "      <th>tp</th>\n",
              "      <th>thr</th>\n",
              "      <th>profit</th>\n",
              "      <th>profit2</th>\n",
              "    </tr>\n",
              "  </thead>\n",
              "  <tbody>\n",
              "    <tr>\n",
              "      <th>2465</th>\n",
              "      <td>2356</td>\n",
              "      <td>1479</td>\n",
              "      <td>199</td>\n",
              "      <td>10966</td>\n",
              "      <td>0.132</td>\n",
              "      <td>-118</td>\n",
              "      <td>10848</td>\n",
              "    </tr>\n",
              "    <tr>\n",
              "      <th>2464</th>\n",
              "      <td>2355</td>\n",
              "      <td>1480</td>\n",
              "      <td>199</td>\n",
              "      <td>10966</td>\n",
              "      <td>0.132</td>\n",
              "      <td>-120</td>\n",
              "      <td>10846</td>\n",
              "    </tr>\n",
              "    <tr>\n",
              "      <th>2523</th>\n",
              "      <td>2403</td>\n",
              "      <td>1432</td>\n",
              "      <td>215</td>\n",
              "      <td>10950</td>\n",
              "      <td>0.147</td>\n",
              "      <td>-104</td>\n",
              "      <td>10846</td>\n",
              "    </tr>\n",
              "    <tr>\n",
              "      <th>2460</th>\n",
              "      <td>2352</td>\n",
              "      <td>1483</td>\n",
              "      <td>198</td>\n",
              "      <td>10967</td>\n",
              "      <td>0.131</td>\n",
              "      <td>-121</td>\n",
              "      <td>10846</td>\n",
              "    </tr>\n",
              "    <tr>\n",
              "      <th>2471</th>\n",
              "      <td>2360</td>\n",
              "      <td>1475</td>\n",
              "      <td>201</td>\n",
              "      <td>10964</td>\n",
              "      <td>0.134</td>\n",
              "      <td>-120</td>\n",
              "      <td>10844</td>\n",
              "    </tr>\n",
              "    <tr>\n",
              "      <th>...</th>\n",
              "      <td>...</td>\n",
              "      <td>...</td>\n",
              "      <td>...</td>\n",
              "      <td>...</td>\n",
              "      <td>...</td>\n",
              "      <td>...</td>\n",
              "      <td>...</td>\n",
              "    </tr>\n",
              "    <tr>\n",
              "      <th>14250</th>\n",
              "      <td>3835</td>\n",
              "      <td>0</td>\n",
              "      <td>11161</td>\n",
              "      <td>4</td>\n",
              "      <td>1.000</td>\n",
              "      <td>-51970</td>\n",
              "      <td>-51966</td>\n",
              "    </tr>\n",
              "    <tr>\n",
              "      <th>14251</th>\n",
              "      <td>3835</td>\n",
              "      <td>0</td>\n",
              "      <td>11162</td>\n",
              "      <td>3</td>\n",
              "      <td>1.000</td>\n",
              "      <td>-51975</td>\n",
              "      <td>-51972</td>\n",
              "    </tr>\n",
              "    <tr>\n",
              "      <th>14252</th>\n",
              "      <td>3835</td>\n",
              "      <td>0</td>\n",
              "      <td>11163</td>\n",
              "      <td>2</td>\n",
              "      <td>1.000</td>\n",
              "      <td>-51980</td>\n",
              "      <td>-51978</td>\n",
              "    </tr>\n",
              "    <tr>\n",
              "      <th>14253</th>\n",
              "      <td>3835</td>\n",
              "      <td>0</td>\n",
              "      <td>11164</td>\n",
              "      <td>1</td>\n",
              "      <td>1.000</td>\n",
              "      <td>-51985</td>\n",
              "      <td>-51984</td>\n",
              "    </tr>\n",
              "    <tr>\n",
              "      <th>14254</th>\n",
              "      <td>3835</td>\n",
              "      <td>0</td>\n",
              "      <td>11165</td>\n",
              "      <td>0</td>\n",
              "      <td>1.000</td>\n",
              "      <td>-51990</td>\n",
              "      <td>-51990</td>\n",
              "    </tr>\n",
              "  </tbody>\n",
              "</table>\n",
              "<p>14255 rows × 7 columns</p>\n",
              "</div>"
            ],
            "text/plain": [
              "         tn    fp     fn     tp   thr  profit  profit2\n",
              "2465   2356  1479    199  10966 0.132    -118    10848\n",
              "2464   2355  1480    199  10966 0.132    -120    10846\n",
              "2523   2403  1432    215  10950 0.147    -104    10846\n",
              "2460   2352  1483    198  10967 0.131    -121    10846\n",
              "2471   2360  1475    201  10964 0.134    -120    10844\n",
              "...     ...   ...    ...    ...   ...     ...      ...\n",
              "14250  3835     0  11161      4 1.000  -51970   -51966\n",
              "14251  3835     0  11162      3 1.000  -51975   -51972\n",
              "14252  3835     0  11163      2 1.000  -51980   -51978\n",
              "14253  3835     0  11164      1 1.000  -51985   -51984\n",
              "14254  3835     0  11165      0 1.000  -51990   -51990\n",
              "\n",
              "[14255 rows x 7 columns]"
            ]
          },
          "metadata": {
            "tags": []
          },
          "execution_count": 217
        }
      ]
    },
    {
      "cell_type": "code",
      "metadata": {
        "colab": {
          "base_uri": "https://localhost:8080/",
          "height": 402
        },
        "id": "HBNZ0aVhBusj",
        "outputId": "31d6e455-e7e2-4861-fd3e-e033767c629d"
      },
      "source": [
        "cf.sort_values('profit3',ascending=False)"
      ],
      "execution_count": null,
      "outputs": [
        {
          "output_type": "execute_result",
          "data": {
            "text/html": [
              "<div>\n",
              "<style scoped>\n",
              "    .dataframe tbody tr th:only-of-type {\n",
              "        vertical-align: middle;\n",
              "    }\n",
              "\n",
              "    .dataframe tbody tr th {\n",
              "        vertical-align: top;\n",
              "    }\n",
              "\n",
              "    .dataframe thead th {\n",
              "        text-align: right;\n",
              "    }\n",
              "</style>\n",
              "<table border=\"1\" class=\"dataframe\">\n",
              "  <thead>\n",
              "    <tr style=\"text-align: right;\">\n",
              "      <th></th>\n",
              "      <th>tn</th>\n",
              "      <th>fp</th>\n",
              "      <th>fn</th>\n",
              "      <th>tp</th>\n",
              "      <th>thr</th>\n",
              "      <th>profit</th>\n",
              "      <th>profit2</th>\n",
              "      <th>profit3</th>\n",
              "    </tr>\n",
              "  </thead>\n",
              "  <tbody>\n",
              "    <tr>\n",
              "      <th>2026</th>\n",
              "      <td>1973</td>\n",
              "      <td>1862</td>\n",
              "      <td>111</td>\n",
              "      <td>11054</td>\n",
              "      <td>0.058</td>\n",
              "      <td>-444</td>\n",
              "      <td>10610</td>\n",
              "      <td>-2417</td>\n",
              "    </tr>\n",
              "    <tr>\n",
              "      <th>2232</th>\n",
              "      <td>2158</td>\n",
              "      <td>1677</td>\n",
              "      <td>148</td>\n",
              "      <td>11017</td>\n",
              "      <td>0.090</td>\n",
              "      <td>-259</td>\n",
              "      <td>10758</td>\n",
              "      <td>-2417</td>\n",
              "    </tr>\n",
              "    <tr>\n",
              "      <th>2025</th>\n",
              "      <td>1972</td>\n",
              "      <td>1863</td>\n",
              "      <td>111</td>\n",
              "      <td>11054</td>\n",
              "      <td>0.058</td>\n",
              "      <td>-446</td>\n",
              "      <td>10608</td>\n",
              "      <td>-2418</td>\n",
              "    </tr>\n",
              "    <tr>\n",
              "      <th>2231</th>\n",
              "      <td>2157</td>\n",
              "      <td>1678</td>\n",
              "      <td>148</td>\n",
              "      <td>11017</td>\n",
              "      <td>0.089</td>\n",
              "      <td>-261</td>\n",
              "      <td>10756</td>\n",
              "      <td>-2418</td>\n",
              "    </tr>\n",
              "    <tr>\n",
              "      <th>2241</th>\n",
              "      <td>2167</td>\n",
              "      <td>1668</td>\n",
              "      <td>150</td>\n",
              "      <td>11015</td>\n",
              "      <td>0.091</td>\n",
              "      <td>-251</td>\n",
              "      <td>10764</td>\n",
              "      <td>-2418</td>\n",
              "    </tr>\n",
              "    <tr>\n",
              "      <th>...</th>\n",
              "      <td>...</td>\n",
              "      <td>...</td>\n",
              "      <td>...</td>\n",
              "      <td>...</td>\n",
              "      <td>...</td>\n",
              "      <td>...</td>\n",
              "      <td>...</td>\n",
              "      <td>...</td>\n",
              "    </tr>\n",
              "    <tr>\n",
              "      <th>14250</th>\n",
              "      <td>3835</td>\n",
              "      <td>0</td>\n",
              "      <td>11161</td>\n",
              "      <td>4</td>\n",
              "      <td>1.000</td>\n",
              "      <td>-51970</td>\n",
              "      <td>-51966</td>\n",
              "      <td>-55805</td>\n",
              "    </tr>\n",
              "    <tr>\n",
              "      <th>14251</th>\n",
              "      <td>3835</td>\n",
              "      <td>0</td>\n",
              "      <td>11162</td>\n",
              "      <td>3</td>\n",
              "      <td>1.000</td>\n",
              "      <td>-51975</td>\n",
              "      <td>-51972</td>\n",
              "      <td>-55810</td>\n",
              "    </tr>\n",
              "    <tr>\n",
              "      <th>14252</th>\n",
              "      <td>3835</td>\n",
              "      <td>0</td>\n",
              "      <td>11163</td>\n",
              "      <td>2</td>\n",
              "      <td>1.000</td>\n",
              "      <td>-51980</td>\n",
              "      <td>-51978</td>\n",
              "      <td>-55815</td>\n",
              "    </tr>\n",
              "    <tr>\n",
              "      <th>14253</th>\n",
              "      <td>3835</td>\n",
              "      <td>0</td>\n",
              "      <td>11164</td>\n",
              "      <td>1</td>\n",
              "      <td>1.000</td>\n",
              "      <td>-51985</td>\n",
              "      <td>-51984</td>\n",
              "      <td>-55820</td>\n",
              "    </tr>\n",
              "    <tr>\n",
              "      <th>14254</th>\n",
              "      <td>3835</td>\n",
              "      <td>0</td>\n",
              "      <td>11165</td>\n",
              "      <td>0</td>\n",
              "      <td>1.000</td>\n",
              "      <td>-51990</td>\n",
              "      <td>-51990</td>\n",
              "      <td>-55825</td>\n",
              "    </tr>\n",
              "  </tbody>\n",
              "</table>\n",
              "<p>14255 rows × 8 columns</p>\n",
              "</div>"
            ],
            "text/plain": [
              "         tn    fp     fn     tp   thr  profit  profit2  profit3\n",
              "2026   1973  1862    111  11054 0.058    -444    10610    -2417\n",
              "2232   2158  1677    148  11017 0.090    -259    10758    -2417\n",
              "2025   1972  1863    111  11054 0.058    -446    10608    -2418\n",
              "2231   2157  1678    148  11017 0.089    -261    10756    -2418\n",
              "2241   2167  1668    150  11015 0.091    -251    10764    -2418\n",
              "...     ...   ...    ...    ...   ...     ...      ...      ...\n",
              "14250  3835     0  11161      4 1.000  -51970   -51966   -55805\n",
              "14251  3835     0  11162      3 1.000  -51975   -51972   -55810\n",
              "14252  3835     0  11163      2 1.000  -51980   -51978   -55815\n",
              "14253  3835     0  11164      1 1.000  -51985   -51984   -55820\n",
              "14254  3835     0  11165      0 1.000  -51990   -51990   -55825\n",
              "\n",
              "[14255 rows x 8 columns]"
            ]
          },
          "metadata": {
            "tags": []
          },
          "execution_count": 219
        }
      ]
    },
    {
      "cell_type": "code",
      "metadata": {
        "colab": {
          "base_uri": "https://localhost:8080/",
          "height": 282
        },
        "id": "VfpZ5nWCB9Fu",
        "outputId": "6492ce2f-e55a-492e-9840-4f3f8b3b3aee"
      },
      "source": [
        "val['score'].hist()"
      ],
      "execution_count": null,
      "outputs": [
        {
          "output_type": "execute_result",
          "data": {
            "text/plain": [
              "<matplotlib.axes._subplots.AxesSubplot at 0x7f5caa293990>"
            ]
          },
          "metadata": {
            "tags": []
          },
          "execution_count": 220
        },
        {
          "output_type": "display_data",
          "data": {
            "image/png": "[encoded data removed]",
            "text/plain": [
              "<Figure size 432x288 with 1 Axes>"
            ]
          },
          "metadata": {
            "tags": [],
            "needs_background": "light"
          }
        }
      ]
    },
    {
      "cell_type": "code",
      "metadata": {
        "id": "wQj6Gx3iCBgU"
      },
      "source": [],
      "execution_count": null,
      "outputs": []
    }
  ]
}