{
 "cells": [
  {
   "cell_type": "markdown",
   "id": "af8cc2c2",
   "metadata": {},
   "source": [
    "## Описание проекта"
   ]
  },
  {
   "cell_type": "markdown",
   "id": "eea2af89",
   "metadata": {},
   "source": [
    "Допустим, вы работаете в добывающей компании «ГлавРосГосНефть». Нужно решить, где бурить новую скважину.\n",
    "\n",
    "Вам предоставлены пробы нефти в трёх регионах: в каждом 10 000 месторождений, где измерили качество нефти и объём её запасов. Постройте модель машинного обучения, которая поможет определить регион, где добыча принесёт наибольшую прибыль. Проанализируйте возможную прибыль и риски техникой *Bootstrap.*\n",
    "\n",
    "### Шаги для выбора локации:\n",
    "\n",
    "- В избранном регионе ищут месторождения, для каждого определяют значения признаков;\n",
    "- Строят модель и оценивают объём запасов;\n",
    "- Выбирают месторождения с самым высокими оценками значений. Количество месторождений зависит от бюджета компании и стоимости разработки одной скважины;\n",
    "- Прибыль равна суммарной прибыли отобранных месторождений.\n",
    "\n",
    "### Этапы работы над проектом:\n",
    "\n",
    "1. Изучить данные. Провести подготовку данных к моделированию.\n",
    "2. Обучить модель для каждого региона geo_data_0, geo_data_1 и geo_data_2.\n",
    "3. Составить функцию расчета прибыли в регионе.\n",
    "4. Посчитать прибыль и риски за каждый регион и обосновать выбор региона.\n",
    "5. Оформить проект и сделать выводы."
   ]
  },
  {
   "cell_type": "markdown",
   "id": "46f1dec1",
   "metadata": {},
   "source": [
    "## 1. Загрузка и подготовка данных"
   ]
  },
  {
   "cell_type": "code",
   "execution_count": 1,
   "id": "89e8e685",
   "metadata": {},
   "outputs": [],
   "source": [
    "import pandas as pd\n",
    "import numpy as np\n",
    "import matplotlib.pyplot as plt\n",
    "from sklearn.model_selection import train_test_split\n",
    "from sklearn.linear_model import LinearRegression\n",
    "from sklearn.metrics import mean_squared_error\n",
    "from sklearn.preprocessing import StandardScaler\n",
    "from sklearn.utils import shuffle\n",
    "import warnings\n",
    "warnings.filterwarnings('ignore') #PYTHONWARNINGS=\"ignore\""
   ]
  },
  {
   "cell_type": "code",
   "execution_count": 2,
   "id": "ce253d8d",
   "metadata": {},
   "outputs": [],
   "source": [
    "geo_data_0 = pd.read_csv('https://code.s3.yandex.net/datasets/geo_data_0.csv')"
   ]
  },
  {
   "cell_type": "code",
   "execution_count": 3,
   "id": "b0be076a",
   "metadata": {},
   "outputs": [],
   "source": [
    "geo_data_1 = pd.read_csv('https://code.s3.yandex.net/datasets/geo_data_1.csv')"
   ]
  },
  {
   "cell_type": "code",
   "execution_count": 4,
   "id": "b61472ff",
   "metadata": {},
   "outputs": [],
   "source": [
    "geo_data_2 = pd.read_csv('https://code.s3.yandex.net/datasets/geo_data_2.csv')"
   ]
  },
  {
   "cell_type": "code",
   "execution_count": 5,
   "id": "db680f96",
   "metadata": {},
   "outputs": [],
   "source": [
    "# функция для вывода состава столбцов\n",
    "def describe_cols(df_data):\n",
    "    df = df_data\n",
    "    values = pd.DataFrame()\n",
    "    \n",
    "    for col in df.columns:\n",
    "        values[col] = [df[col].unique(), df[col].dtypes, df[col].nunique()]\n",
    "        \n",
    "    return values.T.sort_values(by=1, ascending=True).rename(\n",
    "        {0: 'Значения', 1: 'тип данных', 2: 'Кол-во уникальных значений'}, axis=1)\n",
    "\n",
    "\n",
    "# функция для вывода пустых значений и их доли в столбцах датафрейма\n",
    "def nan_values(df_data):\n",
    "    df = df_data\n",
    "    count_missing = df.isna().sum()\n",
    "    percent_missing = round(df.isna().sum() * 100 / len(df), 1)\n",
    "    \n",
    "    missing_value_df = pd.DataFrame({'column_name': df.columns,\n",
    "                                     'num_missing': count_missing,\n",
    "                                     'percent_missing': percent_missing})\n",
    "    \n",
    "    return missing_value_df\n",
    "\n",
    "\n",
    "# функция для вывода информации о файле\n",
    "def df_info (df_data):\n",
    "    print('Количество строк файла:', len(df_data))\n",
    "    print()\n",
    "    print('Информация о содержимом файла:')\n",
    "    display(describe_cols(df_data))\n",
    "    print()\n",
    "    print('Информация о пропусках данных:')\n",
    "    display(nan_values(df_data))\n",
    "    print()\n",
    "    print('Первые пять строк таблицы:')\n",
    "    display(df_data.head())\n",
    "\n",
    "# просмотр данных столбца: уникальные значения, тип данных, кол-во пропусков\n",
    "def preprocessing(column):\n",
    "    #print(column, '-', dict_name[column])\n",
    "    print('Тип данных', df[column].dtypes)\n",
    "    print('Количество пропусков',df[column].isna().sum())\n",
    "    if df[column].dtypes != 'object':\n",
    "        print('Минимальное значение:',df[column].min(), 'Максимальное значение:', df[column].max() )\n",
    "    print('Уникальные значения:', '\\n', df[column].value_counts())"
   ]
  },
  {
   "cell_type": "code",
   "execution_count": 6,
   "id": "be74311e",
   "metadata": {},
   "outputs": [
    {
     "name": "stdout",
     "output_type": "stream",
     "text": [
      "Количество строк файла: 100000\n",
      "\n",
      "Информация о содержимом файла:\n"
     ]
    },
    {
     "data": {
      "text/html": [
       "<div>\n",
       "<style scoped>\n",
       "    .dataframe tbody tr th:only-of-type {\n",
       "        vertical-align: middle;\n",
       "    }\n",
       "\n",
       "    .dataframe tbody tr th {\n",
       "        vertical-align: top;\n",
       "    }\n",
       "\n",
       "    .dataframe thead th {\n",
       "        text-align: right;\n",
       "    }\n",
       "</style>\n",
       "<table border=\"1\" class=\"dataframe\">\n",
       "  <thead>\n",
       "    <tr style=\"text-align: right;\">\n",
       "      <th></th>\n",
       "      <th>Значения</th>\n",
       "      <th>тип данных</th>\n",
       "      <th>Кол-во уникальных значений</th>\n",
       "    </tr>\n",
       "  </thead>\n",
       "  <tbody>\n",
       "    <tr>\n",
       "      <th>f0</th>\n",
       "      <td>[0.7057449842080644, 1.3347112926051892, 1.022...</td>\n",
       "      <td>float64</td>\n",
       "      <td>100000</td>\n",
       "    </tr>\n",
       "    <tr>\n",
       "      <th>f1</th>\n",
       "      <td>[-0.4978225001976334, -0.3401642528583136, 0.1...</td>\n",
       "      <td>float64</td>\n",
       "      <td>100000</td>\n",
       "    </tr>\n",
       "    <tr>\n",
       "      <th>f2</th>\n",
       "      <td>[1.22116994843607, 4.3650803324282, 1.41992623...</td>\n",
       "      <td>float64</td>\n",
       "      <td>100000</td>\n",
       "    </tr>\n",
       "    <tr>\n",
       "      <th>product</th>\n",
       "      <td>[105.28006184349584, 73.03775026515737, 85.265...</td>\n",
       "      <td>float64</td>\n",
       "      <td>100000</td>\n",
       "    </tr>\n",
       "    <tr>\n",
       "      <th>id</th>\n",
       "      <td>[txEyH, 2acmU, 409Wp, iJLyR, Xdl7t, wX4Hy, tL6...</td>\n",
       "      <td>object</td>\n",
       "      <td>99990</td>\n",
       "    </tr>\n",
       "  </tbody>\n",
       "</table>\n",
       "</div>"
      ],
      "text/plain": [
       "                                                  Значения тип данных  \\\n",
       "f0       [0.7057449842080644, 1.3347112926051892, 1.022...    float64   \n",
       "f1       [-0.4978225001976334, -0.3401642528583136, 0.1...    float64   \n",
       "f2       [1.22116994843607, 4.3650803324282, 1.41992623...    float64   \n",
       "product  [105.28006184349584, 73.03775026515737, 85.265...    float64   \n",
       "id       [txEyH, 2acmU, 409Wp, iJLyR, Xdl7t, wX4Hy, tL6...     object   \n",
       "\n",
       "        Кол-во уникальных значений  \n",
       "f0                          100000  \n",
       "f1                          100000  \n",
       "f2                          100000  \n",
       "product                     100000  \n",
       "id                           99990  "
      ]
     },
     "metadata": {},
     "output_type": "display_data"
    },
    {
     "name": "stdout",
     "output_type": "stream",
     "text": [
      "\n",
      "Информация о пропусках данных:\n"
     ]
    },
    {
     "data": {
      "text/html": [
       "<div>\n",
       "<style scoped>\n",
       "    .dataframe tbody tr th:only-of-type {\n",
       "        vertical-align: middle;\n",
       "    }\n",
       "\n",
       "    .dataframe tbody tr th {\n",
       "        vertical-align: top;\n",
       "    }\n",
       "\n",
       "    .dataframe thead th {\n",
       "        text-align: right;\n",
       "    }\n",
       "</style>\n",
       "<table border=\"1\" class=\"dataframe\">\n",
       "  <thead>\n",
       "    <tr style=\"text-align: right;\">\n",
       "      <th></th>\n",
       "      <th>column_name</th>\n",
       "      <th>num_missing</th>\n",
       "      <th>percent_missing</th>\n",
       "    </tr>\n",
       "  </thead>\n",
       "  <tbody>\n",
       "    <tr>\n",
       "      <th>id</th>\n",
       "      <td>id</td>\n",
       "      <td>0</td>\n",
       "      <td>0.0</td>\n",
       "    </tr>\n",
       "    <tr>\n",
       "      <th>f0</th>\n",
       "      <td>f0</td>\n",
       "      <td>0</td>\n",
       "      <td>0.0</td>\n",
       "    </tr>\n",
       "    <tr>\n",
       "      <th>f1</th>\n",
       "      <td>f1</td>\n",
       "      <td>0</td>\n",
       "      <td>0.0</td>\n",
       "    </tr>\n",
       "    <tr>\n",
       "      <th>f2</th>\n",
       "      <td>f2</td>\n",
       "      <td>0</td>\n",
       "      <td>0.0</td>\n",
       "    </tr>\n",
       "    <tr>\n",
       "      <th>product</th>\n",
       "      <td>product</td>\n",
       "      <td>0</td>\n",
       "      <td>0.0</td>\n",
       "    </tr>\n",
       "  </tbody>\n",
       "</table>\n",
       "</div>"
      ],
      "text/plain": [
       "        column_name  num_missing  percent_missing\n",
       "id               id            0              0.0\n",
       "f0               f0            0              0.0\n",
       "f1               f1            0              0.0\n",
       "f2               f2            0              0.0\n",
       "product     product            0              0.0"
      ]
     },
     "metadata": {},
     "output_type": "display_data"
    },
    {
     "name": "stdout",
     "output_type": "stream",
     "text": [
      "\n",
      "Первые пять строк таблицы:\n"
     ]
    },
    {
     "data": {
      "text/html": [
       "<div>\n",
       "<style scoped>\n",
       "    .dataframe tbody tr th:only-of-type {\n",
       "        vertical-align: middle;\n",
       "    }\n",
       "\n",
       "    .dataframe tbody tr th {\n",
       "        vertical-align: top;\n",
       "    }\n",
       "\n",
       "    .dataframe thead th {\n",
       "        text-align: right;\n",
       "    }\n",
       "</style>\n",
       "<table border=\"1\" class=\"dataframe\">\n",
       "  <thead>\n",
       "    <tr style=\"text-align: right;\">\n",
       "      <th></th>\n",
       "      <th>id</th>\n",
       "      <th>f0</th>\n",
       "      <th>f1</th>\n",
       "      <th>f2</th>\n",
       "      <th>product</th>\n",
       "    </tr>\n",
       "  </thead>\n",
       "  <tbody>\n",
       "    <tr>\n",
       "      <th>0</th>\n",
       "      <td>txEyH</td>\n",
       "      <td>0.705745</td>\n",
       "      <td>-0.497823</td>\n",
       "      <td>1.221170</td>\n",
       "      <td>105.280062</td>\n",
       "    </tr>\n",
       "    <tr>\n",
       "      <th>1</th>\n",
       "      <td>2acmU</td>\n",
       "      <td>1.334711</td>\n",
       "      <td>-0.340164</td>\n",
       "      <td>4.365080</td>\n",
       "      <td>73.037750</td>\n",
       "    </tr>\n",
       "    <tr>\n",
       "      <th>2</th>\n",
       "      <td>409Wp</td>\n",
       "      <td>1.022732</td>\n",
       "      <td>0.151990</td>\n",
       "      <td>1.419926</td>\n",
       "      <td>85.265647</td>\n",
       "    </tr>\n",
       "    <tr>\n",
       "      <th>3</th>\n",
       "      <td>iJLyR</td>\n",
       "      <td>-0.032172</td>\n",
       "      <td>0.139033</td>\n",
       "      <td>2.978566</td>\n",
       "      <td>168.620776</td>\n",
       "    </tr>\n",
       "    <tr>\n",
       "      <th>4</th>\n",
       "      <td>Xdl7t</td>\n",
       "      <td>1.988431</td>\n",
       "      <td>0.155413</td>\n",
       "      <td>4.751769</td>\n",
       "      <td>154.036647</td>\n",
       "    </tr>\n",
       "  </tbody>\n",
       "</table>\n",
       "</div>"
      ],
      "text/plain": [
       "      id        f0        f1        f2     product\n",
       "0  txEyH  0.705745 -0.497823  1.221170  105.280062\n",
       "1  2acmU  1.334711 -0.340164  4.365080   73.037750\n",
       "2  409Wp  1.022732  0.151990  1.419926   85.265647\n",
       "3  iJLyR -0.032172  0.139033  2.978566  168.620776\n",
       "4  Xdl7t  1.988431  0.155413  4.751769  154.036647"
      ]
     },
     "metadata": {},
     "output_type": "display_data"
    }
   ],
   "source": [
    "df_info(geo_data_0)"
   ]
  },
  {
   "cell_type": "code",
   "execution_count": 7,
   "id": "8da71ed0",
   "metadata": {},
   "outputs": [
    {
     "name": "stdout",
     "output_type": "stream",
     "text": [
      "Количество строк файла: 100000\n",
      "\n",
      "Информация о содержимом файла:\n"
     ]
    },
    {
     "data": {
      "text/html": [
       "<div>\n",
       "<style scoped>\n",
       "    .dataframe tbody tr th:only-of-type {\n",
       "        vertical-align: middle;\n",
       "    }\n",
       "\n",
       "    .dataframe tbody tr th {\n",
       "        vertical-align: top;\n",
       "    }\n",
       "\n",
       "    .dataframe thead th {\n",
       "        text-align: right;\n",
       "    }\n",
       "</style>\n",
       "<table border=\"1\" class=\"dataframe\">\n",
       "  <thead>\n",
       "    <tr style=\"text-align: right;\">\n",
       "      <th></th>\n",
       "      <th>Значения</th>\n",
       "      <th>тип данных</th>\n",
       "      <th>Кол-во уникальных значений</th>\n",
       "    </tr>\n",
       "  </thead>\n",
       "  <tbody>\n",
       "    <tr>\n",
       "      <th>f0</th>\n",
       "      <td>[-15.00134818249185, 14.272087811011149, 6.263...</td>\n",
       "      <td>float64</td>\n",
       "      <td>100000</td>\n",
       "    </tr>\n",
       "    <tr>\n",
       "      <th>f1</th>\n",
       "      <td>[-8.275999947188001, -3.47508321506002, -5.948...</td>\n",
       "      <td>float64</td>\n",
       "      <td>100000</td>\n",
       "    </tr>\n",
       "    <tr>\n",
       "      <th>f2</th>\n",
       "      <td>[-0.0058760136933206, 0.9991827365665829, 5.00...</td>\n",
       "      <td>float64</td>\n",
       "      <td>100000</td>\n",
       "    </tr>\n",
       "    <tr>\n",
       "      <th>product</th>\n",
       "      <td>[3.179102583207246, 26.95326103153969, 134.766...</td>\n",
       "      <td>float64</td>\n",
       "      <td>12</td>\n",
       "    </tr>\n",
       "    <tr>\n",
       "      <th>id</th>\n",
       "      <td>[kBEdx, 62mP7, vyE1P, KcrkZ, AHL4O, HHckp, h5U...</td>\n",
       "      <td>object</td>\n",
       "      <td>99996</td>\n",
       "    </tr>\n",
       "  </tbody>\n",
       "</table>\n",
       "</div>"
      ],
      "text/plain": [
       "                                                  Значения тип данных  \\\n",
       "f0       [-15.00134818249185, 14.272087811011149, 6.263...    float64   \n",
       "f1       [-8.275999947188001, -3.47508321506002, -5.948...    float64   \n",
       "f2       [-0.0058760136933206, 0.9991827365665829, 5.00...    float64   \n",
       "product  [3.179102583207246, 26.95326103153969, 134.766...    float64   \n",
       "id       [kBEdx, 62mP7, vyE1P, KcrkZ, AHL4O, HHckp, h5U...     object   \n",
       "\n",
       "        Кол-во уникальных значений  \n",
       "f0                          100000  \n",
       "f1                          100000  \n",
       "f2                          100000  \n",
       "product                         12  \n",
       "id                           99996  "
      ]
     },
     "metadata": {},
     "output_type": "display_data"
    },
    {
     "name": "stdout",
     "output_type": "stream",
     "text": [
      "\n",
      "Информация о пропусках данных:\n"
     ]
    },
    {
     "data": {
      "text/html": [
       "<div>\n",
       "<style scoped>\n",
       "    .dataframe tbody tr th:only-of-type {\n",
       "        vertical-align: middle;\n",
       "    }\n",
       "\n",
       "    .dataframe tbody tr th {\n",
       "        vertical-align: top;\n",
       "    }\n",
       "\n",
       "    .dataframe thead th {\n",
       "        text-align: right;\n",
       "    }\n",
       "</style>\n",
       "<table border=\"1\" class=\"dataframe\">\n",
       "  <thead>\n",
       "    <tr style=\"text-align: right;\">\n",
       "      <th></th>\n",
       "      <th>column_name</th>\n",
       "      <th>num_missing</th>\n",
       "      <th>percent_missing</th>\n",
       "    </tr>\n",
       "  </thead>\n",
       "  <tbody>\n",
       "    <tr>\n",
       "      <th>id</th>\n",
       "      <td>id</td>\n",
       "      <td>0</td>\n",
       "      <td>0.0</td>\n",
       "    </tr>\n",
       "    <tr>\n",
       "      <th>f0</th>\n",
       "      <td>f0</td>\n",
       "      <td>0</td>\n",
       "      <td>0.0</td>\n",
       "    </tr>\n",
       "    <tr>\n",
       "      <th>f1</th>\n",
       "      <td>f1</td>\n",
       "      <td>0</td>\n",
       "      <td>0.0</td>\n",
       "    </tr>\n",
       "    <tr>\n",
       "      <th>f2</th>\n",
       "      <td>f2</td>\n",
       "      <td>0</td>\n",
       "      <td>0.0</td>\n",
       "    </tr>\n",
       "    <tr>\n",
       "      <th>product</th>\n",
       "      <td>product</td>\n",
       "      <td>0</td>\n",
       "      <td>0.0</td>\n",
       "    </tr>\n",
       "  </tbody>\n",
       "</table>\n",
       "</div>"
      ],
      "text/plain": [
       "        column_name  num_missing  percent_missing\n",
       "id               id            0              0.0\n",
       "f0               f0            0              0.0\n",
       "f1               f1            0              0.0\n",
       "f2               f2            0              0.0\n",
       "product     product            0              0.0"
      ]
     },
     "metadata": {},
     "output_type": "display_data"
    },
    {
     "name": "stdout",
     "output_type": "stream",
     "text": [
      "\n",
      "Первые пять строк таблицы:\n"
     ]
    },
    {
     "data": {
      "text/html": [
       "<div>\n",
       "<style scoped>\n",
       "    .dataframe tbody tr th:only-of-type {\n",
       "        vertical-align: middle;\n",
       "    }\n",
       "\n",
       "    .dataframe tbody tr th {\n",
       "        vertical-align: top;\n",
       "    }\n",
       "\n",
       "    .dataframe thead th {\n",
       "        text-align: right;\n",
       "    }\n",
       "</style>\n",
       "<table border=\"1\" class=\"dataframe\">\n",
       "  <thead>\n",
       "    <tr style=\"text-align: right;\">\n",
       "      <th></th>\n",
       "      <th>id</th>\n",
       "      <th>f0</th>\n",
       "      <th>f1</th>\n",
       "      <th>f2</th>\n",
       "      <th>product</th>\n",
       "    </tr>\n",
       "  </thead>\n",
       "  <tbody>\n",
       "    <tr>\n",
       "      <th>0</th>\n",
       "      <td>kBEdx</td>\n",
       "      <td>-15.001348</td>\n",
       "      <td>-8.276000</td>\n",
       "      <td>-0.005876</td>\n",
       "      <td>3.179103</td>\n",
       "    </tr>\n",
       "    <tr>\n",
       "      <th>1</th>\n",
       "      <td>62mP7</td>\n",
       "      <td>14.272088</td>\n",
       "      <td>-3.475083</td>\n",
       "      <td>0.999183</td>\n",
       "      <td>26.953261</td>\n",
       "    </tr>\n",
       "    <tr>\n",
       "      <th>2</th>\n",
       "      <td>vyE1P</td>\n",
       "      <td>6.263187</td>\n",
       "      <td>-5.948386</td>\n",
       "      <td>5.001160</td>\n",
       "      <td>134.766305</td>\n",
       "    </tr>\n",
       "    <tr>\n",
       "      <th>3</th>\n",
       "      <td>KcrkZ</td>\n",
       "      <td>-13.081196</td>\n",
       "      <td>-11.506057</td>\n",
       "      <td>4.999415</td>\n",
       "      <td>137.945408</td>\n",
       "    </tr>\n",
       "    <tr>\n",
       "      <th>4</th>\n",
       "      <td>AHL4O</td>\n",
       "      <td>12.702195</td>\n",
       "      <td>-8.147433</td>\n",
       "      <td>5.004363</td>\n",
       "      <td>134.766305</td>\n",
       "    </tr>\n",
       "  </tbody>\n",
       "</table>\n",
       "</div>"
      ],
      "text/plain": [
       "      id         f0         f1        f2     product\n",
       "0  kBEdx -15.001348  -8.276000 -0.005876    3.179103\n",
       "1  62mP7  14.272088  -3.475083  0.999183   26.953261\n",
       "2  vyE1P   6.263187  -5.948386  5.001160  134.766305\n",
       "3  KcrkZ -13.081196 -11.506057  4.999415  137.945408\n",
       "4  AHL4O  12.702195  -8.147433  5.004363  134.766305"
      ]
     },
     "metadata": {},
     "output_type": "display_data"
    }
   ],
   "source": [
    "df_info(geo_data_1)"
   ]
  },
  {
   "cell_type": "code",
   "execution_count": 8,
   "id": "dca1ed9f",
   "metadata": {},
   "outputs": [
    {
     "name": "stdout",
     "output_type": "stream",
     "text": [
      "Количество строк файла: 100000\n",
      "\n",
      "Информация о содержимом файла:\n"
     ]
    },
    {
     "data": {
      "text/html": [
       "<div>\n",
       "<style scoped>\n",
       "    .dataframe tbody tr th:only-of-type {\n",
       "        vertical-align: middle;\n",
       "    }\n",
       "\n",
       "    .dataframe tbody tr th {\n",
       "        vertical-align: top;\n",
       "    }\n",
       "\n",
       "    .dataframe thead th {\n",
       "        text-align: right;\n",
       "    }\n",
       "</style>\n",
       "<table border=\"1\" class=\"dataframe\">\n",
       "  <thead>\n",
       "    <tr style=\"text-align: right;\">\n",
       "      <th></th>\n",
       "      <th>Значения</th>\n",
       "      <th>тип данных</th>\n",
       "      <th>Кол-во уникальных значений</th>\n",
       "    </tr>\n",
       "  </thead>\n",
       "  <tbody>\n",
       "    <tr>\n",
       "      <th>f0</th>\n",
       "      <td>[-1.1469870984179529, 0.2627779016539684, 0.19...</td>\n",
       "      <td>float64</td>\n",
       "      <td>100000</td>\n",
       "    </tr>\n",
       "    <tr>\n",
       "      <th>f1</th>\n",
       "      <td>[0.9633279217162892, 0.2698389572803021, 0.289...</td>\n",
       "      <td>float64</td>\n",
       "      <td>100000</td>\n",
       "    </tr>\n",
       "    <tr>\n",
       "      <th>f2</th>\n",
       "      <td>[-0.8289649221710994, -2.530186515492004, -5.5...</td>\n",
       "      <td>float64</td>\n",
       "      <td>100000</td>\n",
       "    </tr>\n",
       "    <tr>\n",
       "      <th>product</th>\n",
       "      <td>[27.75867323073004, 56.06969663239464, 62.8719...</td>\n",
       "      <td>float64</td>\n",
       "      <td>100000</td>\n",
       "    </tr>\n",
       "    <tr>\n",
       "      <th>id</th>\n",
       "      <td>[fwXo0, WJtFt, ovLUW, q6cA6, WPMUX, LzZXx, WBH...</td>\n",
       "      <td>object</td>\n",
       "      <td>99996</td>\n",
       "    </tr>\n",
       "  </tbody>\n",
       "</table>\n",
       "</div>"
      ],
      "text/plain": [
       "                                                  Значения тип данных  \\\n",
       "f0       [-1.1469870984179529, 0.2627779016539684, 0.19...    float64   \n",
       "f1       [0.9633279217162892, 0.2698389572803021, 0.289...    float64   \n",
       "f2       [-0.8289649221710994, -2.530186515492004, -5.5...    float64   \n",
       "product  [27.75867323073004, 56.06969663239464, 62.8719...    float64   \n",
       "id       [fwXo0, WJtFt, ovLUW, q6cA6, WPMUX, LzZXx, WBH...     object   \n",
       "\n",
       "        Кол-во уникальных значений  \n",
       "f0                          100000  \n",
       "f1                          100000  \n",
       "f2                          100000  \n",
       "product                     100000  \n",
       "id                           99996  "
      ]
     },
     "metadata": {},
     "output_type": "display_data"
    },
    {
     "name": "stdout",
     "output_type": "stream",
     "text": [
      "\n",
      "Информация о пропусках данных:\n"
     ]
    },
    {
     "data": {
      "text/html": [
       "<div>\n",
       "<style scoped>\n",
       "    .dataframe tbody tr th:only-of-type {\n",
       "        vertical-align: middle;\n",
       "    }\n",
       "\n",
       "    .dataframe tbody tr th {\n",
       "        vertical-align: top;\n",
       "    }\n",
       "\n",
       "    .dataframe thead th {\n",
       "        text-align: right;\n",
       "    }\n",
       "</style>\n",
       "<table border=\"1\" class=\"dataframe\">\n",
       "  <thead>\n",
       "    <tr style=\"text-align: right;\">\n",
       "      <th></th>\n",
       "      <th>column_name</th>\n",
       "      <th>num_missing</th>\n",
       "      <th>percent_missing</th>\n",
       "    </tr>\n",
       "  </thead>\n",
       "  <tbody>\n",
       "    <tr>\n",
       "      <th>id</th>\n",
       "      <td>id</td>\n",
       "      <td>0</td>\n",
       "      <td>0.0</td>\n",
       "    </tr>\n",
       "    <tr>\n",
       "      <th>f0</th>\n",
       "      <td>f0</td>\n",
       "      <td>0</td>\n",
       "      <td>0.0</td>\n",
       "    </tr>\n",
       "    <tr>\n",
       "      <th>f1</th>\n",
       "      <td>f1</td>\n",
       "      <td>0</td>\n",
       "      <td>0.0</td>\n",
       "    </tr>\n",
       "    <tr>\n",
       "      <th>f2</th>\n",
       "      <td>f2</td>\n",
       "      <td>0</td>\n",
       "      <td>0.0</td>\n",
       "    </tr>\n",
       "    <tr>\n",
       "      <th>product</th>\n",
       "      <td>product</td>\n",
       "      <td>0</td>\n",
       "      <td>0.0</td>\n",
       "    </tr>\n",
       "  </tbody>\n",
       "</table>\n",
       "</div>"
      ],
      "text/plain": [
       "        column_name  num_missing  percent_missing\n",
       "id               id            0              0.0\n",
       "f0               f0            0              0.0\n",
       "f1               f1            0              0.0\n",
       "f2               f2            0              0.0\n",
       "product     product            0              0.0"
      ]
     },
     "metadata": {},
     "output_type": "display_data"
    },
    {
     "name": "stdout",
     "output_type": "stream",
     "text": [
      "\n",
      "Первые пять строк таблицы:\n"
     ]
    },
    {
     "data": {
      "text/html": [
       "<div>\n",
       "<style scoped>\n",
       "    .dataframe tbody tr th:only-of-type {\n",
       "        vertical-align: middle;\n",
       "    }\n",
       "\n",
       "    .dataframe tbody tr th {\n",
       "        vertical-align: top;\n",
       "    }\n",
       "\n",
       "    .dataframe thead th {\n",
       "        text-align: right;\n",
       "    }\n",
       "</style>\n",
       "<table border=\"1\" class=\"dataframe\">\n",
       "  <thead>\n",
       "    <tr style=\"text-align: right;\">\n",
       "      <th></th>\n",
       "      <th>id</th>\n",
       "      <th>f0</th>\n",
       "      <th>f1</th>\n",
       "      <th>f2</th>\n",
       "      <th>product</th>\n",
       "    </tr>\n",
       "  </thead>\n",
       "  <tbody>\n",
       "    <tr>\n",
       "      <th>0</th>\n",
       "      <td>fwXo0</td>\n",
       "      <td>-1.146987</td>\n",
       "      <td>0.963328</td>\n",
       "      <td>-0.828965</td>\n",
       "      <td>27.758673</td>\n",
       "    </tr>\n",
       "    <tr>\n",
       "      <th>1</th>\n",
       "      <td>WJtFt</td>\n",
       "      <td>0.262778</td>\n",
       "      <td>0.269839</td>\n",
       "      <td>-2.530187</td>\n",
       "      <td>56.069697</td>\n",
       "    </tr>\n",
       "    <tr>\n",
       "      <th>2</th>\n",
       "      <td>ovLUW</td>\n",
       "      <td>0.194587</td>\n",
       "      <td>0.289035</td>\n",
       "      <td>-5.586433</td>\n",
       "      <td>62.871910</td>\n",
       "    </tr>\n",
       "    <tr>\n",
       "      <th>3</th>\n",
       "      <td>q6cA6</td>\n",
       "      <td>2.236060</td>\n",
       "      <td>-0.553760</td>\n",
       "      <td>0.930038</td>\n",
       "      <td>114.572842</td>\n",
       "    </tr>\n",
       "    <tr>\n",
       "      <th>4</th>\n",
       "      <td>WPMUX</td>\n",
       "      <td>-0.515993</td>\n",
       "      <td>1.716266</td>\n",
       "      <td>5.899011</td>\n",
       "      <td>149.600746</td>\n",
       "    </tr>\n",
       "  </tbody>\n",
       "</table>\n",
       "</div>"
      ],
      "text/plain": [
       "      id        f0        f1        f2     product\n",
       "0  fwXo0 -1.146987  0.963328 -0.828965   27.758673\n",
       "1  WJtFt  0.262778  0.269839 -2.530187   56.069697\n",
       "2  ovLUW  0.194587  0.289035 -5.586433   62.871910\n",
       "3  q6cA6  2.236060 -0.553760  0.930038  114.572842\n",
       "4  WPMUX -0.515993  1.716266  5.899011  149.600746"
      ]
     },
     "metadata": {},
     "output_type": "display_data"
    }
   ],
   "source": [
    "df_info(geo_data_2)"
   ]
  },
  {
   "cell_type": "markdown",
   "id": "9616f131",
   "metadata": {},
   "source": [
    "В данных отсутсвуют пропуски. Удалим из каждого датафрейма столбец id. Он не несет значимости для для модели."
   ]
  },
  {
   "cell_type": "code",
   "execution_count": 9,
   "id": "04b6051a",
   "metadata": {},
   "outputs": [],
   "source": [
    "geo_data_0 = geo_data_0.drop(['id'], axis=1)\n",
    "geo_data_1 = geo_data_1.drop(['id'], axis=1)\n",
    "geo_data_2 = geo_data_2.drop(['id'], axis=1)"
   ]
  },
  {
   "cell_type": "code",
   "execution_count": 10,
   "id": "b582f2d2",
   "metadata": {},
   "outputs": [],
   "source": [
    "def check_zeros(df, target_name):\n",
    "    zeros = df[df[target_name] == 0][target_name].count()\n",
    "    percent = zeros / df.shape[0]\n",
    "    print('Количество нулевых значений -', zeros)\n",
    "    print('Процент нулевых значений -', percent)"
   ]
  },
  {
   "cell_type": "code",
   "execution_count": 11,
   "id": "5cb25b1d",
   "metadata": {},
   "outputs": [
    {
     "name": "stdout",
     "output_type": "stream",
     "text": [
      "Количество нулевых значений - 1\n",
      "Процент нулевых значений - 1e-05\n"
     ]
    }
   ],
   "source": [
    "check_zeros(geo_data_0, 'product')"
   ]
  },
  {
   "cell_type": "code",
   "execution_count": 12,
   "id": "74a01e53",
   "metadata": {},
   "outputs": [
    {
     "name": "stdout",
     "output_type": "stream",
     "text": [
      "Количество нулевых значений - 8235\n",
      "Процент нулевых значений - 0.08235\n"
     ]
    }
   ],
   "source": [
    "check_zeros(geo_data_1, 'product')"
   ]
  },
  {
   "cell_type": "code",
   "execution_count": 13,
   "id": "c8883201",
   "metadata": {},
   "outputs": [
    {
     "name": "stdout",
     "output_type": "stream",
     "text": [
      "Количество нулевых значений - 1\n",
      "Процент нулевых значений - 1e-05\n"
     ]
    }
   ],
   "source": [
    "check_zeros(geo_data_2, 'product')"
   ]
  },
  {
   "cell_type": "code",
   "execution_count": 14,
   "id": "742fc599",
   "metadata": {},
   "outputs": [
    {
     "data": {
      "text/html": [
       "<div>\n",
       "<style scoped>\n",
       "    .dataframe tbody tr th:only-of-type {\n",
       "        vertical-align: middle;\n",
       "    }\n",
       "\n",
       "    .dataframe tbody tr th {\n",
       "        vertical-align: top;\n",
       "    }\n",
       "\n",
       "    .dataframe thead th {\n",
       "        text-align: right;\n",
       "    }\n",
       "</style>\n",
       "<table border=\"1\" class=\"dataframe\">\n",
       "  <thead>\n",
       "    <tr style=\"text-align: right;\">\n",
       "      <th></th>\n",
       "      <th>f0</th>\n",
       "      <th>f1</th>\n",
       "      <th>f2</th>\n",
       "      <th>product</th>\n",
       "    </tr>\n",
       "  </thead>\n",
       "  <tbody>\n",
       "    <tr>\n",
       "      <th>57263</th>\n",
       "      <td>-0.702064</td>\n",
       "      <td>0.375992</td>\n",
       "      <td>0.236572</td>\n",
       "      <td>0.0</td>\n",
       "    </tr>\n",
       "  </tbody>\n",
       "</table>\n",
       "</div>"
      ],
      "text/plain": [
       "             f0        f1        f2  product\n",
       "57263 -0.702064  0.375992  0.236572      0.0"
      ]
     },
     "execution_count": 14,
     "metadata": {},
     "output_type": "execute_result"
    }
   ],
   "source": [
    "geo_data_0[geo_data_0['product'] == 0]"
   ]
  },
  {
   "cell_type": "code",
   "execution_count": 15,
   "id": "ac79b959",
   "metadata": {},
   "outputs": [
    {
     "data": {
      "text/html": [
       "<div>\n",
       "<style scoped>\n",
       "    .dataframe tbody tr th:only-of-type {\n",
       "        vertical-align: middle;\n",
       "    }\n",
       "\n",
       "    .dataframe tbody tr th {\n",
       "        vertical-align: top;\n",
       "    }\n",
       "\n",
       "    .dataframe thead th {\n",
       "        text-align: right;\n",
       "    }\n",
       "</style>\n",
       "<table border=\"1\" class=\"dataframe\">\n",
       "  <thead>\n",
       "    <tr style=\"text-align: right;\">\n",
       "      <th></th>\n",
       "      <th>f0</th>\n",
       "      <th>f1</th>\n",
       "      <th>f2</th>\n",
       "      <th>product</th>\n",
       "    </tr>\n",
       "  </thead>\n",
       "  <tbody>\n",
       "    <tr>\n",
       "      <th>11</th>\n",
       "      <td>16.320755</td>\n",
       "      <td>-0.562946</td>\n",
       "      <td>-0.001783</td>\n",
       "      <td>0.0</td>\n",
       "    </tr>\n",
       "    <tr>\n",
       "      <th>13</th>\n",
       "      <td>6.695604</td>\n",
       "      <td>-0.749449</td>\n",
       "      <td>-0.007630</td>\n",
       "      <td>0.0</td>\n",
       "    </tr>\n",
       "    <tr>\n",
       "      <th>62</th>\n",
       "      <td>21.418478</td>\n",
       "      <td>-5.134490</td>\n",
       "      <td>-0.002836</td>\n",
       "      <td>0.0</td>\n",
       "    </tr>\n",
       "    <tr>\n",
       "      <th>63</th>\n",
       "      <td>6.822701</td>\n",
       "      <td>3.104979</td>\n",
       "      <td>-0.000723</td>\n",
       "      <td>0.0</td>\n",
       "    </tr>\n",
       "    <tr>\n",
       "      <th>77</th>\n",
       "      <td>6.750150</td>\n",
       "      <td>-11.893512</td>\n",
       "      <td>-0.001601</td>\n",
       "      <td>0.0</td>\n",
       "    </tr>\n",
       "    <tr>\n",
       "      <th>...</th>\n",
       "      <td>...</td>\n",
       "      <td>...</td>\n",
       "      <td>...</td>\n",
       "      <td>...</td>\n",
       "    </tr>\n",
       "    <tr>\n",
       "      <th>99936</th>\n",
       "      <td>5.085749</td>\n",
       "      <td>-3.980305</td>\n",
       "      <td>0.005063</td>\n",
       "      <td>0.0</td>\n",
       "    </tr>\n",
       "    <tr>\n",
       "      <th>99948</th>\n",
       "      <td>8.277805</td>\n",
       "      <td>-9.178818</td>\n",
       "      <td>0.003275</td>\n",
       "      <td>0.0</td>\n",
       "    </tr>\n",
       "    <tr>\n",
       "      <th>99956</th>\n",
       "      <td>13.343983</td>\n",
       "      <td>-1.290200</td>\n",
       "      <td>0.005980</td>\n",
       "      <td>0.0</td>\n",
       "    </tr>\n",
       "    <tr>\n",
       "      <th>99961</th>\n",
       "      <td>13.854163</td>\n",
       "      <td>-11.528089</td>\n",
       "      <td>-0.005556</td>\n",
       "      <td>0.0</td>\n",
       "    </tr>\n",
       "    <tr>\n",
       "      <th>99973</th>\n",
       "      <td>12.698645</td>\n",
       "      <td>-4.384673</td>\n",
       "      <td>-0.002600</td>\n",
       "      <td>0.0</td>\n",
       "    </tr>\n",
       "  </tbody>\n",
       "</table>\n",
       "<p>8235 rows × 4 columns</p>\n",
       "</div>"
      ],
      "text/plain": [
       "              f0         f1        f2  product\n",
       "11     16.320755  -0.562946 -0.001783      0.0\n",
       "13      6.695604  -0.749449 -0.007630      0.0\n",
       "62     21.418478  -5.134490 -0.002836      0.0\n",
       "63      6.822701   3.104979 -0.000723      0.0\n",
       "77      6.750150 -11.893512 -0.001601      0.0\n",
       "...          ...        ...       ...      ...\n",
       "99936   5.085749  -3.980305  0.005063      0.0\n",
       "99948   8.277805  -9.178818  0.003275      0.0\n",
       "99956  13.343983  -1.290200  0.005980      0.0\n",
       "99961  13.854163 -11.528089 -0.005556      0.0\n",
       "99973  12.698645  -4.384673 -0.002600      0.0\n",
       "\n",
       "[8235 rows x 4 columns]"
      ]
     },
     "execution_count": 15,
     "metadata": {},
     "output_type": "execute_result"
    }
   ],
   "source": [
    "geo_data_1[geo_data_1['product'] == 0]"
   ]
  },
  {
   "cell_type": "code",
   "execution_count": 16,
   "id": "039fa3ab",
   "metadata": {},
   "outputs": [
    {
     "data": {
      "text/html": [
       "<div>\n",
       "<style scoped>\n",
       "    .dataframe tbody tr th:only-of-type {\n",
       "        vertical-align: middle;\n",
       "    }\n",
       "\n",
       "    .dataframe tbody tr th {\n",
       "        vertical-align: top;\n",
       "    }\n",
       "\n",
       "    .dataframe thead th {\n",
       "        text-align: right;\n",
       "    }\n",
       "</style>\n",
       "<table border=\"1\" class=\"dataframe\">\n",
       "  <thead>\n",
       "    <tr style=\"text-align: right;\">\n",
       "      <th></th>\n",
       "      <th>f0</th>\n",
       "      <th>f1</th>\n",
       "      <th>f2</th>\n",
       "      <th>product</th>\n",
       "    </tr>\n",
       "  </thead>\n",
       "  <tbody>\n",
       "    <tr>\n",
       "      <th>68149</th>\n",
       "      <td>-0.865596</td>\n",
       "      <td>-1.615247</td>\n",
       "      <td>-4.126441</td>\n",
       "      <td>0.0</td>\n",
       "    </tr>\n",
       "  </tbody>\n",
       "</table>\n",
       "</div>"
      ],
      "text/plain": [
       "             f0        f1        f2  product\n",
       "68149 -0.865596 -1.615247 -4.126441      0.0"
      ]
     },
     "execution_count": 16,
     "metadata": {},
     "output_type": "execute_result"
    }
   ],
   "source": [
    "geo_data_2[geo_data_2['product'] == 0]"
   ]
  },
  {
   "cell_type": "markdown",
   "id": "b82a0ad3",
   "metadata": {},
   "source": [
    "Изучим гистограммы по столбцу product."
   ]
  },
  {
   "cell_type": "code",
   "execution_count": 17,
   "id": "f078d3d4",
   "metadata": {},
   "outputs": [],
   "source": [
    "def oil_hist(seria, bins, xlim_max, ylim_max):\n",
    "    plt.figure(figsize=[7,5])\n",
    "\n",
    "    plt.hist(seria, bins=bins)\n",
    "\n",
    "    plt.xlim([0,xlim_max])\n",
    "    plt.ylim([0,ylim_max])\n",
    "\n",
    "    plt.xlabel(\"Объем нефти на скважину, тыс. барелей\")\n",
    "    plt.ylabel(\"Количество скважин\")\n",
    "\n",
    "    plt.title(\"Гистограмма распределения по объему скважин\")\n",
    "    plt.show()"
   ]
  },
  {
   "cell_type": "code",
   "execution_count": 57,
   "id": "40232bbc",
   "metadata": {},
   "outputs": [
    {
     "data": {
      "image/png": "[encoded data removed]",
      "text/plain": [
       "<Figure size 700x500 with 1 Axes>"
      ]
     },
     "metadata": {},
     "output_type": "display_data"
    }
   ],
   "source": [
    "oil_hist(geo_data_0['product'], 250, 190, 700)"
   ]
  },
  {
   "cell_type": "code",
   "execution_count": 19,
   "id": "32117840",
   "metadata": {},
   "outputs": [
    {
     "data": {
      "image/png": "[encoded data removed]",
      "text/plain": [
       "<Figure size 700x500 with 1 Axes>"
      ]
     },
     "metadata": {},
     "output_type": "display_data"
    }
   ],
   "source": [
    "oil_hist(geo_data_1['product'], 250, 190, 700)"
   ]
  },
  {
   "cell_type": "code",
   "execution_count": 20,
   "id": "8beb5b61",
   "metadata": {},
   "outputs": [
    {
     "data": {
      "image/png": "[encoded data removed]",
      "text/plain": [
       "<Figure size 700x500 with 1 Axes>"
      ]
     },
     "metadata": {},
     "output_type": "display_data"
    }
   ],
   "source": [
    "oil_hist(geo_data_1['product'], 45, 150, 10000)"
   ]
  },
  {
   "cell_type": "code",
   "execution_count": 21,
   "id": "18b4b9e2",
   "metadata": {},
   "outputs": [
    {
     "data": {
      "image/png": "[encoded data removed]",
      "text/plain": [
       "<Figure size 700x500 with 1 Axes>"
      ]
     },
     "metadata": {},
     "output_type": "display_data"
    }
   ],
   "source": [
    "oil_hist(geo_data_2['product'], 250, 190, 700)"
   ]
  },
  {
   "cell_type": "markdown",
   "id": "c99c51c1",
   "metadata": {},
   "source": [
    "Признаки для модели: \n",
    "- f0;\n",
    "- f1; \n",
    "- f2.\n",
    "\n",
    "Целевой признак: \n",
    "- product."
   ]
  },
  {
   "cell_type": "markdown",
   "id": "d3d60c0a",
   "metadata": {},
   "source": [
    "<b>Вывод по шагу 1.</b>\n",
    "\n",
    "Данные готовы к обучению.\n",
    "\n",
    "Во втором месторождении около 8,2% месторождений не имело значения в столбце product. При сравнении с такими же значениями из первого и третьего региона можно понять, что были утеряны данные или не было исследовано количество барелей нефти.\n",
    "\n",
    "По гистограммам можно понять, что у первого и третьего региона распределение скважин близкое к нормальному. Во втором регионе данные имеют странное распределение: от 0 до 5 баррелей с шагом по 15-20 равномерно распределены 100000 значений. Данные не подчиняются закону больших чисел и скорей всего были введены искуственно."
   ]
  },
  {
   "cell_type": "markdown",
   "id": "6742bfcf",
   "metadata": {},
   "source": [
    "## 2. Обучение и проверка модели"
   ]
  },
  {
   "cell_type": "markdown",
   "id": "11eab4ba",
   "metadata": {},
   "source": [
    "Проверим качество модели линейной регрессии с текущим значением признаков и с масштабируемыми. \n",
    "\n",
    "Проведем исследование на geo_data_0."
   ]
  },
  {
   "cell_type": "markdown",
   "id": "07798c94",
   "metadata": {},
   "source": [
    "### 2.1 Выполним разбивку неподготовленного датасета:"
   ]
  },
  {
   "cell_type": "code",
   "execution_count": 22,
   "id": "7e8437fd",
   "metadata": {},
   "outputs": [],
   "source": [
    "def test_split(df, target):\n",
    "    X = df.drop([target], axis=1)\n",
    "    y = df[target]\n",
    "    \n",
    "    X_train, X_val, y_train, y_val = train_test_split(X, y, test_size=0.25, random_state=42)\n",
    "    \n",
    "    return X_train, X_val, y_train, y_val"
   ]
  },
  {
   "cell_type": "code",
   "execution_count": 23,
   "id": "5f0a6ad7",
   "metadata": {},
   "outputs": [
    {
     "data": {
      "text/html": [
       "<div>\n",
       "<style scoped>\n",
       "    .dataframe tbody tr th:only-of-type {\n",
       "        vertical-align: middle;\n",
       "    }\n",
       "\n",
       "    .dataframe tbody tr th {\n",
       "        vertical-align: top;\n",
       "    }\n",
       "\n",
       "    .dataframe thead th {\n",
       "        text-align: right;\n",
       "    }\n",
       "</style>\n",
       "<table border=\"1\" class=\"dataframe\">\n",
       "  <thead>\n",
       "    <tr style=\"text-align: right;\">\n",
       "      <th></th>\n",
       "      <th>f0</th>\n",
       "      <th>f1</th>\n",
       "      <th>f2</th>\n",
       "    </tr>\n",
       "  </thead>\n",
       "  <tbody>\n",
       "    <tr>\n",
       "      <th>98980</th>\n",
       "      <td>1.611925</td>\n",
       "      <td>-0.151874</td>\n",
       "      <td>1.221668</td>\n",
       "    </tr>\n",
       "    <tr>\n",
       "      <th>69824</th>\n",
       "      <td>-0.896203</td>\n",
       "      <td>0.369086</td>\n",
       "      <td>-4.537914</td>\n",
       "    </tr>\n",
       "    <tr>\n",
       "      <th>9928</th>\n",
       "      <td>0.217569</td>\n",
       "      <td>0.974254</td>\n",
       "      <td>7.369521</td>\n",
       "    </tr>\n",
       "    <tr>\n",
       "      <th>75599</th>\n",
       "      <td>0.882945</td>\n",
       "      <td>0.669249</td>\n",
       "      <td>3.114527</td>\n",
       "    </tr>\n",
       "    <tr>\n",
       "      <th>95621</th>\n",
       "      <td>-0.941661</td>\n",
       "      <td>0.634162</td>\n",
       "      <td>2.873607</td>\n",
       "    </tr>\n",
       "  </tbody>\n",
       "</table>\n",
       "</div>"
      ],
      "text/plain": [
       "             f0        f1        f2\n",
       "98980  1.611925 -0.151874  1.221668\n",
       "69824 -0.896203  0.369086 -4.537914\n",
       "9928   0.217569  0.974254  7.369521\n",
       "75599  0.882945  0.669249  3.114527\n",
       "95621 -0.941661  0.634162  2.873607"
      ]
     },
     "execution_count": 23,
     "metadata": {},
     "output_type": "execute_result"
    }
   ],
   "source": [
    "X_train_0, X_valid_0, y_train_0, y_valid_0 = test_split(geo_data_0, 'product')\n",
    "\n",
    "X_train_0.head()"
   ]
  },
  {
   "cell_type": "code",
   "execution_count": 24,
   "id": "aa5a67f1",
   "metadata": {},
   "outputs": [
    {
     "data": {
      "text/html": [
       "<div>\n",
       "<style scoped>\n",
       "    .dataframe tbody tr th:only-of-type {\n",
       "        vertical-align: middle;\n",
       "    }\n",
       "\n",
       "    .dataframe tbody tr th {\n",
       "        vertical-align: top;\n",
       "    }\n",
       "\n",
       "    .dataframe thead th {\n",
       "        text-align: right;\n",
       "    }\n",
       "</style>\n",
       "<table border=\"1\" class=\"dataframe\">\n",
       "  <thead>\n",
       "    <tr style=\"text-align: right;\">\n",
       "      <th></th>\n",
       "      <th>f0</th>\n",
       "      <th>f1</th>\n",
       "      <th>f2</th>\n",
       "    </tr>\n",
       "  </thead>\n",
       "  <tbody>\n",
       "    <tr>\n",
       "      <th>98980</th>\n",
       "      <td>9.296378</td>\n",
       "      <td>-4.480220</td>\n",
       "      <td>1.999544</td>\n",
       "    </tr>\n",
       "    <tr>\n",
       "      <th>69824</th>\n",
       "      <td>15.836796</td>\n",
       "      <td>1.952969</td>\n",
       "      <td>4.989288</td>\n",
       "    </tr>\n",
       "    <tr>\n",
       "      <th>9928</th>\n",
       "      <td>-1.594937</td>\n",
       "      <td>-0.407367</td>\n",
       "      <td>3.003358</td>\n",
       "    </tr>\n",
       "    <tr>\n",
       "      <th>75599</th>\n",
       "      <td>12.335752</td>\n",
       "      <td>-6.508978</td>\n",
       "      <td>2.001396</td>\n",
       "    </tr>\n",
       "    <tr>\n",
       "      <th>95621</th>\n",
       "      <td>-4.954638</td>\n",
       "      <td>-8.026328</td>\n",
       "      <td>1.001472</td>\n",
       "    </tr>\n",
       "  </tbody>\n",
       "</table>\n",
       "</div>"
      ],
      "text/plain": [
       "              f0        f1        f2\n",
       "98980   9.296378 -4.480220  1.999544\n",
       "69824  15.836796  1.952969  4.989288\n",
       "9928   -1.594937 -0.407367  3.003358\n",
       "75599  12.335752 -6.508978  2.001396\n",
       "95621  -4.954638 -8.026328  1.001472"
      ]
     },
     "execution_count": 24,
     "metadata": {},
     "output_type": "execute_result"
    }
   ],
   "source": [
    "X_train_1, X_valid_1, y_train_1, y_valid_1 = test_split(geo_data_1, 'product')\n",
    "\n",
    "X_train_1.head()"
   ]
  },
  {
   "cell_type": "code",
   "execution_count": 25,
   "id": "de91514a",
   "metadata": {},
   "outputs": [
    {
     "data": {
      "text/html": [
       "<div>\n",
       "<style scoped>\n",
       "    .dataframe tbody tr th:only-of-type {\n",
       "        vertical-align: middle;\n",
       "    }\n",
       "\n",
       "    .dataframe tbody tr th {\n",
       "        vertical-align: top;\n",
       "    }\n",
       "\n",
       "    .dataframe thead th {\n",
       "        text-align: right;\n",
       "    }\n",
       "</style>\n",
       "<table border=\"1\" class=\"dataframe\">\n",
       "  <thead>\n",
       "    <tr style=\"text-align: right;\">\n",
       "      <th></th>\n",
       "      <th>f0</th>\n",
       "      <th>f1</th>\n",
       "      <th>f2</th>\n",
       "    </tr>\n",
       "  </thead>\n",
       "  <tbody>\n",
       "    <tr>\n",
       "      <th>98980</th>\n",
       "      <td>-0.592927</td>\n",
       "      <td>-2.323059</td>\n",
       "      <td>5.344840</td>\n",
       "    </tr>\n",
       "    <tr>\n",
       "      <th>69824</th>\n",
       "      <td>-0.690844</td>\n",
       "      <td>1.715501</td>\n",
       "      <td>-1.331142</td>\n",
       "    </tr>\n",
       "    <tr>\n",
       "      <th>9928</th>\n",
       "      <td>1.741680</td>\n",
       "      <td>-1.604639</td>\n",
       "      <td>0.499745</td>\n",
       "    </tr>\n",
       "    <tr>\n",
       "      <th>75599</th>\n",
       "      <td>-1.354850</td>\n",
       "      <td>0.984588</td>\n",
       "      <td>5.683113</td>\n",
       "    </tr>\n",
       "    <tr>\n",
       "      <th>95621</th>\n",
       "      <td>1.075114</td>\n",
       "      <td>1.175117</td>\n",
       "      <td>1.010025</td>\n",
       "    </tr>\n",
       "  </tbody>\n",
       "</table>\n",
       "</div>"
      ],
      "text/plain": [
       "             f0        f1        f2\n",
       "98980 -0.592927 -2.323059  5.344840\n",
       "69824 -0.690844  1.715501 -1.331142\n",
       "9928   1.741680 -1.604639  0.499745\n",
       "75599 -1.354850  0.984588  5.683113\n",
       "95621  1.075114  1.175117  1.010025"
      ]
     },
     "execution_count": 25,
     "metadata": {},
     "output_type": "execute_result"
    }
   ],
   "source": [
    "X_train_2, X_valid_2, y_train_2, y_valid_2 = test_split(geo_data_2, 'product')\n",
    "\n",
    "X_train_2.head()"
   ]
  },
  {
   "cell_type": "markdown",
   "id": "4a3e3d06",
   "metadata": {},
   "source": [
    "###  2.2 Выполним разбивку и проведем масштабирование"
   ]
  },
  {
   "cell_type": "code",
   "execution_count": 26,
   "id": "94adee83",
   "metadata": {},
   "outputs": [],
   "source": [
    "def test_split_scaled(df, numeric, target):\n",
    "    geo_data_s = df.copy()\n",
    "\n",
    "    X_s = geo_data_s.drop([target] , axis=1)\n",
    "    y_s = geo_data_s[target]\n",
    "\n",
    "    X_train_s, X_val_s, y_train_s, y_val_s = train_test_split(X_s, y_s, test_size=0.25, random_state=42)\n",
    "\n",
    "    scaler = StandardScaler()\n",
    "    scaler.fit(X_train_s[numeric])\n",
    "    X_train_s[numeric] = scaler.transform(X_train_s[numeric])\n",
    "    X_val_s[numeric] = scaler.transform(X_val_s[numeric])\n",
    "\n",
    "    return X_train_s, X_val_s, y_train_s, y_val_s"
   ]
  },
  {
   "cell_type": "code",
   "execution_count": 27,
   "id": "f7124885",
   "metadata": {},
   "outputs": [
    {
     "data": {
      "text/html": [
       "<div>\n",
       "<style scoped>\n",
       "    .dataframe tbody tr th:only-of-type {\n",
       "        vertical-align: middle;\n",
       "    }\n",
       "\n",
       "    .dataframe tbody tr th {\n",
       "        vertical-align: top;\n",
       "    }\n",
       "\n",
       "    .dataframe thead th {\n",
       "        text-align: right;\n",
       "    }\n",
       "</style>\n",
       "<table border=\"1\" class=\"dataframe\">\n",
       "  <thead>\n",
       "    <tr style=\"text-align: right;\">\n",
       "      <th></th>\n",
       "      <th>f0</th>\n",
       "      <th>f1</th>\n",
       "      <th>f2</th>\n",
       "    </tr>\n",
       "  </thead>\n",
       "  <tbody>\n",
       "    <tr>\n",
       "      <th>98980</th>\n",
       "      <td>1.274786</td>\n",
       "      <td>-0.799739</td>\n",
       "      <td>-0.396677</td>\n",
       "    </tr>\n",
       "    <tr>\n",
       "      <th>69824</th>\n",
       "      <td>-1.600689</td>\n",
       "      <td>0.234678</td>\n",
       "      <td>-2.169283</td>\n",
       "    </tr>\n",
       "    <tr>\n",
       "      <th>9928</th>\n",
       "      <td>-0.323791</td>\n",
       "      <td>1.436297</td>\n",
       "      <td>1.495425</td>\n",
       "    </tr>\n",
       "    <tr>\n",
       "      <th>75599</th>\n",
       "      <td>0.439038</td>\n",
       "      <td>0.830679</td>\n",
       "      <td>0.185881</td>\n",
       "    </tr>\n",
       "    <tr>\n",
       "      <th>95621</th>\n",
       "      <td>-1.652805</td>\n",
       "      <td>0.761012</td>\n",
       "      <td>0.111734</td>\n",
       "    </tr>\n",
       "  </tbody>\n",
       "</table>\n",
       "</div>"
      ],
      "text/plain": [
       "             f0        f1        f2\n",
       "98980  1.274786 -0.799739 -0.396677\n",
       "69824 -1.600689  0.234678 -2.169283\n",
       "9928  -0.323791  1.436297  1.495425\n",
       "75599  0.439038  0.830679  0.185881\n",
       "95621 -1.652805  0.761012  0.111734"
      ]
     },
     "execution_count": 27,
     "metadata": {},
     "output_type": "execute_result"
    }
   ],
   "source": [
    "X_train_0s, X_val_0s, y_train_0s, y_val_0s = test_split_scaled(geo_data_0, ['f0', 'f1', 'f2'], 'product')\n",
    "\n",
    "X_train_0s.head()"
   ]
  },
  {
   "cell_type": "code",
   "execution_count": 28,
   "id": "96cde981",
   "metadata": {},
   "outputs": [
    {
     "data": {
      "text/html": [
       "<div>\n",
       "<style scoped>\n",
       "    .dataframe tbody tr th:only-of-type {\n",
       "        vertical-align: middle;\n",
       "    }\n",
       "\n",
       "    .dataframe tbody tr th {\n",
       "        vertical-align: top;\n",
       "    }\n",
       "\n",
       "    .dataframe thead th {\n",
       "        text-align: right;\n",
       "    }\n",
       "</style>\n",
       "<table border=\"1\" class=\"dataframe\">\n",
       "  <thead>\n",
       "    <tr style=\"text-align: right;\">\n",
       "      <th></th>\n",
       "      <th>f0</th>\n",
       "      <th>f1</th>\n",
       "      <th>f2</th>\n",
       "    </tr>\n",
       "  </thead>\n",
       "  <tbody>\n",
       "    <tr>\n",
       "      <th>98980</th>\n",
       "      <td>0.911229</td>\n",
       "      <td>0.063780</td>\n",
       "      <td>-0.291331</td>\n",
       "    </tr>\n",
       "    <tr>\n",
       "      <th>69824</th>\n",
       "      <td>1.640885</td>\n",
       "      <td>1.320793</td>\n",
       "      <td>1.463778</td>\n",
       "    </tr>\n",
       "    <tr>\n",
       "      <th>9928</th>\n",
       "      <td>-0.303818</td>\n",
       "      <td>0.859595</td>\n",
       "      <td>0.297952</td>\n",
       "    </tr>\n",
       "    <tr>\n",
       "      <th>75599</th>\n",
       "      <td>1.250304</td>\n",
       "      <td>-0.332629</td>\n",
       "      <td>-0.290244</td>\n",
       "    </tr>\n",
       "    <tr>\n",
       "      <th>95621</th>\n",
       "      <td>-0.678630</td>\n",
       "      <td>-0.629111</td>\n",
       "      <td>-0.877242</td>\n",
       "    </tr>\n",
       "  </tbody>\n",
       "</table>\n",
       "</div>"
      ],
      "text/plain": [
       "             f0        f1        f2\n",
       "98980  0.911229  0.063780 -0.291331\n",
       "69824  1.640885  1.320793  1.463778\n",
       "9928  -0.303818  0.859595  0.297952\n",
       "75599  1.250304 -0.332629 -0.290244\n",
       "95621 -0.678630 -0.629111 -0.877242"
      ]
     },
     "execution_count": 28,
     "metadata": {},
     "output_type": "execute_result"
    }
   ],
   "source": [
    "X_train_1s, X_val_1s, y_train_1s, y_val_1s = test_split_scaled(geo_data_1, ['f0', 'f1', 'f2'], 'product')\n",
    "\n",
    "X_train_1s.head()"
   ]
  },
  {
   "cell_type": "code",
   "execution_count": 29,
   "id": "afc7db60",
   "metadata": {},
   "outputs": [
    {
     "data": {
      "text/html": [
       "<div>\n",
       "<style scoped>\n",
       "    .dataframe tbody tr th:only-of-type {\n",
       "        vertical-align: middle;\n",
       "    }\n",
       "\n",
       "    .dataframe tbody tr th {\n",
       "        vertical-align: top;\n",
       "    }\n",
       "\n",
       "    .dataframe thead th {\n",
       "        text-align: right;\n",
       "    }\n",
       "</style>\n",
       "<table border=\"1\" class=\"dataframe\">\n",
       "  <thead>\n",
       "    <tr style=\"text-align: right;\">\n",
       "      <th></th>\n",
       "      <th>f0</th>\n",
       "      <th>f1</th>\n",
       "      <th>f2</th>\n",
       "    </tr>\n",
       "  </thead>\n",
       "  <tbody>\n",
       "    <tr>\n",
       "      <th>98980</th>\n",
       "      <td>-0.343864</td>\n",
       "      <td>-1.338311</td>\n",
       "      <td>0.817572</td>\n",
       "    </tr>\n",
       "    <tr>\n",
       "      <th>69824</th>\n",
       "      <td>-0.400431</td>\n",
       "      <td>0.993613</td>\n",
       "      <td>-1.102974</td>\n",
       "    </tr>\n",
       "    <tr>\n",
       "      <th>9928</th>\n",
       "      <td>1.004849</td>\n",
       "      <td>-0.923485</td>\n",
       "      <td>-0.576264</td>\n",
       "    </tr>\n",
       "    <tr>\n",
       "      <th>75599</th>\n",
       "      <td>-0.784031</td>\n",
       "      <td>0.571573</td>\n",
       "      <td>0.914886</td>\n",
       "    </tr>\n",
       "    <tr>\n",
       "      <th>95621</th>\n",
       "      <td>0.619771</td>\n",
       "      <td>0.681588</td>\n",
       "      <td>-0.429467</td>\n",
       "    </tr>\n",
       "  </tbody>\n",
       "</table>\n",
       "</div>"
      ],
      "text/plain": [
       "             f0        f1        f2\n",
       "98980 -0.343864 -1.338311  0.817572\n",
       "69824 -0.400431  0.993613 -1.102974\n",
       "9928   1.004849 -0.923485 -0.576264\n",
       "75599 -0.784031  0.571573  0.914886\n",
       "95621  0.619771  0.681588 -0.429467"
      ]
     },
     "execution_count": 29,
     "metadata": {},
     "output_type": "execute_result"
    }
   ],
   "source": [
    "X_train_2s, X_val_2s, y_train_2s, y_val_2s = test_split_scaled(geo_data_2, ['f0', 'f1', 'f2'], 'product')\n",
    "\n",
    "X_train_2s.head()"
   ]
  },
  {
   "cell_type": "markdown",
   "id": "9d19b001",
   "metadata": {},
   "source": [
    "###  2.3 Проверим каково RMSE на маштабированных данных и нет"
   ]
  },
  {
   "cell_type": "code",
   "execution_count": 30,
   "id": "888ea459",
   "metadata": {},
   "outputs": [],
   "source": [
    "model = LinearRegression()"
   ]
  },
  {
   "cell_type": "code",
   "execution_count": 31,
   "id": "0d2c70a6",
   "metadata": {},
   "outputs": [
    {
     "name": "stdout",
     "output_type": "stream",
     "text": [
      "RMSE - 37.75660035026169\n",
      "RMSE - 37.75660035026169\n"
     ]
    }
   ],
   "source": [
    "X_train_0, X_val_0, y_train_0, y_val_0 = test_split(geo_data_0, 'product')\n",
    "model.fit(X_train_0, y_train_0)\n",
    "predicted_y_0 = model.predict(X_val_0)\n",
    "print('RMSE -', mean_squared_error(y_val_0, predicted_y_0)**0.5)\n",
    "\n",
    "X_train_0s, X_val_0s, y_train_0s, y_val_0s = test_split_scaled(geo_data_0, ['f0', 'f1', 'f2'], 'product')\n",
    "model.fit(X_train_0s, y_train_0s)\n",
    "predicted_y_0s = model.predict(X_val_0s)\n",
    "print('RMSE -', mean_squared_error(y_val_0s, predicted_y_0s)**0.5)"
   ]
  },
  {
   "cell_type": "code",
   "execution_count": 32,
   "id": "766cdeca",
   "metadata": {},
   "outputs": [
    {
     "name": "stdout",
     "output_type": "stream",
     "text": [
      "RMSE - 0.8902801001028842\n",
      "RMSE - 0.8902801001028842\n"
     ]
    }
   ],
   "source": [
    "X_train_1, X_val_1, y_train_1, y_val_1 = test_split(geo_data_1, 'product')\n",
    "model.fit(X_train_1, y_train_1)\n",
    "predicted_y_1 = model.predict(X_val_1)\n",
    "print('RMSE -', mean_squared_error(y_val_1, predicted_y_1)**0.5)\n",
    "\n",
    "X_train_1s, X_val_1s, y_train_1s, y_val_1s = test_split_scaled(geo_data_1, ['f0', 'f1', 'f2'], 'product')\n",
    "model.fit(X_train_1s, y_train_1s)\n",
    "predicted_y_1s = model.predict(X_val_1s)\n",
    "print('RMSE -', mean_squared_error(y_val_1s, predicted_y_1s)**0.5)"
   ]
  },
  {
   "cell_type": "code",
   "execution_count": 33,
   "id": "07ff5f0e",
   "metadata": {},
   "outputs": [
    {
     "name": "stdout",
     "output_type": "stream",
     "text": [
      "RMSE - 40.14587231134218\n",
      "RMSE - 40.145872311342174\n"
     ]
    }
   ],
   "source": [
    "X_train_2, X_val_2, y_train_2, y_val_2 = test_split(geo_data_2, 'product')\n",
    "model.fit(X_train_2, y_train_2)\n",
    "predicted_y_2 = model.predict(X_val_2)\n",
    "print('RMSE -', mean_squared_error(y_val_2, predicted_y_2)**0.5)\n",
    "\n",
    "X_train_2s, X_val_2s, y_train_2s, y_val_2s = test_split_scaled(geo_data_2, ['f0', 'f1', 'f2'], 'product')\n",
    "model.fit(X_train_2s, y_train_2s)\n",
    "predicted_y_2s = model.predict(X_val_2s)\n",
    "print('RMSE -', mean_squared_error(y_val_2s, predicted_y_2s)**0.5)"
   ]
  },
  {
   "cell_type": "markdown",
   "id": "e76053fb",
   "metadata": {},
   "source": [
    "<b>Масштабирование данных не требуется."
   ]
  },
  {
   "cell_type": "markdown",
   "id": "0003ff8b",
   "metadata": {},
   "source": [
    "###  2.4 Проверим показатель RMSE при других гиперпараметрах модели."
   ]
  },
  {
   "cell_type": "code",
   "execution_count": 34,
   "id": "1004fe67",
   "metadata": {},
   "outputs": [
    {
     "name": "stdout",
     "output_type": "stream",
     "text": [
      "RMSE - 37.75660035026169\n"
     ]
    }
   ],
   "source": [
    "model = LinearRegression(normalize=True)\n",
    "model.fit(X_train_0, y_train_0)\n",
    "predicted_y_0 = model.predict(X_val_0)\n",
    "print('RMSE -', mean_squared_error(y_val_0, predicted_y_0)**0.5)"
   ]
  },
  {
   "cell_type": "code",
   "execution_count": 67,
   "id": "208576f8",
   "metadata": {},
   "outputs": [
    {
     "name": "stdout",
     "output_type": "stream",
     "text": [
      "RMSE - 37.75660035026169\n"
     ]
    },
    {
     "data": {
      "text/plain": [
       "77.66624978042199"
      ]
     },
     "execution_count": 67,
     "metadata": {},
     "output_type": "execute_result"
    }
   ],
   "source": [
    "#Присутствует ли свободный член модели или нет, если нет то прямая обязана пройти чз начало координат \n",
    "model = LinearRegression(fit_intercept=True)\n",
    "model.fit(X_train_0, y_train_0)\n",
    "predicted_y_0 = model.predict(X_val_0)\n",
    "print('RMSE -', mean_squared_error(y_val_0, predicted_y_0)**0.5)\n",
    "model.intercept_"
   ]
  },
  {
   "cell_type": "markdown",
   "id": "ad3d4a81",
   "metadata": {},
   "source": [
    "<b>Изменение стандартных значений гиперпараметров не улучшило модель. "
   ]
  },
  {
   "cell_type": "markdown",
   "id": "388403ef",
   "metadata": {},
   "source": [
    "### 2.5 Расчитаем предсказанный запас и реальным, а так же выведем RMSE."
   ]
  },
  {
   "cell_type": "code",
   "execution_count": 68,
   "id": "6c03b6b8",
   "metadata": {},
   "outputs": [],
   "source": [
    "model = LinearRegression()\n",
    "\n",
    "def oil_predict(df, target_name):\n",
    "    features = df.drop([target_name] , axis=1)\n",
    "    target = df[target_name]\n",
    "    \n",
    "    features_train, features_valid, target_train, target_valid = train_test_split(\n",
    "    features, target, test_size=0.25, random_state=42)\n",
    "    \n",
    "    model.fit(features_train, target_train)\n",
    "    predicted_target = model.predict(features_valid)\n",
    "    data = {'real_product' : target_valid,\n",
    "            'predicted_product' : predicted_target         \n",
    "    }\n",
    "    data_frame = pd.DataFrame(data, columns = ['real_product', 'predicted_product'])\n",
    "    rmse = mean_squared_error(target_valid, predicted_target)**0.5\n",
    "    mean = data_frame['predicted_product'].mean()\n",
    "    pred_oil_sum = data_frame['predicted_product'].sum()\n",
    "    real_oil_sum = data_frame['real_product'].sum()\n",
    "    return data_frame, rmse, mean, pred_oil_sum, real_oil_sum "
   ]
  },
  {
   "cell_type": "code",
   "execution_count": 70,
   "id": "660ed261",
   "metadata": {},
   "outputs": [
    {
     "data": {
      "text/html": [
       "<div>\n",
       "<style scoped>\n",
       "    .dataframe tbody tr th:only-of-type {\n",
       "        vertical-align: middle;\n",
       "    }\n",
       "\n",
       "    .dataframe tbody tr th {\n",
       "        vertical-align: top;\n",
       "    }\n",
       "\n",
       "    .dataframe thead th {\n",
       "        text-align: right;\n",
       "    }\n",
       "</style>\n",
       "<table border=\"1\" class=\"dataframe\">\n",
       "  <thead>\n",
       "    <tr style=\"text-align: right;\">\n",
       "      <th></th>\n",
       "      <th>real_product</th>\n",
       "      <th>predicted_product</th>\n",
       "    </tr>\n",
       "  </thead>\n",
       "  <tbody>\n",
       "    <tr>\n",
       "      <th>75721</th>\n",
       "      <td>122.073350</td>\n",
       "      <td>101.901017</td>\n",
       "    </tr>\n",
       "    <tr>\n",
       "      <th>80184</th>\n",
       "      <td>48.738540</td>\n",
       "      <td>78.217774</td>\n",
       "    </tr>\n",
       "    <tr>\n",
       "      <th>19864</th>\n",
       "      <td>131.338088</td>\n",
       "      <td>115.266901</td>\n",
       "    </tr>\n",
       "    <tr>\n",
       "      <th>76699</th>\n",
       "      <td>88.327757</td>\n",
       "      <td>105.618618</td>\n",
       "    </tr>\n",
       "    <tr>\n",
       "      <th>92991</th>\n",
       "      <td>36.959266</td>\n",
       "      <td>97.980185</td>\n",
       "    </tr>\n",
       "  </tbody>\n",
       "</table>\n",
       "</div>"
      ],
      "text/plain": [
       "       real_product  predicted_product\n",
       "75721    122.073350         101.901017\n",
       "80184     48.738540          78.217774\n",
       "19864    131.338088         115.266901\n",
       "76699     88.327757         105.618618\n",
       "92991     36.959266          97.980185"
      ]
     },
     "metadata": {},
     "output_type": "display_data"
    },
    {
     "name": "stdout",
     "output_type": "stream",
     "text": [
      "RMSE - 37.75660035026169\n",
      "Средний запас предсказанного сырья - 92.3987999065781\n"
     ]
    }
   ],
   "source": [
    "geo_data_0_predicted, geo_data_0_rmse, geo_data_0_predicted_mean, geo_data_0_predicted_sum, geo_data_0_real_sum = oil_predict(geo_data_0, 'product')\n",
    "display(geo_data_0_predicted.head())\n",
    "print('RMSE -', geo_data_0_rmse)\n",
    "print('Средний запас предсказанного сырья -', geo_data_0_predicted_mean)"
   ]
  },
  {
   "cell_type": "code",
   "execution_count": 69,
   "id": "66157010",
   "metadata": {},
   "outputs": [
    {
     "data": {
      "text/html": [
       "<div>\n",
       "<style scoped>\n",
       "    .dataframe tbody tr th:only-of-type {\n",
       "        vertical-align: middle;\n",
       "    }\n",
       "\n",
       "    .dataframe tbody tr th {\n",
       "        vertical-align: top;\n",
       "    }\n",
       "\n",
       "    .dataframe thead th {\n",
       "        text-align: right;\n",
       "    }\n",
       "</style>\n",
       "<table border=\"1\" class=\"dataframe\">\n",
       "  <thead>\n",
       "    <tr style=\"text-align: right;\">\n",
       "      <th></th>\n",
       "      <th>real_product</th>\n",
       "      <th>predicted_product</th>\n",
       "    </tr>\n",
       "  </thead>\n",
       "  <tbody>\n",
       "    <tr>\n",
       "      <th>75721</th>\n",
       "      <td>0.000000</td>\n",
       "      <td>0.844738</td>\n",
       "    </tr>\n",
       "    <tr>\n",
       "      <th>80184</th>\n",
       "      <td>53.906522</td>\n",
       "      <td>52.921612</td>\n",
       "    </tr>\n",
       "    <tr>\n",
       "      <th>19864</th>\n",
       "      <td>134.766305</td>\n",
       "      <td>135.110385</td>\n",
       "    </tr>\n",
       "    <tr>\n",
       "      <th>76699</th>\n",
       "      <td>107.813044</td>\n",
       "      <td>109.494863</td>\n",
       "    </tr>\n",
       "    <tr>\n",
       "      <th>92991</th>\n",
       "      <td>0.000000</td>\n",
       "      <td>-0.047292</td>\n",
       "    </tr>\n",
       "  </tbody>\n",
       "</table>\n",
       "</div>"
      ],
      "text/plain": [
       "       real_product  predicted_product\n",
       "75721      0.000000           0.844738\n",
       "80184     53.906522          52.921612\n",
       "19864    134.766305         135.110385\n",
       "76699    107.813044         109.494863\n",
       "92991      0.000000          -0.047292"
      ]
     },
     "metadata": {},
     "output_type": "display_data"
    },
    {
     "name": "stdout",
     "output_type": "stream",
     "text": [
      "RMSE - 0.8902801001028842\n",
      "Средний запас предсказанного сырья - 68.71287803913762\n"
     ]
    }
   ],
   "source": [
    "geo_data_1_predicted, geo_data_1_rmse, geo_data_1_predicted_mean, geo_data_1_predicted_sum, geo_data_1_real_sum = oil_predict(geo_data_1, 'product')\n",
    "display(geo_data_1_predicted.head())\n",
    "print('RMSE -', geo_data_1_rmse)\n",
    "print('Средний запас предсказанного сырья -', geo_data_1_predicted_mean)"
   ]
  },
  {
   "cell_type": "code",
   "execution_count": 71,
   "id": "33efe0d8",
   "metadata": {},
   "outputs": [
    {
     "data": {
      "text/html": [
       "<div>\n",
       "<style scoped>\n",
       "    .dataframe tbody tr th:only-of-type {\n",
       "        vertical-align: middle;\n",
       "    }\n",
       "\n",
       "    .dataframe tbody tr th {\n",
       "        vertical-align: top;\n",
       "    }\n",
       "\n",
       "    .dataframe thead th {\n",
       "        text-align: right;\n",
       "    }\n",
       "</style>\n",
       "<table border=\"1\" class=\"dataframe\">\n",
       "  <thead>\n",
       "    <tr style=\"text-align: right;\">\n",
       "      <th></th>\n",
       "      <th>real_product</th>\n",
       "      <th>predicted_product</th>\n",
       "    </tr>\n",
       "  </thead>\n",
       "  <tbody>\n",
       "    <tr>\n",
       "      <th>75721</th>\n",
       "      <td>117.441301</td>\n",
       "      <td>98.301916</td>\n",
       "    </tr>\n",
       "    <tr>\n",
       "      <th>80184</th>\n",
       "      <td>47.841249</td>\n",
       "      <td>101.592461</td>\n",
       "    </tr>\n",
       "    <tr>\n",
       "      <th>19864</th>\n",
       "      <td>45.883483</td>\n",
       "      <td>52.449099</td>\n",
       "    </tr>\n",
       "    <tr>\n",
       "      <th>76699</th>\n",
       "      <td>139.014608</td>\n",
       "      <td>109.922127</td>\n",
       "    </tr>\n",
       "    <tr>\n",
       "      <th>92991</th>\n",
       "      <td>84.004276</td>\n",
       "      <td>72.411847</td>\n",
       "    </tr>\n",
       "  </tbody>\n",
       "</table>\n",
       "</div>"
      ],
      "text/plain": [
       "       real_product  predicted_product\n",
       "75721    117.441301          98.301916\n",
       "80184     47.841249         101.592461\n",
       "19864     45.883483          52.449099\n",
       "76699    139.014608         109.922127\n",
       "92991     84.004276          72.411847"
      ]
     },
     "metadata": {},
     "output_type": "display_data"
    },
    {
     "name": "stdout",
     "output_type": "stream",
     "text": [
      "RMSE - 40.14587231134218\n",
      "Средний запас предсказанного сырья - 94.77102387765993\n"
     ]
    }
   ],
   "source": [
    "geo_data_2_predicted, geo_data_2_rmse, geo_data_2_predicted_mean, geo_data_2_predicted_sum, geo_data_2_real_sum = oil_predict(geo_data_2, 'product')\n",
    "display(geo_data_2_predicted.head())\n",
    "print('RMSE -', geo_data_2_rmse)\n",
    "print('Средний запас предсказанного сырья -', geo_data_2_predicted_mean)"
   ]
  },
  {
   "cell_type": "code",
   "execution_count": 40,
   "id": "2eebfddc",
   "metadata": {},
   "outputs": [
    {
     "data": {
      "text/html": [
       "<div>\n",
       "<style scoped>\n",
       "    .dataframe tbody tr th:only-of-type {\n",
       "        vertical-align: middle;\n",
       "    }\n",
       "\n",
       "    .dataframe tbody tr th {\n",
       "        vertical-align: top;\n",
       "    }\n",
       "\n",
       "    .dataframe thead th {\n",
       "        text-align: right;\n",
       "    }\n",
       "</style>\n",
       "<table border=\"1\" class=\"dataframe\">\n",
       "  <thead>\n",
       "    <tr style=\"text-align: right;\">\n",
       "      <th></th>\n",
       "      <th>Регион 1</th>\n",
       "      <th>Регион 2</th>\n",
       "      <th>Регион 3</th>\n",
       "    </tr>\n",
       "  </thead>\n",
       "  <tbody>\n",
       "    <tr>\n",
       "      <th>Суммарный реальный запас</th>\n",
       "      <td>2.313396e+06</td>\n",
       "      <td>1.706710e+06</td>\n",
       "      <td>2.378822e+06</td>\n",
       "    </tr>\n",
       "    <tr>\n",
       "      <th>Суммарный предсказанный запас</th>\n",
       "      <td>2.313155e+06</td>\n",
       "      <td>1.706955e+06</td>\n",
       "      <td>2.373574e+06</td>\n",
       "    </tr>\n",
       "    <tr>\n",
       "      <th>Среднее по региону на валидационной выборке</th>\n",
       "      <td>9.252621e+01</td>\n",
       "      <td>6.827820e+01</td>\n",
       "      <td>9.494294e+01</td>\n",
       "    </tr>\n",
       "    <tr>\n",
       "      <th>RMSE на валидационной выборке</th>\n",
       "      <td>3.740196e+01</td>\n",
       "      <td>8.874258e-01</td>\n",
       "      <td>4.018553e+01</td>\n",
       "    </tr>\n",
       "  </tbody>\n",
       "</table>\n",
       "</div>"
      ],
      "text/plain": [
       "                                                 Регион 1      Регион 2  \\\n",
       "Суммарный реальный запас                     2.313396e+06  1.706710e+06   \n",
       "Суммарный предсказанный запас                2.313155e+06  1.706955e+06   \n",
       "Среднее по региону на валидационной выборке  9.252621e+01  6.827820e+01   \n",
       "RMSE на валидационной выборке                3.740196e+01  8.874258e-01   \n",
       "\n",
       "                                                 Регион 3  \n",
       "Суммарный реальный запас                     2.378822e+06  \n",
       "Суммарный предсказанный запас                2.373574e+06  \n",
       "Среднее по региону на валидационной выборке  9.494294e+01  \n",
       "RMSE на валидационной выборке                4.018553e+01  "
      ]
     },
     "execution_count": 40,
     "metadata": {},
     "output_type": "execute_result"
    }
   ],
   "source": [
    "results = [[geo_data_0_real_sum, geo_data_1_real_sum, geo_data_2_real_sum], \\\n",
    "           [geo_data_0_predicted_sum, geo_data_1_predicted_sum, geo_data_2_predicted_sum], \\\n",
    "           [geo_data_0_predicted_mean, geo_data_1_predicted_mean, geo_data_2_predicted_mean], \\\n",
    "           [geo_data_0_rmse, geo_data_1_rmse, geo_data_2_rmse]]\n",
    "\n",
    "result_df = pd.DataFrame(results,\n",
    "                         columns=['Регион 1', 'Регион 2', 'Регион 3'],\n",
    "                         index=['Суммарный реальный запас', 'Суммарный предсказанный запас', \\\n",
    "                                'Среднее по региону на валидационной выборке', 'RMSE на валидационной выборке'])\n",
    "result_df"
   ]
  },
  {
   "cell_type": "markdown",
   "id": "5e6ef9ec",
   "metadata": {},
   "source": [
    "### Вывод по разделу 3 \n",
    "\n",
    "Данные были разбиты на тренировочную и валидационную выборку в соотношении 3 к 1, после чего модель была обучена отдельно по каждому региону и получены предсказания, которые показали, что в первом и третьем регионе среднее объем запасов гораздо больше чем во втором, но модель во втором регионе работает гораздо лучше остальных и предсказывает объем с очень малой ошибкой.\n",
    "\n",
    "Возможно утеряные данные из второго региона сказались на модели и она достаточно сильно переобучилась.\n",
    "\n",
    "Но из-за утери данных и малого запаса в среднем на меторождение не имеет смысла рассматривать второе месторождение как прибыльное.\n",
    "\n",
    "Изучим все регионы на риски и прибыль, но в конечном итоге будем выбирать между 1 и 3 регионом."
   ]
  },
  {
   "cell_type": "markdown",
   "id": "632ebb9a",
   "metadata": {},
   "source": [
    "## 3. Подготовка к расчету прибыли"
   ]
  },
  {
   "cell_type": "code",
   "execution_count": 41,
   "id": "73cf457a",
   "metadata": {},
   "outputs": [],
   "source": [
    "# Мы расчитываем прибыль в тысячах рублей за тысячу барелей, поэтому 1 милиард сохранен таким образом \n",
    "budget = 1e+07 \n",
    "chosen_points = 500\n",
    "best_points = 200\n",
    "price_per_barrel = 450"
   ]
  },
  {
   "cell_type": "markdown",
   "id": "4bc3e229",
   "metadata": {},
   "source": [
    "Расчитаем безубыточную разработку сырья на 200 месторождениях. И найдем среднее количество продукта в месторождениях необходимое для этого.\n"
   ]
  },
  {
   "cell_type": "code",
   "execution_count": 42,
   "id": "3c92d035",
   "metadata": {},
   "outputs": [
    {
     "name": "stdout",
     "output_type": "stream",
     "text": [
      "Стоимость разработки одной скважины: 50000.0 тыс.руб.\n",
      "Минимальный объем сырья для безубыточной разработки скважины: 111.1 тыс. барелей\n",
      "Минимальный объем нефти на регион для безубыточной разработки: 22222.22 тыс. барелей\n"
     ]
    }
   ],
   "source": [
    "average_profit_per_point = budget / best_points\n",
    "print('Стоимость разработки одной скважины:', average_profit_per_point, 'тыс.руб.')\n",
    "\n",
    "average_barrels_per_point = average_profit_per_point  / price_per_barrel\n",
    "print('Минимальный объем сырья для безубыточной разработки скважины: {:.4}'.format(average_barrels_per_point), 'тыс. барелей')\n",
    "\n",
    "average_barrels = budget / price_per_barrel\n",
    "print('Минимальный объем нефти на регион для безубыточной разработки: {:.7}'.format(average_barrels), 'тыс. барелей')"
   ]
  },
  {
   "cell_type": "code",
   "execution_count": 73,
   "id": "e4e054fd",
   "metadata": {},
   "outputs": [
    {
     "name": "stdout",
     "output_type": "stream",
     "text": [
      "Средний запас фактичекой нефти на скважину в регионе 1 92.5\n",
      "Средний запас фактичекой нефти на скважину в регионе 2 68.83\n",
      "Средний запас фактичекой нефти на скважину в регионе 3 95.0\n"
     ]
    }
   ],
   "source": [
    "print('Средний запас фактичекой нефти на скважину в регионе 1', round(geo_data_0['product'].mean(), 2))\n",
    "print('Средний запас фактичекой нефти на скважину в регионе 2', round(geo_data_1['product'].mean(), 2))\n",
    "print('Средний запас фактичекой нефти на скважину в регионе 3', round(geo_data_2['product'].mean(), 2))"
   ]
  },
  {
   "cell_type": "markdown",
   "id": "8c1f6d62",
   "metadata": {},
   "source": [
    "Выведем распределение предсказанных значений."
   ]
  },
  {
   "cell_type": "code",
   "execution_count": 44,
   "id": "7aafc90b",
   "metadata": {},
   "outputs": [
    {
     "data": {
      "image/png": "[encoded data removed]",
      "text/plain": [
       "<Figure size 700x500 with 1 Axes>"
      ]
     },
     "metadata": {},
     "output_type": "display_data"
    }
   ],
   "source": [
    "oil_hist(geo_data_0_predicted['predicted_product'], 200, 190, 500)"
   ]
  },
  {
   "cell_type": "code",
   "execution_count": 45,
   "id": "d401e245",
   "metadata": {},
   "outputs": [
    {
     "data": {
      "image/png": "[encoded data removed]",
      "text/plain": [
       "<Figure size 700x500 with 1 Axes>"
      ]
     },
     "metadata": {},
     "output_type": "display_data"
    }
   ],
   "source": [
    "oil_hist(geo_data_1_predicted['predicted_product'], 20, 150, 5000)"
   ]
  },
  {
   "cell_type": "code",
   "execution_count": 46,
   "id": "03b22ded",
   "metadata": {},
   "outputs": [
    {
     "data": {
      "image/png": "[encoded data removed]",
      "text/plain": [
       "<Figure size 700x500 with 1 Axes>"
      ]
     },
     "metadata": {},
     "output_type": "display_data"
    }
   ],
   "source": [
    "oil_hist(geo_data_2_predicted['predicted_product'], 200, 190, 500)"
   ]
  },
  {
   "cell_type": "markdown",
   "id": "4ae2a2bd",
   "metadata": {},
   "source": [
    "### Вывод по разделу 3 \n",
    "\n",
    "Была подготовлена минимальная оценка прибили за скважину и минимальный объем нефти на скважину.\n",
    "\n",
    "Анализ средних объемов на скважину для каждого региона следующий:\n",
    "\n",
    "Изучены средние фактические запасы. Для первого и третьего регионов - высока вероятность окупить затраты. Разброс значений вокруг среднего 92.5 и 95 говорит нам о том, что существует достаточно много скважин, где запасы больше необходимого среднего.\n",
    "\n",
    "Во втором регионе мб и есть определенный смысл - значений больше 111 достаточно много и при определенной доли везения можно выбрать только лучшие в этой выборке, хотя и среднее значение 68.8."
   ]
  },
  {
   "cell_type": "markdown",
   "id": "95e3a506",
   "metadata": {},
   "source": [
    "## 4. Расчёт прибыли и рисков"
   ]
  },
  {
   "cell_type": "markdown",
   "id": "771eb634",
   "metadata": {},
   "source": [
    "Создадим функцию для расчета прибыли скважин:"
   ]
  },
  {
   "cell_type": "code",
   "execution_count": 47,
   "id": "4cadc4b4",
   "metadata": {},
   "outputs": [],
   "source": [
    "# Мы расчитываем прибыль в тысячах рублей за тысячу барелей, поэтому 1 милиард сохранен таким образом budget = 1e+07 \n",
    "chosen_points = 500\n",
    "best_points = 200\n",
    "price_per_barrel = 450"
   ]
  },
  {
   "cell_type": "code",
   "execution_count": 48,
   "id": "fb1e554d",
   "metadata": {},
   "outputs": [],
   "source": [
    "def oil_profit_calculation(target, probabilities, count):\n",
    "    \n",
    "    probs_sorted = probabilities.sort_values(ascending=False)\n",
    "    selected = target[probs_sorted.index][:count]\n",
    "    return price_per_barrel * selected.sum() - budget"
   ]
  },
  {
   "cell_type": "code",
   "execution_count": 49,
   "id": "d3d1f430",
   "metadata": {},
   "outputs": [],
   "source": [
    "state = np.random.RandomState(42)\n",
    "def bootstrap_1000(target, probs):\n",
    "    values=[]\n",
    "    lost = 0\n",
    "    for i in range(1000):\n",
    "        target_sample = target.sample(replace=True, random_state=state, n=chosen_points)\n",
    "        probs_sample = probs[target_sample.index]\n",
    "        profit = oil_profit_calculation(target, probs_sample, best_points)\n",
    "        if profit < 0:\n",
    "            lost +=1\n",
    "        values.append(profit)\n",
    "    \n",
    "    values = pd.Series(values)\n",
    "    lower = values.quantile(0.025)\n",
    "    upper = values.quantile(0.975)\n",
    "    average = values.mean()\n",
    "    risk = lost / 1000\n",
    "    return average, lower, upper, risk"
   ]
  },
  {
   "cell_type": "code",
   "execution_count": 50,
   "id": "52fdbb84",
   "metadata": {},
   "outputs": [
    {
     "name": "stdout",
     "output_type": "stream",
     "text": [
      "Данные по первому региону:\n",
      "Средняя прибыль по региону = 441523.17 тыс.руб.\n",
      "95% доверительный интервал от -57678.76 до 971163.89 тыс.руб.\n",
      "Процент риска 4.50%\n"
     ]
    }
   ],
   "source": [
    "average_0, lower_0, upper_0, risk_0 = bootstrap_1000(geo_data_0_predicted['real_product'], \n",
    "                                                     geo_data_0_predicted['predicted_product'])\n",
    "print('Данные по первому региону:')\n",
    "print('Средняя прибыль по региону = {:.2f} тыс.руб.'.format(average_0))\n",
    "print('95% доверительный интервал от {:.2f} до {:.2f} тыс.руб.'.format(lower_0, upper_0))\n",
    "print('Процент риска {:.2%}'.format(risk_0))"
   ]
  },
  {
   "cell_type": "code",
   "execution_count": 51,
   "id": "d36272fc",
   "metadata": {},
   "outputs": [
    {
     "name": "stdout",
     "output_type": "stream",
     "text": [
      "Данные по первому региону:\n",
      "Средняя прибыль по региону = 409191.78 тыс.руб.\n",
      "95% доверительный интервал от 19612.51 до 823812.82 тыс.руб.\n",
      "Процент риска 2.20%\n"
     ]
    }
   ],
   "source": [
    "average_1, lower_1, upper_1, risk_1 = bootstrap_1000(geo_data_1_predicted['real_product'], \n",
    "                                                     geo_data_1_predicted['predicted_product'])\n",
    "print('Данные по первому региону:')\n",
    "print('Средняя прибыль по региону = {:.2f} тыс.руб.'.format(average_1))\n",
    "print('95% доверительный интервал от {:.2f} до {:.2f} тыс.руб.'.format(lower_1, upper_1))\n",
    "print('Процент риска {:.2%}'.format(risk_1))"
   ]
  },
  {
   "cell_type": "code",
   "execution_count": 52,
   "id": "6eda07fc",
   "metadata": {},
   "outputs": [
    {
     "name": "stdout",
     "output_type": "stream",
     "text": [
      "Данные по первому региону:\n",
      "Средняя прибыль по региону = 388631.02 тыс.руб.\n",
      "95% доверительный интервал от -143833.56 до 927397.86 тыс.руб.\n",
      "Процент риска 7.60%\n"
     ]
    }
   ],
   "source": [
    "average_2, lower_2, upper_2, risk_2 = bootstrap_1000(geo_data_2_predicted['real_product'], \n",
    "                                                     geo_data_2_predicted['predicted_product'])\n",
    "print('Данные по первому региону:')\n",
    "print('Средняя прибыль по региону = {:.2f} тыс.руб.'.format(average_2))\n",
    "print('95% доверительный интервал от {:.2f} до {:.2f} тыс.руб.'.format(lower_2, upper_2))\n",
    "print('Процент риска {:.2%}'.format(risk_2))"
   ]
  },
  {
   "cell_type": "markdown",
   "id": "1531794b",
   "metadata": {},
   "source": [
    "### Вывод по разделу 4\n",
    "+ Можно заметить что при разработке 200 лучших скважин самая высокая прибыль достгиается в первом регионе, хотя среднее у второго региона было значительно ниже, выручка среди лучших оказалась у него выше чем у третьего региона. \n",
    "\n",
    "\n",
    "+ Во всех трех регионах при обработке 200 скважин возможен убыток, но во втором он минимален и составляет 2.2 процента, когда как в остальных скважинах он составляет 4.5 и 7.6 процентов, что по-моему мнению достаточно большой риск для бизнеса. \n",
    "\n",
    "\n",
    "+ Во втором регионе границы 95%-ого интервала находятся очень близко друг другу и левая граница данного интервала имеет не отрицательное значение, что говорит о том что с 95 процентной вероятностью бизнес будет выходить на достаточно высокую прибыль."
   ]
  },
  {
   "cell_type": "markdown",
   "id": "50de8a5e",
   "metadata": {},
   "source": [
    "## Общий вывод\n",
    "\n",
    "При выполнении проекта было выполнено:\n",
    "\n",
    "1. Изучены данные. Проведена подготовка данных к моделированию.\n",
    "2. Обучена модель для каждого региона geo_data_0, geo_data_1 и geo_data_2.\n",
    "3. Составлена функция расчета прибыли в регионе.\n",
    "4. Посчитана прибыль и риски в каждом регионе, обоснован выбор региона.\n",
    "\n",
    "Второй регион получился одним из лучших по показателям предсказывания, хотя данные не выглядят нормально распределенными."
   ]
  },
  {
   "cell_type": "code",
   "execution_count": null,
   "id": "81d6c363",
   "metadata": {},
   "outputs": [],
   "source": []
  }
 ],
 "metadata": {
  "kernelspec": {
   "display_name": "Python 3 (ipykernel)",
   "language": "python",
   "name": "python3"
  },
  "language_info": {
   "codemirror_mode": {
    "name": "ipython",
    "version": 3
   },
   "file_extension": ".py",
   "mimetype": "text/x-python",
   "name": "python",
   "nbconvert_exporter": "python",
   "pygments_lexer": "ipython3",
   "version": "3.9.13"
  }
 },
 "nbformat": 4,
 "nbformat_minor": 5
}
